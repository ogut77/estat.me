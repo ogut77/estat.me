{
  "nbformat": 4,
  "nbformat_minor": 0,
  "metadata": {
    "colab": {
      "provenance": [],
      "name": "Chapter7.2.1.R.ipynb",
      "authorship_tag": "ABX9TyOm2IL+wJOTeUUhppTeXkpu",
      "include_colab_link": true
    },
    "kernelspec": {
      "name": "ir",
      "display_name": "R"
    },
    "language_info": {
      "name": "R"
    }
  },
  "cells": [
    {
      "cell_type": "markdown",
      "metadata": {
        "id": "view-in-github",
        "colab_type": "text"
      },
      "source": [
        "<a href=\"https://colab.research.google.com/github/ogut77/estat.me/blob/main/Chapter7_2_1_R.ipynb\" target=\"_parent\"><img src=\"https://colab.research.google.com/assets/colab-badge.svg\" alt=\"Open In Colab\"/></a>"
      ]
    },
    {
      "cell_type": "code",
      "execution_count": null,
      "metadata": {
        "colab": {
          "base_uri": "https://localhost:8080/",
          "height": 864
        },
        "id": "im9ipz3Vej1F",
        "outputId": "86e4248b-89ea-4827-c7d2-855572ba7e61"
      },
      "outputs": [
        {
          "output_type": "stream",
          "name": "stderr",
          "text": [
            "\u001b[1mRows: \u001b[22m\u001b[34m20\u001b[39m \u001b[1mColumns: \u001b[22m\u001b[34m3\u001b[39m\n",
            "\u001b[36m──\u001b[39m \u001b[1mColumn specification\u001b[22m \u001b[36m────────────────────────────────────────────────────────\u001b[39m\n",
            "\u001b[1mDelimiter:\u001b[22m \",\"\n",
            "\u001b[31mchr\u001b[39m (1): Purchase\n",
            "\u001b[32mdbl\u001b[39m (2): Age, Income\n",
            "\n",
            "\u001b[36mℹ\u001b[39m Use `spec()` to retrieve the full column specification for this data.\n",
            "\u001b[36mℹ\u001b[39m Specify the column types or set `show_col_types = FALSE` to quiet this message.\n"
          ]
        },
        {
          "output_type": "display_data",
          "data": {
            "text/html": [
              "<table class=\"dataframe\">\n",
              "<caption>A spec_tbl_df: 20 × 3</caption>\n",
              "<thead>\n",
              "\t<tr><th scope=col>Age</th><th scope=col>Income</th><th scope=col>Purchase</th></tr>\n",
              "\t<tr><th scope=col>&lt;dbl&gt;</th><th scope=col>&lt;dbl&gt;</th><th scope=col>&lt;chr&gt;</th></tr>\n",
              "</thead>\n",
              "<tbody>\n",
              "\t<tr><td>25</td><td>150</td><td>Yes</td></tr>\n",
              "\t<tr><td>34</td><td>220</td><td>No </td></tr>\n",
              "\t<tr><td>27</td><td>210</td><td>No </td></tr>\n",
              "\t<tr><td>28</td><td>250</td><td>Yes</td></tr>\n",
              "\t<tr><td>21</td><td>100</td><td>No </td></tr>\n",
              "\t<tr><td>31</td><td>220</td><td>No </td></tr>\n",
              "\t<tr><td>36</td><td>300</td><td>Yes</td></tr>\n",
              "\t<tr><td>20</td><td>100</td><td>No </td></tr>\n",
              "\t<tr><td>29</td><td>220</td><td>No </td></tr>\n",
              "\t<tr><td>32</td><td>250</td><td>Yes</td></tr>\n",
              "\t<tr><td>37</td><td>400</td><td>Yes</td></tr>\n",
              "\t<tr><td>24</td><td>120</td><td>No </td></tr>\n",
              "\t<tr><td>33</td><td>350</td><td>No </td></tr>\n",
              "\t<tr><td>30</td><td>180</td><td>Yes</td></tr>\n",
              "\t<tr><td>38</td><td>350</td><td>Yes</td></tr>\n",
              "\t<tr><td>32</td><td>250</td><td>No </td></tr>\n",
              "\t<tr><td>28</td><td>240</td><td>No </td></tr>\n",
              "\t<tr><td>22</td><td>220</td><td>No </td></tr>\n",
              "\t<tr><td>39</td><td>450</td><td>Yes</td></tr>\n",
              "\t<tr><td>26</td><td>150</td><td>No </td></tr>\n",
              "</tbody>\n",
              "</table>\n"
            ],
            "text/markdown": "\nA spec_tbl_df: 20 × 3\n\n| Age &lt;dbl&gt; | Income &lt;dbl&gt; | Purchase &lt;chr&gt; |\n|---|---|---|\n| 25 | 150 | Yes |\n| 34 | 220 | No  |\n| 27 | 210 | No  |\n| 28 | 250 | Yes |\n| 21 | 100 | No  |\n| 31 | 220 | No  |\n| 36 | 300 | Yes |\n| 20 | 100 | No  |\n| 29 | 220 | No  |\n| 32 | 250 | Yes |\n| 37 | 400 | Yes |\n| 24 | 120 | No  |\n| 33 | 350 | No  |\n| 30 | 180 | Yes |\n| 38 | 350 | Yes |\n| 32 | 250 | No  |\n| 28 | 240 | No  |\n| 22 | 220 | No  |\n| 39 | 450 | Yes |\n| 26 | 150 | No  |\n\n",
            "text/latex": "A spec\\_tbl\\_df: 20 × 3\n\\begin{tabular}{lll}\n Age & Income & Purchase\\\\\n <dbl> & <dbl> & <chr>\\\\\n\\hline\n\t 25 & 150 & Yes\\\\\n\t 34 & 220 & No \\\\\n\t 27 & 210 & No \\\\\n\t 28 & 250 & Yes\\\\\n\t 21 & 100 & No \\\\\n\t 31 & 220 & No \\\\\n\t 36 & 300 & Yes\\\\\n\t 20 & 100 & No \\\\\n\t 29 & 220 & No \\\\\n\t 32 & 250 & Yes\\\\\n\t 37 & 400 & Yes\\\\\n\t 24 & 120 & No \\\\\n\t 33 & 350 & No \\\\\n\t 30 & 180 & Yes\\\\\n\t 38 & 350 & Yes\\\\\n\t 32 & 250 & No \\\\\n\t 28 & 240 & No \\\\\n\t 22 & 220 & No \\\\\n\t 39 & 450 & Yes\\\\\n\t 26 & 150 & No \\\\\n\\end{tabular}\n",
            "text/plain": [
              "   Age Income Purchase\n",
              "1  25  150    Yes     \n",
              "2  34  220    No      \n",
              "3  27  210    No      \n",
              "4  28  250    Yes     \n",
              "5  21  100    No      \n",
              "6  31  220    No      \n",
              "7  36  300    Yes     \n",
              "8  20  100    No      \n",
              "9  29  220    No      \n",
              "10 32  250    Yes     \n",
              "11 37  400    Yes     \n",
              "12 24  120    No      \n",
              "13 33  350    No      \n",
              "14 30  180    Yes     \n",
              "15 38  350    Yes     \n",
              "16 32  250    No      \n",
              "17 28  240    No      \n",
              "18 22  220    No      \n",
              "19 39  450    Yes     \n",
              "20 26  150    No      "
            ]
          },
          "metadata": {}
        }
      ],
      "source": [
        "\n",
        "customer <- read_csv('https://raw.githubusercontent.com/ogut77/DataScience/refs/heads/main/PurchaseByCredit20_Continuous.csv')\n",
        "customer\n"
      ]
    },
    {
      "cell_type": "code",
      "source": [
        "attach(customer)"
      ],
      "metadata": {
        "id": "Hcc3LITydI1f"
      },
      "execution_count": null,
      "outputs": []
    },
    {
      "cell_type": "code",
      "source": [
        "Purchase"
      ],
      "metadata": {
        "id": "zqetFuC-dM86"
      },
      "execution_count": null,
      "outputs": []
    },
    {
      "cell_type": "code",
      "source": [
        "customer$Purchase <- ifelse(customer$Purchase == \"Yes\", 1, 0)\n",
        "\n",
        "\n",
        "# Train a logistic regression model\n",
        "logitmodel <- glm(Purchase ~ ., data = customer, family = binomial)\n",
        "logitmodel"
      ],
      "metadata": {
        "colab": {
          "base_uri": "https://localhost:8080/",
          "height": 191
        },
        "id": "lGaG3E-r0-td",
        "outputId": "ec139b56-88dd-4fd8-f3fd-47fe44e0bd1f"
      },
      "execution_count": null,
      "outputs": [
        {
          "output_type": "display_data",
          "data": {
            "text/plain": [
              "\n",
              "Call:  glm(formula = Purchase ~ ., family = binomial, data = customer)\n",
              "\n",
              "Coefficients:\n",
              "(Intercept)          Age       Income  \n",
              "  -7.629959     0.223517     0.001918  \n",
              "\n",
              "Degrees of Freedom: 19 Total (i.e. Null);  17 Residual\n",
              "Null Deviance:\t    26.92 \n",
              "Residual Deviance: 20.68 \tAIC: 26.68"
            ]
          },
          "metadata": {}
        }
      ]
    }
  ]
}