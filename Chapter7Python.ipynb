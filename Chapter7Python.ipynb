{
  "nbformat": 4,
  "nbformat_minor": 0,
  "metadata": {
    "colab": {
      "provenance": [],
      "name": "Chapter7Python.ipynb",
      "authorship_tag": "ABX9TyNLbv7JbV7UKN9t7SWnyeMS",
      "include_colab_link": true
    },
    "kernelspec": {
      "name": "python3",
      "display_name": "Python 3"
    },
    "language_info": {
      "name": "python"
    }
  },
  "cells": [
    {
      "cell_type": "markdown",
      "metadata": {
        "id": "view-in-github",
        "colab_type": "text"
      },
      "source": [
        "<a href=\"https://colab.research.google.com/github/ogut77/estat.me/blob/main/Chapter7Python.ipynb\" target=\"_parent\"><img src=\"https://colab.research.google.com/assets/colab-badge.svg\" alt=\"Open In Colab\"/></a>"
      ]
    },
    {
      "cell_type": "code",
      "execution_count": null,
      "metadata": {
        "colab": {
          "base_uri": "https://localhost:8080/"
        },
        "id": "j1E-hI3cRtC2",
        "outputId": "66698342-0b77-4eec-a2f4-57b621bc9d65"
      },
      "outputs": [
        {
          "output_type": "stream",
          "name": "stdout",
          "text": [
            "    Age  Income Purchase\n",
            "0    25     150      Yes\n",
            "1    34     220       No\n",
            "2    27     210       No\n",
            "3    28     250      Yes\n",
            "4    21     100       No\n",
            "5    31     220       No\n",
            "6    36     300      Yes\n",
            "7    20     100       No\n",
            "8    29     220       No\n",
            "9    32     250      Yes\n",
            "10   37     400      Yes\n",
            "11   24     120       No\n",
            "12   33     350       No\n",
            "13   30     180      Yes\n",
            "14   38     350      Yes\n",
            "15   32     250       No\n",
            "16   28     240       No\n",
            "17   22     220       No\n",
            "18   39     450      Yes\n",
            "19   26     150       No\n"
          ]
        }
      ],
      "source": [
        "\n",
        "import pandas as pd\n",
        "\n",
        "customer = pd.read_csv('https://raw.githubusercontent.com/ogut77/DataScience/refs/heads/main/PurchaseByCredit20_Continuous.csv')\n",
        "\n"
      ]
    },
    {
      "cell_type": "code",
      "source": [
        "\n",
        "\n",
        "from sklearn.discriminant_analysis import LinearDiscriminantAnalysis\n",
        "\n",
        "# Separate features (X) and target variable (y)\n",
        "X = customer.drop('Purchase', axis=1)\n",
        "y = customer['Purchase']\n",
        "\n",
        "\n",
        "\n",
        "# Initialize and train the Linear Discriminant Analysis model\n",
        "lda = LinearDiscriminantAnalysis()\n",
        "lda.fit(X, y)\n",
        "\n",
        "\n",
        "# Make predictions on the test set\n",
        "y_pred = lda.predict(X)\n",
        "\n",
        "\n",
        "# Evaluate the model (example: accuracy)\n",
        "# You would typically use more comprehensive evaluation metrics\n",
        "# depending on your specific needs.\n",
        "\n",
        "from sklearn.metrics import accuracy_score\n",
        "from sklearn.metrics import confusion_matrix\n",
        "accuracy = accuracy_score(y, y_pred)\n",
        "cm=confusion_matrix(y, y_pred)\n",
        "print(f\"Accuracy: {accuracy}\")\n",
        "print(f\"Confusion Matrix: \\n{cm}\")"
      ],
      "metadata": {
        "colab": {
          "base_uri": "https://localhost:8080/"
        },
        "id": "_iRr9fnVSGbA",
        "outputId": "2832e91d-08c5-4d77-d546-9d5bfded723e"
      },
      "execution_count": null,
      "outputs": [
        {
          "output_type": "stream",
          "name": "stdout",
          "text": [
            "Accuracy: 0.7\n",
            "Confusion Matrix: \n",
            "[[10  2]\n",
            " [ 4  4]]\n"
          ]
        }
      ]
    },
    {
      "cell_type": "markdown",
      "source": [
        "# **Logistic Regression**"
      ],
      "metadata": {
        "id": "U8XsL6nPTHUY"
      }
    },
    {
      "cell_type": "code",
      "source": [
        "# prompt: use logistic regression\n",
        "\n",
        "import pandas as pd\n",
        "from sklearn.linear_model import LogisticRegression\n",
        "from sklearn.model_selection import train_test_split\n",
        "from sklearn.metrics import accuracy_score, confusion_matrix\n",
        "\n",
        "# Load the dataset (assuming it's already loaded as 'customer')\n",
        "# If not, uncomment the line below\n",
        "customer = pd.read_csv('https://raw.githubusercontent.com/ogut77/DataScience/refs/heads/main/PurchaseByCredit20_Continuous.csv')\n",
        "\n",
        "# Separate features (X) and target variable (y)\n",
        "X = customer.drop('Purchase', axis=1)\n",
        "y = customer['Purchase']\n",
        "\n",
        "\n",
        "# Initialize and train the Logistic Regression model\n",
        "logreg = LogisticRegression()  # Specify a solver\n",
        "logreg.fit(X, y)\n",
        "print(logreg)\n",
        "# Make predictions on the test set\n",
        "y_pred = logreg.predict(X)\n",
        "\n",
        "# Evaluate the model\n",
        "accuracy = accuracy_score(y, y_pred)\n",
        "cm = confusion_matrix(y, y_pred)\n",
        "\n",
        "print(f\"Accuracy: {accuracy}\")\n",
        "print(f\"Confusion Matrix:\\n{cm}\")\n"
      ],
      "metadata": {
        "colab": {
          "base_uri": "https://localhost:8080/"
        },
        "id": "ZW9wi_SmTKcO",
        "outputId": "0d66789f-3ab3-4948-c6f1-7a989c625e00"
      },
      "execution_count": null,
      "outputs": [
        {
          "output_type": "stream",
          "name": "stdout",
          "text": [
            "LogisticRegression()\n",
            "Accuracy: 0.7\n",
            "Confusion Matrix:\n",
            "[[10  2]\n",
            " [ 4  4]]\n"
          ]
        }
      ]
    },
    {
      "cell_type": "markdown",
      "source": [
        "KNN"
      ],
      "metadata": {
        "id": "TYsQ7nN_W6aj"
      }
    },
    {
      "cell_type": "code",
      "source": [
        "# prompt: knn in pytohn\n",
        "\n",
        "import pandas as pd\n",
        "from sklearn.metrics import accuracy_score, confusion_matrix\n",
        "from sklearn.neighbors import KNeighborsClassifier\n",
        "\n",
        "customer = pd.read_csv('https://raw.githubusercontent.com/ogut77/DataScience/refs/heads/main/PurchaseByCredit20_Continuous.csv')\n",
        "\n",
        "# Separate features (X) and target variable (y)\n",
        "X = customer.drop('Purchase', axis=1)\n",
        "y = customer['Purchase']\n",
        "\n",
        "\n",
        "# Initialize and train the KNN model\n",
        "knn = KNeighborsClassifier(n_neighbors=5) # You can adjust the number of neighbors\n",
        "knn.fit(X, y)\n",
        "\n",
        "# Make predictions on the test set\n",
        "y_pred = knn.predict(X)\n",
        "\n",
        "# Evaluate the model\n",
        "accuracy = accuracy_score(y, y_pred)\n",
        "cm = confusion_matrix(y, y_pred)\n",
        "\n",
        "print(f\"KNN Accuracy: {accuracy}\")\n",
        "print(f\"KNN Confusion Matrix:\\n{cm}\")\n"
      ],
      "metadata": {
        "colab": {
          "base_uri": "https://localhost:8080/"
        },
        "id": "vDHMALfCW9HX",
        "outputId": "26378625-e9bc-489a-9588-39b434789961"
      },
      "execution_count": null,
      "outputs": [
        {
          "output_type": "stream",
          "name": "stdout",
          "text": [
            "KNN Accuracy: 0.75\n",
            "KNN Confusion Matrix:\n",
            "[[11  1]\n",
            " [ 4  4]]\n"
          ]
        }
      ]
    },
    {
      "cell_type": "code",
      "source": [
        "# prompt: # create a training data using the 8 data.\n",
        "# train <- singleNNdata[1:8,]\n",
        "# # create a testing data using the same 8 data\n",
        "#  install.packages('nnet')\n",
        "#  library(nnet)\n",
        "#  singleNNdata <- read.csv('https://raw.githubusercontent.com/ogut77/DataScience/refs/heads/main/singleNN.csv')\n",
        "# test <- singleNNdata[1:8,]\n",
        "# train.nnet <- nnet(y~x1+x2+x3,data=train, size=2, rang=0.1, decay=5e-4, maxit=100)\n",
        "# summary(train.nnet)\n",
        "\n",
        "import pandas as pd\n",
        "from sklearn.discriminant_analysis import LinearDiscriminantAnalysis\n",
        "from sklearn.metrics import accuracy_score\n",
        "from sklearn.metrics import confusion_matrix\n",
        "from sklearn.linear_model import LogisticRegression\n",
        "from sklearn.model_selection import train_test_split\n",
        "from sklearn.metrics import accuracy_score, confusion_matrix\n",
        "from sklearn.neighbors import KNeighborsClassifier\n",
        "import numpy as np\n",
        "\n",
        "# Load the dataset\n",
        "customer = pd.read_csv('https://raw.githubusercontent.com/ogut77/DataScience/refs/heads/main/PurchaseByCredit20_Continuous.csv')\n",
        "\n",
        "# Separate features (X) and target variable (y)\n",
        "X = customer.drop('Purchase', axis=1)\n",
        "y = customer['Purchase']\n",
        "\n",
        "# Split data into training and testing sets (80% train, 20% test)\n",
        "X_train, X_test, y_train, y_test = train_test_split(X, y, test_size=0.2, random_state=42)\n",
        "\n",
        "\n",
        "# Initialize and train the Linear Discriminant Analysis model\n",
        "lda = LinearDiscriminantAnalysis()\n",
        "lda.fit(X_train, y_train)\n",
        "y_pred_lda = lda.predict(X_test)\n",
        "accuracy_lda = accuracy_score(y_test, y_pred_lda)\n",
        "cm_lda = confusion_matrix(y_test, y_pred_lda)\n",
        "\n",
        "print(f\"LDA Accuracy: {accuracy_lda}\")\n",
        "print(f\"LDA Confusion Matrix:\\n{cm_lda}\")\n",
        "\n",
        "# Logistic Regression\n",
        "logreg = LogisticRegression(max_iter=1000)  # Increased max_iter for convergence\n",
        "logreg.fit(X_train, y_train)\n",
        "y_pred_logreg = logreg.predict(X_test)\n",
        "accuracy_logreg = accuracy_score(y_test, y_pred_logreg)\n",
        "cm_logreg = confusion_matrix(y_test, y_pred_logreg)\n",
        "\n",
        "print(f\"Logistic Regression Accuracy: {accuracy_logreg}\")\n",
        "print(f\"Logistic Regression Confusion Matrix:\\n{cm_logreg}\")\n",
        "\n",
        "\n",
        "# KNN\n",
        "knn = KNeighborsClassifier(n_neighbors=5)\n",
        "knn.fit(X_train, y_train)\n",
        "y_pred_knn = knn.predict(X_test)\n",
        "accuracy_knn = accuracy_score(y_test, y_pred_knn)\n",
        "cm_knn = confusion_matrix(y_test, y_pred_knn)\n",
        "\n",
        "print(f\"KNN Accuracy: {accuracy_knn}\")\n",
        "print(f\"KNN Confusion Matrix:\\n{cm_knn}\")\n"
      ],
      "metadata": {
        "id": "oQCAlalLd_ZM"
      },
      "execution_count": null,
      "outputs": []
    },
    {
      "cell_type": "markdown",
      "source": [
        "Neural Network"
      ],
      "metadata": {
        "id": "EKIzr0kbeW0c"
      }
    },
    {
      "cell_type": "code",
      "source": [
        "import pandas as pd\n",
        "import numpy as np\n",
        "from sklearn.neural_network import MLPClassifier\n",
        "\n",
        "# Load data\n",
        "singleNNdata = pd.read_csv('https://raw.githubusercontent.com/ogut77/DataScience/refs/heads/main/singleNN.csv')\n",
        "\n",
        "# Create training and testing data using the first 8 rows\n",
        "train = singleNNdata.iloc[:8]\n",
        "test = singleNNdata.iloc[:8]\n",
        "\n",
        "# Prepare features and target for training\n",
        "X_train = train[['x1', 'x2', 'x3']]\n",
        "y_train = train['y']\n",
        "\n",
        "# Initialize and train the neural network\n",
        "# size=2 (2 hidden neurons), decay=5e-4 (weight decay), maxit=100 (max iterations)\n",
        "nn_model = MLPClassifier(hidden_layer_sizes=(2,),\n",
        "                         alpha=5e-4,\n",
        "                         max_iter=100,\n",
        "                         random_state=0,\n",
        "                         learning_rate_init=0.1)  # rang=0.1 maps to initial learning rate\n",
        "nn_model.fit(X_train, y_train)\n",
        "\n",
        "# Print model summary\n",
        "print(\"Number of layers:\", nn_model.n_layers_)\n",
        "print(\"Number of neurons in hidden layer:\", nn_model.hidden_layer_sizes)\n",
        "print(\"Output layer activation:\", nn_model.out_activation_)\n",
        "print(\"Loss:\", nn_model.loss_)\n",
        "print(\"Number of iterations:\", nn_model.n_iter_)\n",
        "print(\"Weights:\", nn_model.coefs_)\n",
        "print(\"Biases:\", nn_model.intercepts_)\n",
        "\n",
        "# Neural Network - Predictions and Confusion Matrix\n",
        "y_pred_nn = nn_model.predict(X_test)\n",
        "y_pred_prob = nn_model.predict_proba(X_test)\n",
        "accuracy_nn = accuracy_score(y_test, y_pred_nn)\n",
        "cm_nn = confusion_matrix(y_test, y_pred_nn)\n",
        "print(f\"Neural Network Probability Prediction:\\n {y_pred_prob}\")\n",
        "print(f\"Neural Network Accuracy: {accuracy_nn}\")\n",
        "print(f\"Neural Network Confusion Matrix:\\n{cm_nn}\")"
      ],
      "metadata": {
        "colab": {
          "base_uri": "https://localhost:8080/"
        },
        "id": "O48C6SvKeWbe",
        "outputId": "710f8515-69ef-4196-8c76-ef90ea77f483"
      },
      "execution_count": null,
      "outputs": [
        {
          "output_type": "stream",
          "name": "stdout",
          "text": [
            "Number of layers: 3\n",
            "Number of neurons in hidden layer: (2,)\n",
            "Output layer activation: logistic\n",
            "Loss: 0.002468388342403284\n",
            "Number of iterations: 51\n",
            "Weights: [array([[ 1.94814728, -1.73236986],\n",
            "       [ 2.03815303, -1.62011141],\n",
            "       [ 1.85504938, -1.83478666]]), array([[ 4.28744767],\n",
            "       [-2.91501695]])]\n",
            "Biases: [array([-1.85615406,  3.6111162 ]), array([-1.32006785])]\n",
            "Neural Network Probability Prediction:\n",
            " [[9.99992837e-01 7.16329894e-06]\n",
            " [9.98495965e-01 1.50403509e-03]\n",
            " [9.98245069e-01 1.75493059e-03]\n",
            " [9.49816131e-04 9.99050184e-01]\n",
            " [9.98344886e-01 1.65511358e-03]\n",
            " [1.00714079e-03 9.98992859e-01]\n",
            " [8.58986910e-04 9.99141013e-01]\n",
            " [1.42168908e-07 9.99999858e-01]]\n",
            "Neural Network Accuracy: 1.0\n",
            "Neural Network Confusion Matrix:\n",
            "[[4 0]\n",
            " [0 4]]\n"
          ]
        }
      ]
    },
    {
      "cell_type": "markdown",
      "source": [
        "# **SVM**"
      ],
      "metadata": {
        "id": "4mYKt3OfhnLB"
      }
    },
    {
      "cell_type": "code",
      "source": [
        "import pandas as pd\n",
        "import numpy as np\n",
        "from sklearn.svm import SVC\n",
        "import matplotlib.pyplot as plt\n",
        "\n",
        "# Load data\n",
        "svmdata = pd.read_csv('https://raw.githubusercontent.com/ogut77/DataScience/refs/heads/main/svmdata.csv')\n",
        "\n",
        "# Create training and testing data using the first 8 rows\n",
        "train = svmdata.iloc[:8]\n",
        "test = svmdata.iloc[:8]\n",
        "\n",
        "# Prepare features and target for training\n",
        "X_train = train[['x1', 'x2']]\n",
        "y_train = train['y']\n",
        "X_test = test[['x1', 'x2']]\n",
        "y_test = test['y']\n",
        "\n",
        "# Train SVM model (C-classification)\n",
        "svm_model = SVC(kernel='linear')  # R's svm with type=\"C-classification\" defaults to linear kernel\n",
        "svm_model.fit(X_train, y_train)\n",
        "\n",
        "# Print model details\n",
        "print(\"Support Vectors:\", svm_model.support_vectors_)\n",
        "print(\"Number of Support Vectors:\", svm_model.n_support_)\n",
        "\n",
        "# Predict on test data\n",
        "svm_pred = svm_model.predict(X_test)\n",
        "print(\"Predictions:\", svm_pred)\n",
        "\n",
        "# Create confusion matrix\n",
        "z = pd.crosstab(svm_pred, y_test, rownames=['Predicted'], colnames=['Actual'])\n",
        "print(\"Confusion Matrix:\\n\", z)\n",
        "\n",
        "# Plot data points with class labels\n",
        "plt.scatter(X_train['x1'], X_train['x2'], c=y_train, cmap='bwr', marker='o')\n",
        "plt.xlabel('x1')\n",
        "plt.ylabel('x2')\n",
        "\n",
        "# Plot the line abline(500, -10), which in Python is y = 500 - 10x\n",
        "x = np.linspace(min(X_train['x1']), max(X_train['x1']), 100)\n",
        "y = 500 - 10 * x\n",
        "plt.plot(x, y, 'k-')\n",
        "\n",
        "plt.show()"
      ],
      "metadata": {
        "colab": {
          "base_uri": "https://localhost:8080/",
          "height": 605
        },
        "id": "F4_vEFIrhpEc",
        "outputId": "773c7a8b-1de7-4501-efd1-96b47a2f4bcd"
      },
      "execution_count": null,
      "outputs": [
        {
          "output_type": "stream",
          "name": "stdout",
          "text": [
            "Support Vectors: [[ 26. 210.]\n",
            " [ 31. 220.]]\n",
            "Number of Support Vectors: [1 1]\n",
            "Predictions: [-1  1 -1  1 -1  1  1 -1]\n",
            "Confusion Matrix:\n",
            " Actual     -1   1\n",
            "Predicted        \n",
            "-1          4   0\n",
            " 1          0   4\n"
          ]
        },
        {
          "output_type": "display_data",
          "data": {
            "text/plain": [
              "<Figure size 640x480 with 1 Axes>"
            ],
            "image/png": "[encoded data removed]"
          },
          "metadata": {}
        }
      ]
    },
    {
      "cell_type": "markdown",
      "source": [
        "# **Bagging**"
      ],
      "metadata": {
        "id": "ua10-UsgkP1X"
      }
    },
    {
      "cell_type": "code",
      "source": [
        "import pandas as pd\n",
        "import numpy as np\n",
        "from sklearn.ensemble import AdaBoostClassifier\n",
        "from sklearn.tree import DecisionTreeClassifier, plot_tree\n",
        "from sklearn.metrics import confusion_matrix\n",
        "import matplotlib.pyplot as plt\n",
        "from sklearn.datasets import load_iris\n",
        "\n",
        "# Load iris dataset\n",
        "iris = load_iris()\n",
        "iris_df = pd.DataFrame(data=iris.data, columns=iris.feature_names)\n",
        "iris_df['Species'] = iris.target\n",
        "species_map = {0: 'setosa', 1: 'versicolor', 2: 'virginica'}\n",
        "iris_df['Species'] = iris_df['Species'].map(species_map)\n",
        "\n",
        "# Bagging with decision trees (mfinal=10 iterations)\n",
        "bagging_model = AdaBoostClassifier(n_estimators=10, random_state=0)\n",
        "X = iris_df.drop('Species', axis=1)\n",
        "y = iris_df['Species']\n",
        "bagging_model.fit(X, y)\n",
        "\n",
        "# Feature importance\n",
        "importance = bagging_model.feature_importances_\n",
        "feature_names = iris.feature_names\n",
        "importance_df = pd.Series(importance, index=feature_names)\n",
        "print(\"Feature Importance:\\n\", importance_df)\n",
        "\n",
        "# List of trees (equivalent to iris.bagging$trees)\n",
        "trees = bagging_model.estimators_\n",
        "print(\"Number of trees:\", len(trees))\n",
        "\n",
        "# Plot the decision tree for the 10th iteration\n",
        "plt.figure(figsize=(10, 6))\n",
        "plot_tree(trees[9], feature_names=feature_names, class_names=list(species_map.values()), filled=True)\n",
        "plt.title(\"Decision Tree for Iteration 10\")\n",
        "plt.show()\n",
        "\n",
        "# Predict on the iris dataset\n",
        "bagging_pred = bagging_model.predict(X)\n",
        "\n",
        "# Confusion matrix\n",
        "conf_matrix = confusion_matrix(y, bagging_pred, labels=['setosa', 'versicolor', 'virginica'])\n",
        "conf_matrix_df = pd.DataFrame(conf_matrix, index=['setosa', 'versicolor', 'virginica'],\n",
        "                              columns=['setosa', 'versicolor', 'virginica'])\n",
        "print(\"Confusion Matrix:\\n\", conf_matrix_df)\n",
        "\n",
        "# Calculate misclassification error\n",
        "bagging_error = 1 - (np.diag(conf_matrix).sum() / conf_matrix.sum())\n",
        "print(\"Misclassification Error:\", bagging_error)\n",
        "print(\"Misclassification Error (%):\", bagging_error * 100, \"%\")"
      ],
      "metadata": {
        "colab": {
          "base_uri": "https://localhost:8080/",
          "height": 682
        },
        "id": "gKd_n_B5j50E",
        "outputId": "da706c5f-59e8-47bb-ac4b-f07ded539d66"
      },
      "execution_count": null,
      "outputs": [
        {
          "output_type": "stream",
          "name": "stdout",
          "text": [
            "Feature Importance:\n",
            " sepal length (cm)    0.000000\n",
            "sepal width (cm)     0.000000\n",
            "petal length (cm)    0.599859\n",
            "petal width (cm)     0.400141\n",
            "dtype: float64\n",
            "Number of trees: 10\n"
          ]
        },
        {
          "output_type": "display_data",
          "data": {
            "text/plain": [
              "<Figure size 1000x600 with 1 Axes>"
            ],
            "image/png": "[encoded data removed]"
          },
          "metadata": {}
        },
        {
          "output_type": "stream",
          "name": "stdout",
          "text": [
            "Confusion Matrix:\n",
            "             setosa  versicolor  virginica\n",
            "setosa          50           0          0\n",
            "versicolor       0          47          3\n",
            "virginica        0           2         48\n",
            "Misclassification Error: 0.033333333333333326\n",
            "Misclassification Error (%): 3.3333333333333326 %\n"
          ]
        }
      ]
    },
    {
      "cell_type": "markdown",
      "source": [
        "Boosting"
      ],
      "metadata": {
        "id": "-bcA9717ldq_"
      }
    },
    {
      "cell_type": "code",
      "source": [
        "# AdaBoost with decision trees (mfinal=10 iterations, boos=TRUE)\n",
        "adaboost_model = AdaBoostClassifier(\n",
        "                                    n_estimators=10,\n",
        "                                    random_state=0)\n",
        "X = iris_df.drop('Species', axis=1)\n",
        "y = iris_df['Species']\n",
        "adaboost_model.fit(X, y)\n",
        "\n",
        "# Feature importance\n",
        "importance = adaboost_model.feature_importances_\n",
        "feature_names = iris.feature_names\n",
        "importance_df = pd.Series(importance, index=feature_names)\n",
        "print(\"Feature Importance:\\n\", importance_df)\n",
        "\n",
        "# List of trees (equivalent to iris.adaboost$trees)\n",
        "trees = adaboost_model.estimators_\n",
        "print(\"List of Trees (number of trees):\", len(trees))\n",
        "for i, tree in enumerate(trees, 1):\n",
        "    print(f\"Tree {i}:\", tree)"
      ],
      "metadata": {
        "colab": {
          "base_uri": "https://localhost:8080/"
        },
        "id": "zg8kEUu9kS7I",
        "outputId": "75541b7c-9071-46e1-ec4e-dd9433d1d2b5"
      },
      "execution_count": null,
      "outputs": [
        {
          "output_type": "stream",
          "name": "stdout",
          "text": [
            "Feature Importance:\n",
            " sepal length (cm)    0.000000\n",
            "sepal width (cm)     0.000000\n",
            "petal length (cm)    0.599859\n",
            "petal width (cm)     0.400141\n",
            "dtype: float64\n",
            "List of Trees (number of trees): 10\n",
            "Tree 1: DecisionTreeClassifier(max_depth=1, random_state=209652396)\n",
            "Tree 2: DecisionTreeClassifier(max_depth=1, random_state=398764591)\n",
            "Tree 3: DecisionTreeClassifier(max_depth=1, random_state=924231285)\n",
            "Tree 4: DecisionTreeClassifier(max_depth=1, random_state=1478610112)\n",
            "Tree 5: DecisionTreeClassifier(max_depth=1, random_state=441365315)\n",
            "Tree 6: DecisionTreeClassifier(max_depth=1, random_state=1537364731)\n",
            "Tree 7: DecisionTreeClassifier(max_depth=1, random_state=192771779)\n",
            "Tree 8: DecisionTreeClassifier(max_depth=1, random_state=1491434855)\n",
            "Tree 9: DecisionTreeClassifier(max_depth=1, random_state=1819583497)\n",
            "Tree 10: DecisionTreeClassifier(max_depth=1, random_state=530702035)\n"
          ]
        }
      ]
    },
    {
      "cell_type": "markdown",
      "source": [
        "# **Random Forest**"
      ],
      "metadata": {
        "id": "1T6ExTp-vtk3"
      }
    },
    {
      "cell_type": "code",
      "source": [
        "import pandas as pd\n",
        "import numpy as np\n",
        "from sklearn.ensemble import RandomForestClassifier\n",
        "from sklearn.metrics import confusion_matrix\n",
        "from sklearn.datasets import load_iris\n",
        "\n",
        "# Load iris dataset\n",
        "iris = load_iris()\n",
        "iris_df = pd.DataFrame(data=iris.data, columns=iris.feature_names)\n",
        "iris_df['Species'] = iris.target\n",
        "species_map = {0: 'setosa', 1: 'versicolor', 2: 'virginica'}\n",
        "iris_df['Species'] = iris_df['Species'].map(species_map)\n",
        "\n",
        "# Random Forest with 100 trees and proximity\n",
        "rf_model = RandomForestClassifier(n_estimators=100,\n",
        "                                  random_state=0,\n",
        "                                  oob_score=True)  # oob_score approximates proximity\n",
        "X = iris_df.drop('Species', axis=1)\n",
        "y = iris_df['Species']\n",
        "rf_model.fit(X, y)\n",
        "\n",
        "# Predict on the iris dataset\n",
        "rf_pred = rf_model.predict(X)\n",
        "\n",
        "# Confusion matrix\n",
        "conf_matrix = confusion_matrix(y, rf_pred, labels=['setosa', 'versicolor', 'virginica'])\n",
        "conf_matrix_df = pd.DataFrame(conf_matrix,\n",
        "                              index=['setosa', 'versicolor', 'virginica'],\n",
        "                              columns=['setosa', 'versicolor', 'virginica'])\n",
        "print(\"Confusion Matrix:\\n\", conf_matrix_df)\n",
        "\n",
        "# Calculate misclassification error\n",
        "forest_error = 1 - (np.diag(conf_matrix).sum() / conf_matrix.sum())\n",
        "print(\"Misclassification Error:\", forest_error)\n",
        "print(\"Misclassification Error (%):\", forest_error * 100, \"%\")"
      ],
      "metadata": {
        "colab": {
          "base_uri": "https://localhost:8080/"
        },
        "id": "X8-OoBrpvwXL",
        "outputId": "c4258e8e-b322-42b9-a057-d90a65623d47"
      },
      "execution_count": null,
      "outputs": [
        {
          "output_type": "stream",
          "name": "stdout",
          "text": [
            "Confusion Matrix:\n",
            "             setosa  versicolor  virginica\n",
            "setosa          50           0          0\n",
            "versicolor       0          50          0\n",
            "virginica        0           0         50\n",
            "Misclassification Error: 0.0\n",
            "Misclassification Error (%): 0.0 %\n"
          ]
        }
      ]
    }
  ]
}