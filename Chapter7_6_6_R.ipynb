{
  "nbformat": 4,
  "nbformat_minor": 0,
  "metadata": {
    "colab": {
      "provenance": [],
      "name": "Chapter7.6.6.R.ipynb",
      "authorship_tag": "ABX9TyPExI9m0/9NsFAau9qZDipN",
      "include_colab_link": true
    },
    "kernelspec": {
      "name": "ir",
      "display_name": "R"
    },
    "language_info": {
      "name": "R"
    }
  },
  "cells": [
    {
      "cell_type": "markdown",
      "metadata": {
        "id": "view-in-github",
        "colab_type": "text"
      },
      "source": [
        "<a href=\"https://colab.research.google.com/github/ogut77/estat.me/blob/main/Chapter7_6_6_R.ipynb\" target=\"_parent\"><img src=\"https://colab.research.google.com/assets/colab-badge.svg\" alt=\"Open In Colab\"/></a>"
      ]
    },
    {
      "cell_type": "markdown",
      "source": [
        "# Random Forest"
      ],
      "metadata": {
        "id": "DzIYmT68sala"
      }
    },
    {
      "cell_type": "code",
      "source": [
        "install.packages('randomForest')\n",
        "library(randomForest)\n",
        "data(iris)"
      ],
      "metadata": {
        "colab": {
          "base_uri": "https://localhost:8080/"
        },
        "id": "NucpOIQquWwX",
        "outputId": "950debef-2c5d-43e0-bb8f-1b58deebbb2a"
      },
      "execution_count": null,
      "outputs": [
        {
          "output_type": "stream",
          "name": "stderr",
          "text": [
            "Installing package into ‘/usr/local/lib/R/site-library’\n",
            "(as ‘lib’ is unspecified)\n",
            "\n",
            "randomForest 4.7-1.2\n",
            "\n",
            "Type rfNews() to see new features/changes/bug fixes.\n",
            "\n"
          ]
        }
      ]
    },
    {
      "cell_type": "code",
      "source": [
        "iris.forest <- randomForest(Species~., data=iris, ntree = 100, proximity=TRUE)"
      ],
      "metadata": {
        "id": "dwI2i6CfHhmP"
      },
      "execution_count": null,
      "outputs": []
    },
    {
      "cell_type": "code",
      "source": [
        "# classify the iris data using the random forest model\n",
        "table(predict(iris.forest), iris[,5])"
      ],
      "metadata": {
        "colab": {
          "base_uri": "https://localhost:8080/",
          "height": 104
        },
        "id": "LHN40-hvue80",
        "outputId": "85239c60-66de-428f-fed5-61fc061929dd"
      },
      "execution_count": null,
      "outputs": [
        {
          "output_type": "display_data",
          "data": {
            "text/plain": [
              "            \n",
              "             setosa versicolor virginica\n",
              "  setosa         50          0         0\n",
              "  versicolor      0         47         3\n",
              "  virginica       0          3        47"
            ]
          },
          "metadata": {}
        }
      ]
    },
    {
      "cell_type": "code",
      "source": [
        "foresttb <- table(predict(iris.forest), iris[,5])"
      ],
      "metadata": {
        "id": "447U7j8JHlNV"
      },
      "execution_count": null,
      "outputs": []
    },
    {
      "cell_type": "code",
      "source": [
        "foresterror <- 1-(sum(diag(foresttb))/sum(foresttb))"
      ],
      "metadata": {
        "id": "nBnf5yjjHnaK"
      },
      "execution_count": null,
      "outputs": []
    },
    {
      "cell_type": "code",
      "source": [
        "foresterror"
      ],
      "metadata": {
        "colab": {
          "base_uri": "https://localhost:8080/",
          "height": 34
        },
        "id": "hYZGpATyHpg3",
        "outputId": "9b3fe757-89a7-46f8-ef7e-756983139dde"
      },
      "execution_count": null,
      "outputs": [
        {
          "output_type": "display_data",
          "data": {
            "text/html": [
              "0.04"
            ],
            "text/markdown": "0.04",
            "text/latex": "0.04",
            "text/plain": [
              "[1] 0.04"
            ]
          },
          "metadata": {}
        }
      ]
    }
  ]
}