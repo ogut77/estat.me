{
  "nbformat": 4,
  "nbformat_minor": 0,
  "metadata": {
    "colab": {
      "provenance": [],
      "name": "Chapter3R.ipynb",
      "authorship_tag": "ABX9TyNrILZisNU0A8hqae6I4A0j",
      "include_colab_link": true
    },
    "kernelspec": {
      "name": "ir",
      "display_name": "R"
    },
    "language_info": {
      "name": "R"
    }
  },
  "cells": [
    {
      "cell_type": "markdown",
      "metadata": {
        "id": "view-in-github",
        "colab_type": "text"
      },
      "source": [
        "<a href=\"https://colab.research.google.com/github/ogut77/estat.me/blob/main/Chapter3R.ipynb\" target=\"_parent\"><img src=\"https://colab.research.google.com/assets/colab-badge.svg\" alt=\"Open In Colab\"/></a>"
      ]
    },
    {
      "cell_type": "code",
      "source": [
        "# read the data file\n",
        "url='https://raw.githubusercontent.com/ogut77/DataScience/refs/heads/main/PurchaseByCredit40.csv'\n",
        "card <- read.csv(url, header=TRUE, as.is=FALSE)"
      ],
      "metadata": {
        "id": "C3_6LCKSW8ME"
      },
      "execution_count": null,
      "outputs": []
    },
    {
      "cell_type": "code",
      "source": [
        "card"
      ],
      "metadata": {
        "colab": {
          "base_uri": "https://localhost:8080/",
          "height": 1000
        },
        "id": "XTJhLa7aYLRY",
        "outputId": "0da5cddb-f648-46aa-c2aa-c179c6a591ff"
      },
      "execution_count": null,
      "outputs": [
        {
          "output_type": "display_data",
          "data": {
            "text/html": [
              "<table class=\"dataframe\">\n",
              "<caption>A data.frame: 40 × 6</caption>\n",
              "<thead>\n",
              "\t<tr><th scope=col>id</th><th scope=col>Gender</th><th scope=col>Age</th><th scope=col>Income</th><th scope=col>Credit</th><th scope=col>Purchase</th></tr>\n",
              "\t<tr><th scope=col>&lt;int&gt;</th><th scope=col>&lt;fct&gt;</th><th scope=col>&lt;fct&gt;</th><th scope=col>&lt;fct&gt;</th><th scope=col>&lt;fct&gt;</th><th scope=col>&lt;fct&gt;</th></tr>\n",
              "</thead>\n",
              "<tbody>\n",
              "\t<tr><td> 1</td><td>male  </td><td>20s</td><td>LT2000</td><td>Fair</td><td>Yes</td></tr>\n",
              "\t<tr><td> 2</td><td>female</td><td>30s</td><td>GE2000</td><td>Good</td><td>No </td></tr>\n",
              "\t<tr><td> 3</td><td>female</td><td>20s</td><td>GE2000</td><td>Fair</td><td>No </td></tr>\n",
              "\t<tr><td> 4</td><td>female</td><td>20s</td><td>GE2000</td><td>Fair</td><td>Yes</td></tr>\n",
              "\t<tr><td> 5</td><td>female</td><td>20s</td><td>LT2000</td><td>Bad </td><td>No </td></tr>\n",
              "\t<tr><td> 6</td><td>female</td><td>30s</td><td>GE2000</td><td>Fair</td><td>No </td></tr>\n",
              "\t<tr><td> 7</td><td>female</td><td>30s</td><td>GE2000</td><td>Good</td><td>Yes</td></tr>\n",
              "\t<tr><td> 8</td><td>male  </td><td>20s</td><td>LT2000</td><td>Fair</td><td>No </td></tr>\n",
              "\t<tr><td> 9</td><td>female</td><td>20s</td><td>GE2000</td><td>Good</td><td>No </td></tr>\n",
              "\t<tr><td>10</td><td>male  </td><td>30s</td><td>GE2000</td><td>Fair</td><td>Yes</td></tr>\n",
              "\t<tr><td>11</td><td>female</td><td>30s</td><td>GE2000</td><td>Good</td><td>Yes</td></tr>\n",
              "\t<tr><td>12</td><td>female</td><td>20s</td><td>LT2000</td><td>Fair</td><td>No </td></tr>\n",
              "\t<tr><td>13</td><td>male  </td><td>30s</td><td>GE2000</td><td>Fair</td><td>No </td></tr>\n",
              "\t<tr><td>14</td><td>male  </td><td>30s</td><td>LT2000</td><td>Fair</td><td>Yes</td></tr>\n",
              "\t<tr><td>15</td><td>female</td><td>30s</td><td>GE2000</td><td>Good</td><td>Yes</td></tr>\n",
              "\t<tr><td>16</td><td>female</td><td>30s</td><td>GE2000</td><td>Fair</td><td>No </td></tr>\n",
              "\t<tr><td>17</td><td>female</td><td>20s</td><td>GE2000</td><td>Bad </td><td>No </td></tr>\n",
              "\t<tr><td>18</td><td>male  </td><td>20s</td><td>GE2000</td><td>Bad </td><td>No </td></tr>\n",
              "\t<tr><td>19</td><td>male  </td><td>30s</td><td>GE2000</td><td>Good</td><td>Yes</td></tr>\n",
              "\t<tr><td>20</td><td>male  </td><td>20s</td><td>LT2000</td><td>Fair</td><td>No </td></tr>\n",
              "\t<tr><td>21</td><td>male  </td><td>20s</td><td>LT2000</td><td>Fair</td><td>Yes</td></tr>\n",
              "\t<tr><td>22</td><td>female</td><td>30s</td><td>GE2000</td><td>Good</td><td>No </td></tr>\n",
              "\t<tr><td>23</td><td>female</td><td>20s</td><td>GE2000</td><td>Fair</td><td>No </td></tr>\n",
              "\t<tr><td>24</td><td>female</td><td>20s</td><td>GE2000</td><td>Fair</td><td>Yes</td></tr>\n",
              "\t<tr><td>25</td><td>female</td><td>20s</td><td>LT2000</td><td>Bad </td><td>No </td></tr>\n",
              "\t<tr><td>26</td><td>female</td><td>30s</td><td>GE2000</td><td>Fair</td><td>No </td></tr>\n",
              "\t<tr><td>27</td><td>female</td><td>30s</td><td>GE2000</td><td>Good</td><td>Yes</td></tr>\n",
              "\t<tr><td>28</td><td>male  </td><td>20s</td><td>LT2000</td><td>Fair</td><td>No </td></tr>\n",
              "\t<tr><td>29</td><td>female</td><td>20s</td><td>GE2000</td><td>Good</td><td>No </td></tr>\n",
              "\t<tr><td>30</td><td>male  </td><td>30s</td><td>GE2000</td><td>Fair</td><td>Yes</td></tr>\n",
              "\t<tr><td>31</td><td>female</td><td>30s</td><td>GE2000</td><td>Good</td><td>Yes</td></tr>\n",
              "\t<tr><td>32</td><td>female</td><td>20s</td><td>LT2000</td><td>Fair</td><td>No </td></tr>\n",
              "\t<tr><td>33</td><td>male  </td><td>30s</td><td>GE2000</td><td>Fair</td><td>No </td></tr>\n",
              "\t<tr><td>34</td><td>male  </td><td>30s</td><td>LT2000</td><td>Fair</td><td>Yes</td></tr>\n",
              "\t<tr><td>35</td><td>female</td><td>30s</td><td>GE2000</td><td>Good</td><td>Yes</td></tr>\n",
              "\t<tr><td>36</td><td>female</td><td>30s</td><td>GE2000</td><td>Fair</td><td>No </td></tr>\n",
              "\t<tr><td>37</td><td>female</td><td>20s</td><td>GE2000</td><td>Bad </td><td>No </td></tr>\n",
              "\t<tr><td>38</td><td>male  </td><td>20s</td><td>GE2000</td><td>Bad </td><td>No </td></tr>\n",
              "\t<tr><td>39</td><td>male  </td><td>30s</td><td>GE2000</td><td>Good</td><td>Yes</td></tr>\n",
              "\t<tr><td>40</td><td>male  </td><td>20s</td><td>LT2000</td><td>Fair</td><td>No </td></tr>\n",
              "</tbody>\n",
              "</table>\n"
            ],
            "text/markdown": "\nA data.frame: 40 × 6\n\n| id &lt;int&gt; | Gender &lt;fct&gt; | Age &lt;fct&gt; | Income &lt;fct&gt; | Credit &lt;fct&gt; | Purchase &lt;fct&gt; |\n|---|---|---|---|---|---|\n|  1 | male   | 20s | LT2000 | Fair | Yes |\n|  2 | female | 30s | GE2000 | Good | No  |\n|  3 | female | 20s | GE2000 | Fair | No  |\n|  4 | female | 20s | GE2000 | Fair | Yes |\n|  5 | female | 20s | LT2000 | Bad  | No  |\n|  6 | female | 30s | GE2000 | Fair | No  |\n|  7 | female | 30s | GE2000 | Good | Yes |\n|  8 | male   | 20s | LT2000 | Fair | No  |\n|  9 | female | 20s | GE2000 | Good | No  |\n| 10 | male   | 30s | GE2000 | Fair | Yes |\n| 11 | female | 30s | GE2000 | Good | Yes |\n| 12 | female | 20s | LT2000 | Fair | No  |\n| 13 | male   | 30s | GE2000 | Fair | No  |\n| 14 | male   | 30s | LT2000 | Fair | Yes |\n| 15 | female | 30s | GE2000 | Good | Yes |\n| 16 | female | 30s | GE2000 | Fair | No  |\n| 17 | female | 20s | GE2000 | Bad  | No  |\n| 18 | male   | 20s | GE2000 | Bad  | No  |\n| 19 | male   | 30s | GE2000 | Good | Yes |\n| 20 | male   | 20s | LT2000 | Fair | No  |\n| 21 | male   | 20s | LT2000 | Fair | Yes |\n| 22 | female | 30s | GE2000 | Good | No  |\n| 23 | female | 20s | GE2000 | Fair | No  |\n| 24 | female | 20s | GE2000 | Fair | Yes |\n| 25 | female | 20s | LT2000 | Bad  | No  |\n| 26 | female | 30s | GE2000 | Fair | No  |\n| 27 | female | 30s | GE2000 | Good | Yes |\n| 28 | male   | 20s | LT2000 | Fair | No  |\n| 29 | female | 20s | GE2000 | Good | No  |\n| 30 | male   | 30s | GE2000 | Fair | Yes |\n| 31 | female | 30s | GE2000 | Good | Yes |\n| 32 | female | 20s | LT2000 | Fair | No  |\n| 33 | male   | 30s | GE2000 | Fair | No  |\n| 34 | male   | 30s | LT2000 | Fair | Yes |\n| 35 | female | 30s | GE2000 | Good | Yes |\n| 36 | female | 30s | GE2000 | Fair | No  |\n| 37 | female | 20s | GE2000 | Bad  | No  |\n| 38 | male   | 20s | GE2000 | Bad  | No  |\n| 39 | male   | 30s | GE2000 | Good | Yes |\n| 40 | male   | 20s | LT2000 | Fair | No  |\n\n",
            "text/latex": "A data.frame: 40 × 6\n\\begin{tabular}{llllll}\n id & Gender & Age & Income & Credit & Purchase\\\\\n <int> & <fct> & <fct> & <fct> & <fct> & <fct>\\\\\n\\hline\n\t  1 & male   & 20s & LT2000 & Fair & Yes\\\\\n\t  2 & female & 30s & GE2000 & Good & No \\\\\n\t  3 & female & 20s & GE2000 & Fair & No \\\\\n\t  4 & female & 20s & GE2000 & Fair & Yes\\\\\n\t  5 & female & 20s & LT2000 & Bad  & No \\\\\n\t  6 & female & 30s & GE2000 & Fair & No \\\\\n\t  7 & female & 30s & GE2000 & Good & Yes\\\\\n\t  8 & male   & 20s & LT2000 & Fair & No \\\\\n\t  9 & female & 20s & GE2000 & Good & No \\\\\n\t 10 & male   & 30s & GE2000 & Fair & Yes\\\\\n\t 11 & female & 30s & GE2000 & Good & Yes\\\\\n\t 12 & female & 20s & LT2000 & Fair & No \\\\\n\t 13 & male   & 30s & GE2000 & Fair & No \\\\\n\t 14 & male   & 30s & LT2000 & Fair & Yes\\\\\n\t 15 & female & 30s & GE2000 & Good & Yes\\\\\n\t 16 & female & 30s & GE2000 & Fair & No \\\\\n\t 17 & female & 20s & GE2000 & Bad  & No \\\\\n\t 18 & male   & 20s & GE2000 & Bad  & No \\\\\n\t 19 & male   & 30s & GE2000 & Good & Yes\\\\\n\t 20 & male   & 20s & LT2000 & Fair & No \\\\\n\t 21 & male   & 20s & LT2000 & Fair & Yes\\\\\n\t 22 & female & 30s & GE2000 & Good & No \\\\\n\t 23 & female & 20s & GE2000 & Fair & No \\\\\n\t 24 & female & 20s & GE2000 & Fair & Yes\\\\\n\t 25 & female & 20s & LT2000 & Bad  & No \\\\\n\t 26 & female & 30s & GE2000 & Fair & No \\\\\n\t 27 & female & 30s & GE2000 & Good & Yes\\\\\n\t 28 & male   & 20s & LT2000 & Fair & No \\\\\n\t 29 & female & 20s & GE2000 & Good & No \\\\\n\t 30 & male   & 30s & GE2000 & Fair & Yes\\\\\n\t 31 & female & 30s & GE2000 & Good & Yes\\\\\n\t 32 & female & 20s & LT2000 & Fair & No \\\\\n\t 33 & male   & 30s & GE2000 & Fair & No \\\\\n\t 34 & male   & 30s & LT2000 & Fair & Yes\\\\\n\t 35 & female & 30s & GE2000 & Good & Yes\\\\\n\t 36 & female & 30s & GE2000 & Fair & No \\\\\n\t 37 & female & 20s & GE2000 & Bad  & No \\\\\n\t 38 & male   & 20s & GE2000 & Bad  & No \\\\\n\t 39 & male   & 30s & GE2000 & Good & Yes\\\\\n\t 40 & male   & 20s & LT2000 & Fair & No \\\\\n\\end{tabular}\n",
            "text/plain": [
              "   id Gender Age Income Credit Purchase\n",
              "1   1 male   20s LT2000 Fair   Yes     \n",
              "2   2 female 30s GE2000 Good   No      \n",
              "3   3 female 20s GE2000 Fair   No      \n",
              "4   4 female 20s GE2000 Fair   Yes     \n",
              "5   5 female 20s LT2000 Bad    No      \n",
              "6   6 female 30s GE2000 Fair   No      \n",
              "7   7 female 30s GE2000 Good   Yes     \n",
              "8   8 male   20s LT2000 Fair   No      \n",
              "9   9 female 20s GE2000 Good   No      \n",
              "10 10 male   30s GE2000 Fair   Yes     \n",
              "11 11 female 30s GE2000 Good   Yes     \n",
              "12 12 female 20s LT2000 Fair   No      \n",
              "13 13 male   30s GE2000 Fair   No      \n",
              "14 14 male   30s LT2000 Fair   Yes     \n",
              "15 15 female 30s GE2000 Good   Yes     \n",
              "16 16 female 30s GE2000 Fair   No      \n",
              "17 17 female 20s GE2000 Bad    No      \n",
              "18 18 male   20s GE2000 Bad    No      \n",
              "19 19 male   30s GE2000 Good   Yes     \n",
              "20 20 male   20s LT2000 Fair   No      \n",
              "21 21 male   20s LT2000 Fair   Yes     \n",
              "22 22 female 30s GE2000 Good   No      \n",
              "23 23 female 20s GE2000 Fair   No      \n",
              "24 24 female 20s GE2000 Fair   Yes     \n",
              "25 25 female 20s LT2000 Bad    No      \n",
              "26 26 female 30s GE2000 Fair   No      \n",
              "27 27 female 30s GE2000 Good   Yes     \n",
              "28 28 male   20s LT2000 Fair   No      \n",
              "29 29 female 20s GE2000 Good   No      \n",
              "30 30 male   30s GE2000 Fair   Yes     \n",
              "31 31 female 30s GE2000 Good   Yes     \n",
              "32 32 female 20s LT2000 Fair   No      \n",
              "33 33 male   30s GE2000 Fair   No      \n",
              "34 34 male   30s LT2000 Fair   Yes     \n",
              "35 35 female 30s GE2000 Good   Yes     \n",
              "36 36 female 30s GE2000 Fair   No      \n",
              "37 37 female 20s GE2000 Bad    No      \n",
              "38 38 male   20s GE2000 Bad    No      \n",
              "39 39 male   30s GE2000 Good   Yes     \n",
              "40 40 male   20s LT2000 Fair   No      "
            ]
          },
          "metadata": {}
        }
      ]
    },
    {
      "cell_type": "code",
      "source": [
        "attach(card)"
      ],
      "metadata": {
        "colab": {
          "base_uri": "https://localhost:8080/"
        },
        "id": "BofM8hlQYV84",
        "outputId": "5934146a-d9ef-4647-dd19-bae389fb6533"
      },
      "execution_count": null,
      "outputs": [
        {
          "output_type": "stream",
          "name": "stderr",
          "text": [
            "The following objects are masked from card (pos = 6):\n",
            "\n",
            "    Age, Credit, Gender, id, Income, Purchase\n",
            "\n",
            "\n"
          ]
        }
      ]
    },
    {
      "cell_type": "code",
      "source": [
        "# 1 dim frequency table\n",
        "table(Gender)"
      ],
      "metadata": {
        "colab": {
          "base_uri": "https://localhost:8080/",
          "height": 69
        },
        "id": "LRKKTJjb4Gbd",
        "outputId": "4aa1de11-0e33-4c15-c44f-395b351a1f93"
      },
      "execution_count": null,
      "outputs": [
        {
          "output_type": "display_data",
          "data": {
            "text/plain": [
              "Gender\n",
              "female   male \n",
              "    24     16 "
            ]
          },
          "metadata": {}
        }
      ]
    },
    {
      "cell_type": "code",
      "source": [
        "# 2 dim frequency table\n",
        "table(Gender,Purchase)"
      ],
      "metadata": {
        "colab": {
          "base_uri": "https://localhost:8080/",
          "height": 86
        },
        "id": "iR72L7pC4NIL",
        "outputId": "fa69d270-c947-4b3d-dc6d-fa920dc0d90a"
      },
      "execution_count": null,
      "outputs": [
        {
          "output_type": "display_data",
          "data": {
            "text/plain": [
              "        Purchase\n",
              "Gender   No Yes\n",
              "  female 16   8\n",
              "  male    8   8"
            ]
          },
          "metadata": {}
        }
      ]
    },
    {
      "cell_type": "code",
      "source": [
        "# 3 dim frequency table\n",
        "table(Gender,Age,Purchase)"
      ],
      "metadata": {
        "colab": {
          "base_uri": "https://localhost:8080/",
          "height": 243
        },
        "id": "UUK0_FSn4T27",
        "outputId": "86e85e37-4739-486f-9df4-caac3bb1b045"
      },
      "execution_count": null,
      "outputs": [
        {
          "output_type": "display_data",
          "data": {
            "text/plain": [
              ", , Purchase = No\n",
              "\n",
              "        Age\n",
              "Gender   20s 30s\n",
              "  female  10   6\n",
              "  male     6   2\n",
              "\n",
              ", , Purchase = Yes\n",
              "\n",
              "        Age\n",
              "Gender   20s 30s\n",
              "  female   2   6\n",
              "  male     2   6\n"
            ]
          },
          "metadata": {}
        }
      ]
    },
    {
      "cell_type": "code",
      "source": [
        "# Load the iris dataset (it's built-in)\n",
        "data(iris)\n",
        "\n",
        "# Display the first few rows\n",
        "head(iris)"
      ],
      "metadata": {
        "colab": {
          "base_uri": "https://localhost:8080/",
          "height": 286
        },
        "id": "VXKFP7S-bmNk",
        "outputId": "0f26d42a-de9a-4d25-dc81-65877e875745"
      },
      "execution_count": null,
      "outputs": [
        {
          "output_type": "display_data",
          "data": {
            "text/html": [
              "<table class=\"dataframe\">\n",
              "<caption>A data.frame: 6 × 5</caption>\n",
              "<thead>\n",
              "\t<tr><th></th><th scope=col>Sepal.Length</th><th scope=col>Sepal.Width</th><th scope=col>Petal.Length</th><th scope=col>Petal.Width</th><th scope=col>Species</th></tr>\n",
              "\t<tr><th></th><th scope=col>&lt;dbl&gt;</th><th scope=col>&lt;dbl&gt;</th><th scope=col>&lt;dbl&gt;</th><th scope=col>&lt;dbl&gt;</th><th scope=col>&lt;fct&gt;</th></tr>\n",
              "</thead>\n",
              "<tbody>\n",
              "\t<tr><th scope=row>1</th><td>5.1</td><td>3.5</td><td>1.4</td><td>0.2</td><td>setosa</td></tr>\n",
              "\t<tr><th scope=row>2</th><td>4.9</td><td>3.0</td><td>1.4</td><td>0.2</td><td>setosa</td></tr>\n",
              "\t<tr><th scope=row>3</th><td>4.7</td><td>3.2</td><td>1.3</td><td>0.2</td><td>setosa</td></tr>\n",
              "\t<tr><th scope=row>4</th><td>4.6</td><td>3.1</td><td>1.5</td><td>0.2</td><td>setosa</td></tr>\n",
              "\t<tr><th scope=row>5</th><td>5.0</td><td>3.6</td><td>1.4</td><td>0.2</td><td>setosa</td></tr>\n",
              "\t<tr><th scope=row>6</th><td>5.4</td><td>3.9</td><td>1.7</td><td>0.4</td><td>setosa</td></tr>\n",
              "</tbody>\n",
              "</table>\n"
            ],
            "text/markdown": "\nA data.frame: 6 × 5\n\n| <!--/--> | Sepal.Length &lt;dbl&gt; | Sepal.Width &lt;dbl&gt; | Petal.Length &lt;dbl&gt; | Petal.Width &lt;dbl&gt; | Species &lt;fct&gt; |\n|---|---|---|---|---|---|\n| 1 | 5.1 | 3.5 | 1.4 | 0.2 | setosa |\n| 2 | 4.9 | 3.0 | 1.4 | 0.2 | setosa |\n| 3 | 4.7 | 3.2 | 1.3 | 0.2 | setosa |\n| 4 | 4.6 | 3.1 | 1.5 | 0.2 | setosa |\n| 5 | 5.0 | 3.6 | 1.4 | 0.2 | setosa |\n| 6 | 5.4 | 3.9 | 1.7 | 0.4 | setosa |\n\n",
            "text/latex": "A data.frame: 6 × 5\n\\begin{tabular}{r|lllll}\n  & Sepal.Length & Sepal.Width & Petal.Length & Petal.Width & Species\\\\\n  & <dbl> & <dbl> & <dbl> & <dbl> & <fct>\\\\\n\\hline\n\t1 & 5.1 & 3.5 & 1.4 & 0.2 & setosa\\\\\n\t2 & 4.9 & 3.0 & 1.4 & 0.2 & setosa\\\\\n\t3 & 4.7 & 3.2 & 1.3 & 0.2 & setosa\\\\\n\t4 & 4.6 & 3.1 & 1.5 & 0.2 & setosa\\\\\n\t5 & 5.0 & 3.6 & 1.4 & 0.2 & setosa\\\\\n\t6 & 5.4 & 3.9 & 1.7 & 0.4 & setosa\\\\\n\\end{tabular}\n",
            "text/plain": [
              "  Sepal.Length Sepal.Width Petal.Length Petal.Width Species\n",
              "1 5.1          3.5         1.4          0.2         setosa \n",
              "2 4.9          3.0         1.4          0.2         setosa \n",
              "3 4.7          3.2         1.3          0.2         setosa \n",
              "4 4.6          3.1         1.5          0.2         setosa \n",
              "5 5.0          3.6         1.4          0.2         setosa \n",
              "6 5.4          3.9         1.7          0.4         setosa "
            ]
          },
          "metadata": {}
        }
      ]
    },
    {
      "cell_type": "code",
      "source": [
        "attach(iris)"
      ],
      "metadata": {
        "colab": {
          "base_uri": "https://localhost:8080/"
        },
        "id": "eaTNQcFaa2W7",
        "outputId": "97372980-4098-4211-e8d8-30ef049616b5"
      },
      "execution_count": null,
      "outputs": [
        {
          "output_type": "stream",
          "name": "stderr",
          "text": [
            "The following objects are masked from iris (pos = 5):\n",
            "\n",
            "    Petal.Length, Petal.Width, Sepal.Length, Sepal.Width, Species\n",
            "\n",
            "\n"
          ]
        }
      ]
    },
    {
      "cell_type": "code",
      "source": [
        "#Mean\n",
        "mean(Sepal.Length)"
      ],
      "metadata": {
        "colab": {
          "base_uri": "https://localhost:8080/",
          "height": 34
        },
        "id": "iXGf7IVX4gzp",
        "outputId": "1feb0953-1213-4530-e4fe-e879e151cd30"
      },
      "execution_count": null,
      "outputs": [
        {
          "output_type": "display_data",
          "data": {
            "text/html": [
              "5.84333333333333"
            ],
            "text/markdown": "5.84333333333333",
            "text/latex": "5.84333333333333",
            "text/plain": [
              "[1] 5.843333"
            ]
          },
          "metadata": {}
        }
      ]
    },
    {
      "cell_type": "code",
      "source": [
        "#Median\n",
        "median(Sepal.Length)"
      ],
      "metadata": {
        "colab": {
          "base_uri": "https://localhost:8080/",
          "height": 34
        },
        "id": "CKVm2HZ85EI6",
        "outputId": "af94268b-3be0-4110-88df-5b51e7dc24b8"
      },
      "execution_count": null,
      "outputs": [
        {
          "output_type": "display_data",
          "data": {
            "text/html": [
              "5.8"
            ],
            "text/markdown": "5.8",
            "text/latex": "5.8",
            "text/plain": [
              "[1] 5.8"
            ]
          },
          "metadata": {}
        }
      ]
    },
    {
      "cell_type": "code",
      "source": [
        "#Variance\n",
        "var(Sepal.Length)"
      ],
      "metadata": {
        "colab": {
          "base_uri": "https://localhost:8080/",
          "height": 34
        },
        "id": "83C00-VH5EwN",
        "outputId": "b346d53f-9ef6-43b5-954c-cd3b8e2a8ff8"
      },
      "execution_count": null,
      "outputs": [
        {
          "output_type": "display_data",
          "data": {
            "text/html": [
              "0.685693512304251"
            ],
            "text/markdown": "0.685693512304251",
            "text/latex": "0.685693512304251",
            "text/plain": [
              "[1] 0.6856935"
            ]
          },
          "metadata": {}
        }
      ]
    },
    {
      "cell_type": "code",
      "source": [
        "#Standard Deviation\n",
        "sd(Sepal.Length)"
      ],
      "metadata": {
        "colab": {
          "base_uri": "https://localhost:8080/",
          "height": 34
        },
        "id": "BpYUT4ft5Lct",
        "outputId": "f54d3fa9-1a37-4fbf-cd58-19674de77d9e"
      },
      "execution_count": null,
      "outputs": [
        {
          "output_type": "display_data",
          "data": {
            "text/html": [
              "0.828066127977863"
            ],
            "text/markdown": "0.828066127977863",
            "text/latex": "0.828066127977863",
            "text/plain": [
              "[1] 0.8280661"
            ]
          },
          "metadata": {}
        }
      ]
    },
    {
      "cell_type": "code",
      "source": [
        "#Range\n",
        "range(Sepal.Length)"
      ],
      "metadata": {
        "colab": {
          "base_uri": "https://localhost:8080/",
          "height": 34
        },
        "id": "Wov46eYc5ObV",
        "outputId": "0b97a87f-71f2-4c34-d43a-097e2d4af57f"
      },
      "execution_count": null,
      "outputs": [
        {
          "output_type": "display_data",
          "data": {
            "text/html": [
              "<style>\n",
              ".list-inline {list-style: none; margin:0; padding: 0}\n",
              ".list-inline>li {display: inline-block}\n",
              ".list-inline>li:not(:last-child)::after {content: \"\\00b7\"; padding: 0 .5ex}\n",
              "</style>\n",
              "<ol class=list-inline><li>4.3</li><li>7.9</li></ol>\n"
            ],
            "text/markdown": "1. 4.3\n2. 7.9\n\n\n",
            "text/latex": "\\begin{enumerate*}\n\\item 4.3\n\\item 7.9\n\\end{enumerate*}\n",
            "text/plain": [
              "[1] 4.3 7.9"
            ]
          },
          "metadata": {}
        }
      ]
    },
    {
      "cell_type": "code",
      "source": [
        "# summary of basic statistics\n",
        "summary(iris)"
      ],
      "metadata": {
        "colab": {
          "base_uri": "https://localhost:8080/",
          "height": 260
        },
        "id": "PNSHG0Dy5Rmg",
        "outputId": "229d9cec-4d86-4fe1-b5b7-f1d4bd0b576d"
      },
      "execution_count": null,
      "outputs": [
        {
          "output_type": "display_data",
          "data": {
            "text/plain": [
              "  Sepal.Length    Sepal.Width     Petal.Length    Petal.Width   \n",
              " Min.   :4.300   Min.   :2.000   Min.   :1.000   Min.   :0.100  \n",
              " 1st Qu.:5.100   1st Qu.:2.800   1st Qu.:1.600   1st Qu.:0.300  \n",
              " Median :5.800   Median :3.000   Median :4.350   Median :1.300  \n",
              " Mean   :5.843   Mean   :3.057   Mean   :3.758   Mean   :1.199  \n",
              " 3rd Qu.:6.400   3rd Qu.:3.300   3rd Qu.:5.100   3rd Qu.:1.800  \n",
              " Max.   :7.900   Max.   :4.400   Max.   :6.900   Max.   :2.500  \n",
              "       Species  \n",
              " setosa    :50  \n",
              " versicolor:50  \n",
              " virginica :50  \n",
              "                \n",
              "                \n",
              "                "
            ]
          },
          "metadata": {}
        }
      ]
    }
  ]
}