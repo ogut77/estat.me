{
  "nbformat": 4,
  "nbformat_minor": 0,
  "metadata": {
    "colab": {
      "provenance": [],
      "name": "Chapter6.2.5.R.ipynb",
      "authorship_tag": "ABX9TyNmLRrnhQNKgOcVWIsOEUgW",
      "include_colab_link": true
    },
    "kernelspec": {
      "name": "ir",
      "display_name": "R"
    },
    "language_info": {
      "name": "R"
    }
  },
  "cells": [
    {
      "cell_type": "markdown",
      "metadata": {
        "id": "view-in-github",
        "colab_type": "text"
      },
      "source": [
        "<a href=\"https://colab.research.google.com/github/ogut77/estat.me/blob/main/Chapter6_2_5_R.ipynb\" target=\"_parent\"><img src=\"https://colab.research.google.com/assets/colab-badge.svg\" alt=\"Open In Colab\"/></a>"
      ]
    },
    {
      "cell_type": "code",
      "source": [
        "# read the data file\n",
        "url='https://raw.githubusercontent.com/ogut77/DataScience/refs/heads/main/PurchaseByCredit40.csv'\n",
        "card <- read.csv(url, header=TRUE, as.is=FALSE)"
      ],
      "metadata": {
        "id": "C3_6LCKSW8ME"
      },
      "execution_count": null,
      "outputs": []
    },
    {
      "cell_type": "code",
      "source": [
        "card"
      ],
      "metadata": {
        "colab": {
          "base_uri": "https://localhost:8080/",
          "height": 1000
        },
        "id": "XTJhLa7aYLRY",
        "outputId": "27ca59b1-9910-46b3-b61e-c53107b05cb8"
      },
      "execution_count": null,
      "outputs": [
        {
          "output_type": "display_data",
          "data": {
            "text/html": [
              "<table class=\"dataframe\">\n",
              "<caption>A data.frame: 40 × 6</caption>\n",
              "<thead>\n",
              "\t<tr><th scope=col>id</th><th scope=col>Gender</th><th scope=col>Age</th><th scope=col>Income</th><th scope=col>Credit</th><th scope=col>Purchase</th></tr>\n",
              "\t<tr><th scope=col>&lt;int&gt;</th><th scope=col>&lt;fct&gt;</th><th scope=col>&lt;fct&gt;</th><th scope=col>&lt;fct&gt;</th><th scope=col>&lt;fct&gt;</th><th scope=col>&lt;fct&gt;</th></tr>\n",
              "</thead>\n",
              "<tbody>\n",
              "\t<tr><td> 1</td><td>male  </td><td>20s</td><td>LT2000</td><td>Fair</td><td>Yes</td></tr>\n",
              "\t<tr><td> 2</td><td>female</td><td>30s</td><td>GE2000</td><td>Good</td><td>No </td></tr>\n",
              "\t<tr><td> 3</td><td>female</td><td>20s</td><td>GE2000</td><td>Fair</td><td>No </td></tr>\n",
              "\t<tr><td> 4</td><td>female</td><td>20s</td><td>GE2000</td><td>Fair</td><td>Yes</td></tr>\n",
              "\t<tr><td> 5</td><td>female</td><td>20s</td><td>LT2000</td><td>Bad </td><td>No </td></tr>\n",
              "\t<tr><td> 6</td><td>female</td><td>30s</td><td>GE2000</td><td>Fair</td><td>No </td></tr>\n",
              "\t<tr><td> 7</td><td>female</td><td>30s</td><td>GE2000</td><td>Good</td><td>Yes</td></tr>\n",
              "\t<tr><td> 8</td><td>male  </td><td>20s</td><td>LT2000</td><td>Fair</td><td>No </td></tr>\n",
              "\t<tr><td> 9</td><td>female</td><td>20s</td><td>GE2000</td><td>Good</td><td>No </td></tr>\n",
              "\t<tr><td>10</td><td>male  </td><td>30s</td><td>GE2000</td><td>Fair</td><td>Yes</td></tr>\n",
              "\t<tr><td>11</td><td>female</td><td>30s</td><td>GE2000</td><td>Good</td><td>Yes</td></tr>\n",
              "\t<tr><td>12</td><td>female</td><td>20s</td><td>LT2000</td><td>Fair</td><td>No </td></tr>\n",
              "\t<tr><td>13</td><td>male  </td><td>30s</td><td>GE2000</td><td>Fair</td><td>No </td></tr>\n",
              "\t<tr><td>14</td><td>male  </td><td>30s</td><td>LT2000</td><td>Fair</td><td>Yes</td></tr>\n",
              "\t<tr><td>15</td><td>female</td><td>30s</td><td>GE2000</td><td>Good</td><td>Yes</td></tr>\n",
              "\t<tr><td>16</td><td>female</td><td>30s</td><td>GE2000</td><td>Fair</td><td>No </td></tr>\n",
              "\t<tr><td>17</td><td>female</td><td>20s</td><td>GE2000</td><td>Bad </td><td>No </td></tr>\n",
              "\t<tr><td>18</td><td>male  </td><td>20s</td><td>GE2000</td><td>Bad </td><td>No </td></tr>\n",
              "\t<tr><td>19</td><td>male  </td><td>30s</td><td>GE2000</td><td>Good</td><td>Yes</td></tr>\n",
              "\t<tr><td>20</td><td>male  </td><td>20s</td><td>LT2000</td><td>Fair</td><td>No </td></tr>\n",
              "\t<tr><td>21</td><td>male  </td><td>20s</td><td>LT2000</td><td>Fair</td><td>Yes</td></tr>\n",
              "\t<tr><td>22</td><td>female</td><td>30s</td><td>GE2000</td><td>Good</td><td>No </td></tr>\n",
              "\t<tr><td>23</td><td>female</td><td>20s</td><td>GE2000</td><td>Fair</td><td>No </td></tr>\n",
              "\t<tr><td>24</td><td>female</td><td>20s</td><td>GE2000</td><td>Fair</td><td>Yes</td></tr>\n",
              "\t<tr><td>25</td><td>female</td><td>20s</td><td>LT2000</td><td>Bad </td><td>No </td></tr>\n",
              "\t<tr><td>26</td><td>female</td><td>30s</td><td>GE2000</td><td>Fair</td><td>No </td></tr>\n",
              "\t<tr><td>27</td><td>female</td><td>30s</td><td>GE2000</td><td>Good</td><td>Yes</td></tr>\n",
              "\t<tr><td>28</td><td>male  </td><td>20s</td><td>LT2000</td><td>Fair</td><td>No </td></tr>\n",
              "\t<tr><td>29</td><td>female</td><td>20s</td><td>GE2000</td><td>Good</td><td>No </td></tr>\n",
              "\t<tr><td>30</td><td>male  </td><td>30s</td><td>GE2000</td><td>Fair</td><td>Yes</td></tr>\n",
              "\t<tr><td>31</td><td>female</td><td>30s</td><td>GE2000</td><td>Good</td><td>Yes</td></tr>\n",
              "\t<tr><td>32</td><td>female</td><td>20s</td><td>LT2000</td><td>Fair</td><td>No </td></tr>\n",
              "\t<tr><td>33</td><td>male  </td><td>30s</td><td>GE2000</td><td>Fair</td><td>No </td></tr>\n",
              "\t<tr><td>34</td><td>male  </td><td>30s</td><td>LT2000</td><td>Fair</td><td>Yes</td></tr>\n",
              "\t<tr><td>35</td><td>female</td><td>30s</td><td>GE2000</td><td>Good</td><td>Yes</td></tr>\n",
              "\t<tr><td>36</td><td>female</td><td>30s</td><td>GE2000</td><td>Fair</td><td>No </td></tr>\n",
              "\t<tr><td>37</td><td>female</td><td>20s</td><td>GE2000</td><td>Bad </td><td>No </td></tr>\n",
              "\t<tr><td>38</td><td>male  </td><td>20s</td><td>GE2000</td><td>Bad </td><td>No </td></tr>\n",
              "\t<tr><td>39</td><td>male  </td><td>30s</td><td>GE2000</td><td>Good</td><td>Yes</td></tr>\n",
              "\t<tr><td>40</td><td>male  </td><td>20s</td><td>LT2000</td><td>Fair</td><td>No </td></tr>\n",
              "</tbody>\n",
              "</table>\n"
            ],
            "text/markdown": "\nA data.frame: 40 × 6\n\n| id &lt;int&gt; | Gender &lt;fct&gt; | Age &lt;fct&gt; | Income &lt;fct&gt; | Credit &lt;fct&gt; | Purchase &lt;fct&gt; |\n|---|---|---|---|---|---|\n|  1 | male   | 20s | LT2000 | Fair | Yes |\n|  2 | female | 30s | GE2000 | Good | No  |\n|  3 | female | 20s | GE2000 | Fair | No  |\n|  4 | female | 20s | GE2000 | Fair | Yes |\n|  5 | female | 20s | LT2000 | Bad  | No  |\n|  6 | female | 30s | GE2000 | Fair | No  |\n|  7 | female | 30s | GE2000 | Good | Yes |\n|  8 | male   | 20s | LT2000 | Fair | No  |\n|  9 | female | 20s | GE2000 | Good | No  |\n| 10 | male   | 30s | GE2000 | Fair | Yes |\n| 11 | female | 30s | GE2000 | Good | Yes |\n| 12 | female | 20s | LT2000 | Fair | No  |\n| 13 | male   | 30s | GE2000 | Fair | No  |\n| 14 | male   | 30s | LT2000 | Fair | Yes |\n| 15 | female | 30s | GE2000 | Good | Yes |\n| 16 | female | 30s | GE2000 | Fair | No  |\n| 17 | female | 20s | GE2000 | Bad  | No  |\n| 18 | male   | 20s | GE2000 | Bad  | No  |\n| 19 | male   | 30s | GE2000 | Good | Yes |\n| 20 | male   | 20s | LT2000 | Fair | No  |\n| 21 | male   | 20s | LT2000 | Fair | Yes |\n| 22 | female | 30s | GE2000 | Good | No  |\n| 23 | female | 20s | GE2000 | Fair | No  |\n| 24 | female | 20s | GE2000 | Fair | Yes |\n| 25 | female | 20s | LT2000 | Bad  | No  |\n| 26 | female | 30s | GE2000 | Fair | No  |\n| 27 | female | 30s | GE2000 | Good | Yes |\n| 28 | male   | 20s | LT2000 | Fair | No  |\n| 29 | female | 20s | GE2000 | Good | No  |\n| 30 | male   | 30s | GE2000 | Fair | Yes |\n| 31 | female | 30s | GE2000 | Good | Yes |\n| 32 | female | 20s | LT2000 | Fair | No  |\n| 33 | male   | 30s | GE2000 | Fair | No  |\n| 34 | male   | 30s | LT2000 | Fair | Yes |\n| 35 | female | 30s | GE2000 | Good | Yes |\n| 36 | female | 30s | GE2000 | Fair | No  |\n| 37 | female | 20s | GE2000 | Bad  | No  |\n| 38 | male   | 20s | GE2000 | Bad  | No  |\n| 39 | male   | 30s | GE2000 | Good | Yes |\n| 40 | male   | 20s | LT2000 | Fair | No  |\n\n",
            "text/latex": "A data.frame: 40 × 6\n\\begin{tabular}{llllll}\n id & Gender & Age & Income & Credit & Purchase\\\\\n <int> & <fct> & <fct> & <fct> & <fct> & <fct>\\\\\n\\hline\n\t  1 & male   & 20s & LT2000 & Fair & Yes\\\\\n\t  2 & female & 30s & GE2000 & Good & No \\\\\n\t  3 & female & 20s & GE2000 & Fair & No \\\\\n\t  4 & female & 20s & GE2000 & Fair & Yes\\\\\n\t  5 & female & 20s & LT2000 & Bad  & No \\\\\n\t  6 & female & 30s & GE2000 & Fair & No \\\\\n\t  7 & female & 30s & GE2000 & Good & Yes\\\\\n\t  8 & male   & 20s & LT2000 & Fair & No \\\\\n\t  9 & female & 20s & GE2000 & Good & No \\\\\n\t 10 & male   & 30s & GE2000 & Fair & Yes\\\\\n\t 11 & female & 30s & GE2000 & Good & Yes\\\\\n\t 12 & female & 20s & LT2000 & Fair & No \\\\\n\t 13 & male   & 30s & GE2000 & Fair & No \\\\\n\t 14 & male   & 30s & LT2000 & Fair & Yes\\\\\n\t 15 & female & 30s & GE2000 & Good & Yes\\\\\n\t 16 & female & 30s & GE2000 & Fair & No \\\\\n\t 17 & female & 20s & GE2000 & Bad  & No \\\\\n\t 18 & male   & 20s & GE2000 & Bad  & No \\\\\n\t 19 & male   & 30s & GE2000 & Good & Yes\\\\\n\t 20 & male   & 20s & LT2000 & Fair & No \\\\\n\t 21 & male   & 20s & LT2000 & Fair & Yes\\\\\n\t 22 & female & 30s & GE2000 & Good & No \\\\\n\t 23 & female & 20s & GE2000 & Fair & No \\\\\n\t 24 & female & 20s & GE2000 & Fair & Yes\\\\\n\t 25 & female & 20s & LT2000 & Bad  & No \\\\\n\t 26 & female & 30s & GE2000 & Fair & No \\\\\n\t 27 & female & 30s & GE2000 & Good & Yes\\\\\n\t 28 & male   & 20s & LT2000 & Fair & No \\\\\n\t 29 & female & 20s & GE2000 & Good & No \\\\\n\t 30 & male   & 30s & GE2000 & Fair & Yes\\\\\n\t 31 & female & 30s & GE2000 & Good & Yes\\\\\n\t 32 & female & 20s & LT2000 & Fair & No \\\\\n\t 33 & male   & 30s & GE2000 & Fair & No \\\\\n\t 34 & male   & 30s & LT2000 & Fair & Yes\\\\\n\t 35 & female & 30s & GE2000 & Good & Yes\\\\\n\t 36 & female & 30s & GE2000 & Fair & No \\\\\n\t 37 & female & 20s & GE2000 & Bad  & No \\\\\n\t 38 & male   & 20s & GE2000 & Bad  & No \\\\\n\t 39 & male   & 30s & GE2000 & Good & Yes\\\\\n\t 40 & male   & 20s & LT2000 & Fair & No \\\\\n\\end{tabular}\n",
            "text/plain": [
              "   id Gender Age Income Credit Purchase\n",
              "1   1 male   20s LT2000 Fair   Yes     \n",
              "2   2 female 30s GE2000 Good   No      \n",
              "3   3 female 20s GE2000 Fair   No      \n",
              "4   4 female 20s GE2000 Fair   Yes     \n",
              "5   5 female 20s LT2000 Bad    No      \n",
              "6   6 female 30s GE2000 Fair   No      \n",
              "7   7 female 30s GE2000 Good   Yes     \n",
              "8   8 male   20s LT2000 Fair   No      \n",
              "9   9 female 20s GE2000 Good   No      \n",
              "10 10 male   30s GE2000 Fair   Yes     \n",
              "11 11 female 30s GE2000 Good   Yes     \n",
              "12 12 female 20s LT2000 Fair   No      \n",
              "13 13 male   30s GE2000 Fair   No      \n",
              "14 14 male   30s LT2000 Fair   Yes     \n",
              "15 15 female 30s GE2000 Good   Yes     \n",
              "16 16 female 30s GE2000 Fair   No      \n",
              "17 17 female 20s GE2000 Bad    No      \n",
              "18 18 male   20s GE2000 Bad    No      \n",
              "19 19 male   30s GE2000 Good   Yes     \n",
              "20 20 male   20s LT2000 Fair   No      \n",
              "21 21 male   20s LT2000 Fair   Yes     \n",
              "22 22 female 30s GE2000 Good   No      \n",
              "23 23 female 20s GE2000 Fair   No      \n",
              "24 24 female 20s GE2000 Fair   Yes     \n",
              "25 25 female 20s LT2000 Bad    No      \n",
              "26 26 female 30s GE2000 Fair   No      \n",
              "27 27 female 30s GE2000 Good   Yes     \n",
              "28 28 male   20s LT2000 Fair   No      \n",
              "29 29 female 20s GE2000 Good   No      \n",
              "30 30 male   30s GE2000 Fair   Yes     \n",
              "31 31 female 30s GE2000 Good   Yes     \n",
              "32 32 female 20s LT2000 Fair   No      \n",
              "33 33 male   30s GE2000 Fair   No      \n",
              "34 34 male   30s LT2000 Fair   Yes     \n",
              "35 35 female 30s GE2000 Good   Yes     \n",
              "36 36 female 30s GE2000 Fair   No      \n",
              "37 37 female 20s GE2000 Bad    No      \n",
              "38 38 male   20s GE2000 Bad    No      \n",
              "39 39 male   30s GE2000 Good   Yes     \n",
              "40 40 male   20s LT2000 Fair   No      "
            ]
          },
          "metadata": {}
        }
      ]
    },
    {
      "cell_type": "code",
      "source": [
        "attach(card)"
      ],
      "metadata": {
        "id": "BofM8hlQYV84"
      },
      "execution_count": null,
      "outputs": []
    },
    {
      "cell_type": "code",
      "source": [
        "install.packages('rpart')"
      ],
      "metadata": {
        "colab": {
          "base_uri": "https://localhost:8080/"
        },
        "id": "RDyfckNExYKu",
        "outputId": "34e35a7c-a3dd-477b-d4db-2e88493ae70f"
      },
      "execution_count": null,
      "outputs": [
        {
          "output_type": "stream",
          "name": "stderr",
          "text": [
            "Installing package into ‘/usr/local/lib/R/site-library’\n",
            "(as ‘lib’ is unspecified)\n",
            "\n"
          ]
        }
      ]
    },
    {
      "cell_type": "code",
      "source": [
        "library(rpart)\n",
        "fit <- rpart(Purchase ~ Gender + Age + Income + Credit, data = card)\n",
        "fit"
      ],
      "metadata": {
        "colab": {
          "base_uri": "https://localhost:8080/",
          "height": 191
        },
        "id": "mn51jMwAxb9b",
        "outputId": "eb17c3aa-f2b7-4821-d6d9-0e0bcf62f26c"
      },
      "execution_count": null,
      "outputs": [
        {
          "output_type": "display_data",
          "data": {
            "text/plain": [
              "n= 40 \n",
              "\n",
              "node), split, n, loss, yval, (yprob)\n",
              "      * denotes terminal node\n",
              "\n",
              "1) root 40 16 No (0.6000000 0.4000000)  \n",
              "  2) Age=20s 20  4 No (0.8000000 0.2000000) *\n",
              "  3) Age=30s 20  8 Yes (0.4000000 0.6000000)  \n",
              "    6) Credit=Fair 10  4 No (0.6000000 0.4000000) *\n",
              "    7) Credit=Good 10  2 Yes (0.2000000 0.8000000) *"
            ]
          },
          "metadata": {}
        }
      ]
    },
    {
      "cell_type": "code",
      "source": [
        "fit2 <- rpart(Purchase ~ Gender + Age + Income + Credit, data = card, control = rpart.control(minsplit = 6))\n",
        "fit2"
      ],
      "metadata": {
        "colab": {
          "base_uri": "https://localhost:8080/",
          "height": 225
        },
        "id": "bCz5QyiZxnDG",
        "outputId": "8af85e4b-a045-4b48-cef4-5e97aa115cdc"
      },
      "execution_count": null,
      "outputs": [
        {
          "output_type": "display_data",
          "data": {
            "text/plain": [
              "n= 40 \n",
              "\n",
              "node), split, n, loss, yval, (yprob)\n",
              "      * denotes terminal node\n",
              "\n",
              " 1) root 40 16 No (0.6000000 0.4000000)  \n",
              "   2) Age=20s 20  4 No (0.8000000 0.2000000) *\n",
              "   3) Age=30s 20  8 Yes (0.4000000 0.6000000)  \n",
              "     6) Credit=Fair 10  4 No (0.6000000 0.4000000)  \n",
              "      12) Gender=female 4  0 No (1.0000000 0.0000000) *\n",
              "      13) Gender=male 6  2 Yes (0.3333333 0.6666667) *\n",
              "     7) Credit=Good 10  2 Yes (0.2000000 0.8000000) *"
            ]
          },
          "metadata": {}
        }
      ]
    },
    {
      "cell_type": "code",
      "source": [
        "plot(fit2,compress=T,uniform=T,margin=0.1)\n",
        "text(fit2,use.n=T,col='blue')"
      ],
      "metadata": {
        "colab": {
          "base_uri": "https://localhost:8080/",
          "height": 437
        },
        "id": "EeZcxrVdxuQf",
        "outputId": "c1d0c02a-4ea8-4dc3-e98d-04c2c33d2b9a"
      },
      "execution_count": null,
      "outputs": [
        {
          "output_type": "display_data",
          "data": {
            "text/plain": [
              "plot without title"
            ],
            "image/png": "[encoded data removed]"
          },
          "metadata": {
            "image/png": {
              "width": 420,
              "height": 420
            }
          }
        }
      ]
    }
  ]
}