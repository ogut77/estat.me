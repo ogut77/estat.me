{
  "nbformat": 4,
  "nbformat_minor": 0,
  "metadata": {
    "colab": {
      "provenance": [],
      "name": "Chapter7.5.3.R.ipynb",
      "authorship_tag": "ABX9TyNYGIBQW7o4EGOWMT2vVccD",
      "include_colab_link": true
    },
    "kernelspec": {
      "name": "ir",
      "display_name": "R"
    },
    "language_info": {
      "name": "R"
    }
  },
  "cells": [
    {
      "cell_type": "markdown",
      "metadata": {
        "id": "view-in-github",
        "colab_type": "text"
      },
      "source": [
        "<a href=\"https://colab.research.google.com/github/ogut77/estat.me/blob/main/Chapter7_5_3_R.ipynb\" target=\"_parent\"><img src=\"https://colab.research.google.com/assets/colab-badge.svg\" alt=\"Open In Colab\"/></a>"
      ]
    },
    {
      "cell_type": "code",
      "source": [
        "install.packages('e1071')\n",
        "library(e1071)\n",
        "library(readr)\n",
        "svmdata <- read.csv('https://raw.githubusercontent.com/ogut77/DataScience/refs/heads/main/svmdata.csv', header=T, as.is=FALSE)\n",
        "attach(svmdata)\n",
        "svmdata"
      ],
      "metadata": {
        "colab": {
          "base_uri": "https://localhost:8080/",
          "height": 458
        },
        "id": "unXSaH3r35D4",
        "outputId": "ccbd3225-99cc-4e42-dc47-c94a35a06294"
      },
      "execution_count": null,
      "outputs": [
        {
          "output_type": "stream",
          "name": "stderr",
          "text": [
            "Installing package into ‘/usr/local/lib/R/site-library’\n",
            "(as ‘lib’ is unspecified)\n",
            "\n",
            "also installing the dependency ‘proxy’\n",
            "\n",
            "\n"
          ]
        },
        {
          "output_type": "display_data",
          "data": {
            "text/html": [
              "<table class=\"dataframe\">\n",
              "<caption>A data.frame: 8 × 3</caption>\n",
              "<thead>\n",
              "\t<tr><th scope=col>x1</th><th scope=col>x2</th><th scope=col>y</th></tr>\n",
              "\t<tr><th scope=col>&lt;int&gt;</th><th scope=col>&lt;int&gt;</th><th scope=col>&lt;int&gt;</th></tr>\n",
              "</thead>\n",
              "<tbody>\n",
              "\t<tr><td>25</td><td>150</td><td>-1</td></tr>\n",
              "\t<tr><td>34</td><td>220</td><td> 1</td></tr>\n",
              "\t<tr><td>26</td><td>210</td><td>-1</td></tr>\n",
              "\t<tr><td>28</td><td>250</td><td> 1</td></tr>\n",
              "\t<tr><td>21</td><td>100</td><td>-1</td></tr>\n",
              "\t<tr><td>31</td><td>220</td><td> 1</td></tr>\n",
              "\t<tr><td>36</td><td>300</td><td> 1</td></tr>\n",
              "\t<tr><td>20</td><td>100</td><td>-1</td></tr>\n",
              "</tbody>\n",
              "</table>\n"
            ],
            "text/markdown": "\nA data.frame: 8 × 3\n\n| x1 &lt;int&gt; | x2 &lt;int&gt; | y &lt;int&gt; |\n|---|---|---|\n| 25 | 150 | -1 |\n| 34 | 220 |  1 |\n| 26 | 210 | -1 |\n| 28 | 250 |  1 |\n| 21 | 100 | -1 |\n| 31 | 220 |  1 |\n| 36 | 300 |  1 |\n| 20 | 100 | -1 |\n\n",
            "text/latex": "A data.frame: 8 × 3\n\\begin{tabular}{lll}\n x1 & x2 & y\\\\\n <int> & <int> & <int>\\\\\n\\hline\n\t 25 & 150 & -1\\\\\n\t 34 & 220 &  1\\\\\n\t 26 & 210 & -1\\\\\n\t 28 & 250 &  1\\\\\n\t 21 & 100 & -1\\\\\n\t 31 & 220 &  1\\\\\n\t 36 & 300 &  1\\\\\n\t 20 & 100 & -1\\\\\n\\end{tabular}\n",
            "text/plain": [
              "  x1 x2  y \n",
              "1 25 150 -1\n",
              "2 34 220  1\n",
              "3 26 210 -1\n",
              "4 28 250  1\n",
              "5 21 100 -1\n",
              "6 31 220  1\n",
              "7 36 300  1\n",
              "8 20 100 -1"
            ]
          },
          "metadata": {}
        }
      ]
    },
    {
      "cell_type": "code",
      "source": [
        "# create a training data using the 8 data.\n",
        "train <- svmdata[1:8,]\n",
        "# create a testing data using the same 8 data\n",
        "test <- svmdata[1:8,]"
      ],
      "metadata": {
        "id": "PeBxjifu4KsG"
      },
      "execution_count": null,
      "outputs": []
    },
    {
      "cell_type": "code",
      "source": [
        "train.svm = svm(y~x1+x2,type=\"C-classification\", data=train)\n",
        "train.svm"
      ],
      "metadata": {
        "colab": {
          "base_uri": "https://localhost:8080/",
          "height": 208
        },
        "id": "kxrIzreF4QcD",
        "outputId": "bd0873b8-42fc-4339-96fe-66857efca200"
      },
      "execution_count": null,
      "outputs": [
        {
          "output_type": "display_data",
          "data": {
            "text/plain": [
              "\n",
              "Call:\n",
              "svm(formula = y ~ x1 + x2, data = train, type = \"C-classification\")\n",
              "\n",
              "\n",
              "Parameters:\n",
              "   SVM-Type:  C-classification \n",
              " SVM-Kernel:  radial \n",
              "       cost:  1 \n",
              "\n",
              "Number of Support Vectors:  6\n"
            ]
          },
          "metadata": {}
        }
      ]
    },
    {
      "cell_type": "code",
      "source": [
        "svmpred = predict(train.svm,test)\n",
        "svmpred"
      ],
      "metadata": {
        "colab": {
          "base_uri": "https://localhost:8080/",
          "height": 52
        },
        "id": "Kpp7TQw24Vlz",
        "outputId": "c655bf00-afa2-4320-d3d2-3cd5bfde9181"
      },
      "execution_count": null,
      "outputs": [
        {
          "output_type": "display_data",
          "data": {
            "text/html": [
              "<style>\n",
              ".dl-inline {width: auto; margin:0; padding: 0}\n",
              ".dl-inline>dt, .dl-inline>dd {float: none; width: auto; display: inline-block}\n",
              ".dl-inline>dt::after {content: \":\\0020\"; padding-right: .5ex}\n",
              ".dl-inline>dt:not(:first-of-type) {padding-left: .5ex}\n",
              "</style><dl class=dl-inline><dt>1</dt><dd>-1</dd><dt>2</dt><dd>1</dd><dt>3</dt><dd>-1</dd><dt>4</dt><dd>1</dd><dt>5</dt><dd>-1</dd><dt>6</dt><dd>1</dd><dt>7</dt><dd>1</dd><dt>8</dt><dd>-1</dd></dl>\n",
              "\n",
              "<details>\n",
              "\t<summary style=display:list-item;cursor:pointer>\n",
              "\t\t<strong>Levels</strong>:\n",
              "\t</summary>\n",
              "\t<style>\n",
              "\t.list-inline {list-style: none; margin:0; padding: 0}\n",
              "\t.list-inline>li {display: inline-block}\n",
              "\t.list-inline>li:not(:last-child)::after {content: \"\\00b7\"; padding: 0 .5ex}\n",
              "\t</style>\n",
              "\t<ol class=list-inline><li>'-1'</li><li>'1'</li></ol>\n",
              "</details>"
            ],
            "text/markdown": "1\n:   -12\n:   13\n:   -14\n:   15\n:   -16\n:   17\n:   18\n:   -1\n\n\n**Levels**: 1. '-1'\n2. '1'\n\n\n",
            "text/latex": "\\begin{description*}\n\\item[1] -1\n\\item[2] 1\n\\item[3] -1\n\\item[4] 1\n\\item[5] -1\n\\item[6] 1\n\\item[7] 1\n\\item[8] -1\n\\end{description*}\n\n\\emph{Levels}: \\begin{enumerate*}\n\\item '-1'\n\\item '1'\n\\end{enumerate*}\n",
            "text/plain": [
              " 1  2  3  4  5  6  7  8 \n",
              "-1  1 -1  1 -1  1  1 -1 \n",
              "Levels: -1 1"
            ]
          },
          "metadata": {}
        }
      ]
    },
    {
      "cell_type": "code",
      "source": [
        "z = table(svmpred,y)\n",
        "z"
      ],
      "metadata": {
        "colab": {
          "base_uri": "https://localhost:8080/",
          "height": 86
        },
        "id": "GTIH7xfB4Xy-",
        "outputId": "1d104f89-4ac6-4b47-fac5-448d5f6ea5c4"
      },
      "execution_count": null,
      "outputs": [
        {
          "output_type": "display_data",
          "data": {
            "text/plain": [
              "       y\n",
              "svmpred -1 1\n",
              "     -1  4 0\n",
              "     1   0 4"
            ]
          },
          "metadata": {}
        }
      ]
    },
    {
      "cell_type": "code",
      "source": [
        "plot(x1,x2,pch=y)\n",
        "abline(500,-10)"
      ],
      "metadata": {
        "colab": {
          "base_uri": "https://localhost:8080/",
          "height": 715
        },
        "id": "bVoCh5_s4mAd",
        "outputId": "d6380382-0e4c-449a-e118-3550664ef255"
      },
      "execution_count": null,
      "outputs": [
        {
          "output_type": "stream",
          "name": "stderr",
          "text": [
            "Warning message in plot.xy(xy, type, ...):\n",
            "“font width unknown for character 0x01 in encoding latin1”\n",
            "Warning message in plot.xy(xy, type, ...):\n",
            "“font metrics unknown for character 0x01 in encoding latin1”\n",
            "Warning message in plot.xy(xy, type, ...):\n",
            "“font width unknown for character 0x01 in encoding latin1”\n",
            "Warning message in plot.xy(xy, type, ...):\n",
            "“font metrics unknown for character 0x01 in encoding latin1”\n",
            "Warning message in plot.xy(xy, type, ...):\n",
            "“font width unknown for character 0x01 in encoding latin1”\n",
            "Warning message in plot.xy(xy, type, ...):\n",
            "“font metrics unknown for character 0x01 in encoding latin1”\n",
            "Warning message in plot.xy(xy, type, ...):\n",
            "“font width unknown for character 0x01 in encoding latin1”\n",
            "Warning message in plot.xy(xy, type, ...):\n",
            "“font metrics unknown for character 0x01 in encoding latin1”\n"
          ]
        },
        {
          "output_type": "display_data",
          "data": {
            "text/plain": [
              "plot without title"
            ],
            "image/png": "[encoded data removed]"
          },
          "metadata": {
            "image/png": {
              "width": 420,
              "height": 420
            }
          }
        }
      ]
    }
  ]
}