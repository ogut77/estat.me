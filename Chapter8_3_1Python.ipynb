{
  "nbformat": 4,
  "nbformat_minor": 0,
  "metadata": {
    "colab": {
      "provenance": [],
      "name": "Chapter8.3.1Python.ipynb",
      "authorship_tag": "ABX9TyP5gaKwS8YizS3Nq7TLJBWu",
      "include_colab_link": true
    },
    "kernelspec": {
      "name": "python3",
      "display_name": "Python 3"
    },
    "language_info": {
      "name": "python"
    }
  },
  "cells": [
    {
      "cell_type": "markdown",
      "metadata": {
        "id": "view-in-github",
        "colab_type": "text"
      },
      "source": [
        "<a href=\"https://colab.research.google.com/github/ogut77/estat.me/blob/main/Chapter8_3_1Python.ipynb\" target=\"_parent\"><img src=\"https://colab.research.google.com/assets/colab-badge.svg\" alt=\"Open In Colab\"/></a>"
      ]
    },
    {
      "cell_type": "markdown",
      "source": [
        "K-Means"
      ],
      "metadata": {
        "id": "TnvLbBxf2iCn"
      }
    },
    {
      "cell_type": "code",
      "source": [
        "import pandas as pd\n",
        "import numpy as np\n",
        "from sklearn.datasets import load_iris\n",
        "from sklearn.cluster import KMeans\n",
        "\n",
        "# Load iris dataset\n",
        "iris = load_iris()\n",
        "iris_df = pd.DataFrame(data=iris.data, columns=iris.feature_names)\n",
        "iris_df['Species'] = pd.Categorical.from_codes(iris.target, iris.target_names)\n",
        "\n",
        "# Select the four features (Sepal Length, Sepal Width, Petal Length, Petal Width)\n",
        "iris4 = iris_df.iloc[:, [0, 1, 2, 3]]\n",
        "\n",
        "# Perform k-means clustering\n",
        "kmeans = KMeans(n_clusters=3, max_iter=1000, random_state=123)\n",
        "iriskmeans = kmeans.fit(iris4)\n",
        "\n",
        "# Get cluster assignments\n",
        "cluster_labels = iriskmeans.labels_\n",
        "\n",
        "# Print k-means results\n",
        "print(\"K-means clustering results:\")\n",
        "print(f\"Cluster centers:\\n{iriskmeans.cluster_centers_}\")\n",
        "print(f\"Cluster assignments:\\n{cluster_labels}\")\n",
        "\n",
        "# Create classification table (cross-tabulation of Species and clusters)\n",
        "classtable = pd.crosstab(iris_df['Species'], cluster_labels,\n",
        "                        rownames=['Species'], colnames=['Cluster'])\n",
        "print(\"\\nClassification table:\")\n",
        "print(classtable)"
      ],
      "metadata": {
        "colab": {
          "base_uri": "https://localhost:8080/"
        },
        "id": "hC_I9YGM2mJT",
        "outputId": "04cd4c4d-a9fe-497a-9805-d4bb19a9f70d"
      },
      "execution_count": null,
      "outputs": [
        {
          "output_type": "stream",
          "name": "stdout",
          "text": [
            "K-means clustering results:\n",
            "Cluster centers:\n",
            "[[6.85       3.07368421 5.74210526 2.07105263]\n",
            " [5.006      3.428      1.462      0.246     ]\n",
            " [5.9016129  2.7483871  4.39354839 1.43387097]]\n",
            "Cluster assignments:\n",
            "[1 1 1 1 1 1 1 1 1 1 1 1 1 1 1 1 1 1 1 1 1 1 1 1 1 1 1 1 1 1 1 1 1 1 1 1 1\n",
            " 1 1 1 1 1 1 1 1 1 1 1 1 1 2 2 0 2 2 2 2 2 2 2 2 2 2 2 2 2 2 2 2 2 2 2 2 2\n",
            " 2 2 2 0 2 2 2 2 2 2 2 2 2 2 2 2 2 2 2 2 2 2 2 2 2 2 0 2 0 0 0 0 2 0 0 0 0\n",
            " 0 0 2 2 0 0 0 0 2 0 2 0 2 0 0 2 2 0 0 0 0 0 2 0 0 0 0 2 0 0 0 2 0 0 0 2 0\n",
            " 0 2]\n",
            "\n",
            "Classification table:\n",
            "Cluster      0   1   2\n",
            "Species               \n",
            "setosa       0  50   0\n",
            "versicolor   2   0  48\n",
            "virginica   36   0  14\n"
          ]
        }
      ]
    }
  ]
}