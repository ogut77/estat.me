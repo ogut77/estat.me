{
  "nbformat": 4,
  "nbformat_minor": 0,
  "metadata": {
    "colab": {
      "provenance": [],
      "name": "Chapter7.3.1.Python.ipynb",
      "authorship_tag": "ABX9TyN4a0SzlZof8GnZ45Mtw2ET",
      "include_colab_link": true
    },
    "kernelspec": {
      "name": "python3",
      "display_name": "Python 3"
    },
    "language_info": {
      "name": "python"
    }
  },
  "cells": [
    {
      "cell_type": "markdown",
      "metadata": {
        "id": "view-in-github",
        "colab_type": "text"
      },
      "source": [
        "<a href=\"https://colab.research.google.com/github/ogut77/estat.me/blob/main/Chapter7_3_1_Python.ipynb\" target=\"_parent\"><img src=\"https://colab.research.google.com/assets/colab-badge.svg\" alt=\"Open In Colab\"/></a>"
      ]
    },
    {
      "cell_type": "markdown",
      "source": [
        "KNN"
      ],
      "metadata": {
        "id": "TYsQ7nN_W6aj"
      }
    },
    {
      "cell_type": "code",
      "source": [
        "\n",
        "\n",
        "import pandas as pd\n",
        "from sklearn.metrics import accuracy_score, confusion_matrix\n",
        "from sklearn.neighbors import KNeighborsClassifier\n",
        "\n",
        "customer = pd.read_csv('https://raw.githubusercontent.com/ogut77/DataScience/refs/heads/main/PurchaseByCredit20_Continuous.csv')"
      ],
      "metadata": {
        "id": "vDHMALfCW9HX"
      },
      "execution_count": null,
      "outputs": []
    },
    {
      "cell_type": "code",
      "source": [
        "# Separate features (X) and target variable (y)\n",
        "X = customer.drop('Purchase', axis=1)\n",
        "y = customer['Purchase']\n",
        "\n",
        "\n",
        "# Initialize and train the KNN model\n",
        "knn = KNeighborsClassifier(n_neighbors=5) # You can adjust the number of neighbors\n",
        "knn.fit(X, y)\n",
        "\n",
        "# Make predictions on the test set\n",
        "y_pred = knn.predict(X)\n"
      ],
      "metadata": {
        "id": "evhjnH0V4KVo"
      },
      "execution_count": null,
      "outputs": []
    },
    {
      "cell_type": "code",
      "source": [
        "\n",
        "# Evaluate the model\n",
        "accuracy = accuracy_score(y, y_pred)\n",
        "cm = confusion_matrix(y, y_pred)\n",
        "\n",
        "print(f\"KNN Accuracy: {accuracy}\")\n",
        "print(f\"KNN Confusion Matrix:\\n{cm}\")"
      ],
      "metadata": {
        "id": "_UsntqKd4M6d"
      },
      "execution_count": null,
      "outputs": []
    }
  ]
}