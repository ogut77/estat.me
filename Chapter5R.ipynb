{
  "nbformat": 4,
  "nbformat_minor": 0,
  "metadata": {
    "colab": {
      "provenance": [],
      "name": "Chapter5R.ipynb",
      "authorship_tag": "ABX9TyOQXII+4DP3ippit7S/dOau",
      "include_colab_link": true
    },
    "kernelspec": {
      "name": "ir",
      "display_name": "R"
    },
    "language_info": {
      "name": "R"
    }
  },
  "cells": [
    {
      "cell_type": "markdown",
      "metadata": {
        "id": "view-in-github",
        "colab_type": "text"
      },
      "source": [
        "<a href=\"https://colab.research.google.com/github/ogut77/estat.me/blob/main/Chapter5R.ipynb\" target=\"_parent\"><img src=\"https://colab.research.google.com/assets/colab-badge.svg\" alt=\"Open In Colab\"/></a>"
      ]
    },
    {
      "cell_type": "code",
      "source": [
        "# Example 5.2.1 Testing hypothesis for a population mean with known population standard deviation.\n",
        "# Enter mu_0, n, xbar, and population standard deviation, then calculate test statistic and p-value.\n",
        "mu0 <- 1500\n",
        "n <- 30\n",
        "xbar <- 1555\n",
        "sigma <- 200\n",
        "teststat <- (xbar - mu0) / (sigma / sqrt(n))\n",
        "teststat\n",
        "pvalue <- pnorm(teststat,0,1,lower.tail = FALSE)\n",
        "pvalue\n",
        "# Since p-value is greater than the significance level 5%, we cannot reject the null hypothesis."
      ],
      "metadata": {
        "colab": {
          "base_uri": "https://localhost:8080/",
          "height": 52
        },
        "id": "5l_jucOAC7_H",
        "outputId": "3e07eb9a-7797-4ae1-bdab-244977c4c921"
      },
      "execution_count": null,
      "outputs": [
        {
          "output_type": "display_data",
          "data": {
            "text/html": [
              "1.50623703313921"
            ],
            "text/markdown": "1.50623703313921",
            "text/latex": "1.50623703313921",
            "text/plain": [
              "[1] 1.506237"
            ]
          },
          "metadata": {}
        },
        {
          "output_type": "display_data",
          "data": {
            "text/html": [
              "0.0660031679091838"
            ],
            "text/markdown": "0.0660031679091838",
            "text/latex": "0.0660031679091838",
            "text/plain": [
              "[1] 0.06600317"
            ]
          },
          "metadata": {}
        }
      ]
    },
    {
      "cell_type": "code",
      "source": [
        "# Example 5.2.2 Testing hypothesis for a population mean with unknown population standard deviation.\n",
        "# Enter mu_0, n, xbar, and sample standard deviation, then calculate test statistic and p-value.\n",
        "mu0 <- 250\n",
        "n <- 16\n",
        "xbar <- 253\n",
        "s <- 10\n",
        "teststat <- (xbar - mu0) / (s / sqrt(n))\n",
        "teststat\n",
        "\n",
        "pvalue <- pt(teststat, n-1, lower.tail = FALSE)\n",
        "pvalue"
      ],
      "metadata": {
        "colab": {
          "base_uri": "https://localhost:8080/",
          "height": 52
        },
        "id": "_kuPdbgOEQXT",
        "outputId": "5f3cae8b-9917-4bd3-e7e0-4b5d24729ae7"
      },
      "execution_count": null,
      "outputs": [
        {
          "output_type": "display_data",
          "data": {
            "text/html": [
              "1.2"
            ],
            "text/markdown": "1.2",
            "text/latex": "1.2",
            "text/plain": [
              "[1] 1.2"
            ]
          },
          "metadata": {}
        },
        {
          "output_type": "display_data",
          "data": {
            "text/html": [
              "0.124374893694011"
            ],
            "text/markdown": "0.124374893694011",
            "text/latex": "0.124374893694011",
            "text/plain": [
              "[1] 0.1243749"
            ]
          },
          "metadata": {}
        }
      ]
    },
    {
      "cell_type": "code",
      "source": [
        "\n",
        "# Example 5.3.1 Testing hypothesis for two populations means when population variances are equal.\n",
        "# Enter n1, n2, xbar1, xbar2, s1, and s2, then calculate the pooled variance, test statistic and p-value.\n",
        "n1 <- 15\n",
        "n2 <- 14\n",
        "xbar1 <- 275\n",
        "xbar2 <- 269\n",
        "s1 <- 12\n",
        "s2 <- 10\n",
        "pooledvar <- ((n1-1)*s1^2 + (n2-1)*s2^2) / (n1+n2-2)\n",
        "pooledvar\n",
        "\n",
        "teststat <- (xbar1 - xbar2) / sqrt(pooledvar/n1 + pooledvar/n2)\n",
        "teststat\n",
        "\n",
        "pvalue <- 2 * pt(teststat, n1+n2-2, lower.tail = FALSE)\n",
        "pvalue"
      ],
      "metadata": {
        "colab": {
          "base_uri": "https://localhost:8080/",
          "height": 69
        },
        "id": "wTok4CN2FmBo",
        "outputId": "e2fb173d-8fb0-4308-9a02-68ab306e49e3"
      },
      "execution_count": null,
      "outputs": [
        {
          "output_type": "display_data",
          "data": {
            "text/html": [
              "122.814814814815"
            ],
            "text/markdown": "122.814814814815",
            "text/latex": "122.814814814815",
            "text/plain": [
              "[1] 122.8148"
            ]
          },
          "metadata": {}
        },
        {
          "output_type": "display_data",
          "data": {
            "text/html": [
              "1.45692273333947"
            ],
            "text/markdown": "1.45692273333947",
            "text/latex": "1.45692273333947",
            "text/plain": [
              "[1] 1.456923"
            ]
          },
          "metadata": {}
        },
        {
          "output_type": "display_data",
          "data": {
            "text/html": [
              "0.156670272330495"
            ],
            "text/markdown": "0.156670272330495",
            "text/latex": "0.156670272330495",
            "text/plain": [
              "[1] 0.1566703"
            ]
          },
          "metadata": {}
        }
      ]
    },
    {
      "cell_type": "code",
      "source": [
        "\n",
        "# Example 5.4.1 Testing hypothesis for several populations means; one-way ANOVA.\n",
        "# Enter data and change the level as a factor (as.factor()).\n",
        "y <- c(81,75,69,90,72,83, 65,80,73,79,81,69, 72,67,62,76,80, 89,94,79,88)\n",
        "f <- c(rep(1,6), rep(2,6), rep(3,5), rep(4,4))\n",
        "af <- as.factor(f)\n",
        "ymean <- tapply(y, af, mean)\n",
        "ymean"
      ],
      "metadata": {
        "colab": {
          "base_uri": "https://localhost:8080/",
          "height": 34
        },
        "id": "MTJjb541GKOD",
        "outputId": "e07c22bb-73ae-4ac3-8c20-6aa0143fb926"
      },
      "execution_count": null,
      "outputs": [
        {
          "output_type": "display_data",
          "data": {
            "text/html": [
              "<style>\n",
              ".dl-inline {width: auto; margin:0; padding: 0}\n",
              ".dl-inline>dt, .dl-inline>dd {float: none; width: auto; display: inline-block}\n",
              ".dl-inline>dt::after {content: \":\\0020\"; padding-right: .5ex}\n",
              ".dl-inline>dt:not(:first-of-type) {padding-left: .5ex}\n",
              "</style><dl class=dl-inline><dt>1</dt><dd>78.3333333333333</dd><dt>2</dt><dd>74.5</dd><dt>3</dt><dd>71.4</dd><dt>4</dt><dd>87.5</dd></dl>\n"
            ],
            "text/markdown": "1\n:   78.33333333333332\n:   74.53\n:   71.44\n:   87.5\n\n",
            "text/latex": "\\begin{description*}\n\\item[1] 78.3333333333333\n\\item[2] 74.5\n\\item[3] 71.4\n\\item[4] 87.5\n\\end{description*}\n",
            "text/plain": [
              "       1        2        3        4 \n",
              "78.33333 74.50000 71.40000 87.50000 "
            ]
          },
          "metadata": {}
        }
      ]
    },
    {
      "cell_type": "code",
      "source": [
        "boxplot(y ~ af)"
      ],
      "metadata": {
        "colab": {
          "base_uri": "https://localhost:8080/",
          "height": 437
        },
        "id": "AXKxuix-GaAC",
        "outputId": "329ee1d8-5bd5-4ab0-9c3c-a207e89e841f"
      },
      "execution_count": null,
      "outputs": [
        {
          "output_type": "display_data",
          "data": {
            "text/plain": [
              "plot without title"
            ],
            "image/png": "[encoded data removed]"
          },
          "metadata": {
            "image/png": {
              "width": 420,
              "height": 420
            }
          }
        }
      ]
    },
    {
      "cell_type": "code",
      "source": [
        "an1 <- aov(y ~ af)\n",
        "summary(an1)"
      ],
      "metadata": {
        "colab": {
          "base_uri": "https://localhost:8080/",
          "height": 104
        },
        "id": "fggS66HEGk4t",
        "outputId": "7900bfad-852a-4f85-e56a-fdfa4de86bae"
      },
      "execution_count": null,
      "outputs": [
        {
          "output_type": "display_data",
          "data": {
            "text/plain": [
              "            Df Sum Sq Mean Sq F value Pr(>F)  \n",
              "af           3  643.6  214.54   4.347 0.0191 *\n",
              "Residuals   17  839.0   49.35                 \n",
              "---\n",
              "Signif. codes:  0 ‘***’ 0.001 ‘**’ 0.01 ‘*’ 0.05 ‘.’ 0.1 ‘ ’ 1"
            ]
          },
          "metadata": {}
        }
      ]
    },
    {
      "cell_type": "code",
      "source": [
        "\n",
        "# Example 5.5.1 Regression analysis.\n",
        "# Enter data and change the level as a factor (as.factor()).\n",
        "x <- c(4,6,6,8,8,9,9,10,12,12)\n",
        "y <- c(39,42,45,47,50,50,52,55,57,60)\n",
        "rg <- lm(y ~ x); rg"
      ],
      "metadata": {
        "colab": {
          "base_uri": "https://localhost:8080/",
          "height": 138
        },
        "id": "iW48OFRBGw3J",
        "outputId": "1df6cb0b-7bfb-4f4a-cbf6-7c370979b983"
      },
      "execution_count": null,
      "outputs": [
        {
          "output_type": "display_data",
          "data": {
            "text/plain": [
              "\n",
              "Call:\n",
              "lm(formula = y ~ x)\n",
              "\n",
              "Coefficients:\n",
              "(Intercept)            x  \n",
              "     28.672        2.503  \n"
            ]
          },
          "metadata": {}
        }
      ]
    },
    {
      "cell_type": "code",
      "source": [
        "plot(x, y)\n",
        "abline(rg)\n",
        "summary(rg)"
      ],
      "metadata": {
        "colab": {
          "base_uri": "https://localhost:8080/",
          "height": 749
        },
        "id": "uKRR9RqRG30_",
        "outputId": "16263f98-a693-4dbd-9ba4-3bd7e0b282fb"
      },
      "execution_count": null,
      "outputs": [
        {
          "output_type": "display_data",
          "data": {
            "text/plain": [
              "\n",
              "Call:\n",
              "lm(formula = y ~ x)\n",
              "\n",
              "Residuals:\n",
              "    Min      1Q  Median      3Q     Max \n",
              "-1.7119 -1.5695  0.5563  1.2931  1.3079 \n",
              "\n",
              "Coefficients:\n",
              "            Estimate Std. Error t value Pr(>|t|)    \n",
              "(Intercept)  28.6722     1.6703   17.17 1.35e-07 ***\n",
              "x             2.5033     0.1908   13.12 1.09e-06 ***\n",
              "---\n",
              "Signif. codes:  0 ‘***’ 0.001 ‘**’ 0.01 ‘*’ 0.05 ‘.’ 0.1 ‘ ’ 1\n",
              "\n",
              "Residual standard error: 1.483 on 8 degrees of freedom\n",
              "Multiple R-squared:  0.9556,\tAdjusted R-squared:   0.95 \n",
              "F-statistic: 172.1 on 1 and 8 DF,  p-value: 1.085e-06\n"
            ]
          },
          "metadata": {}
        },
        {
          "output_type": "display_data",
          "data": {
            "text/plain": [
              "plot without title"
            ],
            "image/png": "[encoded data removed]"
          },
          "metadata": {
            "image/png": {
              "width": 420,
              "height": 420
            }
          }
        }
      ]
    },
    {
      "cell_type": "code",
      "source": [
        "# Example 5.5.3 Multiple regression analysis.\n",
        "# Enter data and change the level as a factor (as.factor()).\n",
        "y <- c(0.291,0.291,0.288,0.464,0.532,0.557,0.441,0.515,0.603,0.628,0.956,0.775,0.727,0.704,1.084)\n",
        "x1 <- c(21.0,21.8,22.3,26.6,27.1,27.4,27.9,27.9,29.7,32.7,32.7,33.7,34.7,35.0,40.6)\n",
        "x2 <- c(21.33,19.81,19.20,21.94,24.68,25.29,20.11,22.86,21.03,22.55,25.90,26.21,21.64,19.50,21.94)\n",
        "rg2 <- lm(y ~ x1+x2)\n",
        "rg2\n",
        "summary(rg2)"
      ],
      "metadata": {
        "colab": {
          "base_uri": "https://localhost:8080/",
          "height": 468
        },
        "id": "3cugHXEZHJIY",
        "outputId": "1932c023-6da5-4d35-f303-db5888091d40"
      },
      "execution_count": null,
      "outputs": [
        {
          "output_type": "display_data",
          "data": {
            "text/plain": [
              "\n",
              "Call:\n",
              "lm(formula = y ~ x1 + x2)\n",
              "\n",
              "Coefficients:\n",
              "(Intercept)           x1           x2  \n",
              "   -1.02357      0.03697      0.02366  \n"
            ]
          },
          "metadata": {}
        },
        {
          "output_type": "display_data",
          "data": {
            "text/plain": [
              "\n",
              "Call:\n",
              "lm(formula = y ~ x1 + x2)\n",
              "\n",
              "Residuals:\n",
              "     Min       1Q   Median       3Q      Max \n",
              "-0.09087 -0.03822 -0.02772  0.03320  0.15786 \n",
              "\n",
              "Coefficients:\n",
              "             Estimate Std. Error t value Pr(>|t|)    \n",
              "(Intercept) -1.023572   0.187535  -5.458 0.000146 ***\n",
              "x1           0.036968   0.003491  10.590 1.92e-07 ***\n",
              "x2           0.023663   0.008321   2.844 0.014792 *  \n",
              "---\n",
              "Signif. codes:  0 ‘***’ 0.001 ‘**’ 0.01 ‘*’ 0.05 ‘.’ 0.1 ‘ ’ 1\n",
              "\n",
              "Residual standard error: 0.06947 on 12 degrees of freedom\n",
              "Multiple R-squared:  0.9242,\tAdjusted R-squared:  0.9115 \n",
              "F-statistic: 73.12 on 2 and 12 DF,  p-value: 1.902e-07\n"
            ]
          },
          "metadata": {}
        }
      ]
    }
  ]
}