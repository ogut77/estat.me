{
  "nbformat": 4,
  "nbformat_minor": 0,
  "metadata": {
    "colab": {
      "provenance": [],
      "name": "Chapter7.1.1.Python.ipynb",
      "authorship_tag": "ABX9TyMi8daePBloEBYwaHV/m5g4",
      "include_colab_link": true
    },
    "kernelspec": {
      "name": "python3",
      "display_name": "Python 3"
    },
    "language_info": {
      "name": "python"
    }
  },
  "cells": [
    {
      "cell_type": "markdown",
      "metadata": {
        "id": "view-in-github",
        "colab_type": "text"
      },
      "source": [
        "<a href=\"https://colab.research.google.com/github/ogut77/estat.me/blob/main/Chapter7_1_1_Python.ipynb\" target=\"_parent\"><img src=\"https://colab.research.google.com/assets/colab-badge.svg\" alt=\"Open In Colab\"/></a>"
      ]
    },
    {
      "cell_type": "code",
      "execution_count": null,
      "metadata": {
        "colab": {
          "base_uri": "https://localhost:8080/"
        },
        "id": "j1E-hI3cRtC2",
        "outputId": "66698342-0b77-4eec-a2f4-57b621bc9d65"
      },
      "outputs": [
        {
          "output_type": "stream",
          "name": "stdout",
          "text": [
            "    Age  Income Purchase\n",
            "0    25     150      Yes\n",
            "1    34     220       No\n",
            "2    27     210       No\n",
            "3    28     250      Yes\n",
            "4    21     100       No\n",
            "5    31     220       No\n",
            "6    36     300      Yes\n",
            "7    20     100       No\n",
            "8    29     220       No\n",
            "9    32     250      Yes\n",
            "10   37     400      Yes\n",
            "11   24     120       No\n",
            "12   33     350       No\n",
            "13   30     180      Yes\n",
            "14   38     350      Yes\n",
            "15   32     250       No\n",
            "16   28     240       No\n",
            "17   22     220       No\n",
            "18   39     450      Yes\n",
            "19   26     150       No\n"
          ]
        }
      ],
      "source": [
        "\n",
        "import pandas as pd\n",
        "\n",
        "customer = pd.read_csv('https://raw.githubusercontent.com/ogut77/DataScience/refs/heads/main/PurchaseByCredit20_Continuous.csv')\n",
        "\n"
      ]
    },
    {
      "cell_type": "code",
      "source": [
        "\n",
        "\n",
        "from sklearn.discriminant_analysis import LinearDiscriminantAnalysis\n",
        "\n",
        "# Separate features (X) and target variable (y)\n",
        "X = customer.drop('Purchase', axis=1)\n",
        "y = customer['Purchase']\n",
        "\n",
        "\n",
        "\n",
        "# Initialize and train the Linear Discriminant Analysis model\n",
        "lda = LinearDiscriminantAnalysis()\n",
        "lda.fit(X, y)\n",
        "\n",
        "\n",
        "# Make predictions on the test set\n",
        "y_pred = lda.predict(X)\n",
        "\n",
        "\n",
        "# Evaluate the model (example: accuracy)\n",
        "# You would typically use more comprehensive evaluation metrics\n",
        "# depending on your specific needs.\n",
        "\n",
        "from sklearn.metrics import accuracy_score\n",
        "from sklearn.metrics import confusion_matrix\n",
        "accuracy = accuracy_score(y, y_pred)\n",
        "cm=confusion_matrix(y, y_pred)\n",
        "print(f\"Accuracy: {accuracy}\")\n",
        "print(f\"Confusion Matrix: \\n{cm}\")"
      ],
      "metadata": {
        "colab": {
          "base_uri": "https://localhost:8080/"
        },
        "id": "_iRr9fnVSGbA",
        "outputId": "2832e91d-08c5-4d77-d546-9d5bfded723e"
      },
      "execution_count": null,
      "outputs": [
        {
          "output_type": "stream",
          "name": "stdout",
          "text": [
            "Accuracy: 0.7\n",
            "Confusion Matrix: \n",
            "[[10  2]\n",
            " [ 4  4]]\n"
          ]
        }
      ]
    }
  ]
}