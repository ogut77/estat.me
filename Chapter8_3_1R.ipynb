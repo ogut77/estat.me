{
  "nbformat": 4,
  "nbformat_minor": 0,
  "metadata": {
    "colab": {
      "provenance": [],
      "name": "Chapter8.3.1R.ipynb",
      "authorship_tag": "ABX9TyO7hPe4wDkf3T8dQdBTHs1N",
      "include_colab_link": true
    },
    "kernelspec": {
      "name": "ir",
      "display_name": "R"
    },
    "language_info": {
      "name": "R"
    }
  },
  "cells": [
    {
      "cell_type": "markdown",
      "metadata": {
        "id": "view-in-github",
        "colab_type": "text"
      },
      "source": [
        "<a href=\"https://colab.research.google.com/github/ogut77/estat.me/blob/main/Chapter8_3_1R.ipynb\" target=\"_parent\"><img src=\"https://colab.research.google.com/assets/colab-badge.svg\" alt=\"Open In Colab\"/></a>"
      ]
    },
    {
      "cell_type": "markdown",
      "source": [
        "\n",
        "**K-Means**\n",
        "\n"
      ],
      "metadata": {
        "id": "kMLEd5s6vYNL"
      }
    },
    {
      "cell_type": "code",
      "execution_count": null,
      "metadata": {
        "id": "CK1frMB5r9nB"
      },
      "outputs": [],
      "source": [
        "library(stats)\n",
        "data(iris)"
      ]
    },
    {
      "cell_type": "code",
      "source": [
        "attach(iris)\n",
        "iris"
      ],
      "metadata": {
        "id": "h9lpC4XutBWb"
      },
      "execution_count": null,
      "outputs": []
    },
    {
      "cell_type": "code",
      "source": [
        "# select Sepal.Length, Sepal.Width, Petal.Length, Petal.Width from iris data\n",
        "iris4 <- iris[, c(1,2, 3, 4)]\n",
        "iris4"
      ],
      "metadata": {
        "colab": {
          "base_uri": "https://localhost:8080/",
          "height": 1000
        },
        "id": "Ino8WqAttuF5",
        "outputId": "9bd0ab18-593a-467b-f14d-48eb36448524"
      },
      "execution_count": null,
      "outputs": [
        {
          "output_type": "display_data",
          "data": {
            "text/html": [
              "<table class=\"dataframe\">\n",
              "<caption>A data.frame: 150 × 4</caption>\n",
              "<thead>\n",
              "\t<tr><th scope=col>Sepal.Length</th><th scope=col>Sepal.Width</th><th scope=col>Petal.Length</th><th scope=col>Petal.Width</th></tr>\n",
              "\t<tr><th scope=col>&lt;dbl&gt;</th><th scope=col>&lt;dbl&gt;</th><th scope=col>&lt;dbl&gt;</th><th scope=col>&lt;dbl&gt;</th></tr>\n",
              "</thead>\n",
              "<tbody>\n",
              "\t<tr><td>5.1</td><td>3.5</td><td>1.4</td><td>0.2</td></tr>\n",
              "\t<tr><td>4.9</td><td>3.0</td><td>1.4</td><td>0.2</td></tr>\n",
              "\t<tr><td>4.7</td><td>3.2</td><td>1.3</td><td>0.2</td></tr>\n",
              "\t<tr><td>4.6</td><td>3.1</td><td>1.5</td><td>0.2</td></tr>\n",
              "\t<tr><td>5.0</td><td>3.6</td><td>1.4</td><td>0.2</td></tr>\n",
              "\t<tr><td>5.4</td><td>3.9</td><td>1.7</td><td>0.4</td></tr>\n",
              "\t<tr><td>4.6</td><td>3.4</td><td>1.4</td><td>0.3</td></tr>\n",
              "\t<tr><td>5.0</td><td>3.4</td><td>1.5</td><td>0.2</td></tr>\n",
              "\t<tr><td>4.4</td><td>2.9</td><td>1.4</td><td>0.2</td></tr>\n",
              "\t<tr><td>4.9</td><td>3.1</td><td>1.5</td><td>0.1</td></tr>\n",
              "\t<tr><td>5.4</td><td>3.7</td><td>1.5</td><td>0.2</td></tr>\n",
              "\t<tr><td>4.8</td><td>3.4</td><td>1.6</td><td>0.2</td></tr>\n",
              "\t<tr><td>4.8</td><td>3.0</td><td>1.4</td><td>0.1</td></tr>\n",
              "\t<tr><td>4.3</td><td>3.0</td><td>1.1</td><td>0.1</td></tr>\n",
              "\t<tr><td>5.8</td><td>4.0</td><td>1.2</td><td>0.2</td></tr>\n",
              "\t<tr><td>5.7</td><td>4.4</td><td>1.5</td><td>0.4</td></tr>\n",
              "\t<tr><td>5.4</td><td>3.9</td><td>1.3</td><td>0.4</td></tr>\n",
              "\t<tr><td>5.1</td><td>3.5</td><td>1.4</td><td>0.3</td></tr>\n",
              "\t<tr><td>5.7</td><td>3.8</td><td>1.7</td><td>0.3</td></tr>\n",
              "\t<tr><td>5.1</td><td>3.8</td><td>1.5</td><td>0.3</td></tr>\n",
              "\t<tr><td>5.4</td><td>3.4</td><td>1.7</td><td>0.2</td></tr>\n",
              "\t<tr><td>5.1</td><td>3.7</td><td>1.5</td><td>0.4</td></tr>\n",
              "\t<tr><td>4.6</td><td>3.6</td><td>1.0</td><td>0.2</td></tr>\n",
              "\t<tr><td>5.1</td><td>3.3</td><td>1.7</td><td>0.5</td></tr>\n",
              "\t<tr><td>4.8</td><td>3.4</td><td>1.9</td><td>0.2</td></tr>\n",
              "\t<tr><td>5.0</td><td>3.0</td><td>1.6</td><td>0.2</td></tr>\n",
              "\t<tr><td>5.0</td><td>3.4</td><td>1.6</td><td>0.4</td></tr>\n",
              "\t<tr><td>5.2</td><td>3.5</td><td>1.5</td><td>0.2</td></tr>\n",
              "\t<tr><td>5.2</td><td>3.4</td><td>1.4</td><td>0.2</td></tr>\n",
              "\t<tr><td>4.7</td><td>3.2</td><td>1.6</td><td>0.2</td></tr>\n",
              "\t<tr><td>⋮</td><td>⋮</td><td>⋮</td><td>⋮</td></tr>\n",
              "\t<tr><td>6.9</td><td>3.2</td><td>5.7</td><td>2.3</td></tr>\n",
              "\t<tr><td>5.6</td><td>2.8</td><td>4.9</td><td>2.0</td></tr>\n",
              "\t<tr><td>7.7</td><td>2.8</td><td>6.7</td><td>2.0</td></tr>\n",
              "\t<tr><td>6.3</td><td>2.7</td><td>4.9</td><td>1.8</td></tr>\n",
              "\t<tr><td>6.7</td><td>3.3</td><td>5.7</td><td>2.1</td></tr>\n",
              "\t<tr><td>7.2</td><td>3.2</td><td>6.0</td><td>1.8</td></tr>\n",
              "\t<tr><td>6.2</td><td>2.8</td><td>4.8</td><td>1.8</td></tr>\n",
              "\t<tr><td>6.1</td><td>3.0</td><td>4.9</td><td>1.8</td></tr>\n",
              "\t<tr><td>6.4</td><td>2.8</td><td>5.6</td><td>2.1</td></tr>\n",
              "\t<tr><td>7.2</td><td>3.0</td><td>5.8</td><td>1.6</td></tr>\n",
              "\t<tr><td>7.4</td><td>2.8</td><td>6.1</td><td>1.9</td></tr>\n",
              "\t<tr><td>7.9</td><td>3.8</td><td>6.4</td><td>2.0</td></tr>\n",
              "\t<tr><td>6.4</td><td>2.8</td><td>5.6</td><td>2.2</td></tr>\n",
              "\t<tr><td>6.3</td><td>2.8</td><td>5.1</td><td>1.5</td></tr>\n",
              "\t<tr><td>6.1</td><td>2.6</td><td>5.6</td><td>1.4</td></tr>\n",
              "\t<tr><td>7.7</td><td>3.0</td><td>6.1</td><td>2.3</td></tr>\n",
              "\t<tr><td>6.3</td><td>3.4</td><td>5.6</td><td>2.4</td></tr>\n",
              "\t<tr><td>6.4</td><td>3.1</td><td>5.5</td><td>1.8</td></tr>\n",
              "\t<tr><td>6.0</td><td>3.0</td><td>4.8</td><td>1.8</td></tr>\n",
              "\t<tr><td>6.9</td><td>3.1</td><td>5.4</td><td>2.1</td></tr>\n",
              "\t<tr><td>6.7</td><td>3.1</td><td>5.6</td><td>2.4</td></tr>\n",
              "\t<tr><td>6.9</td><td>3.1</td><td>5.1</td><td>2.3</td></tr>\n",
              "\t<tr><td>5.8</td><td>2.7</td><td>5.1</td><td>1.9</td></tr>\n",
              "\t<tr><td>6.8</td><td>3.2</td><td>5.9</td><td>2.3</td></tr>\n",
              "\t<tr><td>6.7</td><td>3.3</td><td>5.7</td><td>2.5</td></tr>\n",
              "\t<tr><td>6.7</td><td>3.0</td><td>5.2</td><td>2.3</td></tr>\n",
              "\t<tr><td>6.3</td><td>2.5</td><td>5.0</td><td>1.9</td></tr>\n",
              "\t<tr><td>6.5</td><td>3.0</td><td>5.2</td><td>2.0</td></tr>\n",
              "\t<tr><td>6.2</td><td>3.4</td><td>5.4</td><td>2.3</td></tr>\n",
              "\t<tr><td>5.9</td><td>3.0</td><td>5.1</td><td>1.8</td></tr>\n",
              "</tbody>\n",
              "</table>\n"
            ],
            "text/markdown": "\nA data.frame: 150 × 4\n\n| Sepal.Length &lt;dbl&gt; | Sepal.Width &lt;dbl&gt; | Petal.Length &lt;dbl&gt; | Petal.Width &lt;dbl&gt; |\n|---|---|---|---|\n| 5.1 | 3.5 | 1.4 | 0.2 |\n| 4.9 | 3.0 | 1.4 | 0.2 |\n| 4.7 | 3.2 | 1.3 | 0.2 |\n| 4.6 | 3.1 | 1.5 | 0.2 |\n| 5.0 | 3.6 | 1.4 | 0.2 |\n| 5.4 | 3.9 | 1.7 | 0.4 |\n| 4.6 | 3.4 | 1.4 | 0.3 |\n| 5.0 | 3.4 | 1.5 | 0.2 |\n| 4.4 | 2.9 | 1.4 | 0.2 |\n| 4.9 | 3.1 | 1.5 | 0.1 |\n| 5.4 | 3.7 | 1.5 | 0.2 |\n| 4.8 | 3.4 | 1.6 | 0.2 |\n| 4.8 | 3.0 | 1.4 | 0.1 |\n| 4.3 | 3.0 | 1.1 | 0.1 |\n| 5.8 | 4.0 | 1.2 | 0.2 |\n| 5.7 | 4.4 | 1.5 | 0.4 |\n| 5.4 | 3.9 | 1.3 | 0.4 |\n| 5.1 | 3.5 | 1.4 | 0.3 |\n| 5.7 | 3.8 | 1.7 | 0.3 |\n| 5.1 | 3.8 | 1.5 | 0.3 |\n| 5.4 | 3.4 | 1.7 | 0.2 |\n| 5.1 | 3.7 | 1.5 | 0.4 |\n| 4.6 | 3.6 | 1.0 | 0.2 |\n| 5.1 | 3.3 | 1.7 | 0.5 |\n| 4.8 | 3.4 | 1.9 | 0.2 |\n| 5.0 | 3.0 | 1.6 | 0.2 |\n| 5.0 | 3.4 | 1.6 | 0.4 |\n| 5.2 | 3.5 | 1.5 | 0.2 |\n| 5.2 | 3.4 | 1.4 | 0.2 |\n| 4.7 | 3.2 | 1.6 | 0.2 |\n| ⋮ | ⋮ | ⋮ | ⋮ |\n| 6.9 | 3.2 | 5.7 | 2.3 |\n| 5.6 | 2.8 | 4.9 | 2.0 |\n| 7.7 | 2.8 | 6.7 | 2.0 |\n| 6.3 | 2.7 | 4.9 | 1.8 |\n| 6.7 | 3.3 | 5.7 | 2.1 |\n| 7.2 | 3.2 | 6.0 | 1.8 |\n| 6.2 | 2.8 | 4.8 | 1.8 |\n| 6.1 | 3.0 | 4.9 | 1.8 |\n| 6.4 | 2.8 | 5.6 | 2.1 |\n| 7.2 | 3.0 | 5.8 | 1.6 |\n| 7.4 | 2.8 | 6.1 | 1.9 |\n| 7.9 | 3.8 | 6.4 | 2.0 |\n| 6.4 | 2.8 | 5.6 | 2.2 |\n| 6.3 | 2.8 | 5.1 | 1.5 |\n| 6.1 | 2.6 | 5.6 | 1.4 |\n| 7.7 | 3.0 | 6.1 | 2.3 |\n| 6.3 | 3.4 | 5.6 | 2.4 |\n| 6.4 | 3.1 | 5.5 | 1.8 |\n| 6.0 | 3.0 | 4.8 | 1.8 |\n| 6.9 | 3.1 | 5.4 | 2.1 |\n| 6.7 | 3.1 | 5.6 | 2.4 |\n| 6.9 | 3.1 | 5.1 | 2.3 |\n| 5.8 | 2.7 | 5.1 | 1.9 |\n| 6.8 | 3.2 | 5.9 | 2.3 |\n| 6.7 | 3.3 | 5.7 | 2.5 |\n| 6.7 | 3.0 | 5.2 | 2.3 |\n| 6.3 | 2.5 | 5.0 | 1.9 |\n| 6.5 | 3.0 | 5.2 | 2.0 |\n| 6.2 | 3.4 | 5.4 | 2.3 |\n| 5.9 | 3.0 | 5.1 | 1.8 |\n\n",
            "text/latex": "A data.frame: 150 × 4\n\\begin{tabular}{llll}\n Sepal.Length & Sepal.Width & Petal.Length & Petal.Width\\\\\n <dbl> & <dbl> & <dbl> & <dbl>\\\\\n\\hline\n\t 5.1 & 3.5 & 1.4 & 0.2\\\\\n\t 4.9 & 3.0 & 1.4 & 0.2\\\\\n\t 4.7 & 3.2 & 1.3 & 0.2\\\\\n\t 4.6 & 3.1 & 1.5 & 0.2\\\\\n\t 5.0 & 3.6 & 1.4 & 0.2\\\\\n\t 5.4 & 3.9 & 1.7 & 0.4\\\\\n\t 4.6 & 3.4 & 1.4 & 0.3\\\\\n\t 5.0 & 3.4 & 1.5 & 0.2\\\\\n\t 4.4 & 2.9 & 1.4 & 0.2\\\\\n\t 4.9 & 3.1 & 1.5 & 0.1\\\\\n\t 5.4 & 3.7 & 1.5 & 0.2\\\\\n\t 4.8 & 3.4 & 1.6 & 0.2\\\\\n\t 4.8 & 3.0 & 1.4 & 0.1\\\\\n\t 4.3 & 3.0 & 1.1 & 0.1\\\\\n\t 5.8 & 4.0 & 1.2 & 0.2\\\\\n\t 5.7 & 4.4 & 1.5 & 0.4\\\\\n\t 5.4 & 3.9 & 1.3 & 0.4\\\\\n\t 5.1 & 3.5 & 1.4 & 0.3\\\\\n\t 5.7 & 3.8 & 1.7 & 0.3\\\\\n\t 5.1 & 3.8 & 1.5 & 0.3\\\\\n\t 5.4 & 3.4 & 1.7 & 0.2\\\\\n\t 5.1 & 3.7 & 1.5 & 0.4\\\\\n\t 4.6 & 3.6 & 1.0 & 0.2\\\\\n\t 5.1 & 3.3 & 1.7 & 0.5\\\\\n\t 4.8 & 3.4 & 1.9 & 0.2\\\\\n\t 5.0 & 3.0 & 1.6 & 0.2\\\\\n\t 5.0 & 3.4 & 1.6 & 0.4\\\\\n\t 5.2 & 3.5 & 1.5 & 0.2\\\\\n\t 5.2 & 3.4 & 1.4 & 0.2\\\\\n\t 4.7 & 3.2 & 1.6 & 0.2\\\\\n\t ⋮ & ⋮ & ⋮ & ⋮\\\\\n\t 6.9 & 3.2 & 5.7 & 2.3\\\\\n\t 5.6 & 2.8 & 4.9 & 2.0\\\\\n\t 7.7 & 2.8 & 6.7 & 2.0\\\\\n\t 6.3 & 2.7 & 4.9 & 1.8\\\\\n\t 6.7 & 3.3 & 5.7 & 2.1\\\\\n\t 7.2 & 3.2 & 6.0 & 1.8\\\\\n\t 6.2 & 2.8 & 4.8 & 1.8\\\\\n\t 6.1 & 3.0 & 4.9 & 1.8\\\\\n\t 6.4 & 2.8 & 5.6 & 2.1\\\\\n\t 7.2 & 3.0 & 5.8 & 1.6\\\\\n\t 7.4 & 2.8 & 6.1 & 1.9\\\\\n\t 7.9 & 3.8 & 6.4 & 2.0\\\\\n\t 6.4 & 2.8 & 5.6 & 2.2\\\\\n\t 6.3 & 2.8 & 5.1 & 1.5\\\\\n\t 6.1 & 2.6 & 5.6 & 1.4\\\\\n\t 7.7 & 3.0 & 6.1 & 2.3\\\\\n\t 6.3 & 3.4 & 5.6 & 2.4\\\\\n\t 6.4 & 3.1 & 5.5 & 1.8\\\\\n\t 6.0 & 3.0 & 4.8 & 1.8\\\\\n\t 6.9 & 3.1 & 5.4 & 2.1\\\\\n\t 6.7 & 3.1 & 5.6 & 2.4\\\\\n\t 6.9 & 3.1 & 5.1 & 2.3\\\\\n\t 5.8 & 2.7 & 5.1 & 1.9\\\\\n\t 6.8 & 3.2 & 5.9 & 2.3\\\\\n\t 6.7 & 3.3 & 5.7 & 2.5\\\\\n\t 6.7 & 3.0 & 5.2 & 2.3\\\\\n\t 6.3 & 2.5 & 5.0 & 1.9\\\\\n\t 6.5 & 3.0 & 5.2 & 2.0\\\\\n\t 6.2 & 3.4 & 5.4 & 2.3\\\\\n\t 5.9 & 3.0 & 5.1 & 1.8\\\\\n\\end{tabular}\n",
            "text/plain": [
              "    Sepal.Length Sepal.Width Petal.Length Petal.Width\n",
              "1   5.1          3.5         1.4          0.2        \n",
              "2   4.9          3.0         1.4          0.2        \n",
              "3   4.7          3.2         1.3          0.2        \n",
              "4   4.6          3.1         1.5          0.2        \n",
              "5   5.0          3.6         1.4          0.2        \n",
              "6   5.4          3.9         1.7          0.4        \n",
              "7   4.6          3.4         1.4          0.3        \n",
              "8   5.0          3.4         1.5          0.2        \n",
              "9   4.4          2.9         1.4          0.2        \n",
              "10  4.9          3.1         1.5          0.1        \n",
              "11  5.4          3.7         1.5          0.2        \n",
              "12  4.8          3.4         1.6          0.2        \n",
              "13  4.8          3.0         1.4          0.1        \n",
              "14  4.3          3.0         1.1          0.1        \n",
              "15  5.8          4.0         1.2          0.2        \n",
              "16  5.7          4.4         1.5          0.4        \n",
              "17  5.4          3.9         1.3          0.4        \n",
              "18  5.1          3.5         1.4          0.3        \n",
              "19  5.7          3.8         1.7          0.3        \n",
              "20  5.1          3.8         1.5          0.3        \n",
              "21  5.4          3.4         1.7          0.2        \n",
              "22  5.1          3.7         1.5          0.4        \n",
              "23  4.6          3.6         1.0          0.2        \n",
              "24  5.1          3.3         1.7          0.5        \n",
              "25  4.8          3.4         1.9          0.2        \n",
              "26  5.0          3.0         1.6          0.2        \n",
              "27  5.0          3.4         1.6          0.4        \n",
              "28  5.2          3.5         1.5          0.2        \n",
              "29  5.2          3.4         1.4          0.2        \n",
              "30  4.7          3.2         1.6          0.2        \n",
              "⋮   ⋮            ⋮           ⋮            ⋮          \n",
              "121 6.9          3.2         5.7          2.3        \n",
              "122 5.6          2.8         4.9          2.0        \n",
              "123 7.7          2.8         6.7          2.0        \n",
              "124 6.3          2.7         4.9          1.8        \n",
              "125 6.7          3.3         5.7          2.1        \n",
              "126 7.2          3.2         6.0          1.8        \n",
              "127 6.2          2.8         4.8          1.8        \n",
              "128 6.1          3.0         4.9          1.8        \n",
              "129 6.4          2.8         5.6          2.1        \n",
              "130 7.2          3.0         5.8          1.6        \n",
              "131 7.4          2.8         6.1          1.9        \n",
              "132 7.9          3.8         6.4          2.0        \n",
              "133 6.4          2.8         5.6          2.2        \n",
              "134 6.3          2.8         5.1          1.5        \n",
              "135 6.1          2.6         5.6          1.4        \n",
              "136 7.7          3.0         6.1          2.3        \n",
              "137 6.3          3.4         5.6          2.4        \n",
              "138 6.4          3.1         5.5          1.8        \n",
              "139 6.0          3.0         4.8          1.8        \n",
              "140 6.9          3.1         5.4          2.1        \n",
              "141 6.7          3.1         5.6          2.4        \n",
              "142 6.9          3.1         5.1          2.3        \n",
              "143 5.8          2.7         5.1          1.9        \n",
              "144 6.8          3.2         5.9          2.3        \n",
              "145 6.7          3.3         5.7          2.5        \n",
              "146 6.7          3.0         5.2          2.3        \n",
              "147 6.3          2.5         5.0          1.9        \n",
              "148 6.5          3.0         5.2          2.0        \n",
              "149 6.2          3.4         5.4          2.3        \n",
              "150 5.9          3.0         5.1          1.8        "
            ]
          },
          "metadata": {}
        }
      ]
    },
    {
      "cell_type": "code",
      "source": [
        "iriskmeans <- kmeans(iris4, centers = 3, iter.max = 1000)\n",
        "iriskmeans"
      ],
      "metadata": {
        "colab": {
          "base_uri": "https://localhost:8080/",
          "height": 416
        },
        "id": "9GxXrwD9vJRD",
        "outputId": "9a4fdb0d-afb7-40cb-cebc-68fc07c42b59"
      },
      "execution_count": null,
      "outputs": [
        {
          "output_type": "display_data",
          "data": {
            "text/plain": [
              "K-means clustering with 3 clusters of sizes 50, 62, 38\n",
              "\n",
              "Cluster means:\n",
              "  Sepal.Length Sepal.Width Petal.Length Petal.Width\n",
              "1     5.006000    3.428000     1.462000    0.246000\n",
              "2     5.901613    2.748387     4.393548    1.433871\n",
              "3     6.850000    3.073684     5.742105    2.071053\n",
              "\n",
              "Clustering vector:\n",
              "  [1] 1 1 1 1 1 1 1 1 1 1 1 1 1 1 1 1 1 1 1 1 1 1 1 1 1 1 1 1 1 1 1 1 1 1 1 1 1\n",
              " [38] 1 1 1 1 1 1 1 1 1 1 1 1 1 2 2 3 2 2 2 2 2 2 2 2 2 2 2 2 2 2 2 2 2 2 2 2 2\n",
              " [75] 2 2 2 3 2 2 2 2 2 2 2 2 2 2 2 2 2 2 2 2 2 2 2 2 2 2 3 2 3 3 3 3 2 3 3 3 3\n",
              "[112] 3 3 2 2 3 3 3 3 2 3 2 3 2 3 3 2 2 3 3 3 3 3 2 3 3 3 3 2 3 3 3 2 3 3 3 2 3\n",
              "[149] 3 2\n",
              "\n",
              "Within cluster sum of squares by cluster:\n",
              "[1] 15.15100 39.82097 23.87947\n",
              " (between_SS / total_SS =  88.4 %)\n",
              "\n",
              "Available components:\n",
              "\n",
              "[1] \"cluster\"      \"centers\"      \"totss\"        \"withinss\"     \"tot.withinss\"\n",
              "[6] \"betweenss\"    \"size\"         \"iter\"         \"ifault\"      "
            ]
          },
          "metadata": {}
        }
      ]
    },
    {
      "cell_type": "code",
      "source": [
        "# the cluster vector only can be seen as follows.\n",
        "#1: verginica, 2: versicolor, 3: setosa\n",
        "iriskmeans$cluster"
      ],
      "metadata": {
        "colab": {
          "base_uri": "https://localhost:8080/",
          "height": 69
        },
        "id": "xC0CVv-KvUAF",
        "outputId": "12b672f0-e58c-480b-cbcf-98c5d1ca60db"
      },
      "execution_count": null,
      "outputs": [
        {
          "output_type": "display_data",
          "data": {
            "text/html": [
              "<style>\n",
              ".list-inline {list-style: none; margin:0; padding: 0}\n",
              ".list-inline>li {display: inline-block}\n",
              ".list-inline>li:not(:last-child)::after {content: \"\\00b7\"; padding: 0 .5ex}\n",
              "</style>\n",
              "<ol class=list-inline><li>1</li><li>1</li><li>1</li><li>1</li><li>1</li><li>1</li><li>1</li><li>1</li><li>1</li><li>1</li><li>1</li><li>1</li><li>1</li><li>1</li><li>1</li><li>1</li><li>1</li><li>1</li><li>1</li><li>1</li><li>1</li><li>1</li><li>1</li><li>1</li><li>1</li><li>1</li><li>1</li><li>1</li><li>1</li><li>1</li><li>1</li><li>1</li><li>1</li><li>1</li><li>1</li><li>1</li><li>1</li><li>1</li><li>1</li><li>1</li><li>1</li><li>1</li><li>1</li><li>1</li><li>1</li><li>1</li><li>1</li><li>1</li><li>1</li><li>1</li><li>2</li><li>2</li><li>3</li><li>2</li><li>2</li><li>2</li><li>2</li><li>2</li><li>2</li><li>2</li><li>2</li><li>2</li><li>2</li><li>2</li><li>2</li><li>2</li><li>2</li><li>2</li><li>2</li><li>2</li><li>2</li><li>2</li><li>2</li><li>2</li><li>2</li><li>2</li><li>2</li><li>3</li><li>2</li><li>2</li><li>2</li><li>2</li><li>2</li><li>2</li><li>2</li><li>2</li><li>2</li><li>2</li><li>2</li><li>2</li><li>2</li><li>2</li><li>2</li><li>2</li><li>2</li><li>2</li><li>2</li><li>2</li><li>2</li><li>2</li><li>3</li><li>2</li><li>3</li><li>3</li><li>3</li><li>3</li><li>2</li><li>3</li><li>3</li><li>3</li><li>3</li><li>3</li><li>3</li><li>2</li><li>2</li><li>3</li><li>3</li><li>3</li><li>3</li><li>2</li><li>3</li><li>2</li><li>3</li><li>2</li><li>3</li><li>3</li><li>2</li><li>2</li><li>3</li><li>3</li><li>3</li><li>3</li><li>3</li><li>2</li><li>3</li><li>3</li><li>3</li><li>3</li><li>2</li><li>3</li><li>3</li><li>3</li><li>2</li><li>3</li><li>3</li><li>3</li><li>2</li><li>3</li><li>3</li><li>2</li></ol>\n"
            ],
            "text/markdown": "1. 1\n2. 1\n3. 1\n4. 1\n5. 1\n6. 1\n7. 1\n8. 1\n9. 1\n10. 1\n11. 1\n12. 1\n13. 1\n14. 1\n15. 1\n16. 1\n17. 1\n18. 1\n19. 1\n20. 1\n21. 1\n22. 1\n23. 1\n24. 1\n25. 1\n26. 1\n27. 1\n28. 1\n29. 1\n30. 1\n31. 1\n32. 1\n33. 1\n34. 1\n35. 1\n36. 1\n37. 1\n38. 1\n39. 1\n40. 1\n41. 1\n42. 1\n43. 1\n44. 1\n45. 1\n46. 1\n47. 1\n48. 1\n49. 1\n50. 1\n51. 2\n52. 2\n53. 3\n54. 2\n55. 2\n56. 2\n57. 2\n58. 2\n59. 2\n60. 2\n61. 2\n62. 2\n63. 2\n64. 2\n65. 2\n66. 2\n67. 2\n68. 2\n69. 2\n70. 2\n71. 2\n72. 2\n73. 2\n74. 2\n75. 2\n76. 2\n77. 2\n78. 3\n79. 2\n80. 2\n81. 2\n82. 2\n83. 2\n84. 2\n85. 2\n86. 2\n87. 2\n88. 2\n89. 2\n90. 2\n91. 2\n92. 2\n93. 2\n94. 2\n95. 2\n96. 2\n97. 2\n98. 2\n99. 2\n100. 2\n101. 3\n102. 2\n103. 3\n104. 3\n105. 3\n106. 3\n107. 2\n108. 3\n109. 3\n110. 3\n111. 3\n112. 3\n113. 3\n114. 2\n115. 2\n116. 3\n117. 3\n118. 3\n119. 3\n120. 2\n121. 3\n122. 2\n123. 3\n124. 2\n125. 3\n126. 3\n127. 2\n128. 2\n129. 3\n130. 3\n131. 3\n132. 3\n133. 3\n134. 2\n135. 3\n136. 3\n137. 3\n138. 3\n139. 2\n140. 3\n141. 3\n142. 3\n143. 2\n144. 3\n145. 3\n146. 3\n147. 2\n148. 3\n149. 3\n150. 2\n\n\n",
            "text/latex": "\\begin{enumerate*}\n\\item 1\n\\item 1\n\\item 1\n\\item 1\n\\item 1\n\\item 1\n\\item 1\n\\item 1\n\\item 1\n\\item 1\n\\item 1\n\\item 1\n\\item 1\n\\item 1\n\\item 1\n\\item 1\n\\item 1\n\\item 1\n\\item 1\n\\item 1\n\\item 1\n\\item 1\n\\item 1\n\\item 1\n\\item 1\n\\item 1\n\\item 1\n\\item 1\n\\item 1\n\\item 1\n\\item 1\n\\item 1\n\\item 1\n\\item 1\n\\item 1\n\\item 1\n\\item 1\n\\item 1\n\\item 1\n\\item 1\n\\item 1\n\\item 1\n\\item 1\n\\item 1\n\\item 1\n\\item 1\n\\item 1\n\\item 1\n\\item 1\n\\item 1\n\\item 2\n\\item 2\n\\item 3\n\\item 2\n\\item 2\n\\item 2\n\\item 2\n\\item 2\n\\item 2\n\\item 2\n\\item 2\n\\item 2\n\\item 2\n\\item 2\n\\item 2\n\\item 2\n\\item 2\n\\item 2\n\\item 2\n\\item 2\n\\item 2\n\\item 2\n\\item 2\n\\item 2\n\\item 2\n\\item 2\n\\item 2\n\\item 3\n\\item 2\n\\item 2\n\\item 2\n\\item 2\n\\item 2\n\\item 2\n\\item 2\n\\item 2\n\\item 2\n\\item 2\n\\item 2\n\\item 2\n\\item 2\n\\item 2\n\\item 2\n\\item 2\n\\item 2\n\\item 2\n\\item 2\n\\item 2\n\\item 2\n\\item 2\n\\item 3\n\\item 2\n\\item 3\n\\item 3\n\\item 3\n\\item 3\n\\item 2\n\\item 3\n\\item 3\n\\item 3\n\\item 3\n\\item 3\n\\item 3\n\\item 2\n\\item 2\n\\item 3\n\\item 3\n\\item 3\n\\item 3\n\\item 2\n\\item 3\n\\item 2\n\\item 3\n\\item 2\n\\item 3\n\\item 3\n\\item 2\n\\item 2\n\\item 3\n\\item 3\n\\item 3\n\\item 3\n\\item 3\n\\item 2\n\\item 3\n\\item 3\n\\item 3\n\\item 3\n\\item 2\n\\item 3\n\\item 3\n\\item 3\n\\item 2\n\\item 3\n\\item 3\n\\item 3\n\\item 2\n\\item 3\n\\item 3\n\\item 2\n\\end{enumerate*}\n",
            "text/plain": [
              "  [1] 1 1 1 1 1 1 1 1 1 1 1 1 1 1 1 1 1 1 1 1 1 1 1 1 1 1 1 1 1 1 1 1 1 1 1 1 1\n",
              " [38] 1 1 1 1 1 1 1 1 1 1 1 1 1 2 2 3 2 2 2 2 2 2 2 2 2 2 2 2 2 2 2 2 2 2 2 2 2\n",
              " [75] 2 2 2 3 2 2 2 2 2 2 2 2 2 2 2 2 2 2 2 2 2 2 2 2 2 2 3 2 3 3 3 3 2 3 3 3 3\n",
              "[112] 3 3 2 2 3 3 3 3 2 3 2 3 2 3 3 2 2 3 3 3 3 3 2 3 3 3 3 2 3 3 3 2 3 3 3 2 3\n",
              "[149] 3 2"
            ]
          },
          "metadata": {}
        }
      ]
    },
    {
      "cell_type": "code",
      "source": [
        "classtable <- table(Species, iriskmeans$cluster)\n",
        "classtable"
      ],
      "metadata": {
        "colab": {
          "base_uri": "https://localhost:8080/",
          "height": 104
        },
        "id": "iAaLCz_ZyGVl",
        "outputId": "961be4bc-8c5f-4fdb-d928-823e93de00ba"
      },
      "execution_count": null,
      "outputs": [
        {
          "output_type": "display_data",
          "data": {
            "text/plain": [
              "            \n",
              "Species       1  2  3\n",
              "  setosa     50  0  0\n",
              "  versicolor  0 48  2\n",
              "  virginica   0 14 36"
            ]
          },
          "metadata": {}
        }
      ]
    }
  ]
}