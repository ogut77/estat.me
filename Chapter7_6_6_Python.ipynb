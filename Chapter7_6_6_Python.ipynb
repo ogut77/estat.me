{
  "nbformat": 4,
  "nbformat_minor": 0,
  "metadata": {
    "colab": {
      "provenance": [],
      "name": "Chapter7.6.6.Python.ipynb",
      "authorship_tag": "ABX9TyNFGmCS5sD7JpPX6yVRM6hg",
      "include_colab_link": true
    },
    "kernelspec": {
      "name": "python3",
      "display_name": "Python 3"
    },
    "language_info": {
      "name": "python"
    }
  },
  "cells": [
    {
      "cell_type": "markdown",
      "metadata": {
        "id": "view-in-github",
        "colab_type": "text"
      },
      "source": [
        "<a href=\"https://colab.research.google.com/github/ogut77/estat.me/blob/main/Chapter7_6_6_Python.ipynb\" target=\"_parent\"><img src=\"https://colab.research.google.com/assets/colab-badge.svg\" alt=\"Open In Colab\"/></a>"
      ]
    },
    {
      "cell_type": "markdown",
      "source": [
        "# **Random Forest**"
      ],
      "metadata": {
        "id": "1T6ExTp-vtk3"
      }
    },
    {
      "cell_type": "code",
      "source": [
        "import pandas as pd\n",
        "import numpy as np\n",
        "from sklearn.ensemble import RandomForestClassifier\n",
        "from sklearn.metrics import confusion_matrix\n",
        "from sklearn.datasets import load_iris\n",
        "\n",
        "# Load iris dataset\n",
        "iris = load_iris()\n",
        "iris_df = pd.DataFrame(data=iris.data, columns=iris.feature_names)\n",
        "iris_df['Species'] = iris.target\n",
        "species_map = {0: 'setosa', 1: 'versicolor', 2: 'virginica'}\n",
        "iris_df['Species'] = iris_df['Species'].map(species_map)\n"
      ],
      "metadata": {
        "id": "HlzxUHB89-ly"
      },
      "execution_count": null,
      "outputs": []
    },
    {
      "cell_type": "code",
      "source": [
        "\n",
        "# Random Forest with 100 trees and proximity\n",
        "rf_model = RandomForestClassifier(n_estimators=100,\n",
        "                                  random_state=0,\n",
        "                                  oob_score=True)  # oob_score approximates proximity\n",
        "X = iris_df.drop('Species', axis=1)\n",
        "y = iris_df['Species']\n",
        "rf_model.fit(X, y)\n",
        "\n",
        "# Predict on the iris dataset\n",
        "rf_pred = rf_model.predict(X)\n",
        "\n",
        "# Confusion matrix\n",
        "conf_matrix = confusion_matrix(y, rf_pred, labels=['setosa', 'versicolor', 'virginica'])\n",
        "conf_matrix_df = pd.DataFrame(conf_matrix,\n",
        "                              index=['setosa', 'versicolor', 'virginica'],\n",
        "                              columns=['setosa', 'versicolor', 'virginica'])\n",
        "print(\"Confusion Matrix:\\n\", conf_matrix_df)\n",
        "\n",
        "# Calculate misclassification error\n",
        "forest_error = 1 - (np.diag(conf_matrix).sum() / conf_matrix.sum())\n",
        "print(\"Misclassification Error:\", forest_error)\n",
        "print(\"Misclassification Error (%):\", forest_error * 100, \"%\")"
      ],
      "metadata": {
        "colab": {
          "base_uri": "https://localhost:8080/"
        },
        "id": "X8-OoBrpvwXL",
        "outputId": "c4258e8e-b322-42b9-a057-d90a65623d47"
      },
      "execution_count": null,
      "outputs": [
        {
          "output_type": "stream",
          "name": "stdout",
          "text": [
            "Confusion Matrix:\n",
            "             setosa  versicolor  virginica\n",
            "setosa          50           0          0\n",
            "versicolor       0          50          0\n",
            "virginica        0           0         50\n",
            "Misclassification Error: 0.0\n",
            "Misclassification Error (%): 0.0 %\n"
          ]
        }
      ]
    }
  ]
}