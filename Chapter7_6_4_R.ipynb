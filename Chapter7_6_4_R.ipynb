{
  "nbformat": 4,
  "nbformat_minor": 0,
  "metadata": {
    "colab": {
      "provenance": [],
      "name": "Chapter7.6.4.R.ipynb",
      "authorship_tag": "ABX9TyNIxMhaUHebCZYalDcZXEJJ",
      "include_colab_link": true
    },
    "kernelspec": {
      "name": "ir",
      "display_name": "R"
    },
    "language_info": {
      "name": "R"
    }
  },
  "cells": [
    {
      "cell_type": "markdown",
      "metadata": {
        "id": "view-in-github",
        "colab_type": "text"
      },
      "source": [
        "<a href=\"https://colab.research.google.com/github/ogut77/estat.me/blob/main/Chapter7_6_4_R.ipynb\" target=\"_parent\"><img src=\"https://colab.research.google.com/assets/colab-badge.svg\" alt=\"Open In Colab\"/></a>"
      ]
    },
    {
      "cell_type": "code",
      "source": [
        "install.packages('adabag')\n",
        "library(adabag)"
      ],
      "metadata": {
        "id": "MqTGm17-zRss"
      },
      "execution_count": null,
      "outputs": []
    },
    {
      "cell_type": "code",
      "source": [
        "data(iris)"
      ],
      "metadata": {
        "id": "ZaHVrFvlzEha"
      },
      "execution_count": null,
      "outputs": []
    },
    {
      "cell_type": "code",
      "source": [
        "# mfinal is an integer which is the number of iterations for which boosting is run\n",
        "iris.adaboost <- boosting(Species~., data = iris, boos = TRUE, mfinal = 10)"
      ],
      "metadata": {
        "id": "stGQvKu1r58Z"
      },
      "execution_count": null,
      "outputs": []
    },
    {
      "cell_type": "code",
      "source": [
        "# list the importance of variable in the classification\n",
        "iris.adaboost$importance"
      ],
      "metadata": {
        "colab": {
          "base_uri": "https://localhost:8080/",
          "height": 52
        },
        "id": "tyREaFa0r-0U",
        "outputId": "f8b9591d-96c6-4171-cf57-bd014262c6bf"
      },
      "execution_count": null,
      "outputs": [
        {
          "output_type": "display_data",
          "data": {
            "text/html": [
              "<style>\n",
              ".dl-inline {width: auto; margin:0; padding: 0}\n",
              ".dl-inline>dt, .dl-inline>dd {float: none; width: auto; display: inline-block}\n",
              ".dl-inline>dt::after {content: \":\\0020\"; padding-right: .5ex}\n",
              ".dl-inline>dt:not(:first-of-type) {padding-left: .5ex}\n",
              "</style><dl class=dl-inline><dt>Petal.Length</dt><dd>66.4893009093755</dd><dt>Petal.Width</dt><dd>20.3278316891005</dd><dt>Sepal.Length</dt><dd>5.31320043287847</dd><dt>Sepal.Width</dt><dd>7.86966696864547</dd></dl>\n"
            ],
            "text/markdown": "Petal.Length\n:   66.4893009093755Petal.Width\n:   20.3278316891005Sepal.Length\n:   5.31320043287847Sepal.Width\n:   7.86966696864547\n\n",
            "text/latex": "\\begin{description*}\n\\item[Petal.Length] 66.4893009093755\n\\item[Petal.Width] 20.3278316891005\n\\item[Sepal.Length] 5.31320043287847\n\\item[Sepal.Width] 7.86966696864547\n\\end{description*}\n",
            "text/plain": [
              "Petal.Length  Petal.Width Sepal.Length  Sepal.Width \n",
              "   66.489301    20.327832     5.313200     7.869667 "
            ]
          },
          "metadata": {}
        }
      ]
    },
    {
      "cell_type": "code",
      "source": [
        "# list the trees grown along the iterations.\n",
        "iris.adaboost$trees"
      ],
      "metadata": {
        "colab": {
          "base_uri": "https://localhost:8080/",
          "height": 1000
        },
        "id": "soU00emAsB3H",
        "outputId": "23c16a3c-ae71-431b-be94-d3c5aaf1cc2e"
      },
      "execution_count": null,
      "outputs": [
        {
          "output_type": "display_data",
          "data": {
            "text/plain": [
              "[[1]]\n",
              "n= 150 \n",
              "\n",
              "node), split, n, loss, yval, (yprob)\n",
              "      * denotes terminal node\n",
              "\n",
              "1) root 150 98 setosa (0.34666667 0.31333333 0.34000000)  \n",
              "  2) Petal.Length< 2.45 52  0 setosa (1.00000000 0.00000000 0.00000000) *\n",
              "  3) Petal.Length>=2.45 98 47 virginica (0.00000000 0.47959184 0.52040816)  \n",
              "    6) Petal.Length< 4.75 44  1 versicolor (0.00000000 0.97727273 0.02272727) *\n",
              "    7) Petal.Length>=4.75 54  4 virginica (0.00000000 0.07407407 0.92592593) *\n",
              "\n",
              "[[2]]\n",
              "n= 150 \n",
              "\n",
              "node), split, n, loss, yval, (yprob)\n",
              "      * denotes terminal node\n",
              "\n",
              " 1) root 150 90 versicolor (0.2533333 0.4000000 0.3466667)  \n",
              "   2) Petal.Length< 2.7 38  0 setosa (1.0000000 0.0000000 0.0000000) *\n",
              "   3) Petal.Length>=2.7 112 52 versicolor (0.0000000 0.5357143 0.4642857)  \n",
              "     6) Petal.Width< 1.75 60  6 versicolor (0.0000000 0.9000000 0.1000000) *\n",
              "     7) Petal.Width>=1.75 52  6 virginica (0.0000000 0.1153846 0.8846154)  \n",
              "      14) Petal.Length< 4.85 8  2 versicolor (0.0000000 0.7500000 0.2500000) *\n",
              "      15) Petal.Length>=4.85 44  0 virginica (0.0000000 0.0000000 1.0000000) *\n",
              "\n",
              "[[3]]\n",
              "n= 150 \n",
              "\n",
              "node), split, n, loss, yval, (yprob)\n",
              "      * denotes terminal node\n",
              "\n",
              " 1) root 150 91 virginica (0.2800000 0.3266667 0.3933333)  \n",
              "   2) Petal.Length< 2.6 42  0 setosa (1.0000000 0.0000000 0.0000000) *\n",
              "   3) Petal.Length>=2.6 108 49 virginica (0.0000000 0.4537037 0.5462963)  \n",
              "     6) Petal.Width< 1.65 51 10 versicolor (0.0000000 0.8039216 0.1960784)  \n",
              "      12) Petal.Length< 4.95 37  0 versicolor (0.0000000 1.0000000 0.0000000) *\n",
              "      13) Petal.Length>=4.95 14  4 virginica (0.0000000 0.2857143 0.7142857) *\n",
              "     7) Petal.Width>=1.65 57  8 virginica (0.0000000 0.1403509 0.8596491) *\n",
              "\n",
              "[[4]]\n",
              "n= 150 \n",
              "\n",
              "node), split, n, loss, yval, (yprob)\n",
              "      * denotes terminal node\n",
              "\n",
              " 1) root 150 85 versicolor (0.24666667 0.43333333 0.32000000)  \n",
              "   2) Petal.Length< 2.5 37  0 setosa (1.00000000 0.00000000 0.00000000) *\n",
              "   3) Petal.Length>=2.5 113 48 versicolor (0.00000000 0.57522124 0.42477876)  \n",
              "     6) Petal.Length< 5.15 93 28 versicolor (0.00000000 0.69892473 0.30107527)  \n",
              "      12) Sepal.Length>=5.2 78 16 versicolor (0.00000000 0.79487179 0.20512821)  \n",
              "        24) Petal.Length< 4.95 44  2 versicolor (0.00000000 0.95454545 0.04545455) *\n",
              "        25) Petal.Length>=4.95 34 14 versicolor (0.00000000 0.58823529 0.41176471)  \n",
              "          50) Petal.Width>=1.55 26  6 versicolor (0.00000000 0.76923077 0.23076923) *\n",
              "          51) Petal.Width< 1.55 8  0 virginica (0.00000000 0.00000000 1.00000000) *\n",
              "      13) Sepal.Length< 5.2 15  3 virginica (0.00000000 0.20000000 0.80000000) *\n",
              "     7) Petal.Length>=5.15 20  0 virginica (0.00000000 0.00000000 1.00000000) *\n",
              "\n",
              "[[5]]\n",
              "n= 150 \n",
              "\n",
              "node), split, n, loss, yval, (yprob)\n",
              "      * denotes terminal node\n",
              "\n",
              " 1) root 150 85 virginica (0.2066667 0.3600000 0.4333333)  \n",
              "   2) Petal.Length< 2.45 31  0 setosa (1.0000000 0.0000000 0.0000000) *\n",
              "   3) Petal.Length>=2.45 119 54 virginica (0.0000000 0.4537815 0.5462185)  \n",
              "     6) Petal.Width< 1.65 44  6 versicolor (0.0000000 0.8636364 0.1363636) *\n",
              "     7) Petal.Width>=1.65 75 16 virginica (0.0000000 0.2133333 0.7866667)  \n",
              "      14) Sepal.Width>=2.95 42 16 virginica (0.0000000 0.3809524 0.6190476)  \n",
              "        28) Petal.Length< 5.05 24  8 versicolor (0.0000000 0.6666667 0.3333333) *\n",
              "        29) Petal.Length>=5.05 18  0 virginica (0.0000000 0.0000000 1.0000000) *\n",
              "      15) Sepal.Width< 2.95 33  0 virginica (0.0000000 0.0000000 1.0000000) *\n",
              "\n",
              "[[6]]\n",
              "n= 150 \n",
              "\n",
              "node), split, n, loss, yval, (yprob)\n",
              "      * denotes terminal node\n",
              "\n",
              " 1) root 150 81 virginica (0.1733333 0.3666667 0.4600000)  \n",
              "   2) Petal.Length< 2.6 26  0 setosa (1.0000000 0.0000000 0.0000000) *\n",
              "   3) Petal.Length>=2.6 124 55 virginica (0.0000000 0.4435484 0.5564516)  \n",
              "     6) Petal.Width< 1.75 76 26 versicolor (0.0000000 0.6578947 0.3421053)  \n",
              "      12) Sepal.Width>=2.65 45  7 versicolor (0.0000000 0.8444444 0.1555556) *\n",
              "      13) Sepal.Width< 2.65 31 12 virginica (0.0000000 0.3870968 0.6129032)  \n",
              "        26) Petal.Length< 4.25 7  0 versicolor (0.0000000 1.0000000 0.0000000) *\n",
              "        27) Petal.Length>=4.25 24  5 virginica (0.0000000 0.2083333 0.7916667) *\n",
              "     7) Petal.Width>=1.75 48  5 virginica (0.0000000 0.1041667 0.8958333) *\n",
              "\n",
              "[[7]]\n",
              "n= 150 \n",
              "\n",
              "node), split, n, loss, yval, (yprob)\n",
              "      * denotes terminal node\n",
              "\n",
              "  1) root 150 74 virginica (0.1400000 0.3533333 0.5066667)  \n",
              "    2) Petal.Length< 2.45 21  0 setosa (1.0000000 0.0000000 0.0000000) *\n",
              "    3) Petal.Length>=2.45 129 53 virginica (0.0000000 0.4108527 0.5891473)  \n",
              "      6) Petal.Width< 1.35 19  0 versicolor (0.0000000 1.0000000 0.0000000) *\n",
              "      7) Petal.Width>=1.35 110 34 virginica (0.0000000 0.3090909 0.6909091)  \n",
              "       14) Sepal.Width>=3.05 24  5 versicolor (0.0000000 0.7916667 0.2083333)  \n",
              "         28) Sepal.Length< 6.35 17  0 versicolor (0.0000000 1.0000000 0.0000000) *\n",
              "         29) Sepal.Length>=6.35 7  2 virginica (0.0000000 0.2857143 0.7142857) *\n",
              "       15) Sepal.Width< 3.05 86 15 virginica (0.0000000 0.1744186 0.8255814)  \n",
              "         30) Petal.Width< 1.75 51 15 virginica (0.0000000 0.2941176 0.7058824)  \n",
              "           60) Petal.Length< 5.05 19  8 versicolor (0.0000000 0.5789474 0.4210526) *\n",
              "           61) Petal.Length>=5.05 32  4 virginica (0.0000000 0.1250000 0.8750000)  \n",
              "            122) Sepal.Length< 6.2 7  3 versicolor (0.0000000 0.5714286 0.4285714) *\n",
              "            123) Sepal.Length>=6.2 25  0 virginica (0.0000000 0.0000000 1.0000000) *\n",
              "         31) Petal.Width>=1.75 35  0 virginica (0.0000000 0.0000000 1.0000000) *\n",
              "\n",
              "[[8]]\n",
              "n= 150 \n",
              "\n",
              "node), split, n, loss, yval, (yprob)\n",
              "      * denotes terminal node\n",
              "\n",
              " 1) root 150 67 virginica (0.11333333 0.33333333 0.55333333)  \n",
              "   2) Petal.Length< 2.45 17  0 setosa (1.00000000 0.00000000 0.00000000) *\n",
              "   3) Petal.Length>=2.45 133 50 virginica (0.00000000 0.37593985 0.62406015)  \n",
              "     6) Petal.Length< 4.95 68 24 versicolor (0.00000000 0.64705882 0.35294118)  \n",
              "      12) Petal.Width< 1.65 29  0 versicolor (0.00000000 1.00000000 0.00000000) *\n",
              "      13) Petal.Width>=1.65 39 15 virginica (0.00000000 0.38461538 0.61538462)  \n",
              "        26) Sepal.Width>=3.1 15  0 versicolor (0.00000000 1.00000000 0.00000000) *\n",
              "        27) Sepal.Width< 3.1 24  0 virginica (0.00000000 0.00000000 1.00000000) *\n",
              "     7) Petal.Length>=4.95 65  6 virginica (0.00000000 0.09230769 0.90769231) *\n",
              "\n",
              "[[9]]\n",
              "n= 150 \n",
              "\n",
              "node), split, n, loss, yval, (yprob)\n",
              "      * denotes terminal node\n",
              "\n",
              "  1) root 150 77 virginica (0.1000000 0.4133333 0.4866667)  \n",
              "    2) Petal.Length< 2.35 15  0 setosa (1.0000000 0.0000000 0.0000000) *\n",
              "    3) Petal.Length>=2.35 135 62 virginica (0.0000000 0.4592593 0.5407407)  \n",
              "      6) Petal.Length< 4.45 14  0 versicolor (0.0000000 1.0000000 0.0000000) *\n",
              "      7) Petal.Length>=4.45 121 48 virginica (0.0000000 0.3966942 0.6033058)  \n",
              "       14) Sepal.Width>=3.15 18  2 versicolor (0.0000000 0.8888889 0.1111111) *\n",
              "       15) Sepal.Width< 3.15 103 32 virginica (0.0000000 0.3106796 0.6893204)  \n",
              "         30) Petal.Width< 1.75 74 32 virginica (0.0000000 0.4324324 0.5675676)  \n",
              "           60) Sepal.Length>=5.45 61 29 versicolor (0.0000000 0.5245902 0.4754098)  \n",
              "            120) Petal.Length< 5.35 50 18 versicolor (0.0000000 0.6400000 0.3600000)  \n",
              "              240) Petal.Width>=1.55 25  0 versicolor (0.0000000 1.0000000 0.0000000) *\n",
              "              241) Petal.Width< 1.55 25  7 virginica (0.0000000 0.2800000 0.7200000)  \n",
              "                482) Petal.Length< 4.95 7  0 versicolor (0.0000000 1.0000000 0.0000000) *\n",
              "                483) Petal.Length>=4.95 18  0 virginica (0.0000000 0.0000000 1.0000000) *\n",
              "            121) Petal.Length>=5.35 11  0 virginica (0.0000000 0.0000000 1.0000000) *\n",
              "           61) Sepal.Length< 5.45 13  0 virginica (0.0000000 0.0000000 1.0000000) *\n",
              "         31) Petal.Width>=1.75 29  0 virginica (0.0000000 0.0000000 1.0000000) *\n",
              "\n",
              "[[10]]\n",
              "n= 150 \n",
              "\n",
              "node), split, n, loss, yval, (yprob)\n",
              "      * denotes terminal node\n",
              "\n",
              " 1) root 150 66 virginica (0.08000000 0.36000000 0.56000000)  \n",
              "   2) Petal.Length< 5.05 83 38 versicolor (0.14457831 0.54216867 0.31325301)  \n",
              "     4) Petal.Length< 2.5 12  0 setosa (1.00000000 0.00000000 0.00000000) *\n",
              "     5) Petal.Length>=2.5 71 26 versicolor (0.00000000 0.63380282 0.36619718)  \n",
              "      10) Sepal.Length>=6.25 28  1 versicolor (0.00000000 0.96428571 0.03571429) *\n",
              "      11) Sepal.Length< 6.25 43 18 virginica (0.00000000 0.41860465 0.58139535)  \n",
              "        22) Sepal.Width>=3.1 9  0 versicolor (0.00000000 1.00000000 0.00000000) *\n",
              "        23) Sepal.Width< 3.1 34  9 virginica (0.00000000 0.26470588 0.73529412)  \n",
              "          46) Petal.Length< 4.65 15  6 versicolor (0.00000000 0.60000000 0.40000000) *\n",
              "          47) Petal.Length>=4.65 19  0 virginica (0.00000000 0.00000000 1.00000000) *\n",
              "   3) Petal.Length>=5.05 67  9 virginica (0.00000000 0.13432836 0.86567164)  \n",
              "     6) Sepal.Length< 6.05 12  3 versicolor (0.00000000 0.75000000 0.25000000) *\n",
              "     7) Sepal.Length>=6.05 55  0 virginica (0.00000000 0.00000000 1.00000000) *\n"
            ]
          },
          "metadata": {}
        }
      ]
    },
    {
      "cell_type": "code",
      "source": [
        "# plot the decision tree after iteration 10 data\n",
        "plot(iris.adaboost$trees[[10]])\n",
        "text(iris.adaboost$trees[[10]])"
      ],
      "metadata": {
        "colab": {
          "base_uri": "https://localhost:8080/",
          "height": 437
        },
        "id": "wNePch6rsFkG",
        "outputId": "e21bead4-10dc-4611-c467-fdc070f4c969"
      },
      "execution_count": null,
      "outputs": [
        {
          "output_type": "display_data",
          "data": {
            "text/plain": [
              "plot without title"
            ],
            "image/png": "[encoded data removed]"
          },
          "metadata": {
            "image/png": {
              "width": 420,
              "height": 420
            }
          }
        }
      ]
    },
    {
      "cell_type": "code",
      "source": [
        "# classify the iris data using the adaboosting model\n",
        "adaboostpred <- predict(iris.adaboost, newdata=iris)"
      ],
      "metadata": {
        "id": "iEdp0xp2sOTH"
      },
      "execution_count": null,
      "outputs": []
    },
    {
      "cell_type": "code",
      "source": [
        "table(adaboostpred$class, iris[,5])"
      ],
      "metadata": {
        "colab": {
          "base_uri": "https://localhost:8080/",
          "height": 104
        },
        "id": "yy_00kyfsRkT",
        "outputId": "80a85231-199a-4321-92ec-8555fa025416"
      },
      "execution_count": null,
      "outputs": [
        {
          "output_type": "display_data",
          "data": {
            "text/plain": [
              "            \n",
              "             setosa versicolor virginica\n",
              "  setosa         50          0         0\n",
              "  versicolor      0         50         0\n",
              "  virginica       0          0        50"
            ]
          },
          "metadata": {}
        }
      ]
    },
    {
      "cell_type": "code",
      "source": [
        "# calculate the misclassification error\n",
        "adaboosttb <- table(adaboostpred$class, iris[,5])"
      ],
      "metadata": {
        "id": "HedgUvemsafJ"
      },
      "execution_count": null,
      "outputs": []
    },
    {
      "cell_type": "code",
      "source": [
        "adaboosterror <- 1-(sum(diag(adaboosttb))/sum(adaboosttb))"
      ],
      "metadata": {
        "id": "9MUomdoEtEke"
      },
      "execution_count": null,
      "outputs": []
    },
    {
      "cell_type": "code",
      "source": [
        "# misclassification error is 0%\n",
        "adaboosterror"
      ],
      "metadata": {
        "colab": {
          "base_uri": "https://localhost:8080/",
          "height": 34
        },
        "id": "Nkf7MasttH84",
        "outputId": "621191fc-fcb4-4892-d5d5-1f19d8458713"
      },
      "execution_count": null,
      "outputs": [
        {
          "output_type": "display_data",
          "data": {
            "text/html": [
              "0"
            ],
            "text/markdown": "0",
            "text/latex": "0",
            "text/plain": [
              "[1] 0"
            ]
          },
          "metadata": {}
        }
      ]
    }
  ]
}