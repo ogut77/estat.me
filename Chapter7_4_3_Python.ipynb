{
  "nbformat": 4,
  "nbformat_minor": 0,
  "metadata": {
    "colab": {
      "provenance": [],
      "name": "Chapter7.4.3.Python.ipynb",
      "authorship_tag": "ABX9TyM2fGA6PEJZ0buP7K6LkjR4",
      "include_colab_link": true
    },
    "kernelspec": {
      "name": "python3",
      "display_name": "Python 3"
    },
    "language_info": {
      "name": "python"
    }
  },
  "cells": [
    {
      "cell_type": "markdown",
      "metadata": {
        "id": "view-in-github",
        "colab_type": "text"
      },
      "source": [
        "<a href=\"https://colab.research.google.com/github/ogut77/estat.me/blob/main/Chapter7_4_3_Python.ipynb\" target=\"_parent\"><img src=\"https://colab.research.google.com/assets/colab-badge.svg\" alt=\"Open In Colab\"/></a>"
      ]
    },
    {
      "cell_type": "markdown",
      "source": [
        "Neural Network"
      ],
      "metadata": {
        "id": "EKIzr0kbeW0c"
      }
    },
    {
      "cell_type": "code",
      "source": [
        "import pandas as pd\n",
        "import numpy as np\n",
        "from sklearn.neural_network import MLPClassifier\n",
        "\n",
        "# Load data\n",
        "singleNNdata = pd.read_csv('https://raw.githubusercontent.com/ogut77/DataScience/refs/heads/main/singleNN.csv')"
      ],
      "metadata": {
        "id": "O48C6SvKeWbe"
      },
      "execution_count": null,
      "outputs": []
    },
    {
      "cell_type": "code",
      "source": [
        "\n",
        "# Create training and testing data using the first 8 rows\n",
        "train = singleNNdata.iloc[:8]\n",
        "test = singleNNdata.iloc[:8]\n",
        "\n",
        "# Prepare features and target for training\n",
        "X_train = train[['x1', 'x2', 'x3']]\n",
        "y_train = train['y']"
      ],
      "metadata": {
        "id": "lo8-qhVK5iiM"
      },
      "execution_count": null,
      "outputs": []
    },
    {
      "cell_type": "code",
      "source": [
        "# Initialize and train the neural network\n",
        "# size=2 (2 hidden neurons), decay=5e-4 (weight decay), maxit=100 (max iterations)\n",
        "nn_model = MLPClassifier(hidden_layer_sizes=(2,),\n",
        "                         alpha=5e-4,\n",
        "                         max_iter=100,\n",
        "                         random_state=0,\n",
        "                         learning_rate_init=0.1)  # rang=0.1 maps to initial learning rate\n",
        "nn_model.fit(X_train, y_train)"
      ],
      "metadata": {
        "id": "T52Obt2g5kjT"
      },
      "execution_count": null,
      "outputs": []
    },
    {
      "cell_type": "code",
      "source": [
        "# Print model summary\n",
        "print(\"Number of layers:\", nn_model.n_layers_)\n",
        "print(\"Number of neurons in hidden layer:\", nn_model.hidden_layer_sizes)\n",
        "print(\"Output layer activation:\", nn_model.out_activation_)\n",
        "print(\"Loss:\", nn_model.loss_)\n",
        "print(\"Number of iterations:\", nn_model.n_iter_)\n",
        "print(\"Weights:\", nn_model.coefs_)\n",
        "print(\"Biases:\", nn_model.intercepts_)"
      ],
      "metadata": {
        "id": "-adb9d8h5mTX"
      },
      "execution_count": null,
      "outputs": []
    },
    {
      "cell_type": "code",
      "source": [
        "\n",
        "# Neural Network - Predictions and Confusion Matrix\n",
        "y_pred_nn = nn_model.predict(X_test)\n",
        "y_pred_prob = nn_model.predict_proba(X_test)\n",
        "accuracy_nn = accuracy_score(y_test, y_pred_nn)\n",
        "cm_nn = confusion_matrix(y_test, y_pred_nn)\n",
        "print(f\"Neural Network Probability Prediction:\\n {y_pred_prob}\")\n",
        "print(f\"Neural Network Accuracy: {accuracy_nn}\")\n",
        "print(f\"Neural Network Confusion Matrix:\\n{cm_nn}\")"
      ],
      "metadata": {
        "id": "LPO_xq1k5nyy"
      },
      "execution_count": null,
      "outputs": []
    }
  ]
}