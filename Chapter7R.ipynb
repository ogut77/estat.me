{
  "nbformat": 4,
  "nbformat_minor": 0,
  "metadata": {
    "colab": {
      "provenance": []
    },
    "kernelspec": {
      "name": "ir",
      "display_name": "R"
    },
    "language_info": {
      "name": "R"
    }
  },
  "cells": [
    {
      "cell_type": "code",
      "execution_count": null,
      "metadata": {
        "colab": {
          "base_uri": "https://localhost:8080/",
          "height": 864
        },
        "id": "im9ipz3Vej1F",
        "outputId": "86e4248b-89ea-4827-c7d2-855572ba7e61"
      },
      "outputs": [
        {
          "output_type": "stream",
          "name": "stderr",
          "text": [
            "\u001b[1mRows: \u001b[22m\u001b[34m20\u001b[39m \u001b[1mColumns: \u001b[22m\u001b[34m3\u001b[39m\n",
            "\u001b[36m──\u001b[39m \u001b[1mColumn specification\u001b[22m \u001b[36m────────────────────────────────────────────────────────\u001b[39m\n",
            "\u001b[1mDelimiter:\u001b[22m \",\"\n",
            "\u001b[31mchr\u001b[39m (1): Purchase\n",
            "\u001b[32mdbl\u001b[39m (2): Age, Income\n",
            "\n",
            "\u001b[36mℹ\u001b[39m Use `spec()` to retrieve the full column specification for this data.\n",
            "\u001b[36mℹ\u001b[39m Specify the column types or set `show_col_types = FALSE` to quiet this message.\n"
          ]
        },
        {
          "output_type": "display_data",
          "data": {
            "text/html": [
              "<table class=\"dataframe\">\n",
              "<caption>A spec_tbl_df: 20 × 3</caption>\n",
              "<thead>\n",
              "\t<tr><th scope=col>Age</th><th scope=col>Income</th><th scope=col>Purchase</th></tr>\n",
              "\t<tr><th scope=col>&lt;dbl&gt;</th><th scope=col>&lt;dbl&gt;</th><th scope=col>&lt;chr&gt;</th></tr>\n",
              "</thead>\n",
              "<tbody>\n",
              "\t<tr><td>25</td><td>150</td><td>Yes</td></tr>\n",
              "\t<tr><td>34</td><td>220</td><td>No </td></tr>\n",
              "\t<tr><td>27</td><td>210</td><td>No </td></tr>\n",
              "\t<tr><td>28</td><td>250</td><td>Yes</td></tr>\n",
              "\t<tr><td>21</td><td>100</td><td>No </td></tr>\n",
              "\t<tr><td>31</td><td>220</td><td>No </td></tr>\n",
              "\t<tr><td>36</td><td>300</td><td>Yes</td></tr>\n",
              "\t<tr><td>20</td><td>100</td><td>No </td></tr>\n",
              "\t<tr><td>29</td><td>220</td><td>No </td></tr>\n",
              "\t<tr><td>32</td><td>250</td><td>Yes</td></tr>\n",
              "\t<tr><td>37</td><td>400</td><td>Yes</td></tr>\n",
              "\t<tr><td>24</td><td>120</td><td>No </td></tr>\n",
              "\t<tr><td>33</td><td>350</td><td>No </td></tr>\n",
              "\t<tr><td>30</td><td>180</td><td>Yes</td></tr>\n",
              "\t<tr><td>38</td><td>350</td><td>Yes</td></tr>\n",
              "\t<tr><td>32</td><td>250</td><td>No </td></tr>\n",
              "\t<tr><td>28</td><td>240</td><td>No </td></tr>\n",
              "\t<tr><td>22</td><td>220</td><td>No </td></tr>\n",
              "\t<tr><td>39</td><td>450</td><td>Yes</td></tr>\n",
              "\t<tr><td>26</td><td>150</td><td>No </td></tr>\n",
              "</tbody>\n",
              "</table>\n"
            ],
            "text/markdown": "\nA spec_tbl_df: 20 × 3\n\n| Age &lt;dbl&gt; | Income &lt;dbl&gt; | Purchase &lt;chr&gt; |\n|---|---|---|\n| 25 | 150 | Yes |\n| 34 | 220 | No  |\n| 27 | 210 | No  |\n| 28 | 250 | Yes |\n| 21 | 100 | No  |\n| 31 | 220 | No  |\n| 36 | 300 | Yes |\n| 20 | 100 | No  |\n| 29 | 220 | No  |\n| 32 | 250 | Yes |\n| 37 | 400 | Yes |\n| 24 | 120 | No  |\n| 33 | 350 | No  |\n| 30 | 180 | Yes |\n| 38 | 350 | Yes |\n| 32 | 250 | No  |\n| 28 | 240 | No  |\n| 22 | 220 | No  |\n| 39 | 450 | Yes |\n| 26 | 150 | No  |\n\n",
            "text/latex": "A spec\\_tbl\\_df: 20 × 3\n\\begin{tabular}{lll}\n Age & Income & Purchase\\\\\n <dbl> & <dbl> & <chr>\\\\\n\\hline\n\t 25 & 150 & Yes\\\\\n\t 34 & 220 & No \\\\\n\t 27 & 210 & No \\\\\n\t 28 & 250 & Yes\\\\\n\t 21 & 100 & No \\\\\n\t 31 & 220 & No \\\\\n\t 36 & 300 & Yes\\\\\n\t 20 & 100 & No \\\\\n\t 29 & 220 & No \\\\\n\t 32 & 250 & Yes\\\\\n\t 37 & 400 & Yes\\\\\n\t 24 & 120 & No \\\\\n\t 33 & 350 & No \\\\\n\t 30 & 180 & Yes\\\\\n\t 38 & 350 & Yes\\\\\n\t 32 & 250 & No \\\\\n\t 28 & 240 & No \\\\\n\t 22 & 220 & No \\\\\n\t 39 & 450 & Yes\\\\\n\t 26 & 150 & No \\\\\n\\end{tabular}\n",
            "text/plain": [
              "   Age Income Purchase\n",
              "1  25  150    Yes     \n",
              "2  34  220    No      \n",
              "3  27  210    No      \n",
              "4  28  250    Yes     \n",
              "5  21  100    No      \n",
              "6  31  220    No      \n",
              "7  36  300    Yes     \n",
              "8  20  100    No      \n",
              "9  29  220    No      \n",
              "10 32  250    Yes     \n",
              "11 37  400    Yes     \n",
              "12 24  120    No      \n",
              "13 33  350    No      \n",
              "14 30  180    Yes     \n",
              "15 38  350    Yes     \n",
              "16 32  250    No      \n",
              "17 28  240    No      \n",
              "18 22  220    No      \n",
              "19 39  450    Yes     \n",
              "20 26  150    No      "
            ]
          },
          "metadata": {}
        }
      ],
      "source": [
        "\n",
        "customer <- read_csv('https://raw.githubusercontent.com/ogut77/DataScience/refs/heads/main/PurchaseByCredit20_Continuous.csv')\n",
        "customer\n"
      ]
    },
    {
      "cell_type": "code",
      "source": [
        "\n"
      ],
      "metadata": {
        "id": "HSSReVnkfD3P"
      },
      "execution_count": null,
      "outputs": []
    },
    {
      "cell_type": "code",
      "source": [
        "install.packages('MASS')\n",
        "library(MASS)"
      ],
      "metadata": {
        "colab": {
          "base_uri": "https://localhost:8080/"
        },
        "id": "U1NYHubo0faG",
        "outputId": "1fe9feee-88f0-4a7e-e9ee-90060e937eb7"
      },
      "execution_count": null,
      "outputs": [
        {
          "output_type": "stream",
          "name": "stderr",
          "text": [
            "Installing package into ‘/usr/local/lib/R/site-library’\n",
            "(as ‘lib’ is unspecified)\n",
            "\n",
            "\n",
            "Attaching package: ‘MASS’\n",
            "\n",
            "\n",
            "The following object is masked from ‘package:dplyr’:\n",
            "\n",
            "    select\n",
            "\n",
            "\n"
          ]
        }
      ]
    },
    {
      "cell_type": "code",
      "source": [
        " ldamodel <- lda(Purchase ~ ., customer)\n",
        " ldamodel"
      ],
      "metadata": {
        "id": "CsW-sHLg0bSI"
      },
      "execution_count": null,
      "outputs": []
    },
    {
      "cell_type": "code",
      "source": [
        "\n",
        " pred <- predict(ldamodel, customer)"
      ],
      "metadata": {
        "colab": {
          "base_uri": "https://localhost:8080/",
          "height": 295
        },
        "id": "s4RnhmIs0nsw",
        "outputId": "93db4c73-666f-4802-c0ab-910b4bf4987d"
      },
      "execution_count": null,
      "outputs": [
        {
          "output_type": "display_data",
          "data": {
            "text/plain": [
              "Call:\n",
              "lda(Purchase ~ ., data = customer)\n",
              "\n",
              "Prior probabilities of groups:\n",
              " No Yes \n",
              "0.6 0.4 \n",
              "\n",
              "Group means:\n",
              "       Age Income\n",
              "No  27.250 200.00\n",
              "Yes 33.125 291.25\n",
              "\n",
              "Coefficients of linear discriminants:\n",
              "               LD1\n",
              "Age    0.173328870\n",
              "Income 0.001994526"
            ]
          },
          "metadata": {}
        }
      ]
    },
    {
      "cell_type": "code",
      "source": [
        "pred$class"
      ],
      "metadata": {
        "colab": {
          "base_uri": "https://localhost:8080/",
          "height": 52
        },
        "id": "pt1ubeWa0ukF",
        "outputId": "d1dd7170-86a2-42d8-aef9-17e8d80d46eb"
      },
      "execution_count": null,
      "outputs": [
        {
          "output_type": "display_data",
          "data": {
            "text/html": [
              "<style>\n",
              ".list-inline {list-style: none; margin:0; padding: 0}\n",
              ".list-inline>li {display: inline-block}\n",
              ".list-inline>li:not(:last-child)::after {content: \"\\00b7\"; padding: 0 .5ex}\n",
              "</style>\n",
              "<ol class=list-inline><li>No</li><li>Yes</li><li>No</li><li>No</li><li>No</li><li>No</li><li>Yes</li><li>No</li><li>No</li><li>No</li><li>Yes</li><li>No</li><li>Yes</li><li>No</li><li>Yes</li><li>No</li><li>No</li><li>No</li><li>Yes</li><li>No</li></ol>\n",
              "\n",
              "<details>\n",
              "\t<summary style=display:list-item;cursor:pointer>\n",
              "\t\t<strong>Levels</strong>:\n",
              "\t</summary>\n",
              "\t<style>\n",
              "\t.list-inline {list-style: none; margin:0; padding: 0}\n",
              "\t.list-inline>li {display: inline-block}\n",
              "\t.list-inline>li:not(:last-child)::after {content: \"\\00b7\"; padding: 0 .5ex}\n",
              "\t</style>\n",
              "\t<ol class=list-inline><li>'No'</li><li>'Yes'</li></ol>\n",
              "</details>"
            ],
            "text/markdown": "1. No\n2. Yes\n3. No\n4. No\n5. No\n6. No\n7. Yes\n8. No\n9. No\n10. No\n11. Yes\n12. No\n13. Yes\n14. No\n15. Yes\n16. No\n17. No\n18. No\n19. Yes\n20. No\n\n\n\n**Levels**: 1. 'No'\n2. 'Yes'\n\n\n",
            "text/latex": "\\begin{enumerate*}\n\\item No\n\\item Yes\n\\item No\n\\item No\n\\item No\n\\item No\n\\item Yes\n\\item No\n\\item No\n\\item No\n\\item Yes\n\\item No\n\\item Yes\n\\item No\n\\item Yes\n\\item No\n\\item No\n\\item No\n\\item Yes\n\\item No\n\\end{enumerate*}\n\n\\emph{Levels}: \\begin{enumerate*}\n\\item 'No'\n\\item 'Yes'\n\\end{enumerate*}\n",
            "text/plain": [
              " [1] No  Yes No  No  No  No  Yes No  No  No  Yes No  Yes No  Yes No  No  No  Yes\n",
              "[20] No \n",
              "Levels: No Yes"
            ]
          },
          "metadata": {}
        }
      ]
    },
    {
      "cell_type": "code",
      "source": [
        "classtable <- table(Purchase,pred$class)\n",
        "classtable"
      ],
      "metadata": {
        "colab": {
          "base_uri": "https://localhost:8080/",
          "height": 86
        },
        "id": "qZEEHdRr0xm4",
        "outputId": "92c01df8-e7e8-4231-c0d4-5dabfcb1b0f4"
      },
      "execution_count": null,
      "outputs": [
        {
          "output_type": "display_data",
          "data": {
            "text/plain": [
              "        \n",
              "Purchase No Yes\n",
              "     No  10   2\n",
              "     Yes  4   4"
            ]
          },
          "metadata": {}
        }
      ]
    },
    {
      "cell_type": "code",
      "source": [
        " sum(diag(classtable)) / sum(classtable)"
      ],
      "metadata": {
        "colab": {
          "base_uri": "https://localhost:8080/",
          "height": 34
        },
        "id": "SkiJvB7V03gG",
        "outputId": "8605016d-df5b-4b24-c5c6-a0c9fa012dd9"
      },
      "execution_count": null,
      "outputs": [
        {
          "output_type": "display_data",
          "data": {
            "text/html": [
              "0.7"
            ],
            "text/markdown": "0.7",
            "text/latex": "0.7",
            "text/plain": [
              "[1] 0.7"
            ]
          },
          "metadata": {}
        }
      ]
    },
    {
      "cell_type": "code",
      "source": [
        "# prompt: write logistic regression in r\n",
        "\n",
        "customer$Purchase <- ifelse(customer$Purchase == \"Yes\", 1, 0)\n",
        "\n",
        "\n",
        "# Train a logistic regression model\n",
        "logitmodel <- glm(Purchase ~ ., data = customer, family = binomial)\n",
        "logitmodel"
      ],
      "metadata": {
        "colab": {
          "base_uri": "https://localhost:8080/",
          "height": 191
        },
        "id": "lGaG3E-r0-td",
        "outputId": "ec139b56-88dd-4fd8-f3fd-47fe44e0bd1f"
      },
      "execution_count": null,
      "outputs": [
        {
          "output_type": "display_data",
          "data": {
            "text/plain": [
              "\n",
              "Call:  glm(formula = Purchase ~ ., family = binomial, data = customer)\n",
              "\n",
              "Coefficients:\n",
              "(Intercept)          Age       Income  \n",
              "  -7.629959     0.223517     0.001918  \n",
              "\n",
              "Degrees of Freedom: 19 Total (i.e. Null);  17 Residual\n",
              "Null Deviance:\t    26.92 \n",
              "Residual Deviance: 20.68 \tAIC: 26.68"
            ]
          },
          "metadata": {}
        }
      ]
    },
    {
      "cell_type": "markdown",
      "source": [
        "Nearest **Neigbor**"
      ],
      "metadata": {
        "id": "W7diTU8r1dOQ"
      }
    },
    {
      "cell_type": "code",
      "source": [
        "install.packages('DMwR')"
      ],
      "metadata": {
        "colab": {
          "base_uri": "https://localhost:8080/"
        },
        "id": "MUOtWtIv1gGl",
        "outputId": "f5b65636-f89c-4456-e6c3-0955b1ae32ab"
      },
      "execution_count": null,
      "outputs": [
        {
          "output_type": "stream",
          "name": "stderr",
          "text": [
            "Installing package into ‘/usr/local/lib/R/site-library’\n",
            "(as ‘lib’ is unspecified)\n",
            "\n",
            "Warning message:\n",
            "“package ‘DMwR’ is not available for this version of R\n",
            "\n",
            "A version of this package for your version of R might be available elsewhere,\n",
            "see the ideas at\n",
            "https://cran.r-project.org/doc/manuals/r-patched/R-admin.html#Installing-packages”\n"
          ]
        }
      ]
    },
    {
      "cell_type": "code",
      "source": [
        "library(readr)\n",
        "customer <- read_csv('https://raw.githubusercontent.com/ogut77/DataScience/refs/heads/main/PurchaseByCredit20_Continuous.csv')\n",
        "customer"
      ],
      "metadata": {
        "colab": {
          "base_uri": "https://localhost:8080/",
          "height": 864
        },
        "id": "pIOzReXh1ucQ",
        "outputId": "c9774a37-4706-4395-8742-1b1c5439d436"
      },
      "execution_count": null,
      "outputs": [
        {
          "output_type": "stream",
          "name": "stderr",
          "text": [
            "\u001b[1mRows: \u001b[22m\u001b[34m20\u001b[39m \u001b[1mColumns: \u001b[22m\u001b[34m3\u001b[39m\n",
            "\u001b[36m──\u001b[39m \u001b[1mColumn specification\u001b[22m \u001b[36m────────────────────────────────────────────────────────\u001b[39m\n",
            "\u001b[1mDelimiter:\u001b[22m \",\"\n",
            "\u001b[31mchr\u001b[39m (1): Purchase\n",
            "\u001b[32mdbl\u001b[39m (2): Age, Income\n",
            "\n",
            "\u001b[36mℹ\u001b[39m Use `spec()` to retrieve the full column specification for this data.\n",
            "\u001b[36mℹ\u001b[39m Specify the column types or set `show_col_types = FALSE` to quiet this message.\n"
          ]
        },
        {
          "output_type": "display_data",
          "data": {
            "text/html": [
              "<table class=\"dataframe\">\n",
              "<caption>A spec_tbl_df: 20 × 3</caption>\n",
              "<thead>\n",
              "\t<tr><th scope=col>Age</th><th scope=col>Income</th><th scope=col>Purchase</th></tr>\n",
              "\t<tr><th scope=col>&lt;dbl&gt;</th><th scope=col>&lt;dbl&gt;</th><th scope=col>&lt;chr&gt;</th></tr>\n",
              "</thead>\n",
              "<tbody>\n",
              "\t<tr><td>25</td><td>150</td><td>Yes</td></tr>\n",
              "\t<tr><td>34</td><td>220</td><td>No </td></tr>\n",
              "\t<tr><td>27</td><td>210</td><td>No </td></tr>\n",
              "\t<tr><td>28</td><td>250</td><td>Yes</td></tr>\n",
              "\t<tr><td>21</td><td>100</td><td>No </td></tr>\n",
              "\t<tr><td>31</td><td>220</td><td>No </td></tr>\n",
              "\t<tr><td>36</td><td>300</td><td>Yes</td></tr>\n",
              "\t<tr><td>20</td><td>100</td><td>No </td></tr>\n",
              "\t<tr><td>29</td><td>220</td><td>No </td></tr>\n",
              "\t<tr><td>32</td><td>250</td><td>Yes</td></tr>\n",
              "\t<tr><td>37</td><td>400</td><td>Yes</td></tr>\n",
              "\t<tr><td>24</td><td>120</td><td>No </td></tr>\n",
              "\t<tr><td>33</td><td>350</td><td>No </td></tr>\n",
              "\t<tr><td>30</td><td>180</td><td>Yes</td></tr>\n",
              "\t<tr><td>38</td><td>350</td><td>Yes</td></tr>\n",
              "\t<tr><td>32</td><td>250</td><td>No </td></tr>\n",
              "\t<tr><td>28</td><td>240</td><td>No </td></tr>\n",
              "\t<tr><td>22</td><td>220</td><td>No </td></tr>\n",
              "\t<tr><td>39</td><td>450</td><td>Yes</td></tr>\n",
              "\t<tr><td>26</td><td>150</td><td>No </td></tr>\n",
              "</tbody>\n",
              "</table>\n"
            ],
            "text/markdown": "\nA spec_tbl_df: 20 × 3\n\n| Age &lt;dbl&gt; | Income &lt;dbl&gt; | Purchase &lt;chr&gt; |\n|---|---|---|\n| 25 | 150 | Yes |\n| 34 | 220 | No  |\n| 27 | 210 | No  |\n| 28 | 250 | Yes |\n| 21 | 100 | No  |\n| 31 | 220 | No  |\n| 36 | 300 | Yes |\n| 20 | 100 | No  |\n| 29 | 220 | No  |\n| 32 | 250 | Yes |\n| 37 | 400 | Yes |\n| 24 | 120 | No  |\n| 33 | 350 | No  |\n| 30 | 180 | Yes |\n| 38 | 350 | Yes |\n| 32 | 250 | No  |\n| 28 | 240 | No  |\n| 22 | 220 | No  |\n| 39 | 450 | Yes |\n| 26 | 150 | No  |\n\n",
            "text/latex": "A spec\\_tbl\\_df: 20 × 3\n\\begin{tabular}{lll}\n Age & Income & Purchase\\\\\n <dbl> & <dbl> & <chr>\\\\\n\\hline\n\t 25 & 150 & Yes\\\\\n\t 34 & 220 & No \\\\\n\t 27 & 210 & No \\\\\n\t 28 & 250 & Yes\\\\\n\t 21 & 100 & No \\\\\n\t 31 & 220 & No \\\\\n\t 36 & 300 & Yes\\\\\n\t 20 & 100 & No \\\\\n\t 29 & 220 & No \\\\\n\t 32 & 250 & Yes\\\\\n\t 37 & 400 & Yes\\\\\n\t 24 & 120 & No \\\\\n\t 33 & 350 & No \\\\\n\t 30 & 180 & Yes\\\\\n\t 38 & 350 & Yes\\\\\n\t 32 & 250 & No \\\\\n\t 28 & 240 & No \\\\\n\t 22 & 220 & No \\\\\n\t 39 & 450 & Yes\\\\\n\t 26 & 150 & No \\\\\n\\end{tabular}\n",
            "text/plain": [
              "   Age Income Purchase\n",
              "1  25  150    Yes     \n",
              "2  34  220    No      \n",
              "3  27  210    No      \n",
              "4  28  250    Yes     \n",
              "5  21  100    No      \n",
              "6  31  220    No      \n",
              "7  36  300    Yes     \n",
              "8  20  100    No      \n",
              "9  29  220    No      \n",
              "10 32  250    Yes     \n",
              "11 37  400    Yes     \n",
              "12 24  120    No      \n",
              "13 33  350    No      \n",
              "14 30  180    Yes     \n",
              "15 38  350    Yes     \n",
              "16 32  250    No      \n",
              "17 28  240    No      \n",
              "18 22  220    No      \n",
              "19 39  450    Yes     \n",
              "20 26  150    No      "
            ]
          },
          "metadata": {}
        }
      ]
    },
    {
      "cell_type": "code",
      "source": [
        "attach(customer)"
      ],
      "metadata": {
        "colab": {
          "base_uri": "https://localhost:8080/"
        },
        "id": "oEllRVYHMjy5",
        "outputId": "7bebf5ba-05af-4946-8443-68bcce116be9"
      },
      "execution_count": null,
      "outputs": [
        {
          "output_type": "stream",
          "name": "stderr",
          "text": [
            "The following objects are masked from customer (pos = 4):\n",
            "\n",
            "    Age, Income, Purchase\n",
            "\n",
            "\n"
          ]
        }
      ]
    },
    {
      "cell_type": "code",
      "source": [
        "Purchase"
      ],
      "metadata": {
        "colab": {
          "base_uri": "https://localhost:8080/",
          "height": 52
        },
        "id": "g3UYdf_R131S",
        "outputId": "8fe14d27-887e-4323-f35f-af3bc1499e90"
      },
      "execution_count": null,
      "outputs": [
        {
          "output_type": "display_data",
          "data": {
            "text/html": [
              "<style>\n",
              ".list-inline {list-style: none; margin:0; padding: 0}\n",
              ".list-inline>li {display: inline-block}\n",
              ".list-inline>li:not(:last-child)::after {content: \"\\00b7\"; padding: 0 .5ex}\n",
              "</style>\n",
              "<ol class=list-inline><li>'Yes'</li><li>'No'</li><li>'No'</li><li>'Yes'</li><li>'No'</li><li>'No'</li><li>'Yes'</li><li>'No'</li><li>'No'</li><li>'Yes'</li><li>'Yes'</li><li>'No'</li><li>'No'</li><li>'Yes'</li><li>'Yes'</li><li>'No'</li><li>'No'</li><li>'No'</li><li>'Yes'</li><li>'No'</li></ol>\n"
            ],
            "text/markdown": "1. 'Yes'\n2. 'No'\n3. 'No'\n4. 'Yes'\n5. 'No'\n6. 'No'\n7. 'Yes'\n8. 'No'\n9. 'No'\n10. 'Yes'\n11. 'Yes'\n12. 'No'\n13. 'No'\n14. 'Yes'\n15. 'Yes'\n16. 'No'\n17. 'No'\n18. 'No'\n19. 'Yes'\n20. 'No'\n\n\n",
            "text/latex": "\\begin{enumerate*}\n\\item 'Yes'\n\\item 'No'\n\\item 'No'\n\\item 'Yes'\n\\item 'No'\n\\item 'No'\n\\item 'Yes'\n\\item 'No'\n\\item 'No'\n\\item 'Yes'\n\\item 'Yes'\n\\item 'No'\n\\item 'No'\n\\item 'Yes'\n\\item 'Yes'\n\\item 'No'\n\\item 'No'\n\\item 'No'\n\\item 'Yes'\n\\item 'No'\n\\end{enumerate*}\n",
            "text/plain": [
              " [1] \"Yes\" \"No\"  \"No\"  \"Yes\" \"No\"  \"No\"  \"Yes\" \"No\"  \"No\"  \"Yes\" \"Yes\" \"No\" \n",
              "[13] \"No\"  \"Yes\" \"Yes\" \"No\"  \"No\"  \"No\"  \"Yes\" \"No\" "
            ]
          },
          "metadata": {}
        }
      ]
    },
    {
      "cell_type": "code",
      "source": [
        "library(DMwR2)\n",
        " nn <- kNN(Purchase ~ ., customer, customer, k=5)"
      ],
      "metadata": {
        "colab": {
          "base_uri": "https://localhost:8080/",
          "height": 315
        },
        "id": "-cXAx7k91kX4",
        "outputId": "6241a27b-a34b-4700-bc59-84a6d77e9bb2"
      },
      "execution_count": null,
      "outputs": [
        {
          "output_type": "error",
          "ename": "ERROR",
          "evalue": "Error in class::knn(train[, -tgtCol], test[, -tgtCol], train[, tgtCol], : 'train' and 'class' have different lengths\n",
          "traceback": [
            "Error in class::knn(train[, -tgtCol], test[, -tgtCol], train[, tgtCol], : 'train' and 'class' have different lengths\nTraceback:\n",
            "1. class::knn(train[, -tgtCol], test[, -tgtCol], train[, tgtCol], \n .     ...)",
            "2. stop(\"'train' and 'class' have different lengths\")",
            "3. .handleSimpleError(function (cnd) \n . {\n .     watcher$capture_plot_and_output()\n .     cnd <- sanitize_call(cnd)\n .     watcher$push(cnd)\n .     switch(on_error, continue = invokeRestart(\"eval_continue\"), \n .         stop = invokeRestart(\"eval_stop\"), error = NULL)\n . }, \"'train' and 'class' have different lengths\", base::quote(class::knn(train[, \n .     -tgtCol], test[, -tgtCol], train[, tgtCol], ...)))"
          ]
        }
      ]
    },
    {
      "cell_type": "code",
      "source": [
        "classtable <- table(Purchase, nn)\n",
        "sum(diag(classtable)) / sum(classtable)"
      ],
      "metadata": {
        "colab": {
          "base_uri": "https://localhost:8080/",
          "height": 228
        },
        "id": "fDKRdnf619Q6",
        "outputId": "dbe27e78-ad24-46ca-e2a9-aec4882180e6"
      },
      "execution_count": null,
      "outputs": [
        {
          "output_type": "error",
          "ename": "ERROR",
          "evalue": "Error: object 'nn' not found\n",
          "traceback": [
            "Error: object 'nn' not found\nTraceback:\n",
            "1. .handleSimpleError(function (cnd) \n . {\n .     watcher$capture_plot_and_output()\n .     cnd <- sanitize_call(cnd)\n .     watcher$push(cnd)\n .     switch(on_error, continue = invokeRestart(\"eval_continue\"), \n .         stop = invokeRestart(\"eval_stop\"), error = NULL)\n . }, \"object 'nn' not found\", base::quote(eval(expr, envir)))"
          ]
        }
      ]
    },
    {
      "cell_type": "markdown",
      "source": [
        "**Neural Network**"
      ],
      "metadata": {
        "id": "a9WGR7wz2Nu9"
      }
    },
    {
      "cell_type": "code",
      "source": [
        " install.packages('nnet')\n",
        " library(nnet)\n",
        " singleNNdata <- read.csv('https://raw.githubusercontent.com/ogut77/DataScience/refs/heads/main/singleNN.csv')\n"
      ],
      "metadata": {
        "colab": {
          "base_uri": "https://localhost:8080/"
        },
        "id": "GVbbJH032Q_L",
        "outputId": "818f0ea5-146e-4f82-929b-d5e4b4061f8d"
      },
      "execution_count": null,
      "outputs": [
        {
          "output_type": "stream",
          "name": "stderr",
          "text": [
            "Installing package into ‘/usr/local/lib/R/site-library’\n",
            "(as ‘lib’ is unspecified)\n",
            "\n"
          ]
        }
      ]
    },
    {
      "cell_type": "code",
      "source": [
        "attach(singleNNdata)"
      ],
      "metadata": {
        "id": "td7kHHyQK6FS"
      },
      "execution_count": null,
      "outputs": []
    },
    {
      "cell_type": "code",
      "source": [
        " singleNNdata"
      ],
      "metadata": {
        "colab": {
          "base_uri": "https://localhost:8080/",
          "height": 349
        },
        "id": "W8WGUCku3Azk",
        "outputId": "ffb9778c-341f-4c43-cff5-fd5039b04acc"
      },
      "execution_count": null,
      "outputs": [
        {
          "output_type": "display_data",
          "data": {
            "text/html": [
              "<table class=\"dataframe\">\n",
              "<caption>A data.frame: 8 × 4</caption>\n",
              "<thead>\n",
              "\t<tr><th scope=col>x1</th><th scope=col>x2</th><th scope=col>x3</th><th scope=col>y</th></tr>\n",
              "\t<tr><th scope=col>&lt;int&gt;</th><th scope=col>&lt;int&gt;</th><th scope=col>&lt;int&gt;</th><th scope=col>&lt;int&gt;</th></tr>\n",
              "</thead>\n",
              "<tbody>\n",
              "\t<tr><td>0</td><td>0</td><td>0</td><td>-1</td></tr>\n",
              "\t<tr><td>0</td><td>0</td><td>1</td><td>-1</td></tr>\n",
              "\t<tr><td>0</td><td>1</td><td>0</td><td>-1</td></tr>\n",
              "\t<tr><td>0</td><td>1</td><td>1</td><td> 1</td></tr>\n",
              "\t<tr><td>1</td><td>0</td><td>0</td><td>-1</td></tr>\n",
              "\t<tr><td>1</td><td>0</td><td>1</td><td> 1</td></tr>\n",
              "\t<tr><td>1</td><td>1</td><td>0</td><td> 1</td></tr>\n",
              "\t<tr><td>1</td><td>1</td><td>1</td><td> 1</td></tr>\n",
              "</tbody>\n",
              "</table>\n"
            ],
            "text/markdown": "\nA data.frame: 8 × 4\n\n| x1 &lt;int&gt; | x2 &lt;int&gt; | x3 &lt;int&gt; | y &lt;int&gt; |\n|---|---|---|---|\n| 0 | 0 | 0 | -1 |\n| 0 | 0 | 1 | -1 |\n| 0 | 1 | 0 | -1 |\n| 0 | 1 | 1 |  1 |\n| 1 | 0 | 0 | -1 |\n| 1 | 0 | 1 |  1 |\n| 1 | 1 | 0 |  1 |\n| 1 | 1 | 1 |  1 |\n\n",
            "text/latex": "A data.frame: 8 × 4\n\\begin{tabular}{llll}\n x1 & x2 & x3 & y\\\\\n <int> & <int> & <int> & <int>\\\\\n\\hline\n\t 0 & 0 & 0 & -1\\\\\n\t 0 & 0 & 1 & -1\\\\\n\t 0 & 1 & 0 & -1\\\\\n\t 0 & 1 & 1 &  1\\\\\n\t 1 & 0 & 0 & -1\\\\\n\t 1 & 0 & 1 &  1\\\\\n\t 1 & 1 & 0 &  1\\\\\n\t 1 & 1 & 1 &  1\\\\\n\\end{tabular}\n",
            "text/plain": [
              "  x1 x2 x3 y \n",
              "1 0  0  0  -1\n",
              "2 0  0  1  -1\n",
              "3 0  1  0  -1\n",
              "4 0  1  1   1\n",
              "5 1  0  0  -1\n",
              "6 1  0  1   1\n",
              "7 1  1  0   1\n",
              "8 1  1  1   1"
            ]
          },
          "metadata": {}
        }
      ]
    },
    {
      "cell_type": "code",
      "source": [
        "# create a training data using the 8 data.\n",
        "train <- singleNNdata[1:8,]\n",
        "# create a testing data using the same 8 data\n",
        "test <- singleNNdata[1:8,]\n",
        "train.nnet <- nnet(y~x1+x2+x3,data=train, size=2, rang=0.1, decay=5e-4, maxit=100)\n",
        "summary(train.nnet)"
      ],
      "metadata": {
        "colab": {
          "base_uri": "https://localhost:8080/",
          "height": 399
        },
        "id": "Wk36dEzA3Epi",
        "outputId": "9faa8faa-7694-42c3-dbe1-8f32deb0290b"
      },
      "execution_count": null,
      "outputs": [
        {
          "output_type": "stream",
          "name": "stdout",
          "text": [
            "# weights:  11\n",
            "initial  value 9.945813 \n",
            "iter  10 value 7.902015\n",
            "iter  20 value 6.775085\n",
            "iter  30 value 4.152398\n",
            "iter  40 value 4.130085\n",
            "iter  50 value 4.129914\n",
            "iter  60 value 4.129832\n",
            "iter  70 value 4.129705\n",
            "iter  80 value 4.129659\n",
            "iter  90 value 4.129641\n",
            "iter 100 value 4.129632\n",
            "final  value 4.129632 \n",
            "stopped after 100 iterations\n"
          ]
        },
        {
          "output_type": "display_data",
          "data": {
            "text/plain": [
              "a 3-2-1 network with 11 weights\n",
              "options were - decay=5e-04\n",
              " b->h1 i1->h1 i2->h1 i3->h1 \n",
              "  4.22  -3.11  -3.11  -3.11 \n",
              " b->h2 i1->h2 i2->h2 i3->h2 \n",
              "  3.99  -2.97  -2.96  -2.97 \n",
              " b->o h1->o h2->o \n",
              " 4.61 -7.50 -7.02 "
            ]
          },
          "metadata": {}
        }
      ]
    },
    {
      "cell_type": "code",
      "source": [
        "predict(train.nnet,test)\n",
        "nnetpred <- (predict(train.nnet,test) >= 0.01)\n"
      ],
      "metadata": {
        "colab": {
          "base_uri": "https://localhost:8080/",
          "height": 303
        },
        "id": "XuwGRPch3RKD",
        "outputId": "d7c5a255-65f9-4056-974e-f935593065a7"
      },
      "execution_count": null,
      "outputs": [
        {
          "output_type": "display_data",
          "data": {
            "text/html": [
              "<table class=\"dataframe\">\n",
              "<caption>A matrix: 8 × 1 of type dbl</caption>\n",
              "<tbody>\n",
              "\t<tr><th scope=row>1</th><td>6.327925e-05</td></tr>\n",
              "\t<tr><th scope=row>2</th><td>2.057801e-03</td></tr>\n",
              "\t<tr><th scope=row>3</th><td>2.038969e-03</td></tr>\n",
              "\t<tr><th scope=row>4</th><td>9.446234e-01</td></tr>\n",
              "\t<tr><th scope=row>5</th><td>2.074247e-03</td></tr>\n",
              "\t<tr><th scope=row>6</th><td>9.451265e-01</td></tr>\n",
              "\t<tr><th scope=row>7</th><td>9.448574e-01</td></tr>\n",
              "\t<tr><th scope=row>8</th><td>9.891801e-01</td></tr>\n",
              "</tbody>\n",
              "</table>\n"
            ],
            "text/markdown": "\nA matrix: 8 × 1 of type dbl\n\n| 1 | 6.327925e-05 |\n| 2 | 2.057801e-03 |\n| 3 | 2.038969e-03 |\n| 4 | 9.446234e-01 |\n| 5 | 2.074247e-03 |\n| 6 | 9.451265e-01 |\n| 7 | 9.448574e-01 |\n| 8 | 9.891801e-01 |\n\n",
            "text/latex": "A matrix: 8 × 1 of type dbl\n\\begin{tabular}{r|l}\n\t1 & 6.327925e-05\\\\\n\t2 & 2.057801e-03\\\\\n\t3 & 2.038969e-03\\\\\n\t4 & 9.446234e-01\\\\\n\t5 & 2.074247e-03\\\\\n\t6 & 9.451265e-01\\\\\n\t7 & 9.448574e-01\\\\\n\t8 & 9.891801e-01\\\\\n\\end{tabular}\n",
            "text/plain": [
              "  [,1]        \n",
              "1 6.327925e-05\n",
              "2 2.057801e-03\n",
              "3 2.038969e-03\n",
              "4 9.446234e-01\n",
              "5 2.074247e-03\n",
              "6 9.451265e-01\n",
              "7 9.448574e-01\n",
              "8 9.891801e-01"
            ]
          },
          "metadata": {}
        }
      ]
    },
    {
      "cell_type": "code",
      "source": [
        "table(nnetpred,y)"
      ],
      "metadata": {
        "colab": {
          "base_uri": "https://localhost:8080/",
          "height": 86
        },
        "id": "Cs3Bd51LLJrC",
        "outputId": "e5ed6c71-aeaf-4eb1-80f8-a1eba3ec171a"
      },
      "execution_count": null,
      "outputs": [
        {
          "output_type": "display_data",
          "data": {
            "text/plain": [
              "        y\n",
              "nnetpred -1 1\n",
              "   FALSE  4 0\n",
              "   TRUE   0 4"
            ]
          },
          "metadata": {}
        }
      ]
    },
    {
      "cell_type": "markdown",
      "source": [
        "# **Support Vector Machine**"
      ],
      "metadata": {
        "id": "C77qEfX63vYL"
      }
    },
    {
      "cell_type": "code",
      "source": [
        "install.packages('e1071')\n",
        "library(e1071)\n",
        "svmdata <- read.csv('https://raw.githubusercontent.com/ogut77/DataScience/refs/heads/main/svmdata.csv', header=T, as.is=FALSE)\n",
        "attach(svmdata)\n",
        "svmdata"
      ],
      "metadata": {
        "colab": {
          "base_uri": "https://localhost:8080/",
          "height": 574
        },
        "id": "unXSaH3r35D4",
        "outputId": "5dcea40d-fdcb-4bdd-801d-4e8c4f8d271c"
      },
      "execution_count": null,
      "outputs": [
        {
          "output_type": "stream",
          "name": "stderr",
          "text": [
            "Installing package into ‘/usr/local/lib/R/site-library’\n",
            "(as ‘lib’ is unspecified)\n",
            "\n",
            "The following objects are masked from svmdata (pos = 7):\n",
            "\n",
            "    x1, x2, y\n",
            "\n",
            "\n",
            "The following objects are masked from singleNNdata:\n",
            "\n",
            "    x1, x2, y\n",
            "\n",
            "\n"
          ]
        },
        {
          "output_type": "display_data",
          "data": {
            "text/html": [
              "<table class=\"dataframe\">\n",
              "<caption>A data.frame: 8 × 3</caption>\n",
              "<thead>\n",
              "\t<tr><th scope=col>x1</th><th scope=col>x2</th><th scope=col>y</th></tr>\n",
              "\t<tr><th scope=col>&lt;int&gt;</th><th scope=col>&lt;int&gt;</th><th scope=col>&lt;int&gt;</th></tr>\n",
              "</thead>\n",
              "<tbody>\n",
              "\t<tr><td>25</td><td>150</td><td>-1</td></tr>\n",
              "\t<tr><td>34</td><td>220</td><td> 1</td></tr>\n",
              "\t<tr><td>26</td><td>210</td><td>-1</td></tr>\n",
              "\t<tr><td>28</td><td>250</td><td> 1</td></tr>\n",
              "\t<tr><td>21</td><td>100</td><td>-1</td></tr>\n",
              "\t<tr><td>31</td><td>220</td><td> 1</td></tr>\n",
              "\t<tr><td>36</td><td>300</td><td> 1</td></tr>\n",
              "\t<tr><td>20</td><td>100</td><td>-1</td></tr>\n",
              "</tbody>\n",
              "</table>\n"
            ],
            "text/markdown": "\nA data.frame: 8 × 3\n\n| x1 &lt;int&gt; | x2 &lt;int&gt; | y &lt;int&gt; |\n|---|---|---|\n| 25 | 150 | -1 |\n| 34 | 220 |  1 |\n| 26 | 210 | -1 |\n| 28 | 250 |  1 |\n| 21 | 100 | -1 |\n| 31 | 220 |  1 |\n| 36 | 300 |  1 |\n| 20 | 100 | -1 |\n\n",
            "text/latex": "A data.frame: 8 × 3\n\\begin{tabular}{lll}\n x1 & x2 & y\\\\\n <int> & <int> & <int>\\\\\n\\hline\n\t 25 & 150 & -1\\\\\n\t 34 & 220 &  1\\\\\n\t 26 & 210 & -1\\\\\n\t 28 & 250 &  1\\\\\n\t 21 & 100 & -1\\\\\n\t 31 & 220 &  1\\\\\n\t 36 & 300 &  1\\\\\n\t 20 & 100 & -1\\\\\n\\end{tabular}\n",
            "text/plain": [
              "  x1 x2  y \n",
              "1 25 150 -1\n",
              "2 34 220  1\n",
              "3 26 210 -1\n",
              "4 28 250  1\n",
              "5 21 100 -1\n",
              "6 31 220  1\n",
              "7 36 300  1\n",
              "8 20 100 -1"
            ]
          },
          "metadata": {}
        }
      ]
    },
    {
      "cell_type": "code",
      "source": [
        "# create a training data using the 8 data.\n",
        "train <- svmdata[1:8,]\n",
        "# create a testing data using the same 8 data\n",
        "test <- svmdata[1:8,]"
      ],
      "metadata": {
        "id": "PeBxjifu4KsG"
      },
      "execution_count": null,
      "outputs": []
    },
    {
      "cell_type": "code",
      "source": [
        "train.svm = svm(y~x1+x2,type=\"C-classification\", data=train)\n",
        "train.svm"
      ],
      "metadata": {
        "colab": {
          "base_uri": "https://localhost:8080/",
          "height": 208
        },
        "id": "kxrIzreF4QcD",
        "outputId": "bd0873b8-42fc-4339-96fe-66857efca200"
      },
      "execution_count": null,
      "outputs": [
        {
          "output_type": "display_data",
          "data": {
            "text/plain": [
              "\n",
              "Call:\n",
              "svm(formula = y ~ x1 + x2, data = train, type = \"C-classification\")\n",
              "\n",
              "\n",
              "Parameters:\n",
              "   SVM-Type:  C-classification \n",
              " SVM-Kernel:  radial \n",
              "       cost:  1 \n",
              "\n",
              "Number of Support Vectors:  6\n"
            ]
          },
          "metadata": {}
        }
      ]
    },
    {
      "cell_type": "code",
      "source": [
        "svmpred = predict(train.svm,test)\n",
        "svmpred"
      ],
      "metadata": {
        "colab": {
          "base_uri": "https://localhost:8080/",
          "height": 52
        },
        "id": "Kpp7TQw24Vlz",
        "outputId": "c655bf00-afa2-4320-d3d2-3cd5bfde9181"
      },
      "execution_count": null,
      "outputs": [
        {
          "output_type": "display_data",
          "data": {
            "text/html": [
              "<style>\n",
              ".dl-inline {width: auto; margin:0; padding: 0}\n",
              ".dl-inline>dt, .dl-inline>dd {float: none; width: auto; display: inline-block}\n",
              ".dl-inline>dt::after {content: \":\\0020\"; padding-right: .5ex}\n",
              ".dl-inline>dt:not(:first-of-type) {padding-left: .5ex}\n",
              "</style><dl class=dl-inline><dt>1</dt><dd>-1</dd><dt>2</dt><dd>1</dd><dt>3</dt><dd>-1</dd><dt>4</dt><dd>1</dd><dt>5</dt><dd>-1</dd><dt>6</dt><dd>1</dd><dt>7</dt><dd>1</dd><dt>8</dt><dd>-1</dd></dl>\n",
              "\n",
              "<details>\n",
              "\t<summary style=display:list-item;cursor:pointer>\n",
              "\t\t<strong>Levels</strong>:\n",
              "\t</summary>\n",
              "\t<style>\n",
              "\t.list-inline {list-style: none; margin:0; padding: 0}\n",
              "\t.list-inline>li {display: inline-block}\n",
              "\t.list-inline>li:not(:last-child)::after {content: \"\\00b7\"; padding: 0 .5ex}\n",
              "\t</style>\n",
              "\t<ol class=list-inline><li>'-1'</li><li>'1'</li></ol>\n",
              "</details>"
            ],
            "text/markdown": "1\n:   -12\n:   13\n:   -14\n:   15\n:   -16\n:   17\n:   18\n:   -1\n\n\n**Levels**: 1. '-1'\n2. '1'\n\n\n",
            "text/latex": "\\begin{description*}\n\\item[1] -1\n\\item[2] 1\n\\item[3] -1\n\\item[4] 1\n\\item[5] -1\n\\item[6] 1\n\\item[7] 1\n\\item[8] -1\n\\end{description*}\n\n\\emph{Levels}: \\begin{enumerate*}\n\\item '-1'\n\\item '1'\n\\end{enumerate*}\n",
            "text/plain": [
              " 1  2  3  4  5  6  7  8 \n",
              "-1  1 -1  1 -1  1  1 -1 \n",
              "Levels: -1 1"
            ]
          },
          "metadata": {}
        }
      ]
    },
    {
      "cell_type": "code",
      "source": [
        "z = table(svmpred,y)\n",
        "z"
      ],
      "metadata": {
        "colab": {
          "base_uri": "https://localhost:8080/",
          "height": 86
        },
        "id": "GTIH7xfB4Xy-",
        "outputId": "1d104f89-4ac6-4b47-fac5-448d5f6ea5c4"
      },
      "execution_count": null,
      "outputs": [
        {
          "output_type": "display_data",
          "data": {
            "text/plain": [
              "       y\n",
              "svmpred -1 1\n",
              "     -1  4 0\n",
              "     1   0 4"
            ]
          },
          "metadata": {}
        }
      ]
    },
    {
      "cell_type": "code",
      "source": [
        "plot(x1,x2,pch=y)\n",
        "abline(500,-10)"
      ],
      "metadata": {
        "colab": {
          "base_uri": "https://localhost:8080/",
          "height": 715
        },
        "id": "bVoCh5_s4mAd",
        "outputId": "d6380382-0e4c-449a-e118-3550664ef255"
      },
      "execution_count": null,
      "outputs": [
        {
          "output_type": "stream",
          "name": "stderr",
          "text": [
            "Warning message in plot.xy(xy, type, ...):\n",
            "“font width unknown for character 0x01 in encoding latin1”\n",
            "Warning message in plot.xy(xy, type, ...):\n",
            "“font metrics unknown for character 0x01 in encoding latin1”\n",
            "Warning message in plot.xy(xy, type, ...):\n",
            "“font width unknown for character 0x01 in encoding latin1”\n",
            "Warning message in plot.xy(xy, type, ...):\n",
            "“font metrics unknown for character 0x01 in encoding latin1”\n",
            "Warning message in plot.xy(xy, type, ...):\n",
            "“font width unknown for character 0x01 in encoding latin1”\n",
            "Warning message in plot.xy(xy, type, ...):\n",
            "“font metrics unknown for character 0x01 in encoding latin1”\n",
            "Warning message in plot.xy(xy, type, ...):\n",
            "“font width unknown for character 0x01 in encoding latin1”\n",
            "Warning message in plot.xy(xy, type, ...):\n",
            "“font metrics unknown for character 0x01 in encoding latin1”\n"
          ]
        },
        {
          "output_type": "display_data",
          "data": {
            "text/plain": [
              "plot without title"
            ],
            "image/png": "[encoded data removed]"
          },
          "metadata": {
            "image/png": {
              "width": 420,
              "height": 420
            }
          }
        }
      ]
    },
    {
      "cell_type": "markdown",
      "source": [
        "# **Ensemble model**"
      ],
      "metadata": {
        "id": "MNIWgzVl4tMn"
      }
    },
    {
      "cell_type": "markdown",
      "source": [
        "## Bagging"
      ],
      "metadata": {
        "id": "b93J-ytVqhpP"
      }
    },
    {
      "cell_type": "code",
      "source": [
        "install.packages('adabag')\n",
        "library(adabag)\n"
      ],
      "metadata": {
        "colab": {
          "base_uri": "https://localhost:8080/"
        },
        "id": "yGgK__h2k82X",
        "outputId": "0d8c77e4-43ba-4a38-d6b2-202646f17c1e"
      },
      "execution_count": null,
      "outputs": [
        {
          "output_type": "stream",
          "name": "stderr",
          "text": [
            "Installing package into ‘/usr/local/lib/R/site-library’\n",
            "(as ‘lib’ is unspecified)\n",
            "\n",
            "also installing the dependencies ‘listenv’, ‘parallelly’, ‘future’, ‘globals’, ‘shape’, ‘future.apply’, ‘numDeriv’, ‘progressr’, ‘SQUAREM’, ‘diagram’, ‘lava’, ‘prodlim’, ‘clock’, ‘gower’, ‘hardhat’, ‘ipred’, ‘sparsevctrs’, ‘timeDate’, ‘XML’, ‘ModelMetrics’, ‘plyr’, ‘pROC’, ‘recipes’, ‘reshape2’, ‘iterators’, ‘rgl’, ‘rlist’, ‘gtools’, ‘caret’, ‘foreach’, ‘doParallel’, ‘ConsRank’\n",
            "\n",
            "\n",
            "Loading required package: rpart\n",
            "\n",
            "Loading required package: caret\n",
            "\n",
            "Loading required package: ggplot2\n",
            "\n",
            "\n",
            "Attaching package: ‘ggplot2’\n",
            "\n",
            "\n",
            "The following object is masked from ‘package:randomForest’:\n",
            "\n",
            "    margin\n",
            "\n",
            "\n",
            "Loading required package: lattice\n",
            "\n",
            "Loading required package: foreach\n",
            "\n",
            "Loading required package: doParallel\n",
            "\n",
            "Loading required package: iterators\n",
            "\n",
            "Loading required package: parallel\n",
            "\n"
          ]
        }
      ]
    },
    {
      "cell_type": "code",
      "source": [
        "data(iris)\n",
        "# mfinal is an integer which is the number of iterations for which boosting is run\n",
        "iris.bagging <- bagging(Species~., data=iris, mfinal = 10)\n",
        "# list the importance of variable in the classification\n",
        "iris.bagging$importance"
      ],
      "metadata": {
        "colab": {
          "base_uri": "https://localhost:8080/",
          "height": 52
        },
        "id": "FDWahTh3lyH5",
        "outputId": "49d47a31-b91e-4eaf-a8c5-13dee545859a"
      },
      "execution_count": null,
      "outputs": [
        {
          "output_type": "display_data",
          "data": {
            "text/html": [
              "<style>\n",
              ".dl-inline {width: auto; margin:0; padding: 0}\n",
              ".dl-inline>dt, .dl-inline>dd {float: none; width: auto; display: inline-block}\n",
              ".dl-inline>dt::after {content: \":\\0020\"; padding-right: .5ex}\n",
              ".dl-inline>dt:not(:first-of-type) {padding-left: .5ex}\n",
              "</style><dl class=dl-inline><dt>Petal.Length</dt><dd>81.2417522362464</dd><dt>Petal.Width</dt><dd>18.7582477637536</dd><dt>Sepal.Length</dt><dd>0</dd><dt>Sepal.Width</dt><dd>0</dd></dl>\n"
            ],
            "text/markdown": "Petal.Length\n:   81.2417522362464Petal.Width\n:   18.7582477637536Sepal.Length\n:   0Sepal.Width\n:   0\n\n",
            "text/latex": "\\begin{description*}\n\\item[Petal.Length] 81.2417522362464\n\\item[Petal.Width] 18.7582477637536\n\\item[Sepal.Length] 0\n\\item[Sepal.Width] 0\n\\end{description*}\n",
            "text/plain": [
              "Petal.Length  Petal.Width Sepal.Length  Sepal.Width \n",
              "    81.24175     18.75825      0.00000      0.00000 "
            ]
          },
          "metadata": {}
        }
      ]
    },
    {
      "cell_type": "code",
      "source": [
        "# list the trees grown along the iterations.\n",
        "iris.bagging$trees"
      ],
      "metadata": {
        "colab": {
          "base_uri": "https://localhost:8080/",
          "height": 1000
        },
        "id": "FqDFh39dm4kU",
        "outputId": "87dc0481-9e3a-444b-fda5-15d4fda2c5b8"
      },
      "execution_count": null,
      "outputs": [
        {
          "output_type": "display_data",
          "data": {
            "text/plain": [
              "[[1]]\n",
              "n= 150 \n",
              "\n",
              "node), split, n, loss, yval, (yprob)\n",
              "      * denotes terminal node\n",
              "\n",
              "1) root 150 92 virginica (0.24000000 0.37333333 0.38666667)  \n",
              "  2) Petal.Width< 1.75 96 40 versicolor (0.37500000 0.58333333 0.04166667)  \n",
              "    4) Petal.Length< 2.45 36  0 setosa (1.00000000 0.00000000 0.00000000) *\n",
              "    5) Petal.Length>=2.45 60  4 versicolor (0.00000000 0.93333333 0.06666667) *\n",
              "  3) Petal.Width>=1.75 54  0 virginica (0.00000000 0.00000000 1.00000000) *\n",
              "\n",
              "[[2]]\n",
              "n= 150 \n",
              "\n",
              "node), split, n, loss, yval, (yprob)\n",
              "      * denotes terminal node\n",
              "\n",
              "1) root 150 97 versicolor (0.34000000 0.35333333 0.30666667)  \n",
              "  2) Petal.Length< 2.5 51  0 setosa (1.00000000 0.00000000 0.00000000) *\n",
              "  3) Petal.Length>=2.5 99 46 versicolor (0.00000000 0.53535354 0.46464646)  \n",
              "    6) Petal.Length< 4.85 52  2 versicolor (0.00000000 0.96153846 0.03846154) *\n",
              "    7) Petal.Length>=4.85 47  3 virginica (0.00000000 0.06382979 0.93617021) *\n",
              "\n",
              "[[3]]\n",
              "n= 150 \n",
              "\n",
              "node), split, n, loss, yval, (yprob)\n",
              "      * denotes terminal node\n",
              "\n",
              "1) root 150 89 virginica (0.2800000 0.3133333 0.4066667)  \n",
              "  2) Petal.Length< 4.85 86 42 versicolor (0.4883721 0.5116279 0.0000000)  \n",
              "    4) Petal.Length< 2.45 42  0 setosa (1.0000000 0.0000000 0.0000000) *\n",
              "    5) Petal.Length>=2.45 44  0 versicolor (0.0000000 1.0000000 0.0000000) *\n",
              "  3) Petal.Length>=4.85 64  3 virginica (0.0000000 0.0468750 0.9531250) *\n",
              "\n",
              "[[4]]\n",
              "n= 150 \n",
              "\n",
              "node), split, n, loss, yval, (yprob)\n",
              "      * denotes terminal node\n",
              "\n",
              "1) root 150 97 setosa (0.35333333 0.30666667 0.34000000)  \n",
              "  2) Petal.Length< 2.6 53  0 setosa (1.00000000 0.00000000 0.00000000) *\n",
              "  3) Petal.Length>=2.6 97 46 virginica (0.00000000 0.47422680 0.52577320)  \n",
              "    6) Petal.Length< 4.85 47  2 versicolor (0.00000000 0.95744681 0.04255319) *\n",
              "    7) Petal.Length>=4.85 50  1 virginica (0.00000000 0.02000000 0.98000000) *\n",
              "\n",
              "[[5]]\n",
              "n= 150 \n",
              "\n",
              "node), split, n, loss, yval, (yprob)\n",
              "      * denotes terminal node\n",
              "\n",
              "1) root 150 95 setosa (0.36666667 0.29333333 0.34000000)  \n",
              "  2) Petal.Length< 2.45 55  0 setosa (1.00000000 0.00000000 0.00000000) *\n",
              "  3) Petal.Length>=2.45 95 44 virginica (0.00000000 0.46315789 0.53684211)  \n",
              "    6) Petal.Width< 1.75 48  4 versicolor (0.00000000 0.91666667 0.08333333) *\n",
              "    7) Petal.Width>=1.75 47  0 virginica (0.00000000 0.00000000 1.00000000) *\n",
              "\n",
              "[[6]]\n",
              "n= 150 \n",
              "\n",
              "node), split, n, loss, yval, (yprob)\n",
              "      * denotes terminal node\n",
              "\n",
              "1) root 150 96 versicolor (0.30666667 0.36000000 0.33333333)  \n",
              "  2) Petal.Length< 2.6 46  0 setosa (1.00000000 0.00000000 0.00000000) *\n",
              "  3) Petal.Length>=2.6 104 50 versicolor (0.00000000 0.51923077 0.48076923)  \n",
              "    6) Petal.Length< 4.75 50  0 versicolor (0.00000000 1.00000000 0.00000000) *\n",
              "    7) Petal.Length>=4.75 54  4 virginica (0.00000000 0.07407407 0.92592593) *\n",
              "\n",
              "[[7]]\n",
              "n= 150 \n",
              "\n",
              "node), split, n, loss, yval, (yprob)\n",
              "      * denotes terminal node\n",
              "\n",
              "1) root 150 94 virginica (0.26666667 0.36000000 0.37333333)  \n",
              "  2) Petal.Length< 4.75 90 40 versicolor (0.44444444 0.55555556 0.00000000)  \n",
              "    4) Petal.Length< 2.45 40  0 setosa (1.00000000 0.00000000 0.00000000) *\n",
              "    5) Petal.Length>=2.45 50  0 versicolor (0.00000000 1.00000000 0.00000000) *\n",
              "  3) Petal.Length>=4.75 60  4 virginica (0.00000000 0.06666667 0.93333333) *\n",
              "\n",
              "[[8]]\n",
              "n= 150 \n",
              "\n",
              "node), split, n, loss, yval, (yprob)\n",
              "      * denotes terminal node\n",
              "\n",
              "1) root 150 91 virginica (0.29333333 0.31333333 0.39333333)  \n",
              "  2) Petal.Length< 2.45 44  0 setosa (1.00000000 0.00000000 0.00000000) *\n",
              "  3) Petal.Length>=2.45 106 47 virginica (0.00000000 0.44339623 0.55660377)  \n",
              "    6) Petal.Width< 1.75 48  3 versicolor (0.00000000 0.93750000 0.06250000) *\n",
              "    7) Petal.Width>=1.75 58  2 virginica (0.00000000 0.03448276 0.96551724) *\n",
              "\n",
              "[[9]]\n",
              "n= 150 \n",
              "\n",
              "node), split, n, loss, yval, (yprob)\n",
              "      * denotes terminal node\n",
              "\n",
              "1) root 150 86 virginica (0.28666667 0.28666667 0.42666667)  \n",
              "  2) Petal.Length< 4.75 83 40 setosa (0.51807229 0.48192771 0.00000000)  \n",
              "    4) Petal.Length< 2.6 43  0 setosa (1.00000000 0.00000000 0.00000000) *\n",
              "    5) Petal.Length>=2.6 40  0 versicolor (0.00000000 1.00000000 0.00000000) *\n",
              "  3) Petal.Length>=4.75 67  3 virginica (0.00000000 0.04477612 0.95522388) *\n",
              "\n",
              "[[10]]\n",
              "n= 150 \n",
              "\n",
              "node), split, n, loss, yval, (yprob)\n",
              "      * denotes terminal node\n",
              "\n",
              "1) root 150 100 setosa (0.33333333 0.33333333 0.33333333)  \n",
              "  2) Petal.Length< 2.3 50   0 setosa (1.00000000 0.00000000 0.00000000) *\n",
              "  3) Petal.Length>=2.3 100  50 versicolor (0.00000000 0.50000000 0.50000000)  \n",
              "    6) Petal.Width< 1.75 55   5 versicolor (0.00000000 0.90909091 0.09090909) *\n",
              "    7) Petal.Width>=1.75 45   0 virginica (0.00000000 0.00000000 1.00000000) *\n"
            ]
          },
          "metadata": {}
        }
      ]
    },
    {
      "cell_type": "code",
      "source": [
        "# plot the decision tree after iteration 10 data\n",
        "plot(iris.bagging$trees[[10]])"
      ],
      "metadata": {
        "colab": {
          "base_uri": "https://localhost:8080/",
          "height": 437
        },
        "id": "UROSCP4am-iN",
        "outputId": "1c617661-6ff9-4a47-d862-1c367f375c51"
      },
      "execution_count": null,
      "outputs": [
        {
          "output_type": "display_data",
          "data": {
            "text/plain": [
              "plot without title"
            ],
            "image/png": "[encoded data removed]"
          },
          "metadata": {
            "image/png": {
              "width": 420,
              "height": 420
            }
          }
        }
      ]
    },
    {
      "cell_type": "code",
      "source": [
        "# classify the iris data using the bagging model\n",
        "baggingpred <- predict(iris.bagging, newdata=iris)\n",
        "table(baggingpred$class, iris[,5])"
      ],
      "metadata": {
        "colab": {
          "base_uri": "https://localhost:8080/",
          "height": 104
        },
        "id": "EwdN8noFnDU2",
        "outputId": "1a7fc27a-b6ba-4a63-8f77-c7d35041473d"
      },
      "execution_count": null,
      "outputs": [
        {
          "output_type": "display_data",
          "data": {
            "text/plain": [
              "            \n",
              "             setosa versicolor virginica\n",
              "  setosa         50          0         0\n",
              "  versicolor      0         45         1\n",
              "  virginica       0          5        49"
            ]
          },
          "metadata": {}
        }
      ]
    },
    {
      "cell_type": "code",
      "source": [
        "# calculate the misclassification error\n",
        "baggingtb <- table(baggingpred$class, iris[,5])\n",
        "baggingerror.rpart <- 1-(sum(diag(baggingtb))/sum(baggingtb))\n",
        "# misclassification error is 2.67%\n",
        "baggingerror.rpart"
      ],
      "metadata": {
        "colab": {
          "base_uri": "https://localhost:8080/",
          "height": 34
        },
        "id": "NA4R17VKnKUx",
        "outputId": "94d09983-d9db-49bf-d3dd-301ef457b7d0"
      },
      "execution_count": null,
      "outputs": [
        {
          "output_type": "display_data",
          "data": {
            "text/html": [
              "0.04"
            ],
            "text/markdown": "0.04",
            "text/latex": "0.04",
            "text/plain": [
              "[1] 0.04"
            ]
          },
          "metadata": {}
        }
      ]
    },
    {
      "cell_type": "markdown",
      "source": [
        "## Boosting"
      ],
      "metadata": {
        "id": "IjZKMLBfqEl1"
      }
    },
    {
      "cell_type": "code",
      "source": [
        "# mfinal is an integer which is the number of iterations for which boosting is run\n",
        "iris.adaboost <- boosting(Species~., data = iris, boos = TRUE, mfinal = 10)"
      ],
      "metadata": {
        "id": "stGQvKu1r58Z"
      },
      "execution_count": null,
      "outputs": []
    },
    {
      "cell_type": "code",
      "source": [
        "# list the importance of variable in the classification\n",
        "iris.adaboost$importance"
      ],
      "metadata": {
        "colab": {
          "base_uri": "https://localhost:8080/",
          "height": 52
        },
        "id": "tyREaFa0r-0U",
        "outputId": "f8b9591d-96c6-4171-cf57-bd014262c6bf"
      },
      "execution_count": null,
      "outputs": [
        {
          "output_type": "display_data",
          "data": {
            "text/html": [
              "<style>\n",
              ".dl-inline {width: auto; margin:0; padding: 0}\n",
              ".dl-inline>dt, .dl-inline>dd {float: none; width: auto; display: inline-block}\n",
              ".dl-inline>dt::after {content: \":\\0020\"; padding-right: .5ex}\n",
              ".dl-inline>dt:not(:first-of-type) {padding-left: .5ex}\n",
              "</style><dl class=dl-inline><dt>Petal.Length</dt><dd>66.4893009093755</dd><dt>Petal.Width</dt><dd>20.3278316891005</dd><dt>Sepal.Length</dt><dd>5.31320043287847</dd><dt>Sepal.Width</dt><dd>7.86966696864547</dd></dl>\n"
            ],
            "text/markdown": "Petal.Length\n:   66.4893009093755Petal.Width\n:   20.3278316891005Sepal.Length\n:   5.31320043287847Sepal.Width\n:   7.86966696864547\n\n",
            "text/latex": "\\begin{description*}\n\\item[Petal.Length] 66.4893009093755\n\\item[Petal.Width] 20.3278316891005\n\\item[Sepal.Length] 5.31320043287847\n\\item[Sepal.Width] 7.86966696864547\n\\end{description*}\n",
            "text/plain": [
              "Petal.Length  Petal.Width Sepal.Length  Sepal.Width \n",
              "   66.489301    20.327832     5.313200     7.869667 "
            ]
          },
          "metadata": {}
        }
      ]
    },
    {
      "cell_type": "code",
      "source": [
        "# list the trees grown along the iterations.\n",
        "iris.adaboost$trees"
      ],
      "metadata": {
        "colab": {
          "base_uri": "https://localhost:8080/",
          "height": 1000
        },
        "id": "soU00emAsB3H",
        "outputId": "23c16a3c-ae71-431b-be94-d3c5aaf1cc2e"
      },
      "execution_count": null,
      "outputs": [
        {
          "output_type": "display_data",
          "data": {
            "text/plain": [
              "[[1]]\n",
              "n= 150 \n",
              "\n",
              "node), split, n, loss, yval, (yprob)\n",
              "      * denotes terminal node\n",
              "\n",
              "1) root 150 98 setosa (0.34666667 0.31333333 0.34000000)  \n",
              "  2) Petal.Length< 2.45 52  0 setosa (1.00000000 0.00000000 0.00000000) *\n",
              "  3) Petal.Length>=2.45 98 47 virginica (0.00000000 0.47959184 0.52040816)  \n",
              "    6) Petal.Length< 4.75 44  1 versicolor (0.00000000 0.97727273 0.02272727) *\n",
              "    7) Petal.Length>=4.75 54  4 virginica (0.00000000 0.07407407 0.92592593) *\n",
              "\n",
              "[[2]]\n",
              "n= 150 \n",
              "\n",
              "node), split, n, loss, yval, (yprob)\n",
              "      * denotes terminal node\n",
              "\n",
              " 1) root 150 90 versicolor (0.2533333 0.4000000 0.3466667)  \n",
              "   2) Petal.Length< 2.7 38  0 setosa (1.0000000 0.0000000 0.0000000) *\n",
              "   3) Petal.Length>=2.7 112 52 versicolor (0.0000000 0.5357143 0.4642857)  \n",
              "     6) Petal.Width< 1.75 60  6 versicolor (0.0000000 0.9000000 0.1000000) *\n",
              "     7) Petal.Width>=1.75 52  6 virginica (0.0000000 0.1153846 0.8846154)  \n",
              "      14) Petal.Length< 4.85 8  2 versicolor (0.0000000 0.7500000 0.2500000) *\n",
              "      15) Petal.Length>=4.85 44  0 virginica (0.0000000 0.0000000 1.0000000) *\n",
              "\n",
              "[[3]]\n",
              "n= 150 \n",
              "\n",
              "node), split, n, loss, yval, (yprob)\n",
              "      * denotes terminal node\n",
              "\n",
              " 1) root 150 91 virginica (0.2800000 0.3266667 0.3933333)  \n",
              "   2) Petal.Length< 2.6 42  0 setosa (1.0000000 0.0000000 0.0000000) *\n",
              "   3) Petal.Length>=2.6 108 49 virginica (0.0000000 0.4537037 0.5462963)  \n",
              "     6) Petal.Width< 1.65 51 10 versicolor (0.0000000 0.8039216 0.1960784)  \n",
              "      12) Petal.Length< 4.95 37  0 versicolor (0.0000000 1.0000000 0.0000000) *\n",
              "      13) Petal.Length>=4.95 14  4 virginica (0.0000000 0.2857143 0.7142857) *\n",
              "     7) Petal.Width>=1.65 57  8 virginica (0.0000000 0.1403509 0.8596491) *\n",
              "\n",
              "[[4]]\n",
              "n= 150 \n",
              "\n",
              "node), split, n, loss, yval, (yprob)\n",
              "      * denotes terminal node\n",
              "\n",
              " 1) root 150 85 versicolor (0.24666667 0.43333333 0.32000000)  \n",
              "   2) Petal.Length< 2.5 37  0 setosa (1.00000000 0.00000000 0.00000000) *\n",
              "   3) Petal.Length>=2.5 113 48 versicolor (0.00000000 0.57522124 0.42477876)  \n",
              "     6) Petal.Length< 5.15 93 28 versicolor (0.00000000 0.69892473 0.30107527)  \n",
              "      12) Sepal.Length>=5.2 78 16 versicolor (0.00000000 0.79487179 0.20512821)  \n",
              "        24) Petal.Length< 4.95 44  2 versicolor (0.00000000 0.95454545 0.04545455) *\n",
              "        25) Petal.Length>=4.95 34 14 versicolor (0.00000000 0.58823529 0.41176471)  \n",
              "          50) Petal.Width>=1.55 26  6 versicolor (0.00000000 0.76923077 0.23076923) *\n",
              "          51) Petal.Width< 1.55 8  0 virginica (0.00000000 0.00000000 1.00000000) *\n",
              "      13) Sepal.Length< 5.2 15  3 virginica (0.00000000 0.20000000 0.80000000) *\n",
              "     7) Petal.Length>=5.15 20  0 virginica (0.00000000 0.00000000 1.00000000) *\n",
              "\n",
              "[[5]]\n",
              "n= 150 \n",
              "\n",
              "node), split, n, loss, yval, (yprob)\n",
              "      * denotes terminal node\n",
              "\n",
              " 1) root 150 85 virginica (0.2066667 0.3600000 0.4333333)  \n",
              "   2) Petal.Length< 2.45 31  0 setosa (1.0000000 0.0000000 0.0000000) *\n",
              "   3) Petal.Length>=2.45 119 54 virginica (0.0000000 0.4537815 0.5462185)  \n",
              "     6) Petal.Width< 1.65 44  6 versicolor (0.0000000 0.8636364 0.1363636) *\n",
              "     7) Petal.Width>=1.65 75 16 virginica (0.0000000 0.2133333 0.7866667)  \n",
              "      14) Sepal.Width>=2.95 42 16 virginica (0.0000000 0.3809524 0.6190476)  \n",
              "        28) Petal.Length< 5.05 24  8 versicolor (0.0000000 0.6666667 0.3333333) *\n",
              "        29) Petal.Length>=5.05 18  0 virginica (0.0000000 0.0000000 1.0000000) *\n",
              "      15) Sepal.Width< 2.95 33  0 virginica (0.0000000 0.0000000 1.0000000) *\n",
              "\n",
              "[[6]]\n",
              "n= 150 \n",
              "\n",
              "node), split, n, loss, yval, (yprob)\n",
              "      * denotes terminal node\n",
              "\n",
              " 1) root 150 81 virginica (0.1733333 0.3666667 0.4600000)  \n",
              "   2) Petal.Length< 2.6 26  0 setosa (1.0000000 0.0000000 0.0000000) *\n",
              "   3) Petal.Length>=2.6 124 55 virginica (0.0000000 0.4435484 0.5564516)  \n",
              "     6) Petal.Width< 1.75 76 26 versicolor (0.0000000 0.6578947 0.3421053)  \n",
              "      12) Sepal.Width>=2.65 45  7 versicolor (0.0000000 0.8444444 0.1555556) *\n",
              "      13) Sepal.Width< 2.65 31 12 virginica (0.0000000 0.3870968 0.6129032)  \n",
              "        26) Petal.Length< 4.25 7  0 versicolor (0.0000000 1.0000000 0.0000000) *\n",
              "        27) Petal.Length>=4.25 24  5 virginica (0.0000000 0.2083333 0.7916667) *\n",
              "     7) Petal.Width>=1.75 48  5 virginica (0.0000000 0.1041667 0.8958333) *\n",
              "\n",
              "[[7]]\n",
              "n= 150 \n",
              "\n",
              "node), split, n, loss, yval, (yprob)\n",
              "      * denotes terminal node\n",
              "\n",
              "  1) root 150 74 virginica (0.1400000 0.3533333 0.5066667)  \n",
              "    2) Petal.Length< 2.45 21  0 setosa (1.0000000 0.0000000 0.0000000) *\n",
              "    3) Petal.Length>=2.45 129 53 virginica (0.0000000 0.4108527 0.5891473)  \n",
              "      6) Petal.Width< 1.35 19  0 versicolor (0.0000000 1.0000000 0.0000000) *\n",
              "      7) Petal.Width>=1.35 110 34 virginica (0.0000000 0.3090909 0.6909091)  \n",
              "       14) Sepal.Width>=3.05 24  5 versicolor (0.0000000 0.7916667 0.2083333)  \n",
              "         28) Sepal.Length< 6.35 17  0 versicolor (0.0000000 1.0000000 0.0000000) *\n",
              "         29) Sepal.Length>=6.35 7  2 virginica (0.0000000 0.2857143 0.7142857) *\n",
              "       15) Sepal.Width< 3.05 86 15 virginica (0.0000000 0.1744186 0.8255814)  \n",
              "         30) Petal.Width< 1.75 51 15 virginica (0.0000000 0.2941176 0.7058824)  \n",
              "           60) Petal.Length< 5.05 19  8 versicolor (0.0000000 0.5789474 0.4210526) *\n",
              "           61) Petal.Length>=5.05 32  4 virginica (0.0000000 0.1250000 0.8750000)  \n",
              "            122) Sepal.Length< 6.2 7  3 versicolor (0.0000000 0.5714286 0.4285714) *\n",
              "            123) Sepal.Length>=6.2 25  0 virginica (0.0000000 0.0000000 1.0000000) *\n",
              "         31) Petal.Width>=1.75 35  0 virginica (0.0000000 0.0000000 1.0000000) *\n",
              "\n",
              "[[8]]\n",
              "n= 150 \n",
              "\n",
              "node), split, n, loss, yval, (yprob)\n",
              "      * denotes terminal node\n",
              "\n",
              " 1) root 150 67 virginica (0.11333333 0.33333333 0.55333333)  \n",
              "   2) Petal.Length< 2.45 17  0 setosa (1.00000000 0.00000000 0.00000000) *\n",
              "   3) Petal.Length>=2.45 133 50 virginica (0.00000000 0.37593985 0.62406015)  \n",
              "     6) Petal.Length< 4.95 68 24 versicolor (0.00000000 0.64705882 0.35294118)  \n",
              "      12) Petal.Width< 1.65 29  0 versicolor (0.00000000 1.00000000 0.00000000) *\n",
              "      13) Petal.Width>=1.65 39 15 virginica (0.00000000 0.38461538 0.61538462)  \n",
              "        26) Sepal.Width>=3.1 15  0 versicolor (0.00000000 1.00000000 0.00000000) *\n",
              "        27) Sepal.Width< 3.1 24  0 virginica (0.00000000 0.00000000 1.00000000) *\n",
              "     7) Petal.Length>=4.95 65  6 virginica (0.00000000 0.09230769 0.90769231) *\n",
              "\n",
              "[[9]]\n",
              "n= 150 \n",
              "\n",
              "node), split, n, loss, yval, (yprob)\n",
              "      * denotes terminal node\n",
              "\n",
              "  1) root 150 77 virginica (0.1000000 0.4133333 0.4866667)  \n",
              "    2) Petal.Length< 2.35 15  0 setosa (1.0000000 0.0000000 0.0000000) *\n",
              "    3) Petal.Length>=2.35 135 62 virginica (0.0000000 0.4592593 0.5407407)  \n",
              "      6) Petal.Length< 4.45 14  0 versicolor (0.0000000 1.0000000 0.0000000) *\n",
              "      7) Petal.Length>=4.45 121 48 virginica (0.0000000 0.3966942 0.6033058)  \n",
              "       14) Sepal.Width>=3.15 18  2 versicolor (0.0000000 0.8888889 0.1111111) *\n",
              "       15) Sepal.Width< 3.15 103 32 virginica (0.0000000 0.3106796 0.6893204)  \n",
              "         30) Petal.Width< 1.75 74 32 virginica (0.0000000 0.4324324 0.5675676)  \n",
              "           60) Sepal.Length>=5.45 61 29 versicolor (0.0000000 0.5245902 0.4754098)  \n",
              "            120) Petal.Length< 5.35 50 18 versicolor (0.0000000 0.6400000 0.3600000)  \n",
              "              240) Petal.Width>=1.55 25  0 versicolor (0.0000000 1.0000000 0.0000000) *\n",
              "              241) Petal.Width< 1.55 25  7 virginica (0.0000000 0.2800000 0.7200000)  \n",
              "                482) Petal.Length< 4.95 7  0 versicolor (0.0000000 1.0000000 0.0000000) *\n",
              "                483) Petal.Length>=4.95 18  0 virginica (0.0000000 0.0000000 1.0000000) *\n",
              "            121) Petal.Length>=5.35 11  0 virginica (0.0000000 0.0000000 1.0000000) *\n",
              "           61) Sepal.Length< 5.45 13  0 virginica (0.0000000 0.0000000 1.0000000) *\n",
              "         31) Petal.Width>=1.75 29  0 virginica (0.0000000 0.0000000 1.0000000) *\n",
              "\n",
              "[[10]]\n",
              "n= 150 \n",
              "\n",
              "node), split, n, loss, yval, (yprob)\n",
              "      * denotes terminal node\n",
              "\n",
              " 1) root 150 66 virginica (0.08000000 0.36000000 0.56000000)  \n",
              "   2) Petal.Length< 5.05 83 38 versicolor (0.14457831 0.54216867 0.31325301)  \n",
              "     4) Petal.Length< 2.5 12  0 setosa (1.00000000 0.00000000 0.00000000) *\n",
              "     5) Petal.Length>=2.5 71 26 versicolor (0.00000000 0.63380282 0.36619718)  \n",
              "      10) Sepal.Length>=6.25 28  1 versicolor (0.00000000 0.96428571 0.03571429) *\n",
              "      11) Sepal.Length< 6.25 43 18 virginica (0.00000000 0.41860465 0.58139535)  \n",
              "        22) Sepal.Width>=3.1 9  0 versicolor (0.00000000 1.00000000 0.00000000) *\n",
              "        23) Sepal.Width< 3.1 34  9 virginica (0.00000000 0.26470588 0.73529412)  \n",
              "          46) Petal.Length< 4.65 15  6 versicolor (0.00000000 0.60000000 0.40000000) *\n",
              "          47) Petal.Length>=4.65 19  0 virginica (0.00000000 0.00000000 1.00000000) *\n",
              "   3) Petal.Length>=5.05 67  9 virginica (0.00000000 0.13432836 0.86567164)  \n",
              "     6) Sepal.Length< 6.05 12  3 versicolor (0.00000000 0.75000000 0.25000000) *\n",
              "     7) Sepal.Length>=6.05 55  0 virginica (0.00000000 0.00000000 1.00000000) *\n"
            ]
          },
          "metadata": {}
        }
      ]
    },
    {
      "cell_type": "code",
      "source": [
        "# plot the decision tree after iteration 10 data\n",
        "plot(iris.adaboost$trees[[10]])\n",
        "text(iris.adaboost$trees[[10]])"
      ],
      "metadata": {
        "colab": {
          "base_uri": "https://localhost:8080/",
          "height": 437
        },
        "id": "wNePch6rsFkG",
        "outputId": "e21bead4-10dc-4611-c467-fdc070f4c969"
      },
      "execution_count": null,
      "outputs": [
        {
          "output_type": "display_data",
          "data": {
            "text/plain": [
              "plot without title"
            ],
            "image/png": "[encoded data removed]"
          },
          "metadata": {
            "image/png": {
              "width": 420,
              "height": 420
            }
          }
        }
      ]
    },
    {
      "cell_type": "code",
      "source": [
        "# classify the iris data using the adaboosting model\n",
        "adaboostpred <- predict(iris.adaboost, newdata=iris)"
      ],
      "metadata": {
        "id": "iEdp0xp2sOTH"
      },
      "execution_count": null,
      "outputs": []
    },
    {
      "cell_type": "code",
      "source": [
        "table(adaboostpred$class, iris[,5])"
      ],
      "metadata": {
        "colab": {
          "base_uri": "https://localhost:8080/",
          "height": 104
        },
        "id": "yy_00kyfsRkT",
        "outputId": "80a85231-199a-4321-92ec-8555fa025416"
      },
      "execution_count": null,
      "outputs": [
        {
          "output_type": "display_data",
          "data": {
            "text/plain": [
              "            \n",
              "             setosa versicolor virginica\n",
              "  setosa         50          0         0\n",
              "  versicolor      0         50         0\n",
              "  virginica       0          0        50"
            ]
          },
          "metadata": {}
        }
      ]
    },
    {
      "cell_type": "code",
      "source": [
        "# calculate the misclassification error\n",
        "adaboosttb <- table(adaboostpred$class, iris[,5])"
      ],
      "metadata": {
        "id": "HedgUvemsafJ"
      },
      "execution_count": null,
      "outputs": []
    },
    {
      "cell_type": "code",
      "source": [
        "adaboosterror <- 1-(sum(diag(adaboosttb))/sum(adaboosttb))"
      ],
      "metadata": {
        "id": "9MUomdoEtEke"
      },
      "execution_count": null,
      "outputs": []
    },
    {
      "cell_type": "code",
      "source": [
        "# misclassification error is 0%\n",
        "adaboosterror"
      ],
      "metadata": {
        "colab": {
          "base_uri": "https://localhost:8080/",
          "height": 34
        },
        "id": "Nkf7MasttH84",
        "outputId": "621191fc-fcb4-4892-d5d5-1f19d8458713"
      },
      "execution_count": null,
      "outputs": [
        {
          "output_type": "display_data",
          "data": {
            "text/html": [
              "0"
            ],
            "text/markdown": "0",
            "text/latex": "0",
            "text/plain": [
              "[1] 0"
            ]
          },
          "metadata": {}
        }
      ]
    },
    {
      "cell_type": "markdown",
      "source": [
        "# Random Forest"
      ],
      "metadata": {
        "id": "DzIYmT68sala"
      }
    },
    {
      "cell_type": "code",
      "source": [
        "install.packages('randomForest')\n",
        "library(randomForest)\n",
        "data(iris)"
      ],
      "metadata": {
        "colab": {
          "base_uri": "https://localhost:8080/"
        },
        "id": "NucpOIQquWwX",
        "outputId": "950debef-2c5d-43e0-bb8f-1b58deebbb2a"
      },
      "execution_count": null,
      "outputs": [
        {
          "output_type": "stream",
          "name": "stderr",
          "text": [
            "Installing package into ‘/usr/local/lib/R/site-library’\n",
            "(as ‘lib’ is unspecified)\n",
            "\n",
            "randomForest 4.7-1.2\n",
            "\n",
            "Type rfNews() to see new features/changes/bug fixes.\n",
            "\n"
          ]
        }
      ]
    },
    {
      "cell_type": "code",
      "source": [
        "iris.forest <- randomForest(Species~., data=iris, ntree = 100, proximity=TRUE)"
      ],
      "metadata": {
        "id": "dwI2i6CfHhmP"
      },
      "execution_count": null,
      "outputs": []
    },
    {
      "cell_type": "code",
      "source": [
        "# classify the iris data using the random forest model\n",
        "table(predict(iris.forest), iris[,5])"
      ],
      "metadata": {
        "colab": {
          "base_uri": "https://localhost:8080/",
          "height": 104
        },
        "id": "LHN40-hvue80",
        "outputId": "85239c60-66de-428f-fed5-61fc061929dd"
      },
      "execution_count": null,
      "outputs": [
        {
          "output_type": "display_data",
          "data": {
            "text/plain": [
              "            \n",
              "             setosa versicolor virginica\n",
              "  setosa         50          0         0\n",
              "  versicolor      0         47         3\n",
              "  virginica       0          3        47"
            ]
          },
          "metadata": {}
        }
      ]
    },
    {
      "cell_type": "code",
      "source": [
        "foresttb <- table(predict(iris.forest), iris[,5])"
      ],
      "metadata": {
        "id": "447U7j8JHlNV"
      },
      "execution_count": null,
      "outputs": []
    },
    {
      "cell_type": "code",
      "source": [
        "foresterror <- 1-(sum(diag(foresttb))/sum(foresttb))"
      ],
      "metadata": {
        "id": "nBnf5yjjHnaK"
      },
      "execution_count": null,
      "outputs": []
    },
    {
      "cell_type": "code",
      "source": [
        "foresterror"
      ],
      "metadata": {
        "colab": {
          "base_uri": "https://localhost:8080/",
          "height": 34
        },
        "id": "hYZGpATyHpg3",
        "outputId": "9b3fe757-89a7-46f8-ef7e-756983139dde"
      },
      "execution_count": null,
      "outputs": [
        {
          "output_type": "display_data",
          "data": {
            "text/html": [
              "0.04"
            ],
            "text/markdown": "0.04",
            "text/latex": "0.04",
            "text/plain": [
              "[1] 0.04"
            ]
          },
          "metadata": {}
        }
      ]
    }
  ]
}