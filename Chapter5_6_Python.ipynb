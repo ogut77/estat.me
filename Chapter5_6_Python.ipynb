{
  "nbformat": 4,
  "nbformat_minor": 0,
  "metadata": {
    "colab": {
      "provenance": [],
      "name": "Chapter5.6.Python.ipynb",
      "authorship_tag": "ABX9TyODWriyM2X9v4PpFzNkRUkE",
      "include_colab_link": true
    },
    "kernelspec": {
      "name": "python3",
      "display_name": "Python 3"
    },
    "language_info": {
      "name": "python"
    }
  },
  "cells": [
    {
      "cell_type": "markdown",
      "metadata": {
        "id": "view-in-github",
        "colab_type": "text"
      },
      "source": [
        "<a href=\"https://colab.research.google.com/github/ogut77/estat.me/blob/main/Chapter5_6_Python.ipynb\" target=\"_parent\"><img src=\"https://colab.research.google.com/assets/colab-badge.svg\" alt=\"Open In Colab\"/></a>"
      ]
    },
    {
      "cell_type": "code",
      "execution_count": 1,
      "metadata": {
        "colab": {
          "base_uri": "https://localhost:8080/"
        },
        "id": "bx7dy2ReKMCQ",
        "outputId": "e461f746-bb57-4d86-bd98-832785918ccc"
      },
      "outputs": [
        {
          "output_type": "stream",
          "name": "stdout",
          "text": [
            "Test statistic: 1.5062370331392068\n",
            "P-value: 0.06600316790918383\n"
          ]
        }
      ],
      "source": [
        "# Example 5.2.1 Testing hypothesis for a population mean with known population standard deviation.\n",
        "# # Enter mu_0, n, xbar, and population standard deviation, then calculate test statistic and p-value.\n",
        "\n",
        "import math\n",
        "from scipy.stats import norm\n",
        "\n",
        "mu0 = 1500\n",
        "n = 30\n",
        "xbar = 1555\n",
        "sigma = 200\n",
        "\n",
        "teststat = (xbar - mu0) / (sigma / math.sqrt(n))\n",
        "print(f\"Test statistic: {teststat}\")\n",
        "\n",
        "pvalue = norm.sf(teststat) # Survival function (1 - CDF)\n",
        "print(f\"P-value: {pvalue}\")\n"
      ]
    },
    {
      "cell_type": "markdown",
      "source": [],
      "metadata": {
        "id": "L2_2jzVNKoep"
      }
    },
    {
      "cell_type": "code",
      "source": [
        "#Example 5.2.2 Testing hypothesis for a population mean with unknown population standard deviation.\n",
        "# Enter mu_0, n, xbar, and sample standard deviation, then calculate test statistic and p-value.\n",
        "\n",
        "\n",
        "import math\n",
        "from scipy.stats import t\n",
        "\n",
        "# Example 5.2.2 Testing hypothesis for a population mean with unknown population standard deviation.\n",
        "# Enter mu_0, n, xbar, and sample standard deviation, then calculate test statistic and p-value.\n",
        "\n",
        "mu0 = 250\n",
        "n = 16\n",
        "xbar = 253\n",
        "s = 10\n",
        "\n",
        "teststat = (xbar - mu0) / (s / math.sqrt(n))\n",
        "print(f\"Test statistic: {teststat}\")\n",
        "\n",
        "pvalue = t.sf(teststat, n-1) # Survival function (1 - CDF)\n",
        "print(f\"P-value: {pvalue}\")\n"
      ],
      "metadata": {
        "colab": {
          "base_uri": "https://localhost:8080/"
        },
        "id": "-wd95D7QKo1v",
        "outputId": "454b43bd-b67a-4d51-9623-73251dfaa4db"
      },
      "execution_count": 2,
      "outputs": [
        {
          "output_type": "stream",
          "name": "stdout",
          "text": [
            "Test statistic: 1.2\n",
            "P-value: 0.12437489369401128\n"
          ]
        }
      ]
    },
    {
      "cell_type": "code",
      "source": [
        "# prompt: # Example 5.3.1 Testing hypothesis for two populations means when population variances are equal.\n",
        "# # Enter n1, n2, xbar1, xbar2, s1, and s2, then calculate the pooled variance, test statistic and p-value.\n",
        "\n",
        "\n",
        "import math\n",
        "from scipy.stats import norm\n",
        "from scipy.stats import t\n",
        "\n",
        "# Example 5.3.1 Testing hypothesis for two populations means when population variances are equal.\n",
        "# Enter n1, n2, xbar1, xbar2, s1, and s2, then calculate the pooled variance, test statistic and p-value.\n",
        "\n",
        "n1 = 15\n",
        "n2 = 14\n",
        "xbar1 = 275\n",
        "xbar2 = 269\n",
        "s1 = 12\n",
        "s2 = 10\n",
        "\n",
        "pooledvar = ((n1 - 1) * s1**2 + (n2 - 1) * s2**2) / (n1 + n2 - 2)\n",
        "print(f\"Pooled Variance: {pooledvar}\")\n",
        "\n",
        "teststat = (xbar1 - xbar2) / math.sqrt(pooledvar / n1 + pooledvar / n2)\n",
        "print(f\"Test statistic: {teststat}\")\n",
        "\n",
        "pvalue = 2 * t.sf(abs(teststat), n1 + n2 - 2) # Use abs for two-tailed test, sf for survival function\n",
        "print(f\"P-value: {pvalue}\")\n"
      ],
      "metadata": {
        "colab": {
          "base_uri": "https://localhost:8080/"
        },
        "id": "Q4BEpgBXLcu6",
        "outputId": "30c9565f-80e0-48fd-db41-eca53ae554b2"
      },
      "execution_count": 3,
      "outputs": [
        {
          "output_type": "stream",
          "name": "stdout",
          "text": [
            "Pooled Variance: 122.81481481481481\n",
            "Test statistic: 1.4569227333394668\n",
            "P-value: 0.15667027233049496\n"
          ]
        }
      ]
    },
    {
      "cell_type": "code",
      "source": [
        "# prompt: # Example 5.4.1 Testing hypothesis for several populations means; one-way ANOVA.\n",
        "# # Enter data and change the level as a factor (as.factor()).\n",
        "# y <- c(81,75,69,90,72,83, 65,80,73,79,81,69, 72,67,62,76,80, 89,94,79,88)\n",
        "# f <- c(rep(1,6), rep(2,6), rep(3,5), rep(4,4))\n",
        "# af <- as.factor(f)\n",
        "# ymean <- tapply(y, af, mean)\n",
        "# ymean\n",
        "\n",
        "import statsmodels.formula.api as sm\n",
        "# Import the correct module for anova_lm\n",
        "from statsmodels.stats.anova import anova_lm\n",
        "\n",
        "# Example 5.4.1 Testing hypothesis for several populations means; one-way ANOVA.\n",
        "y = [81,75,69,90,72,83, 65,80,73,79,81,69, 72,67,62,76,80, 89,94,79,88]\n",
        "f = [1,1,1,1,1,1, 2,2,2,2,2,2, 3,3,3,3,3, 4,4,4,4]\n",
        "\n",
        "# Create a pandas DataFrame\n",
        "import pandas as pd\n",
        "df = pd.DataFrame({'y': y, 'af': f})\n",
        "\n",
        "# Fit the one-way ANOVA model\n",
        "model = sm.ols('y ~ C(af)', data=df).fit()\n",
        "\n",
        "# Print the ANOVA table\n",
        "# Call anova_lm directly from the imported module\n",
        "print(anova_lm(model, typ=2))"
      ],
      "metadata": {
        "colab": {
          "base_uri": "https://localhost:8080/"
        },
        "id": "IA-T_kU_Lztk",
        "outputId": "8388b718-763f-4503-fb6d-0b86ec0eca65"
      },
      "execution_count": 13,
      "outputs": [
        {
          "output_type": "stream",
          "name": "stdout",
          "text": [
            "              sum_sq    df         F    PR(>F)\n",
            "C(af)     643.633333   3.0  4.346973  0.019054\n",
            "Residual  839.033333  17.0       NaN       NaN\n"
          ]
        }
      ]
    },
    {
      "cell_type": "code",
      "source": [
        "\n",
        "import matplotlib.pyplot as plt # Import the pyplot module from matplotlib\n",
        "\n",
        "# Create the boxplot\n",
        "plt.figure(figsize=(8, 6))  # Adjust figure size if needed\n",
        "df.boxplot(column='y', by='af')\n",
        "plt.title('Boxplot of y by f')\n",
        "plt.suptitle('') # Remove default suptitle\n",
        "plt.xlabel('f')\n",
        "plt.ylabel('y')\n",
        "plt.show()\n"
      ],
      "metadata": {
        "colab": {
          "base_uri": "https://localhost:8080/",
          "height": 480
        },
        "id": "1rVsRRKEMAZE",
        "outputId": "118343d5-1895-4365-fc25-3876420dc6ec"
      },
      "execution_count": 14,
      "outputs": [
        {
          "output_type": "display_data",
          "data": {
            "text/plain": [
              "<Figure size 800x600 with 0 Axes>"
            ]
          },
          "metadata": {}
        },
        {
          "output_type": "display_data",
          "data": {
            "text/plain": [
              "<Figure size 640x480 with 1 Axes>"
            ],
            "image/png": "[encoded data removed]"
          },
          "metadata": {}
        }
      ]
    },
    {
      "cell_type": "code",
      "source": [
        "\n",
        "\n",
        "import statsmodels.formula.api as sm\n",
        "from statsmodels.stats.anova import anova_lm\n",
        "import pandas as pd\n",
        "#Fit the model\n",
        "model = sm.ols('y ~ C(af)', data=df).fit()\n",
        "\n",
        "# Perform ANOVA\n",
        "anova_table = anova_lm(model, typ=2)\n",
        "\n",
        "anova_table\n"
      ],
      "metadata": {
        "colab": {
          "base_uri": "https://localhost:8080/",
          "height": 125
        },
        "id": "OQi2ezVnPcUG",
        "outputId": "ec5d8929-4495-4fa6-d5dd-bdd0286125aa"
      },
      "execution_count": 15,
      "outputs": [
        {
          "output_type": "execute_result",
          "data": {
            "text/plain": [
              "              sum_sq    df         F    PR(>F)\n",
              "C(af)     643.633333   3.0  4.346973  0.019054\n",
              "Residual  839.033333  17.0       NaN       NaN"
            ],
            "text/html": [
              "\n",
              "  <div id=\"df-4dfc7cf0-7379-44fd-bb2a-19ae0c87174f\" class=\"colab-df-container\">\n",
              "    <div>\n",
              "<style scoped>\n",
              "    .dataframe tbody tr th:only-of-type {\n",
              "        vertical-align: middle;\n",
              "    }\n",
              "\n",
              "    .dataframe tbody tr th {\n",
              "        vertical-align: top;\n",
              "    }\n",
              "\n",
              "    .dataframe thead th {\n",
              "        text-align: right;\n",
              "    }\n",
              "</style>\n",
              "<table border=\"1\" class=\"dataframe\">\n",
              "  <thead>\n",
              "    <tr style=\"text-align: right;\">\n",
              "      <th></th>\n",
              "      <th>sum_sq</th>\n",
              "      <th>df</th>\n",
              "      <th>F</th>\n",
              "      <th>PR(&gt;F)</th>\n",
              "    </tr>\n",
              "  </thead>\n",
              "  <tbody>\n",
              "    <tr>\n",
              "      <th>C(af)</th>\n",
              "      <td>643.633333</td>\n",
              "      <td>3.0</td>\n",
              "      <td>4.346973</td>\n",
              "      <td>0.019054</td>\n",
              "    </tr>\n",
              "    <tr>\n",
              "      <th>Residual</th>\n",
              "      <td>839.033333</td>\n",
              "      <td>17.0</td>\n",
              "      <td>NaN</td>\n",
              "      <td>NaN</td>\n",
              "    </tr>\n",
              "  </tbody>\n",
              "</table>\n",
              "</div>\n",
              "    <div class=\"colab-df-buttons\">\n",
              "\n",
              "  <div class=\"colab-df-container\">\n",
              "    <button class=\"colab-df-convert\" onclick=\"convertToInteractive('df-4dfc7cf0-7379-44fd-bb2a-19ae0c87174f')\"\n",
              "            title=\"Convert this dataframe to an interactive table.\"\n",
              "            style=\"display:none;\">\n",
              "\n",
              "  <svg xmlns=\"http://www.w3.org/2000/svg\" height=\"24px\" viewBox=\"0 -960 960 960\">\n",
              "    <path d=\"M120-120v-720h720v720H120Zm60-500h600v-160H180v160Zm220 220h160v-160H400v160Zm0 220h160v-160H400v160ZM180-400h160v-160H180v160Zm440 0h160v-160H620v160ZM180-180h160v-160H180v160Zm440 0h160v-160H620v160Z\"/>\n",
              "  </svg>\n",
              "    </button>\n",
              "\n",
              "  <style>\n",
              "    .colab-df-container {\n",
              "      display:flex;\n",
              "      gap: 12px;\n",
              "    }\n",
              "\n",
              "    .colab-df-convert {\n",
              "      background-color: #E8F0FE;\n",
              "      border: none;\n",
              "      border-radius: 50%;\n",
              "      cursor: pointer;\n",
              "      display: none;\n",
              "      fill: #1967D2;\n",
              "      height: 32px;\n",
              "      padding: 0 0 0 0;\n",
              "      width: 32px;\n",
              "    }\n",
              "\n",
              "    .colab-df-convert:hover {\n",
              "      background-color: #E2EBFA;\n",
              "      box-shadow: 0px 1px 2px rgba(60, 64, 67, 0.3), 0px 1px 3px 1px rgba(60, 64, 67, 0.15);\n",
              "      fill: #174EA6;\n",
              "    }\n",
              "\n",
              "    .colab-df-buttons div {\n",
              "      margin-bottom: 4px;\n",
              "    }\n",
              "\n",
              "    [theme=dark] .colab-df-convert {\n",
              "      background-color: #3B4455;\n",
              "      fill: #D2E3FC;\n",
              "    }\n",
              "\n",
              "    [theme=dark] .colab-df-convert:hover {\n",
              "      background-color: #434B5C;\n",
              "      box-shadow: 0px 1px 3px 1px rgba(0, 0, 0, 0.15);\n",
              "      filter: drop-shadow(0px 1px 2px rgba(0, 0, 0, 0.3));\n",
              "      fill: #FFFFFF;\n",
              "    }\n",
              "  </style>\n",
              "\n",
              "    <script>\n",
              "      const buttonEl =\n",
              "        document.querySelector('#df-4dfc7cf0-7379-44fd-bb2a-19ae0c87174f button.colab-df-convert');\n",
              "      buttonEl.style.display =\n",
              "        google.colab.kernel.accessAllowed ? 'block' : 'none';\n",
              "\n",
              "      async function convertToInteractive(key) {\n",
              "        const element = document.querySelector('#df-4dfc7cf0-7379-44fd-bb2a-19ae0c87174f');\n",
              "        const dataTable =\n",
              "          await google.colab.kernel.invokeFunction('convertToInteractive',\n",
              "                                                    [key], {});\n",
              "        if (!dataTable) return;\n",
              "\n",
              "        const docLinkHtml = 'Like what you see? Visit the ' +\n",
              "          '<a target=\"_blank\" href=https://colab.research.google.com/notebooks/data_table.ipynb>data table notebook</a>'\n",
              "          + ' to learn more about interactive tables.';\n",
              "        element.innerHTML = '';\n",
              "        dataTable['output_type'] = 'display_data';\n",
              "        await google.colab.output.renderOutput(dataTable, element);\n",
              "        const docLink = document.createElement('div');\n",
              "        docLink.innerHTML = docLinkHtml;\n",
              "        element.appendChild(docLink);\n",
              "      }\n",
              "    </script>\n",
              "  </div>\n",
              "\n",
              "\n",
              "    <div id=\"df-ea276de7-7851-40e1-8064-7e60f8852123\">\n",
              "      <button class=\"colab-df-quickchart\" onclick=\"quickchart('df-ea276de7-7851-40e1-8064-7e60f8852123')\"\n",
              "                title=\"Suggest charts\"\n",
              "                style=\"display:none;\">\n",
              "\n",
              "<svg xmlns=\"http://www.w3.org/2000/svg\" height=\"24px\"viewBox=\"0 0 24 24\"\n",
              "     width=\"24px\">\n",
              "    <g>\n",
              "        <path d=\"M19 3H5c-1.1 0-2 .9-2 2v14c0 1.1.9 2 2 2h14c1.1 0 2-.9 2-2V5c0-1.1-.9-2-2-2zM9 17H7v-7h2v7zm4 0h-2V7h2v10zm4 0h-2v-4h2v4z\"/>\n",
              "    </g>\n",
              "</svg>\n",
              "      </button>\n",
              "\n",
              "<style>\n",
              "  .colab-df-quickchart {\n",
              "      --bg-color: #E8F0FE;\n",
              "      --fill-color: #1967D2;\n",
              "      --hover-bg-color: #E2EBFA;\n",
              "      --hover-fill-color: #174EA6;\n",
              "      --disabled-fill-color: #AAA;\n",
              "      --disabled-bg-color: #DDD;\n",
              "  }\n",
              "\n",
              "  [theme=dark] .colab-df-quickchart {\n",
              "      --bg-color: #3B4455;\n",
              "      --fill-color: #D2E3FC;\n",
              "      --hover-bg-color: #434B5C;\n",
              "      --hover-fill-color: #FFFFFF;\n",
              "      --disabled-bg-color: #3B4455;\n",
              "      --disabled-fill-color: #666;\n",
              "  }\n",
              "\n",
              "  .colab-df-quickchart {\n",
              "    background-color: var(--bg-color);\n",
              "    border: none;\n",
              "    border-radius: 50%;\n",
              "    cursor: pointer;\n",
              "    display: none;\n",
              "    fill: var(--fill-color);\n",
              "    height: 32px;\n",
              "    padding: 0;\n",
              "    width: 32px;\n",
              "  }\n",
              "\n",
              "  .colab-df-quickchart:hover {\n",
              "    background-color: var(--hover-bg-color);\n",
              "    box-shadow: 0 1px 2px rgba(60, 64, 67, 0.3), 0 1px 3px 1px rgba(60, 64, 67, 0.15);\n",
              "    fill: var(--button-hover-fill-color);\n",
              "  }\n",
              "\n",
              "  .colab-df-quickchart-complete:disabled,\n",
              "  .colab-df-quickchart-complete:disabled:hover {\n",
              "    background-color: var(--disabled-bg-color);\n",
              "    fill: var(--disabled-fill-color);\n",
              "    box-shadow: none;\n",
              "  }\n",
              "\n",
              "  .colab-df-spinner {\n",
              "    border: 2px solid var(--fill-color);\n",
              "    border-color: transparent;\n",
              "    border-bottom-color: var(--fill-color);\n",
              "    animation:\n",
              "      spin 1s steps(1) infinite;\n",
              "  }\n",
              "\n",
              "  @keyframes spin {\n",
              "    0% {\n",
              "      border-color: transparent;\n",
              "      border-bottom-color: var(--fill-color);\n",
              "      border-left-color: var(--fill-color);\n",
              "    }\n",
              "    20% {\n",
              "      border-color: transparent;\n",
              "      border-left-color: var(--fill-color);\n",
              "      border-top-color: var(--fill-color);\n",
              "    }\n",
              "    30% {\n",
              "      border-color: transparent;\n",
              "      border-left-color: var(--fill-color);\n",
              "      border-top-color: var(--fill-color);\n",
              "      border-right-color: var(--fill-color);\n",
              "    }\n",
              "    40% {\n",
              "      border-color: transparent;\n",
              "      border-right-color: var(--fill-color);\n",
              "      border-top-color: var(--fill-color);\n",
              "    }\n",
              "    60% {\n",
              "      border-color: transparent;\n",
              "      border-right-color: var(--fill-color);\n",
              "    }\n",
              "    80% {\n",
              "      border-color: transparent;\n",
              "      border-right-color: var(--fill-color);\n",
              "      border-bottom-color: var(--fill-color);\n",
              "    }\n",
              "    90% {\n",
              "      border-color: transparent;\n",
              "      border-bottom-color: var(--fill-color);\n",
              "    }\n",
              "  }\n",
              "</style>\n",
              "\n",
              "      <script>\n",
              "        async function quickchart(key) {\n",
              "          const quickchartButtonEl =\n",
              "            document.querySelector('#' + key + ' button');\n",
              "          quickchartButtonEl.disabled = true;  // To prevent multiple clicks.\n",
              "          quickchartButtonEl.classList.add('colab-df-spinner');\n",
              "          try {\n",
              "            const charts = await google.colab.kernel.invokeFunction(\n",
              "                'suggestCharts', [key], {});\n",
              "          } catch (error) {\n",
              "            console.error('Error during call to suggestCharts:', error);\n",
              "          }\n",
              "          quickchartButtonEl.classList.remove('colab-df-spinner');\n",
              "          quickchartButtonEl.classList.add('colab-df-quickchart-complete');\n",
              "        }\n",
              "        (() => {\n",
              "          let quickchartButtonEl =\n",
              "            document.querySelector('#df-ea276de7-7851-40e1-8064-7e60f8852123 button');\n",
              "          quickchartButtonEl.style.display =\n",
              "            google.colab.kernel.accessAllowed ? 'block' : 'none';\n",
              "        })();\n",
              "      </script>\n",
              "    </div>\n",
              "\n",
              "  <div id=\"id_5545e77f-c8e9-44e1-894a-3f4175e947d7\">\n",
              "    <style>\n",
              "      .colab-df-generate {\n",
              "        background-color: #E8F0FE;\n",
              "        border: none;\n",
              "        border-radius: 50%;\n",
              "        cursor: pointer;\n",
              "        display: none;\n",
              "        fill: #1967D2;\n",
              "        height: 32px;\n",
              "        padding: 0 0 0 0;\n",
              "        width: 32px;\n",
              "      }\n",
              "\n",
              "      .colab-df-generate:hover {\n",
              "        background-color: #E2EBFA;\n",
              "        box-shadow: 0px 1px 2px rgba(60, 64, 67, 0.3), 0px 1px 3px 1px rgba(60, 64, 67, 0.15);\n",
              "        fill: #174EA6;\n",
              "      }\n",
              "\n",
              "      [theme=dark] .colab-df-generate {\n",
              "        background-color: #3B4455;\n",
              "        fill: #D2E3FC;\n",
              "      }\n",
              "\n",
              "      [theme=dark] .colab-df-generate:hover {\n",
              "        background-color: #434B5C;\n",
              "        box-shadow: 0px 1px 3px 1px rgba(0, 0, 0, 0.15);\n",
              "        filter: drop-shadow(0px 1px 2px rgba(0, 0, 0, 0.3));\n",
              "        fill: #FFFFFF;\n",
              "      }\n",
              "    </style>\n",
              "    <button class=\"colab-df-generate\" onclick=\"generateWithVariable('anova_table')\"\n",
              "            title=\"Generate code using this dataframe.\"\n",
              "            style=\"display:none;\">\n",
              "\n",
              "  <svg xmlns=\"http://www.w3.org/2000/svg\" height=\"24px\"viewBox=\"0 0 24 24\"\n",
              "       width=\"24px\">\n",
              "    <path d=\"M7,19H8.4L18.45,9,17,7.55,7,17.6ZM5,21V16.75L18.45,3.32a2,2,0,0,1,2.83,0l1.4,1.43a1.91,1.91,0,0,1,.58,1.4,1.91,1.91,0,0,1-.58,1.4L9.25,21ZM18.45,9,17,7.55Zm-12,3A5.31,5.31,0,0,0,4.9,8.1,5.31,5.31,0,0,0,1,6.5,5.31,5.31,0,0,0,4.9,4.9,5.31,5.31,0,0,0,6.5,1,5.31,5.31,0,0,0,8.1,4.9,5.31,5.31,0,0,0,12,6.5,5.46,5.46,0,0,0,6.5,12Z\"/>\n",
              "  </svg>\n",
              "    </button>\n",
              "    <script>\n",
              "      (() => {\n",
              "      const buttonEl =\n",
              "        document.querySelector('#id_5545e77f-c8e9-44e1-894a-3f4175e947d7 button.colab-df-generate');\n",
              "      buttonEl.style.display =\n",
              "        google.colab.kernel.accessAllowed ? 'block' : 'none';\n",
              "\n",
              "      buttonEl.onclick = () => {\n",
              "        google.colab.notebook.generateWithVariable('anova_table');\n",
              "      }\n",
              "      })();\n",
              "    </script>\n",
              "  </div>\n",
              "\n",
              "    </div>\n",
              "  </div>\n"
            ],
            "application/vnd.google.colaboratory.intrinsic+json": {
              "type": "dataframe",
              "variable_name": "anova_table",
              "summary": "{\n  \"name\": \"anova_table\",\n  \"rows\": 2,\n  \"fields\": [\n    {\n      \"column\": \"sum_sq\",\n      \"properties\": {\n        \"dtype\": \"number\",\n        \"std\": 138.16866504385234,\n        \"min\": 643.6333333333321,\n        \"max\": 839.0333333333334,\n        \"num_unique_values\": 2,\n        \"samples\": [\n          839.0333333333334,\n          643.6333333333321\n        ],\n        \"semantic_type\": \"\",\n        \"description\": \"\"\n      }\n    },\n    {\n      \"column\": \"df\",\n      \"properties\": {\n        \"dtype\": \"number\",\n        \"std\": 9.899494936611665,\n        \"min\": 3.0,\n        \"max\": 17.0,\n        \"num_unique_values\": 2,\n        \"samples\": [\n          17.0,\n          3.0\n        ],\n        \"semantic_type\": \"\",\n        \"description\": \"\"\n      }\n    },\n    {\n      \"column\": \"F\",\n      \"properties\": {\n        \"dtype\": \"number\",\n        \"std\": null,\n        \"min\": 4.346973368823902,\n        \"max\": 4.346973368823902,\n        \"num_unique_values\": 1,\n        \"samples\": [\n          4.346973368823902\n        ],\n        \"semantic_type\": \"\",\n        \"description\": \"\"\n      }\n    },\n    {\n      \"column\": \"PR(>F)\",\n      \"properties\": {\n        \"dtype\": \"number\",\n        \"std\": null,\n        \"min\": 0.019053639983492618,\n        \"max\": 0.019053639983492618,\n        \"num_unique_values\": 1,\n        \"samples\": [\n          0.019053639983492618\n        ],\n        \"semantic_type\": \"\",\n        \"description\": \"\"\n      }\n    }\n  ]\n}"
            }
          },
          "metadata": {},
          "execution_count": 15
        }
      ]
    },
    {
      "cell_type": "code",
      "source": [
        "\n",
        "import math\n",
        "from scipy.stats import norm\n",
        "from scipy.stats import t\n",
        "import statsmodels.formula.api as sm\n",
        "from statsmodels.stats.anova import anova_lm\n",
        "import pandas as pd\n",
        "import matplotlib.pyplot as plt\n",
        "\n",
        "# Example 5.5.1 Regression analysis.\n",
        "# Enter data and change the level as a factor (as.factor()).\n",
        "x = [4,6,6,8,8,9,9,10,12,12]\n",
        "y = [39,42,45,47,50,50,52,55,57,60]\n",
        "\n",
        "# Create a pandas DataFrame\n",
        "df = pd.DataFrame({'x': x, 'y': y})\n",
        "\n",
        "# Fit the linear regression model\n",
        "rg = sm.ols('y ~ x', data=df).fit()\n",
        "# Print the regression summary\n",
        "print(rg.summary())\n"
      ],
      "metadata": {
        "colab": {
          "base_uri": "https://localhost:8080/"
        },
        "id": "kaUDfM7iPr31",
        "outputId": "ec597c24-f9f0-4866-9ac3-34a3f3a02aba"
      },
      "execution_count": 10,
      "outputs": [
        {
          "output_type": "stream",
          "name": "stdout",
          "text": [
            "                            OLS Regression Results                            \n",
            "==============================================================================\n",
            "Dep. Variable:                      y   R-squared:                       0.956\n",
            "Model:                            OLS   Adj. R-squared:                  0.950\n",
            "Method:                 Least Squares   F-statistic:                     172.1\n",
            "Date:                Fri, 02 May 2025   Prob (F-statistic):           1.09e-06\n",
            "Time:                        19:49:27   Log-Likelihood:                -17.016\n",
            "No. Observations:                  10   AIC:                             38.03\n",
            "Df Residuals:                       8   BIC:                             38.64\n",
            "Df Model:                           1                                         \n",
            "Covariance Type:            nonrobust                                         \n",
            "==============================================================================\n",
            "                 coef    std err          t      P>|t|      [0.025      0.975]\n",
            "------------------------------------------------------------------------------\n",
            "Intercept     28.6722      1.670     17.166      0.000      24.820      32.524\n",
            "x              2.5033      0.191     13.117      0.000       2.063       2.943\n",
            "==============================================================================\n",
            "Omnibus:                        6.181   Durbin-Watson:                   3.388\n",
            "Prob(Omnibus):                  0.045   Jarque-Bera (JB):                1.423\n",
            "Skew:                          -0.309   Prob(JB):                        0.491\n",
            "Kurtosis:                       1.258   Cond. No.                         31.5\n",
            "==============================================================================\n",
            "\n",
            "Notes:\n",
            "[1] Standard Errors assume that the covariance matrix of the errors is correctly specified.\n"
          ]
        },
        {
          "output_type": "stream",
          "name": "stderr",
          "text": [
            "/usr/local/lib/python3.11/dist-packages/scipy/stats/_axis_nan_policy.py:430: UserWarning: `kurtosistest` p-value may be inaccurate with fewer than 20 observations; only n=10 observations were given.\n",
            "  return hypotest_fun_in(*args, **kwds)\n"
          ]
        }
      ]
    },
    {
      "cell_type": "code",
      "source": [
        "\n",
        "\n",
        "\n",
        "# Plot the data and regression line\n",
        "plt.figure(figsize=(8, 6))\n",
        "plt.scatter(x, y)\n",
        "plt.plot(x, rg.predict(), color='red')\n",
        "plt.xlabel('x')\n",
        "plt.ylabel('y')\n",
        "plt.title('Regression Analysis')\n",
        "plt.show()\n"
      ],
      "metadata": {
        "colab": {
          "base_uri": "https://localhost:8080/",
          "height": 564
        },
        "id": "e5bv3qwIP4XH",
        "outputId": "7a0e3d50-0893-49be-9a8c-47db677fbaa4"
      },
      "execution_count": 11,
      "outputs": [
        {
          "output_type": "display_data",
          "data": {
            "text/plain": [
              "<Figure size 800x600 with 1 Axes>"
            ],
            "image/png": "[encoded data removed]"
          },
          "metadata": {}
        }
      ]
    },
    {
      "cell_type": "code",
      "source": [
        "\n",
        "# Example 5.5.3 Multiple regression analysis.\n",
        "# Enter data and change the level as a factor (as.factor()).\n",
        "import pandas as pd\n",
        "import statsmodels.formula.api as sm\n",
        "\n",
        "y = [0.291,0.291,0.288,0.464,0.532,0.557,0.441,0.515,0.603,0.628,0.956,0.775,0.727,0.704,1.084]\n",
        "x1 = [21.0,21.8,22.3,26.6,27.1,27.4,27.9,27.9,29.7,32.7,32.7,33.7,34.7,35.0,40.6]\n",
        "x2 = [21.33,19.81,19.20,21.94,24.68,25.29,20.11,22.86,21.03,22.55,25.90,26.21,21.64,19.50,21.94]\n",
        "\n",
        "# Create a pandas DataFrame\n",
        "df = pd.DataFrame({'y': y, 'x1': x1, 'x2': x2})\n",
        "\n",
        "# Fit the multiple linear regression model\n",
        "rg2 = sm.ols('y ~ x1 + x2', data=df).fit()\n",
        "\n",
        "# Print the regression summary\n",
        "print(rg2.summary())\n"
      ],
      "metadata": {
        "colab": {
          "base_uri": "https://localhost:8080/"
        },
        "id": "QIxnXR7MQAmz",
        "outputId": "5b8991ff-7b55-470e-fcdb-57bab034bcd4"
      },
      "execution_count": 12,
      "outputs": [
        {
          "output_type": "stream",
          "name": "stdout",
          "text": [
            "                            OLS Regression Results                            \n",
            "==============================================================================\n",
            "Dep. Variable:                      y   R-squared:                       0.924\n",
            "Model:                            OLS   Adj. R-squared:                  0.912\n",
            "Method:                 Least Squares   F-statistic:                     73.12\n",
            "Date:                Fri, 02 May 2025   Prob (F-statistic):           1.90e-07\n",
            "Time:                        19:49:39   Log-Likelihood:                 20.392\n",
            "No. Observations:                  15   AIC:                            -34.78\n",
            "Df Residuals:                      12   BIC:                            -32.66\n",
            "Df Model:                           2                                         \n",
            "Covariance Type:            nonrobust                                         \n",
            "==============================================================================\n",
            "                 coef    std err          t      P>|t|      [0.025      0.975]\n",
            "------------------------------------------------------------------------------\n",
            "Intercept     -1.0236      0.188     -5.458      0.000      -1.432      -0.615\n",
            "x1             0.0370      0.003     10.590      0.000       0.029       0.045\n",
            "x2             0.0237      0.008      2.844      0.015       0.006       0.042\n",
            "==============================================================================\n",
            "Omnibus:                        4.763   Durbin-Watson:                   2.566\n",
            "Prob(Omnibus):                  0.092   Jarque-Bera (JB):                2.434\n",
            "Skew:                           0.953   Prob(JB):                        0.296\n",
            "Kurtosis:                       3.511   Cond. No.                         389.\n",
            "==============================================================================\n",
            "\n",
            "Notes:\n",
            "[1] Standard Errors assume that the covariance matrix of the errors is correctly specified.\n"
          ]
        },
        {
          "output_type": "stream",
          "name": "stderr",
          "text": [
            "/usr/local/lib/python3.11/dist-packages/scipy/stats/_axis_nan_policy.py:430: UserWarning: `kurtosistest` p-value may be inaccurate with fewer than 20 observations; only n=15 observations were given.\n",
            "  return hypotest_fun_in(*args, **kwds)\n"
          ]
        }
      ]
    }
  ]
}