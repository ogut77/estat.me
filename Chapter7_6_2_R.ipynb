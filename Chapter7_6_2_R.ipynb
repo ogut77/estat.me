{
  "nbformat": 4,
  "nbformat_minor": 0,
  "metadata": {
    "colab": {
      "provenance": [],
      "name": "Chapter7.6.2.R.ipynb",
      "authorship_tag": "ABX9TyOnPwKhR9qqjSXnqV5opp5u",
      "include_colab_link": true
    },
    "kernelspec": {
      "name": "ir",
      "display_name": "R"
    },
    "language_info": {
      "name": "R"
    }
  },
  "cells": [
    {
      "cell_type": "markdown",
      "metadata": {
        "id": "view-in-github",
        "colab_type": "text"
      },
      "source": [
        "<a href=\"https://colab.research.google.com/github/ogut77/estat.me/blob/main/Chapter7_6_2_R.ipynb\" target=\"_parent\"><img src=\"https://colab.research.google.com/assets/colab-badge.svg\" alt=\"Open In Colab\"/></a>"
      ]
    },
    {
      "cell_type": "markdown",
      "source": [
        "## Bagging"
      ],
      "metadata": {
        "id": "b93J-ytVqhpP"
      }
    },
    {
      "cell_type": "code",
      "source": [
        "install.packages('adabag')\n",
        "library(adabag)\n"
      ],
      "metadata": {
        "colab": {
          "base_uri": "https://localhost:8080/"
        },
        "id": "yGgK__h2k82X",
        "outputId": "0d8c77e4-43ba-4a38-d6b2-202646f17c1e"
      },
      "execution_count": null,
      "outputs": [
        {
          "output_type": "stream",
          "name": "stderr",
          "text": [
            "Installing package into ‘/usr/local/lib/R/site-library’\n",
            "(as ‘lib’ is unspecified)\n",
            "\n",
            "also installing the dependencies ‘listenv’, ‘parallelly’, ‘future’, ‘globals’, ‘shape’, ‘future.apply’, ‘numDeriv’, ‘progressr’, ‘SQUAREM’, ‘diagram’, ‘lava’, ‘prodlim’, ‘clock’, ‘gower’, ‘hardhat’, ‘ipred’, ‘sparsevctrs’, ‘timeDate’, ‘XML’, ‘ModelMetrics’, ‘plyr’, ‘pROC’, ‘recipes’, ‘reshape2’, ‘iterators’, ‘rgl’, ‘rlist’, ‘gtools’, ‘caret’, ‘foreach’, ‘doParallel’, ‘ConsRank’\n",
            "\n",
            "\n",
            "Loading required package: rpart\n",
            "\n",
            "Loading required package: caret\n",
            "\n",
            "Loading required package: ggplot2\n",
            "\n",
            "\n",
            "Attaching package: ‘ggplot2’\n",
            "\n",
            "\n",
            "The following object is masked from ‘package:randomForest’:\n",
            "\n",
            "    margin\n",
            "\n",
            "\n",
            "Loading required package: lattice\n",
            "\n",
            "Loading required package: foreach\n",
            "\n",
            "Loading required package: doParallel\n",
            "\n",
            "Loading required package: iterators\n",
            "\n",
            "Loading required package: parallel\n",
            "\n"
          ]
        }
      ]
    },
    {
      "cell_type": "code",
      "source": [
        "data(iris)\n",
        "# mfinal is an integer which is the number of iterations for which boosting is run\n",
        "iris.bagging <- bagging(Species~., data=iris, mfinal = 10)\n",
        "# list the importance of variable in the classification\n",
        "iris.bagging$importance"
      ],
      "metadata": {
        "colab": {
          "base_uri": "https://localhost:8080/",
          "height": 52
        },
        "id": "FDWahTh3lyH5",
        "outputId": "49d47a31-b91e-4eaf-a8c5-13dee545859a"
      },
      "execution_count": null,
      "outputs": [
        {
          "output_type": "display_data",
          "data": {
            "text/html": [
              "<style>\n",
              ".dl-inline {width: auto; margin:0; padding: 0}\n",
              ".dl-inline>dt, .dl-inline>dd {float: none; width: auto; display: inline-block}\n",
              ".dl-inline>dt::after {content: \":\\0020\"; padding-right: .5ex}\n",
              ".dl-inline>dt:not(:first-of-type) {padding-left: .5ex}\n",
              "</style><dl class=dl-inline><dt>Petal.Length</dt><dd>81.2417522362464</dd><dt>Petal.Width</dt><dd>18.7582477637536</dd><dt>Sepal.Length</dt><dd>0</dd><dt>Sepal.Width</dt><dd>0</dd></dl>\n"
            ],
            "text/markdown": "Petal.Length\n:   81.2417522362464Petal.Width\n:   18.7582477637536Sepal.Length\n:   0Sepal.Width\n:   0\n\n",
            "text/latex": "\\begin{description*}\n\\item[Petal.Length] 81.2417522362464\n\\item[Petal.Width] 18.7582477637536\n\\item[Sepal.Length] 0\n\\item[Sepal.Width] 0\n\\end{description*}\n",
            "text/plain": [
              "Petal.Length  Petal.Width Sepal.Length  Sepal.Width \n",
              "    81.24175     18.75825      0.00000      0.00000 "
            ]
          },
          "metadata": {}
        }
      ]
    },
    {
      "cell_type": "code",
      "source": [
        "# list the trees grown along the iterations.\n",
        "iris.bagging$trees"
      ],
      "metadata": {
        "colab": {
          "base_uri": "https://localhost:8080/",
          "height": 1000
        },
        "id": "FqDFh39dm4kU",
        "outputId": "87dc0481-9e3a-444b-fda5-15d4fda2c5b8"
      },
      "execution_count": null,
      "outputs": [
        {
          "output_type": "display_data",
          "data": {
            "text/plain": [
              "[[1]]\n",
              "n= 150 \n",
              "\n",
              "node), split, n, loss, yval, (yprob)\n",
              "      * denotes terminal node\n",
              "\n",
              "1) root 150 92 virginica (0.24000000 0.37333333 0.38666667)  \n",
              "  2) Petal.Width< 1.75 96 40 versicolor (0.37500000 0.58333333 0.04166667)  \n",
              "    4) Petal.Length< 2.45 36  0 setosa (1.00000000 0.00000000 0.00000000) *\n",
              "    5) Petal.Length>=2.45 60  4 versicolor (0.00000000 0.93333333 0.06666667) *\n",
              "  3) Petal.Width>=1.75 54  0 virginica (0.00000000 0.00000000 1.00000000) *\n",
              "\n",
              "[[2]]\n",
              "n= 150 \n",
              "\n",
              "node), split, n, loss, yval, (yprob)\n",
              "      * denotes terminal node\n",
              "\n",
              "1) root 150 97 versicolor (0.34000000 0.35333333 0.30666667)  \n",
              "  2) Petal.Length< 2.5 51  0 setosa (1.00000000 0.00000000 0.00000000) *\n",
              "  3) Petal.Length>=2.5 99 46 versicolor (0.00000000 0.53535354 0.46464646)  \n",
              "    6) Petal.Length< 4.85 52  2 versicolor (0.00000000 0.96153846 0.03846154) *\n",
              "    7) Petal.Length>=4.85 47  3 virginica (0.00000000 0.06382979 0.93617021) *\n",
              "\n",
              "[[3]]\n",
              "n= 150 \n",
              "\n",
              "node), split, n, loss, yval, (yprob)\n",
              "      * denotes terminal node\n",
              "\n",
              "1) root 150 89 virginica (0.2800000 0.3133333 0.4066667)  \n",
              "  2) Petal.Length< 4.85 86 42 versicolor (0.4883721 0.5116279 0.0000000)  \n",
              "    4) Petal.Length< 2.45 42  0 setosa (1.0000000 0.0000000 0.0000000) *\n",
              "    5) Petal.Length>=2.45 44  0 versicolor (0.0000000 1.0000000 0.0000000) *\n",
              "  3) Petal.Length>=4.85 64  3 virginica (0.0000000 0.0468750 0.9531250) *\n",
              "\n",
              "[[4]]\n",
              "n= 150 \n",
              "\n",
              "node), split, n, loss, yval, (yprob)\n",
              "      * denotes terminal node\n",
              "\n",
              "1) root 150 97 setosa (0.35333333 0.30666667 0.34000000)  \n",
              "  2) Petal.Length< 2.6 53  0 setosa (1.00000000 0.00000000 0.00000000) *\n",
              "  3) Petal.Length>=2.6 97 46 virginica (0.00000000 0.47422680 0.52577320)  \n",
              "    6) Petal.Length< 4.85 47  2 versicolor (0.00000000 0.95744681 0.04255319) *\n",
              "    7) Petal.Length>=4.85 50  1 virginica (0.00000000 0.02000000 0.98000000) *\n",
              "\n",
              "[[5]]\n",
              "n= 150 \n",
              "\n",
              "node), split, n, loss, yval, (yprob)\n",
              "      * denotes terminal node\n",
              "\n",
              "1) root 150 95 setosa (0.36666667 0.29333333 0.34000000)  \n",
              "  2) Petal.Length< 2.45 55  0 setosa (1.00000000 0.00000000 0.00000000) *\n",
              "  3) Petal.Length>=2.45 95 44 virginica (0.00000000 0.46315789 0.53684211)  \n",
              "    6) Petal.Width< 1.75 48  4 versicolor (0.00000000 0.91666667 0.08333333) *\n",
              "    7) Petal.Width>=1.75 47  0 virginica (0.00000000 0.00000000 1.00000000) *\n",
              "\n",
              "[[6]]\n",
              "n= 150 \n",
              "\n",
              "node), split, n, loss, yval, (yprob)\n",
              "      * denotes terminal node\n",
              "\n",
              "1) root 150 96 versicolor (0.30666667 0.36000000 0.33333333)  \n",
              "  2) Petal.Length< 2.6 46  0 setosa (1.00000000 0.00000000 0.00000000) *\n",
              "  3) Petal.Length>=2.6 104 50 versicolor (0.00000000 0.51923077 0.48076923)  \n",
              "    6) Petal.Length< 4.75 50  0 versicolor (0.00000000 1.00000000 0.00000000) *\n",
              "    7) Petal.Length>=4.75 54  4 virginica (0.00000000 0.07407407 0.92592593) *\n",
              "\n",
              "[[7]]\n",
              "n= 150 \n",
              "\n",
              "node), split, n, loss, yval, (yprob)\n",
              "      * denotes terminal node\n",
              "\n",
              "1) root 150 94 virginica (0.26666667 0.36000000 0.37333333)  \n",
              "  2) Petal.Length< 4.75 90 40 versicolor (0.44444444 0.55555556 0.00000000)  \n",
              "    4) Petal.Length< 2.45 40  0 setosa (1.00000000 0.00000000 0.00000000) *\n",
              "    5) Petal.Length>=2.45 50  0 versicolor (0.00000000 1.00000000 0.00000000) *\n",
              "  3) Petal.Length>=4.75 60  4 virginica (0.00000000 0.06666667 0.93333333) *\n",
              "\n",
              "[[8]]\n",
              "n= 150 \n",
              "\n",
              "node), split, n, loss, yval, (yprob)\n",
              "      * denotes terminal node\n",
              "\n",
              "1) root 150 91 virginica (0.29333333 0.31333333 0.39333333)  \n",
              "  2) Petal.Length< 2.45 44  0 setosa (1.00000000 0.00000000 0.00000000) *\n",
              "  3) Petal.Length>=2.45 106 47 virginica (0.00000000 0.44339623 0.55660377)  \n",
              "    6) Petal.Width< 1.75 48  3 versicolor (0.00000000 0.93750000 0.06250000) *\n",
              "    7) Petal.Width>=1.75 58  2 virginica (0.00000000 0.03448276 0.96551724) *\n",
              "\n",
              "[[9]]\n",
              "n= 150 \n",
              "\n",
              "node), split, n, loss, yval, (yprob)\n",
              "      * denotes terminal node\n",
              "\n",
              "1) root 150 86 virginica (0.28666667 0.28666667 0.42666667)  \n",
              "  2) Petal.Length< 4.75 83 40 setosa (0.51807229 0.48192771 0.00000000)  \n",
              "    4) Petal.Length< 2.6 43  0 setosa (1.00000000 0.00000000 0.00000000) *\n",
              "    5) Petal.Length>=2.6 40  0 versicolor (0.00000000 1.00000000 0.00000000) *\n",
              "  3) Petal.Length>=4.75 67  3 virginica (0.00000000 0.04477612 0.95522388) *\n",
              "\n",
              "[[10]]\n",
              "n= 150 \n",
              "\n",
              "node), split, n, loss, yval, (yprob)\n",
              "      * denotes terminal node\n",
              "\n",
              "1) root 150 100 setosa (0.33333333 0.33333333 0.33333333)  \n",
              "  2) Petal.Length< 2.3 50   0 setosa (1.00000000 0.00000000 0.00000000) *\n",
              "  3) Petal.Length>=2.3 100  50 versicolor (0.00000000 0.50000000 0.50000000)  \n",
              "    6) Petal.Width< 1.75 55   5 versicolor (0.00000000 0.90909091 0.09090909) *\n",
              "    7) Petal.Width>=1.75 45   0 virginica (0.00000000 0.00000000 1.00000000) *\n"
            ]
          },
          "metadata": {}
        }
      ]
    },
    {
      "cell_type": "code",
      "source": [
        "# plot the decision tree after iteration 10 data\n",
        "plot(iris.bagging$trees[[10]])"
      ],
      "metadata": {
        "colab": {
          "base_uri": "https://localhost:8080/",
          "height": 437
        },
        "id": "UROSCP4am-iN",
        "outputId": "1c617661-6ff9-4a47-d862-1c367f375c51"
      },
      "execution_count": null,
      "outputs": [
        {
          "output_type": "display_data",
          "data": {
            "text/plain": [
              "plot without title"
            ],
            "image/png": "[encoded data removed]"
          },
          "metadata": {
            "image/png": {
              "width": 420,
              "height": 420
            }
          }
        }
      ]
    },
    {
      "cell_type": "code",
      "source": [
        "# classify the iris data using the bagging model\n",
        "baggingpred <- predict(iris.bagging, newdata=iris)\n",
        "table(baggingpred$class, iris[,5])"
      ],
      "metadata": {
        "colab": {
          "base_uri": "https://localhost:8080/",
          "height": 104
        },
        "id": "EwdN8noFnDU2",
        "outputId": "1a7fc27a-b6ba-4a63-8f77-c7d35041473d"
      },
      "execution_count": null,
      "outputs": [
        {
          "output_type": "display_data",
          "data": {
            "text/plain": [
              "            \n",
              "             setosa versicolor virginica\n",
              "  setosa         50          0         0\n",
              "  versicolor      0         45         1\n",
              "  virginica       0          5        49"
            ]
          },
          "metadata": {}
        }
      ]
    },
    {
      "cell_type": "code",
      "source": [
        "# calculate the misclassification error\n",
        "baggingtb <- table(baggingpred$class, iris[,5])\n",
        "baggingerror.rpart <- 1-(sum(diag(baggingtb))/sum(baggingtb))\n",
        "# misclassification error is 2.67%\n",
        "baggingerror.rpart"
      ],
      "metadata": {
        "colab": {
          "base_uri": "https://localhost:8080/",
          "height": 34
        },
        "id": "NA4R17VKnKUx",
        "outputId": "94d09983-d9db-49bf-d3dd-301ef457b7d0"
      },
      "execution_count": null,
      "outputs": [
        {
          "output_type": "display_data",
          "data": {
            "text/html": [
              "0.04"
            ],
            "text/markdown": "0.04",
            "text/latex": "0.04",
            "text/plain": [
              "[1] 0.04"
            ]
          },
          "metadata": {}
        }
      ]
    }
  ]
}