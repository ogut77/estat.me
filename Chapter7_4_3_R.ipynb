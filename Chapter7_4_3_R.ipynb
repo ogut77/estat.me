{
  "nbformat": 4,
  "nbformat_minor": 0,
  "metadata": {
    "colab": {
      "provenance": [],
      "name": "Chapter7.4.3.R.ipynb",
      "authorship_tag": "ABX9TyNOkAupfKS99ZfWoQE54pXL",
      "include_colab_link": true
    },
    "kernelspec": {
      "name": "ir",
      "display_name": "R"
    },
    "language_info": {
      "name": "R"
    }
  },
  "cells": [
    {
      "cell_type": "markdown",
      "metadata": {
        "id": "view-in-github",
        "colab_type": "text"
      },
      "source": [
        "<a href=\"https://colab.research.google.com/github/ogut77/estat.me/blob/main/Chapter7_4_3_R.ipynb\" target=\"_parent\"><img src=\"https://colab.research.google.com/assets/colab-badge.svg\" alt=\"Open In Colab\"/></a>"
      ]
    },
    {
      "cell_type": "markdown",
      "source": [
        "**Neural Network**"
      ],
      "metadata": {
        "id": "a9WGR7wz2Nu9"
      }
    },
    {
      "cell_type": "code",
      "source": [
        " install.packages('nnet')\n",
        " library(nnet)\n",
        " library(readr)\n",
        " singleNNdata <- read.csv('https://raw.githubusercontent.com/ogut77/DataScience/refs/heads/main/singleNN.csv')\n"
      ],
      "metadata": {
        "colab": {
          "base_uri": "https://localhost:8080/"
        },
        "id": "GVbbJH032Q_L",
        "outputId": "f54504fd-f829-4923-b14e-77b312cd13d0"
      },
      "execution_count": null,
      "outputs": [
        {
          "output_type": "stream",
          "name": "stderr",
          "text": [
            "Installing package into ‘/usr/local/lib/R/site-library’\n",
            "(as ‘lib’ is unspecified)\n",
            "\n"
          ]
        }
      ]
    },
    {
      "cell_type": "code",
      "source": [
        "attach(singleNNdata)"
      ],
      "metadata": {
        "id": "td7kHHyQK6FS"
      },
      "execution_count": null,
      "outputs": []
    },
    {
      "cell_type": "code",
      "source": [
        " singleNNdata"
      ],
      "metadata": {
        "colab": {
          "base_uri": "https://localhost:8080/",
          "height": 349
        },
        "id": "W8WGUCku3Azk",
        "outputId": "ffb9778c-341f-4c43-cff5-fd5039b04acc"
      },
      "execution_count": null,
      "outputs": [
        {
          "output_type": "display_data",
          "data": {
            "text/html": [
              "<table class=\"dataframe\">\n",
              "<caption>A data.frame: 8 × 4</caption>\n",
              "<thead>\n",
              "\t<tr><th scope=col>x1</th><th scope=col>x2</th><th scope=col>x3</th><th scope=col>y</th></tr>\n",
              "\t<tr><th scope=col>&lt;int&gt;</th><th scope=col>&lt;int&gt;</th><th scope=col>&lt;int&gt;</th><th scope=col>&lt;int&gt;</th></tr>\n",
              "</thead>\n",
              "<tbody>\n",
              "\t<tr><td>0</td><td>0</td><td>0</td><td>-1</td></tr>\n",
              "\t<tr><td>0</td><td>0</td><td>1</td><td>-1</td></tr>\n",
              "\t<tr><td>0</td><td>1</td><td>0</td><td>-1</td></tr>\n",
              "\t<tr><td>0</td><td>1</td><td>1</td><td> 1</td></tr>\n",
              "\t<tr><td>1</td><td>0</td><td>0</td><td>-1</td></tr>\n",
              "\t<tr><td>1</td><td>0</td><td>1</td><td> 1</td></tr>\n",
              "\t<tr><td>1</td><td>1</td><td>0</td><td> 1</td></tr>\n",
              "\t<tr><td>1</td><td>1</td><td>1</td><td> 1</td></tr>\n",
              "</tbody>\n",
              "</table>\n"
            ],
            "text/markdown": "\nA data.frame: 8 × 4\n\n| x1 &lt;int&gt; | x2 &lt;int&gt; | x3 &lt;int&gt; | y &lt;int&gt; |\n|---|---|---|---|\n| 0 | 0 | 0 | -1 |\n| 0 | 0 | 1 | -1 |\n| 0 | 1 | 0 | -1 |\n| 0 | 1 | 1 |  1 |\n| 1 | 0 | 0 | -1 |\n| 1 | 0 | 1 |  1 |\n| 1 | 1 | 0 |  1 |\n| 1 | 1 | 1 |  1 |\n\n",
            "text/latex": "A data.frame: 8 × 4\n\\begin{tabular}{llll}\n x1 & x2 & x3 & y\\\\\n <int> & <int> & <int> & <int>\\\\\n\\hline\n\t 0 & 0 & 0 & -1\\\\\n\t 0 & 0 & 1 & -1\\\\\n\t 0 & 1 & 0 & -1\\\\\n\t 0 & 1 & 1 &  1\\\\\n\t 1 & 0 & 0 & -1\\\\\n\t 1 & 0 & 1 &  1\\\\\n\t 1 & 1 & 0 &  1\\\\\n\t 1 & 1 & 1 &  1\\\\\n\\end{tabular}\n",
            "text/plain": [
              "  x1 x2 x3 y \n",
              "1 0  0  0  -1\n",
              "2 0  0  1  -1\n",
              "3 0  1  0  -1\n",
              "4 0  1  1   1\n",
              "5 1  0  0  -1\n",
              "6 1  0  1   1\n",
              "7 1  1  0   1\n",
              "8 1  1  1   1"
            ]
          },
          "metadata": {}
        }
      ]
    },
    {
      "cell_type": "code",
      "source": [
        "# create a training data using the 8 data.\n",
        "train <- singleNNdata[1:8,]\n",
        "# create a testing data using the same 8 data\n",
        "test <- singleNNdata[1:8,]\n",
        "train.nnet <- nnet(y~x1+x2+x3,data=train, size=2, rang=0.1, decay=5e-4, maxit=100)\n",
        "summary(train.nnet)"
      ],
      "metadata": {
        "colab": {
          "base_uri": "https://localhost:8080/",
          "height": 399
        },
        "id": "Wk36dEzA3Epi",
        "outputId": "9faa8faa-7694-42c3-dbe1-8f32deb0290b"
      },
      "execution_count": null,
      "outputs": [
        {
          "output_type": "stream",
          "name": "stdout",
          "text": [
            "# weights:  11\n",
            "initial  value 9.945813 \n",
            "iter  10 value 7.902015\n",
            "iter  20 value 6.775085\n",
            "iter  30 value 4.152398\n",
            "iter  40 value 4.130085\n",
            "iter  50 value 4.129914\n",
            "iter  60 value 4.129832\n",
            "iter  70 value 4.129705\n",
            "iter  80 value 4.129659\n",
            "iter  90 value 4.129641\n",
            "iter 100 value 4.129632\n",
            "final  value 4.129632 \n",
            "stopped after 100 iterations\n"
          ]
        },
        {
          "output_type": "display_data",
          "data": {
            "text/plain": [
              "a 3-2-1 network with 11 weights\n",
              "options were - decay=5e-04\n",
              " b->h1 i1->h1 i2->h1 i3->h1 \n",
              "  4.22  -3.11  -3.11  -3.11 \n",
              " b->h2 i1->h2 i2->h2 i3->h2 \n",
              "  3.99  -2.97  -2.96  -2.97 \n",
              " b->o h1->o h2->o \n",
              " 4.61 -7.50 -7.02 "
            ]
          },
          "metadata": {}
        }
      ]
    },
    {
      "cell_type": "code",
      "source": [
        "predict(train.nnet,test)\n",
        "nnetpred <- (predict(train.nnet,test) >= 0.01)\n"
      ],
      "metadata": {
        "colab": {
          "base_uri": "https://localhost:8080/",
          "height": 303
        },
        "id": "XuwGRPch3RKD",
        "outputId": "d7c5a255-65f9-4056-974e-f935593065a7"
      },
      "execution_count": null,
      "outputs": [
        {
          "output_type": "display_data",
          "data": {
            "text/html": [
              "<table class=\"dataframe\">\n",
              "<caption>A matrix: 8 × 1 of type dbl</caption>\n",
              "<tbody>\n",
              "\t<tr><th scope=row>1</th><td>6.327925e-05</td></tr>\n",
              "\t<tr><th scope=row>2</th><td>2.057801e-03</td></tr>\n",
              "\t<tr><th scope=row>3</th><td>2.038969e-03</td></tr>\n",
              "\t<tr><th scope=row>4</th><td>9.446234e-01</td></tr>\n",
              "\t<tr><th scope=row>5</th><td>2.074247e-03</td></tr>\n",
              "\t<tr><th scope=row>6</th><td>9.451265e-01</td></tr>\n",
              "\t<tr><th scope=row>7</th><td>9.448574e-01</td></tr>\n",
              "\t<tr><th scope=row>8</th><td>9.891801e-01</td></tr>\n",
              "</tbody>\n",
              "</table>\n"
            ],
            "text/markdown": "\nA matrix: 8 × 1 of type dbl\n\n| 1 | 6.327925e-05 |\n| 2 | 2.057801e-03 |\n| 3 | 2.038969e-03 |\n| 4 | 9.446234e-01 |\n| 5 | 2.074247e-03 |\n| 6 | 9.451265e-01 |\n| 7 | 9.448574e-01 |\n| 8 | 9.891801e-01 |\n\n",
            "text/latex": "A matrix: 8 × 1 of type dbl\n\\begin{tabular}{r|l}\n\t1 & 6.327925e-05\\\\\n\t2 & 2.057801e-03\\\\\n\t3 & 2.038969e-03\\\\\n\t4 & 9.446234e-01\\\\\n\t5 & 2.074247e-03\\\\\n\t6 & 9.451265e-01\\\\\n\t7 & 9.448574e-01\\\\\n\t8 & 9.891801e-01\\\\\n\\end{tabular}\n",
            "text/plain": [
              "  [,1]        \n",
              "1 6.327925e-05\n",
              "2 2.057801e-03\n",
              "3 2.038969e-03\n",
              "4 9.446234e-01\n",
              "5 2.074247e-03\n",
              "6 9.451265e-01\n",
              "7 9.448574e-01\n",
              "8 9.891801e-01"
            ]
          },
          "metadata": {}
        }
      ]
    },
    {
      "cell_type": "code",
      "source": [
        "table(nnetpred,y)"
      ],
      "metadata": {
        "colab": {
          "base_uri": "https://localhost:8080/",
          "height": 86
        },
        "id": "Cs3Bd51LLJrC",
        "outputId": "e5ed6c71-aeaf-4eb1-80f8-a1eba3ec171a"
      },
      "execution_count": null,
      "outputs": [
        {
          "output_type": "display_data",
          "data": {
            "text/plain": [
              "        y\n",
              "nnetpred -1 1\n",
              "   FALSE  4 0\n",
              "   TRUE   0 4"
            ]
          },
          "metadata": {}
        }
      ]
    }
  ]
}