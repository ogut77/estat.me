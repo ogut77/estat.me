{
  "nbformat": 4,
  "nbformat_minor": 0,
  "metadata": {
    "colab": {
      "provenance": [],
      "name": "Chapter7.6.4.Python.ipynb",
      "authorship_tag": "ABX9TyMCWgmLjGXQ2yk2h2F3hlxu",
      "include_colab_link": true
    },
    "kernelspec": {
      "name": "python3",
      "display_name": "Python 3"
    },
    "language_info": {
      "name": "python"
    }
  },
  "cells": [
    {
      "cell_type": "markdown",
      "metadata": {
        "id": "view-in-github",
        "colab_type": "text"
      },
      "source": [
        "<a href=\"https://colab.research.google.com/github/ogut77/estat.me/blob/main/Chapter7_6_4_Python.ipynb\" target=\"_parent\"><img src=\"https://colab.research.google.com/assets/colab-badge.svg\" alt=\"Open In Colab\"/></a>"
      ]
    },
    {
      "cell_type": "markdown",
      "source": [
        "Boosting"
      ],
      "metadata": {
        "id": "-bcA9717ldq_"
      }
    },
    {
      "cell_type": "code",
      "source": [
        "import pandas as pd\n",
        "import numpy as np\n",
        "from sklearn.ensemble import AdaBoostClassifier\n",
        "from sklearn.tree import DecisionTreeClassifier, plot_tree\n",
        "from sklearn.metrics import confusion_matrix\n",
        "import matplotlib.pyplot as plt\n",
        "from sklearn.datasets import load_iris\n",
        "\n",
        "# Load iris dataset\n",
        "iris = load_iris()\n",
        "iris_df = pd.DataFrame(data=iris.data, columns=iris.feature_names)\n",
        "iris_df['Species'] = iris.target\n",
        "species_map = {0: 'setosa', 1: 'versicolor', 2: 'virginica'}\n",
        "iris_df['Species'] = iris_df['Species'].map(species_map)\n"
      ],
      "metadata": {
        "id": "s-gfHwuW9niH"
      },
      "execution_count": null,
      "outputs": []
    },
    {
      "cell_type": "code",
      "source": [
        "# AdaBoost with decision trees (mfinal=10 iterations, boos=TRUE)\n",
        "adaboost_model = AdaBoostClassifier(\n",
        "                                    n_estimators=10,\n",
        "                                    random_state=0)\n",
        "X = iris_df.drop('Species', axis=1)\n",
        "y = iris_df['Species']\n",
        "adaboost_model.fit(X, y)\n",
        "\n",
        "# Feature importance\n",
        "importance = adaboost_model.feature_importances_\n",
        "feature_names = iris.feature_names\n",
        "importance_df = pd.Series(importance, index=feature_names)\n",
        "print(\"Feature Importance:\\n\", importance_df)\n",
        "\n",
        "# List of trees (equivalent to iris.adaboost$trees)\n",
        "trees = adaboost_model.estimators_\n",
        "print(\"List of Trees (number of trees):\", len(trees))\n",
        "for i, tree in enumerate(trees, 1):\n",
        "    print(f\"Tree {i}:\", tree)"
      ],
      "metadata": {
        "colab": {
          "base_uri": "https://localhost:8080/"
        },
        "id": "zg8kEUu9kS7I",
        "outputId": "75541b7c-9071-46e1-ec4e-dd9433d1d2b5"
      },
      "execution_count": null,
      "outputs": [
        {
          "output_type": "stream",
          "name": "stdout",
          "text": [
            "Feature Importance:\n",
            " sepal length (cm)    0.000000\n",
            "sepal width (cm)     0.000000\n",
            "petal length (cm)    0.599859\n",
            "petal width (cm)     0.400141\n",
            "dtype: float64\n",
            "List of Trees (number of trees): 10\n",
            "Tree 1: DecisionTreeClassifier(max_depth=1, random_state=209652396)\n",
            "Tree 2: DecisionTreeClassifier(max_depth=1, random_state=398764591)\n",
            "Tree 3: DecisionTreeClassifier(max_depth=1, random_state=924231285)\n",
            "Tree 4: DecisionTreeClassifier(max_depth=1, random_state=1478610112)\n",
            "Tree 5: DecisionTreeClassifier(max_depth=1, random_state=441365315)\n",
            "Tree 6: DecisionTreeClassifier(max_depth=1, random_state=1537364731)\n",
            "Tree 7: DecisionTreeClassifier(max_depth=1, random_state=192771779)\n",
            "Tree 8: DecisionTreeClassifier(max_depth=1, random_state=1491434855)\n",
            "Tree 9: DecisionTreeClassifier(max_depth=1, random_state=1819583497)\n",
            "Tree 10: DecisionTreeClassifier(max_depth=1, random_state=530702035)\n"
          ]
        }
      ]
    }
  ]
}