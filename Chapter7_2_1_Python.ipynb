{
  "nbformat": 4,
  "nbformat_minor": 0,
  "metadata": {
    "colab": {
      "provenance": [],
      "name": "Chapter7.2.1.Python.ipynb",
      "authorship_tag": "ABX9TyOoeVdN98xcs4h7V9zDVit0",
      "include_colab_link": true
    },
    "kernelspec": {
      "name": "python3",
      "display_name": "Python 3"
    },
    "language_info": {
      "name": "python"
    }
  },
  "cells": [
    {
      "cell_type": "markdown",
      "metadata": {
        "id": "view-in-github",
        "colab_type": "text"
      },
      "source": [
        "<a href=\"https://colab.research.google.com/github/ogut77/estat.me/blob/main/Chapter7_2_1_Python.ipynb\" target=\"_parent\"><img src=\"https://colab.research.google.com/assets/colab-badge.svg\" alt=\"Open In Colab\"/></a>"
      ]
    },
    {
      "cell_type": "markdown",
      "source": [
        "# **Logistic Regression**"
      ],
      "metadata": {
        "id": "U8XsL6nPTHUY"
      }
    },
    {
      "cell_type": "code",
      "source": [
        "\n",
        "import pandas as pd\n",
        "from sklearn.linear_model import LogisticRegression\n",
        "from sklearn.model_selection import train_test_split\n",
        "from sklearn.metrics import accuracy_score, confusion_matrix\n",
        "\n",
        "# Load the dataset (assuming it's already loaded as 'customer')\n",
        "# If not, uncomment the line below\n",
        "customer = pd.read_csv('https://raw.githubusercontent.com/ogut77/DataScience/refs/heads/main/PurchaseByCredit20_Continuous.csv')\n",
        "\n",
        "\n"
      ],
      "metadata": {
        "id": "ZW9wi_SmTKcO"
      },
      "execution_count": null,
      "outputs": []
    },
    {
      "cell_type": "code",
      "source": [
        "# Separate features (X) and target variable (y)\n",
        "X = customer.drop('Purchase', axis=1)\n",
        "y = customer['Purchase']\n",
        "\n",
        "\n"
      ],
      "metadata": {
        "id": "f4Usw5aG3HcT"
      },
      "execution_count": null,
      "outputs": []
    },
    {
      "cell_type": "code",
      "source": [
        "# Initialize and train the Logistic Regression model\n",
        "logreg = LogisticRegression()  # Specify a solver\n",
        "logreg.fit(X, y)\n",
        "print(logreg)\n",
        "# Make predictions on the test set\n",
        "y_pred = logreg.predict(X)\n",
        "\n"
      ],
      "metadata": {
        "id": "nqvZbp6F3KK-"
      },
      "execution_count": null,
      "outputs": []
    },
    {
      "cell_type": "code",
      "source": [
        "# Evaluate the model\n",
        "accuracy = accuracy_score(y, y_pred)\n",
        "cm = confusion_matrix(y, y_pred)\n",
        "\n",
        "print(f\"Accuracy: {accuracy}\")\n",
        "print(f\"Confusion Matrix:\\n{cm}\")"
      ],
      "metadata": {
        "id": "jTM4hehd3MDz"
      },
      "execution_count": null,
      "outputs": []
    }
  ]
}