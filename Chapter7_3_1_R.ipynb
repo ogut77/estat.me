{
  "nbformat": 4,
  "nbformat_minor": 0,
  "metadata": {
    "colab": {
      "provenance": [],
      "name": "Chapter7.3.1.R.ipynb",
      "authorship_tag": "ABX9TyO7TjYPiUjIoTwwQvfakq17",
      "include_colab_link": true
    },
    "kernelspec": {
      "name": "ir",
      "display_name": "R"
    },
    "language_info": {
      "name": "R"
    }
  },
  "cells": [
    {
      "cell_type": "markdown",
      "metadata": {
        "id": "view-in-github",
        "colab_type": "text"
      },
      "source": [
        "<a href=\"https://colab.research.google.com/github/ogut77/estat.me/blob/main/Chapter7_3_1_R.ipynb\" target=\"_parent\"><img src=\"https://colab.research.google.com/assets/colab-badge.svg\" alt=\"Open In Colab\"/></a>"
      ]
    },
    {
      "cell_type": "code",
      "execution_count": 1,
      "metadata": {
        "colab": {
          "base_uri": "https://localhost:8080/",
          "height": 868
        },
        "id": "im9ipz3Vej1F",
        "outputId": "7827d0ef-d157-42a4-9126-4d3b6cf70596"
      },
      "outputs": [
        {
          "output_type": "stream",
          "name": "stderr",
          "text": [
            "\u001b[1mRows: \u001b[22m\u001b[34m20\u001b[39m \u001b[1mColumns: \u001b[22m\u001b[34m3\u001b[39m\n",
            "\u001b[36m──\u001b[39m \u001b[1mColumn specification\u001b[22m \u001b[36m────────────────────────────────────────────────────────\u001b[39m\n",
            "\u001b[1mDelimiter:\u001b[22m \",\"\n",
            "\u001b[31mchr\u001b[39m (1): Purchase\n",
            "\u001b[32mdbl\u001b[39m (2): Age, Income\n",
            "\n",
            "\u001b[36mℹ\u001b[39m Use `spec()` to retrieve the full column specification for this data.\n",
            "\u001b[36mℹ\u001b[39m Specify the column types or set `show_col_types = FALSE` to quiet this message.\n"
          ]
        },
        {
          "output_type": "display_data",
          "data": {
            "text/html": [
              "<table class=\"dataframe\">\n",
              "<caption>A spec_tbl_df: 20 × 3</caption>\n",
              "<thead>\n",
              "\t<tr><th scope=col>Age</th><th scope=col>Income</th><th scope=col>Purchase</th></tr>\n",
              "\t<tr><th scope=col>&lt;dbl&gt;</th><th scope=col>&lt;dbl&gt;</th><th scope=col>&lt;chr&gt;</th></tr>\n",
              "</thead>\n",
              "<tbody>\n",
              "\t<tr><td>25</td><td>150</td><td>Yes</td></tr>\n",
              "\t<tr><td>34</td><td>220</td><td>No </td></tr>\n",
              "\t<tr><td>27</td><td>210</td><td>No </td></tr>\n",
              "\t<tr><td>28</td><td>250</td><td>Yes</td></tr>\n",
              "\t<tr><td>21</td><td>100</td><td>No </td></tr>\n",
              "\t<tr><td>31</td><td>220</td><td>No </td></tr>\n",
              "\t<tr><td>36</td><td>300</td><td>Yes</td></tr>\n",
              "\t<tr><td>20</td><td>100</td><td>No </td></tr>\n",
              "\t<tr><td>29</td><td>220</td><td>No </td></tr>\n",
              "\t<tr><td>32</td><td>250</td><td>Yes</td></tr>\n",
              "\t<tr><td>37</td><td>400</td><td>Yes</td></tr>\n",
              "\t<tr><td>24</td><td>120</td><td>No </td></tr>\n",
              "\t<tr><td>33</td><td>350</td><td>No </td></tr>\n",
              "\t<tr><td>30</td><td>180</td><td>Yes</td></tr>\n",
              "\t<tr><td>38</td><td>350</td><td>Yes</td></tr>\n",
              "\t<tr><td>32</td><td>250</td><td>No </td></tr>\n",
              "\t<tr><td>28</td><td>240</td><td>No </td></tr>\n",
              "\t<tr><td>22</td><td>220</td><td>No </td></tr>\n",
              "\t<tr><td>39</td><td>450</td><td>Yes</td></tr>\n",
              "\t<tr><td>26</td><td>150</td><td>No </td></tr>\n",
              "</tbody>\n",
              "</table>\n"
            ],
            "text/markdown": "\nA spec_tbl_df: 20 × 3\n\n| Age &lt;dbl&gt; | Income &lt;dbl&gt; | Purchase &lt;chr&gt; |\n|---|---|---|\n| 25 | 150 | Yes |\n| 34 | 220 | No  |\n| 27 | 210 | No  |\n| 28 | 250 | Yes |\n| 21 | 100 | No  |\n| 31 | 220 | No  |\n| 36 | 300 | Yes |\n| 20 | 100 | No  |\n| 29 | 220 | No  |\n| 32 | 250 | Yes |\n| 37 | 400 | Yes |\n| 24 | 120 | No  |\n| 33 | 350 | No  |\n| 30 | 180 | Yes |\n| 38 | 350 | Yes |\n| 32 | 250 | No  |\n| 28 | 240 | No  |\n| 22 | 220 | No  |\n| 39 | 450 | Yes |\n| 26 | 150 | No  |\n\n",
            "text/latex": "A spec\\_tbl\\_df: 20 × 3\n\\begin{tabular}{lll}\n Age & Income & Purchase\\\\\n <dbl> & <dbl> & <chr>\\\\\n\\hline\n\t 25 & 150 & Yes\\\\\n\t 34 & 220 & No \\\\\n\t 27 & 210 & No \\\\\n\t 28 & 250 & Yes\\\\\n\t 21 & 100 & No \\\\\n\t 31 & 220 & No \\\\\n\t 36 & 300 & Yes\\\\\n\t 20 & 100 & No \\\\\n\t 29 & 220 & No \\\\\n\t 32 & 250 & Yes\\\\\n\t 37 & 400 & Yes\\\\\n\t 24 & 120 & No \\\\\n\t 33 & 350 & No \\\\\n\t 30 & 180 & Yes\\\\\n\t 38 & 350 & Yes\\\\\n\t 32 & 250 & No \\\\\n\t 28 & 240 & No \\\\\n\t 22 & 220 & No \\\\\n\t 39 & 450 & Yes\\\\\n\t 26 & 150 & No \\\\\n\\end{tabular}\n",
            "text/plain": [
              "   Age Income Purchase\n",
              "1  25  150    Yes     \n",
              "2  34  220    No      \n",
              "3  27  210    No      \n",
              "4  28  250    Yes     \n",
              "5  21  100    No      \n",
              "6  31  220    No      \n",
              "7  36  300    Yes     \n",
              "8  20  100    No      \n",
              "9  29  220    No      \n",
              "10 32  250    Yes     \n",
              "11 37  400    Yes     \n",
              "12 24  120    No      \n",
              "13 33  350    No      \n",
              "14 30  180    Yes     \n",
              "15 38  350    Yes     \n",
              "16 32  250    No      \n",
              "17 28  240    No      \n",
              "18 22  220    No      \n",
              "19 39  450    Yes     \n",
              "20 26  150    No      "
            ]
          },
          "metadata": {}
        }
      ],
      "source": [
        "library(readr)\n",
        "customer <- read_csv('https://raw.githubusercontent.com/ogut77/DataScience/refs/heads/main/PurchaseByCredit20_Continuous.csv')\n",
        "customer\n"
      ]
    },
    {
      "cell_type": "code",
      "source": [
        "attach(customer)"
      ],
      "metadata": {
        "id": "Hcc3LITydI1f"
      },
      "execution_count": 2,
      "outputs": []
    },
    {
      "cell_type": "code",
      "source": [
        "Purchase"
      ],
      "metadata": {
        "id": "zqetFuC-dM86",
        "colab": {
          "base_uri": "https://localhost:8080/",
          "height": 34
        },
        "outputId": "897571da-efe1-436f-e6c5-a92f107961fa"
      },
      "execution_count": 3,
      "outputs": [
        {
          "output_type": "display_data",
          "data": {
            "text/html": [
              "<style>\n",
              ".list-inline {list-style: none; margin:0; padding: 0}\n",
              ".list-inline>li {display: inline-block}\n",
              ".list-inline>li:not(:last-child)::after {content: \"\\00b7\"; padding: 0 .5ex}\n",
              "</style>\n",
              "<ol class=list-inline><li>'Yes'</li><li>'No'</li><li>'No'</li><li>'Yes'</li><li>'No'</li><li>'No'</li><li>'Yes'</li><li>'No'</li><li>'No'</li><li>'Yes'</li><li>'Yes'</li><li>'No'</li><li>'No'</li><li>'Yes'</li><li>'Yes'</li><li>'No'</li><li>'No'</li><li>'No'</li><li>'Yes'</li><li>'No'</li></ol>\n"
            ],
            "text/markdown": "1. 'Yes'\n2. 'No'\n3. 'No'\n4. 'Yes'\n5. 'No'\n6. 'No'\n7. 'Yes'\n8. 'No'\n9. 'No'\n10. 'Yes'\n11. 'Yes'\n12. 'No'\n13. 'No'\n14. 'Yes'\n15. 'Yes'\n16. 'No'\n17. 'No'\n18. 'No'\n19. 'Yes'\n20. 'No'\n\n\n",
            "text/latex": "\\begin{enumerate*}\n\\item 'Yes'\n\\item 'No'\n\\item 'No'\n\\item 'Yes'\n\\item 'No'\n\\item 'No'\n\\item 'Yes'\n\\item 'No'\n\\item 'No'\n\\item 'Yes'\n\\item 'Yes'\n\\item 'No'\n\\item 'No'\n\\item 'Yes'\n\\item 'Yes'\n\\item 'No'\n\\item 'No'\n\\item 'No'\n\\item 'Yes'\n\\item 'No'\n\\end{enumerate*}\n",
            "text/plain": [
              " [1] \"Yes\" \"No\"  \"No\"  \"Yes\" \"No\"  \"No\"  \"Yes\" \"No\"  \"No\"  \"Yes\" \"Yes\" \"No\" \n",
              "[13] \"No\"  \"Yes\" \"Yes\" \"No\"  \"No\"  \"No\"  \"Yes\" \"No\" "
            ]
          },
          "metadata": {}
        }
      ]
    },
    {
      "cell_type": "code",
      "source": [
        "install.packages('class')\n"
      ],
      "metadata": {
        "colab": {
          "base_uri": "https://localhost:8080/"
        },
        "id": "tmj2YONGleih",
        "outputId": "7b47cb60-d6a8-4b7c-fe47-1e5aca2f5daf"
      },
      "execution_count": 4,
      "outputs": [
        {
          "output_type": "stream",
          "name": "stderr",
          "text": [
            "Installing package into ‘/usr/local/lib/R/site-library’\n",
            "(as ‘lib’ is unspecified)\n",
            "\n"
          ]
        }
      ]
    },
    {
      "cell_type": "code",
      "source": [
        "#remove output label\n",
        "customer2 <- customer[, 1:2]\n",
        "customer2"
      ],
      "metadata": {
        "id": "-zjODM03W1f_",
        "outputId": "4254a219-c503-4d05-f16c-2beab52ee5dc",
        "colab": {
          "base_uri": "https://localhost:8080/",
          "height": 725
        }
      },
      "execution_count": 8,
      "outputs": [
        {
          "output_type": "display_data",
          "data": {
            "text/html": [
              "<table class=\"dataframe\">\n",
              "<caption>A tibble: 20 × 2</caption>\n",
              "<thead>\n",
              "\t<tr><th scope=col>Age</th><th scope=col>Income</th></tr>\n",
              "\t<tr><th scope=col>&lt;dbl&gt;</th><th scope=col>&lt;dbl&gt;</th></tr>\n",
              "</thead>\n",
              "<tbody>\n",
              "\t<tr><td>25</td><td>150</td></tr>\n",
              "\t<tr><td>34</td><td>220</td></tr>\n",
              "\t<tr><td>27</td><td>210</td></tr>\n",
              "\t<tr><td>28</td><td>250</td></tr>\n",
              "\t<tr><td>21</td><td>100</td></tr>\n",
              "\t<tr><td>31</td><td>220</td></tr>\n",
              "\t<tr><td>36</td><td>300</td></tr>\n",
              "\t<tr><td>20</td><td>100</td></tr>\n",
              "\t<tr><td>29</td><td>220</td></tr>\n",
              "\t<tr><td>32</td><td>250</td></tr>\n",
              "\t<tr><td>37</td><td>400</td></tr>\n",
              "\t<tr><td>24</td><td>120</td></tr>\n",
              "\t<tr><td>33</td><td>350</td></tr>\n",
              "\t<tr><td>30</td><td>180</td></tr>\n",
              "\t<tr><td>38</td><td>350</td></tr>\n",
              "\t<tr><td>32</td><td>250</td></tr>\n",
              "\t<tr><td>28</td><td>240</td></tr>\n",
              "\t<tr><td>22</td><td>220</td></tr>\n",
              "\t<tr><td>39</td><td>450</td></tr>\n",
              "\t<tr><td>26</td><td>150</td></tr>\n",
              "</tbody>\n",
              "</table>\n"
            ],
            "text/markdown": "\nA tibble: 20 × 2\n\n| Age &lt;dbl&gt; | Income &lt;dbl&gt; |\n|---|---|\n| 25 | 150 |\n| 34 | 220 |\n| 27 | 210 |\n| 28 | 250 |\n| 21 | 100 |\n| 31 | 220 |\n| 36 | 300 |\n| 20 | 100 |\n| 29 | 220 |\n| 32 | 250 |\n| 37 | 400 |\n| 24 | 120 |\n| 33 | 350 |\n| 30 | 180 |\n| 38 | 350 |\n| 32 | 250 |\n| 28 | 240 |\n| 22 | 220 |\n| 39 | 450 |\n| 26 | 150 |\n\n",
            "text/latex": "A tibble: 20 × 2\n\\begin{tabular}{ll}\n Age & Income\\\\\n <dbl> & <dbl>\\\\\n\\hline\n\t 25 & 150\\\\\n\t 34 & 220\\\\\n\t 27 & 210\\\\\n\t 28 & 250\\\\\n\t 21 & 100\\\\\n\t 31 & 220\\\\\n\t 36 & 300\\\\\n\t 20 & 100\\\\\n\t 29 & 220\\\\\n\t 32 & 250\\\\\n\t 37 & 400\\\\\n\t 24 & 120\\\\\n\t 33 & 350\\\\\n\t 30 & 180\\\\\n\t 38 & 350\\\\\n\t 32 & 250\\\\\n\t 28 & 240\\\\\n\t 22 & 220\\\\\n\t 39 & 450\\\\\n\t 26 & 150\\\\\n\\end{tabular}\n",
            "text/plain": [
              "   Age Income\n",
              "1  25  150   \n",
              "2  34  220   \n",
              "3  27  210   \n",
              "4  28  250   \n",
              "5  21  100   \n",
              "6  31  220   \n",
              "7  36  300   \n",
              "8  20  100   \n",
              "9  29  220   \n",
              "10 32  250   \n",
              "11 37  400   \n",
              "12 24  120   \n",
              "13 33  350   \n",
              "14 30  180   \n",
              "15 38  350   \n",
              "16 32  250   \n",
              "17 28  240   \n",
              "18 22  220   \n",
              "19 39  450   \n",
              "20 26  150   "
            ]
          },
          "metadata": {}
        }
      ]
    },
    {
      "cell_type": "code",
      "source": [
        "#Apply  knn\n",
        "#predictions <- knn(train = train_data, test = test_data, cl = train_labels, k = k)\n",
        "\n",
        "library(class)\n",
        "nn<- knn(customer2, customer2, Purchase, k = 5)\n",
        "\n",
        "# Evaluate model\n",
        "confusion_matrix <- table(predicted = nn, actual = Purchase)\n",
        "print(confusion_matrix)\n",
        "\n",
        "# Accuracy\n",
        "accuracy <- sum(diag(confusion_matrix)) / sum(confusion_matrix)\n",
        "cat(\"Accuracy:\", round(accuracy * 100, 2), \"%\\n\")"
      ],
      "metadata": {
        "id": "APWU2leBXOs-",
        "outputId": "b6f1f79f-5a72-4f28-81ad-053d6c1bb5ec",
        "colab": {
          "base_uri": "https://localhost:8080/"
        }
      },
      "execution_count": 11,
      "outputs": [
        {
          "output_type": "stream",
          "name": "stdout",
          "text": [
            "         actual\n",
            "predicted No Yes\n",
            "      No  11   4\n",
            "      Yes  1   4\n",
            "Accuracy: 75 %\n"
          ]
        }
      ]
    }
  ]
}