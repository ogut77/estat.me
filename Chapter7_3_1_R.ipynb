{
  "nbformat": 4,
  "nbformat_minor": 0,
  "metadata": {
    "colab": {
      "provenance": [],
      "name": "Chapter7.3.1.R.ipynb",
      "authorship_tag": "ABX9TyNRPAfg4waVvzOjqDyS3u88",
      "include_colab_link": true
    },
    "kernelspec": {
      "name": "ir",
      "display_name": "R"
    },
    "language_info": {
      "name": "R"
    }
  },
  "cells": [
    {
      "cell_type": "markdown",
      "metadata": {
        "id": "view-in-github",
        "colab_type": "text"
      },
      "source": [
        "<a href=\"https://colab.research.google.com/github/ogut77/estat.me/blob/main/Chapter7_3_1_R.ipynb\" target=\"_parent\"><img src=\"https://colab.research.google.com/assets/colab-badge.svg\" alt=\"Open In Colab\"/></a>"
      ]
    },
    {
      "cell_type": "code",
      "execution_count": null,
      "metadata": {
        "colab": {
          "base_uri": "https://localhost:8080/",
          "height": 870
        },
        "id": "im9ipz3Vej1F",
        "outputId": "f43bb2d0-3d90-49b0-cafb-7396ad957645"
      },
      "outputs": [
        {
          "output_type": "stream",
          "name": "stderr",
          "text": [
            "\u001b[1mRows: \u001b[22m\u001b[34m20\u001b[39m \u001b[1mColumns: \u001b[22m\u001b[34m3\u001b[39m\n",
            "\u001b[36m──\u001b[39m \u001b[1mColumn specification\u001b[22m \u001b[36m────────────────────────────────────────────────────────\u001b[39m\n",
            "\u001b[1mDelimiter:\u001b[22m \",\"\n",
            "\u001b[31mchr\u001b[39m (1): Purchase\n",
            "\u001b[32mdbl\u001b[39m (2): Age, Income\n",
            "\n",
            "\u001b[36mℹ\u001b[39m Use `spec()` to retrieve the full column specification for this data.\n",
            "\u001b[36mℹ\u001b[39m Specify the column types or set `show_col_types = FALSE` to quiet this message.\n"
          ]
        },
        {
          "output_type": "display_data",
          "data": {
            "text/html": [
              "<table class=\"dataframe\">\n",
              "<caption>A spec_tbl_df: 20 × 3</caption>\n",
              "<thead>\n",
              "\t<tr><th scope=col>Age</th><th scope=col>Income</th><th scope=col>Purchase</th></tr>\n",
              "\t<tr><th scope=col>&lt;dbl&gt;</th><th scope=col>&lt;dbl&gt;</th><th scope=col>&lt;chr&gt;</th></tr>\n",
              "</thead>\n",
              "<tbody>\n",
              "\t<tr><td>25</td><td>150</td><td>Yes</td></tr>\n",
              "\t<tr><td>34</td><td>220</td><td>No </td></tr>\n",
              "\t<tr><td>27</td><td>210</td><td>No </td></tr>\n",
              "\t<tr><td>28</td><td>250</td><td>Yes</td></tr>\n",
              "\t<tr><td>21</td><td>100</td><td>No </td></tr>\n",
              "\t<tr><td>31</td><td>220</td><td>No </td></tr>\n",
              "\t<tr><td>36</td><td>300</td><td>Yes</td></tr>\n",
              "\t<tr><td>20</td><td>100</td><td>No </td></tr>\n",
              "\t<tr><td>29</td><td>220</td><td>No </td></tr>\n",
              "\t<tr><td>32</td><td>250</td><td>Yes</td></tr>\n",
              "\t<tr><td>37</td><td>400</td><td>Yes</td></tr>\n",
              "\t<tr><td>24</td><td>120</td><td>No </td></tr>\n",
              "\t<tr><td>33</td><td>350</td><td>No </td></tr>\n",
              "\t<tr><td>30</td><td>180</td><td>Yes</td></tr>\n",
              "\t<tr><td>38</td><td>350</td><td>Yes</td></tr>\n",
              "\t<tr><td>32</td><td>250</td><td>No </td></tr>\n",
              "\t<tr><td>28</td><td>240</td><td>No </td></tr>\n",
              "\t<tr><td>22</td><td>220</td><td>No </td></tr>\n",
              "\t<tr><td>39</td><td>450</td><td>Yes</td></tr>\n",
              "\t<tr><td>26</td><td>150</td><td>No </td></tr>\n",
              "</tbody>\n",
              "</table>\n"
            ],
            "text/markdown": "\nA spec_tbl_df: 20 × 3\n\n| Age &lt;dbl&gt; | Income &lt;dbl&gt; | Purchase &lt;chr&gt; |\n|---|---|---|\n| 25 | 150 | Yes |\n| 34 | 220 | No  |\n| 27 | 210 | No  |\n| 28 | 250 | Yes |\n| 21 | 100 | No  |\n| 31 | 220 | No  |\n| 36 | 300 | Yes |\n| 20 | 100 | No  |\n| 29 | 220 | No  |\n| 32 | 250 | Yes |\n| 37 | 400 | Yes |\n| 24 | 120 | No  |\n| 33 | 350 | No  |\n| 30 | 180 | Yes |\n| 38 | 350 | Yes |\n| 32 | 250 | No  |\n| 28 | 240 | No  |\n| 22 | 220 | No  |\n| 39 | 450 | Yes |\n| 26 | 150 | No  |\n\n",
            "text/latex": "A spec\\_tbl\\_df: 20 × 3\n\\begin{tabular}{lll}\n Age & Income & Purchase\\\\\n <dbl> & <dbl> & <chr>\\\\\n\\hline\n\t 25 & 150 & Yes\\\\\n\t 34 & 220 & No \\\\\n\t 27 & 210 & No \\\\\n\t 28 & 250 & Yes\\\\\n\t 21 & 100 & No \\\\\n\t 31 & 220 & No \\\\\n\t 36 & 300 & Yes\\\\\n\t 20 & 100 & No \\\\\n\t 29 & 220 & No \\\\\n\t 32 & 250 & Yes\\\\\n\t 37 & 400 & Yes\\\\\n\t 24 & 120 & No \\\\\n\t 33 & 350 & No \\\\\n\t 30 & 180 & Yes\\\\\n\t 38 & 350 & Yes\\\\\n\t 32 & 250 & No \\\\\n\t 28 & 240 & No \\\\\n\t 22 & 220 & No \\\\\n\t 39 & 450 & Yes\\\\\n\t 26 & 150 & No \\\\\n\\end{tabular}\n",
            "text/plain": [
              "   Age Income Purchase\n",
              "1  25  150    Yes     \n",
              "2  34  220    No      \n",
              "3  27  210    No      \n",
              "4  28  250    Yes     \n",
              "5  21  100    No      \n",
              "6  31  220    No      \n",
              "7  36  300    Yes     \n",
              "8  20  100    No      \n",
              "9  29  220    No      \n",
              "10 32  250    Yes     \n",
              "11 37  400    Yes     \n",
              "12 24  120    No      \n",
              "13 33  350    No      \n",
              "14 30  180    Yes     \n",
              "15 38  350    Yes     \n",
              "16 32  250    No      \n",
              "17 28  240    No      \n",
              "18 22  220    No      \n",
              "19 39  450    Yes     \n",
              "20 26  150    No      "
            ]
          },
          "metadata": {}
        }
      ],
      "source": [
        "\n",
        "customer <- read_csv('https://raw.githubusercontent.com/ogut77/DataScience/refs/heads/main/PurchaseByCredit20_Continuous.csv')\n",
        "customer\n"
      ]
    },
    {
      "cell_type": "code",
      "source": [
        "attach(customer)"
      ],
      "metadata": {
        "id": "Hcc3LITydI1f",
        "colab": {
          "base_uri": "https://localhost:8080/"
        },
        "outputId": "af4e8195-9734-455f-d8ca-376b9644d991"
      },
      "execution_count": null,
      "outputs": [
        {
          "output_type": "stream",
          "name": "stderr",
          "text": [
            "The following objects are masked from customer (pos = 3):\n",
            "\n",
            "    Age, Income, Purchase\n",
            "\n",
            "\n",
            "The following objects are masked from customer (pos = 6):\n",
            "\n",
            "    Age, Income, Purchase\n",
            "\n",
            "\n"
          ]
        }
      ]
    },
    {
      "cell_type": "code",
      "source": [
        "Purchase"
      ],
      "metadata": {
        "id": "zqetFuC-dM86",
        "colab": {
          "base_uri": "https://localhost:8080/",
          "height": 34
        },
        "outputId": "a203115d-8ca8-4f66-b29e-f8c236c2157a"
      },
      "execution_count": null,
      "outputs": [
        {
          "output_type": "display_data",
          "data": {
            "text/html": [
              "<style>\n",
              ".list-inline {list-style: none; margin:0; padding: 0}\n",
              ".list-inline>li {display: inline-block}\n",
              ".list-inline>li:not(:last-child)::after {content: \"\\00b7\"; padding: 0 .5ex}\n",
              "</style>\n",
              "<ol class=list-inline><li>'Yes'</li><li>'No'</li><li>'No'</li><li>'Yes'</li><li>'No'</li><li>'No'</li><li>'Yes'</li><li>'No'</li><li>'No'</li><li>'Yes'</li><li>'Yes'</li><li>'No'</li><li>'No'</li><li>'Yes'</li><li>'Yes'</li><li>'No'</li><li>'No'</li><li>'No'</li><li>'Yes'</li><li>'No'</li></ol>\n"
            ],
            "text/markdown": "1. 'Yes'\n2. 'No'\n3. 'No'\n4. 'Yes'\n5. 'No'\n6. 'No'\n7. 'Yes'\n8. 'No'\n9. 'No'\n10. 'Yes'\n11. 'Yes'\n12. 'No'\n13. 'No'\n14. 'Yes'\n15. 'Yes'\n16. 'No'\n17. 'No'\n18. 'No'\n19. 'Yes'\n20. 'No'\n\n\n",
            "text/latex": "\\begin{enumerate*}\n\\item 'Yes'\n\\item 'No'\n\\item 'No'\n\\item 'Yes'\n\\item 'No'\n\\item 'No'\n\\item 'Yes'\n\\item 'No'\n\\item 'No'\n\\item 'Yes'\n\\item 'Yes'\n\\item 'No'\n\\item 'No'\n\\item 'Yes'\n\\item 'Yes'\n\\item 'No'\n\\item 'No'\n\\item 'No'\n\\item 'Yes'\n\\item 'No'\n\\end{enumerate*}\n",
            "text/plain": [
              " [1] \"Yes\" \"No\"  \"No\"  \"Yes\" \"No\"  \"No\"  \"Yes\" \"No\"  \"No\"  \"Yes\" \"Yes\" \"No\" \n",
              "[13] \"No\"  \"Yes\" \"Yes\" \"No\"  \"No\"  \"No\"  \"Yes\" \"No\" "
            ]
          },
          "metadata": {}
        }
      ]
    },
    {
      "cell_type": "code",
      "source": [
        "install.packages('DMwR2')\n"
      ],
      "metadata": {
        "colab": {
          "base_uri": "https://localhost:8080/"
        },
        "id": "tmj2YONGleih",
        "outputId": "74e77418-768d-4646-dadc-6b60cafe0647"
      },
      "execution_count": null,
      "outputs": [
        {
          "output_type": "stream",
          "name": "stderr",
          "text": [
            "Installing package into ‘/usr/local/lib/R/site-library’\n",
            "(as ‘lib’ is unspecified)\n",
            "\n"
          ]
        }
      ]
    },
    {
      "cell_type": "code",
      "source": [
        "library(DMwR2)\n",
        "nn <- kNN(Purchase ~ ., customer, customer, k=5)"
      ],
      "metadata": {
        "colab": {
          "base_uri": "https://localhost:8080/",
          "height": 309
        },
        "id": "5xDlv3Islo_D",
        "outputId": "b3587ec0-9844-4bcc-ce3a-15fb11de1ac9"
      },
      "execution_count": null,
      "outputs": [
        {
          "output_type": "error",
          "ename": "ERROR",
          "evalue": "Error in class::knn(train[, -tgtCol], test[, -tgtCol], train[, tgtCol], : 'train' and 'class' have different lengths\n",
          "traceback": [
            "Error in class::knn(train[, -tgtCol], test[, -tgtCol], train[, tgtCol], : 'train' and 'class' have different lengths\nTraceback:\n",
            "1. class::knn(train[, -tgtCol], test[, -tgtCol], train[, tgtCol], \n .     ...)",
            "2. stop(\"'train' and 'class' have different lengths\")",
            "3. .handleSimpleError(function (cnd) \n . {\n .     watcher$capture_plot_and_output()\n .     cnd <- sanitize_call(cnd)\n .     watcher$push(cnd)\n .     switch(on_error, continue = invokeRestart(\"eval_continue\"), \n .         stop = invokeRestart(\"eval_stop\"), error = NULL)\n . }, \"'train' and 'class' have different lengths\", base::quote(class::knn(train[, \n .     -tgtCol], test[, -tgtCol], train[, tgtCol], ...)))"
          ]
        }
      ]
    }
  ]
}