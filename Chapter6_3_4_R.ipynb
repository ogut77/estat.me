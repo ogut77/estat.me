{
  "nbformat": 4,
  "nbformat_minor": 0,
  "metadata": {
    "colab": {
      "provenance": [],
      "name": "Chapter6.3.4.R.ipynb",
      "authorship_tag": "ABX9TyOWaDLhPjzG9v26M/OZwjyq",
      "include_colab_link": true
    },
    "kernelspec": {
      "name": "ir",
      "display_name": "R"
    },
    "language_info": {
      "name": "R"
    }
  },
  "cells": [
    {
      "cell_type": "markdown",
      "metadata": {
        "id": "view-in-github",
        "colab_type": "text"
      },
      "source": [
        "<a href=\"https://colab.research.google.com/github/ogut77/estat.me/blob/main/Chapter6_3_4_R.ipynb\" target=\"_parent\"><img src=\"https://colab.research.google.com/assets/colab-badge.svg\" alt=\"Open In Colab\"/></a>"
      ]
    },
    {
      "cell_type": "code",
      "source": [
        "library(readr)  # Load the readr package\n",
        "# read the data file\n",
        "url='https://raw.githubusercontent.com/ogut77/DataScience/refs/heads/main/PurchaseByCredit40.csv'\n",
        "card <- read.csv(url, header=TRUE, as.is=FALSE)"
      ],
      "metadata": {
        "id": "C3_6LCKSW8ME"
      },
      "execution_count": null,
      "outputs": []
    },
    {
      "cell_type": "code",
      "source": [
        "card"
      ],
      "metadata": {
        "colab": {
          "base_uri": "https://localhost:8080/",
          "height": 1000
        },
        "id": "XTJhLa7aYLRY",
        "outputId": "27ca59b1-9910-46b3-b61e-c53107b05cb8"
      },
      "execution_count": null,
      "outputs": [
        {
          "output_type": "display_data",
          "data": {
            "text/html": [
              "<table class=\"dataframe\">\n",
              "<caption>A data.frame: 40 × 6</caption>\n",
              "<thead>\n",
              "\t<tr><th scope=col>id</th><th scope=col>Gender</th><th scope=col>Age</th><th scope=col>Income</th><th scope=col>Credit</th><th scope=col>Purchase</th></tr>\n",
              "\t<tr><th scope=col>&lt;int&gt;</th><th scope=col>&lt;fct&gt;</th><th scope=col>&lt;fct&gt;</th><th scope=col>&lt;fct&gt;</th><th scope=col>&lt;fct&gt;</th><th scope=col>&lt;fct&gt;</th></tr>\n",
              "</thead>\n",
              "<tbody>\n",
              "\t<tr><td> 1</td><td>male  </td><td>20s</td><td>LT2000</td><td>Fair</td><td>Yes</td></tr>\n",
              "\t<tr><td> 2</td><td>female</td><td>30s</td><td>GE2000</td><td>Good</td><td>No </td></tr>\n",
              "\t<tr><td> 3</td><td>female</td><td>20s</td><td>GE2000</td><td>Fair</td><td>No </td></tr>\n",
              "\t<tr><td> 4</td><td>female</td><td>20s</td><td>GE2000</td><td>Fair</td><td>Yes</td></tr>\n",
              "\t<tr><td> 5</td><td>female</td><td>20s</td><td>LT2000</td><td>Bad </td><td>No </td></tr>\n",
              "\t<tr><td> 6</td><td>female</td><td>30s</td><td>GE2000</td><td>Fair</td><td>No </td></tr>\n",
              "\t<tr><td> 7</td><td>female</td><td>30s</td><td>GE2000</td><td>Good</td><td>Yes</td></tr>\n",
              "\t<tr><td> 8</td><td>male  </td><td>20s</td><td>LT2000</td><td>Fair</td><td>No </td></tr>\n",
              "\t<tr><td> 9</td><td>female</td><td>20s</td><td>GE2000</td><td>Good</td><td>No </td></tr>\n",
              "\t<tr><td>10</td><td>male  </td><td>30s</td><td>GE2000</td><td>Fair</td><td>Yes</td></tr>\n",
              "\t<tr><td>11</td><td>female</td><td>30s</td><td>GE2000</td><td>Good</td><td>Yes</td></tr>\n",
              "\t<tr><td>12</td><td>female</td><td>20s</td><td>LT2000</td><td>Fair</td><td>No </td></tr>\n",
              "\t<tr><td>13</td><td>male  </td><td>30s</td><td>GE2000</td><td>Fair</td><td>No </td></tr>\n",
              "\t<tr><td>14</td><td>male  </td><td>30s</td><td>LT2000</td><td>Fair</td><td>Yes</td></tr>\n",
              "\t<tr><td>15</td><td>female</td><td>30s</td><td>GE2000</td><td>Good</td><td>Yes</td></tr>\n",
              "\t<tr><td>16</td><td>female</td><td>30s</td><td>GE2000</td><td>Fair</td><td>No </td></tr>\n",
              "\t<tr><td>17</td><td>female</td><td>20s</td><td>GE2000</td><td>Bad </td><td>No </td></tr>\n",
              "\t<tr><td>18</td><td>male  </td><td>20s</td><td>GE2000</td><td>Bad </td><td>No </td></tr>\n",
              "\t<tr><td>19</td><td>male  </td><td>30s</td><td>GE2000</td><td>Good</td><td>Yes</td></tr>\n",
              "\t<tr><td>20</td><td>male  </td><td>20s</td><td>LT2000</td><td>Fair</td><td>No </td></tr>\n",
              "\t<tr><td>21</td><td>male  </td><td>20s</td><td>LT2000</td><td>Fair</td><td>Yes</td></tr>\n",
              "\t<tr><td>22</td><td>female</td><td>30s</td><td>GE2000</td><td>Good</td><td>No </td></tr>\n",
              "\t<tr><td>23</td><td>female</td><td>20s</td><td>GE2000</td><td>Fair</td><td>No </td></tr>\n",
              "\t<tr><td>24</td><td>female</td><td>20s</td><td>GE2000</td><td>Fair</td><td>Yes</td></tr>\n",
              "\t<tr><td>25</td><td>female</td><td>20s</td><td>LT2000</td><td>Bad </td><td>No </td></tr>\n",
              "\t<tr><td>26</td><td>female</td><td>30s</td><td>GE2000</td><td>Fair</td><td>No </td></tr>\n",
              "\t<tr><td>27</td><td>female</td><td>30s</td><td>GE2000</td><td>Good</td><td>Yes</td></tr>\n",
              "\t<tr><td>28</td><td>male  </td><td>20s</td><td>LT2000</td><td>Fair</td><td>No </td></tr>\n",
              "\t<tr><td>29</td><td>female</td><td>20s</td><td>GE2000</td><td>Good</td><td>No </td></tr>\n",
              "\t<tr><td>30</td><td>male  </td><td>30s</td><td>GE2000</td><td>Fair</td><td>Yes</td></tr>\n",
              "\t<tr><td>31</td><td>female</td><td>30s</td><td>GE2000</td><td>Good</td><td>Yes</td></tr>\n",
              "\t<tr><td>32</td><td>female</td><td>20s</td><td>LT2000</td><td>Fair</td><td>No </td></tr>\n",
              "\t<tr><td>33</td><td>male  </td><td>30s</td><td>GE2000</td><td>Fair</td><td>No </td></tr>\n",
              "\t<tr><td>34</td><td>male  </td><td>30s</td><td>LT2000</td><td>Fair</td><td>Yes</td></tr>\n",
              "\t<tr><td>35</td><td>female</td><td>30s</td><td>GE2000</td><td>Good</td><td>Yes</td></tr>\n",
              "\t<tr><td>36</td><td>female</td><td>30s</td><td>GE2000</td><td>Fair</td><td>No </td></tr>\n",
              "\t<tr><td>37</td><td>female</td><td>20s</td><td>GE2000</td><td>Bad </td><td>No </td></tr>\n",
              "\t<tr><td>38</td><td>male  </td><td>20s</td><td>GE2000</td><td>Bad </td><td>No </td></tr>\n",
              "\t<tr><td>39</td><td>male  </td><td>30s</td><td>GE2000</td><td>Good</td><td>Yes</td></tr>\n",
              "\t<tr><td>40</td><td>male  </td><td>20s</td><td>LT2000</td><td>Fair</td><td>No </td></tr>\n",
              "</tbody>\n",
              "</table>\n"
            ],
            "text/markdown": "\nA data.frame: 40 × 6\n\n| id &lt;int&gt; | Gender &lt;fct&gt; | Age &lt;fct&gt; | Income &lt;fct&gt; | Credit &lt;fct&gt; | Purchase &lt;fct&gt; |\n|---|---|---|---|---|---|\n|  1 | male   | 20s | LT2000 | Fair | Yes |\n|  2 | female | 30s | GE2000 | Good | No  |\n|  3 | female | 20s | GE2000 | Fair | No  |\n|  4 | female | 20s | GE2000 | Fair | Yes |\n|  5 | female | 20s | LT2000 | Bad  | No  |\n|  6 | female | 30s | GE2000 | Fair | No  |\n|  7 | female | 30s | GE2000 | Good | Yes |\n|  8 | male   | 20s | LT2000 | Fair | No  |\n|  9 | female | 20s | GE2000 | Good | No  |\n| 10 | male   | 30s | GE2000 | Fair | Yes |\n| 11 | female | 30s | GE2000 | Good | Yes |\n| 12 | female | 20s | LT2000 | Fair | No  |\n| 13 | male   | 30s | GE2000 | Fair | No  |\n| 14 | male   | 30s | LT2000 | Fair | Yes |\n| 15 | female | 30s | GE2000 | Good | Yes |\n| 16 | female | 30s | GE2000 | Fair | No  |\n| 17 | female | 20s | GE2000 | Bad  | No  |\n| 18 | male   | 20s | GE2000 | Bad  | No  |\n| 19 | male   | 30s | GE2000 | Good | Yes |\n| 20 | male   | 20s | LT2000 | Fair | No  |\n| 21 | male   | 20s | LT2000 | Fair | Yes |\n| 22 | female | 30s | GE2000 | Good | No  |\n| 23 | female | 20s | GE2000 | Fair | No  |\n| 24 | female | 20s | GE2000 | Fair | Yes |\n| 25 | female | 20s | LT2000 | Bad  | No  |\n| 26 | female | 30s | GE2000 | Fair | No  |\n| 27 | female | 30s | GE2000 | Good | Yes |\n| 28 | male   | 20s | LT2000 | Fair | No  |\n| 29 | female | 20s | GE2000 | Good | No  |\n| 30 | male   | 30s | GE2000 | Fair | Yes |\n| 31 | female | 30s | GE2000 | Good | Yes |\n| 32 | female | 20s | LT2000 | Fair | No  |\n| 33 | male   | 30s | GE2000 | Fair | No  |\n| 34 | male   | 30s | LT2000 | Fair | Yes |\n| 35 | female | 30s | GE2000 | Good | Yes |\n| 36 | female | 30s | GE2000 | Fair | No  |\n| 37 | female | 20s | GE2000 | Bad  | No  |\n| 38 | male   | 20s | GE2000 | Bad  | No  |\n| 39 | male   | 30s | GE2000 | Good | Yes |\n| 40 | male   | 20s | LT2000 | Fair | No  |\n\n",
            "text/latex": "A data.frame: 40 × 6\n\\begin{tabular}{llllll}\n id & Gender & Age & Income & Credit & Purchase\\\\\n <int> & <fct> & <fct> & <fct> & <fct> & <fct>\\\\\n\\hline\n\t  1 & male   & 20s & LT2000 & Fair & Yes\\\\\n\t  2 & female & 30s & GE2000 & Good & No \\\\\n\t  3 & female & 20s & GE2000 & Fair & No \\\\\n\t  4 & female & 20s & GE2000 & Fair & Yes\\\\\n\t  5 & female & 20s & LT2000 & Bad  & No \\\\\n\t  6 & female & 30s & GE2000 & Fair & No \\\\\n\t  7 & female & 30s & GE2000 & Good & Yes\\\\\n\t  8 & male   & 20s & LT2000 & Fair & No \\\\\n\t  9 & female & 20s & GE2000 & Good & No \\\\\n\t 10 & male   & 30s & GE2000 & Fair & Yes\\\\\n\t 11 & female & 30s & GE2000 & Good & Yes\\\\\n\t 12 & female & 20s & LT2000 & Fair & No \\\\\n\t 13 & male   & 30s & GE2000 & Fair & No \\\\\n\t 14 & male   & 30s & LT2000 & Fair & Yes\\\\\n\t 15 & female & 30s & GE2000 & Good & Yes\\\\\n\t 16 & female & 30s & GE2000 & Fair & No \\\\\n\t 17 & female & 20s & GE2000 & Bad  & No \\\\\n\t 18 & male   & 20s & GE2000 & Bad  & No \\\\\n\t 19 & male   & 30s & GE2000 & Good & Yes\\\\\n\t 20 & male   & 20s & LT2000 & Fair & No \\\\\n\t 21 & male   & 20s & LT2000 & Fair & Yes\\\\\n\t 22 & female & 30s & GE2000 & Good & No \\\\\n\t 23 & female & 20s & GE2000 & Fair & No \\\\\n\t 24 & female & 20s & GE2000 & Fair & Yes\\\\\n\t 25 & female & 20s & LT2000 & Bad  & No \\\\\n\t 26 & female & 30s & GE2000 & Fair & No \\\\\n\t 27 & female & 30s & GE2000 & Good & Yes\\\\\n\t 28 & male   & 20s & LT2000 & Fair & No \\\\\n\t 29 & female & 20s & GE2000 & Good & No \\\\\n\t 30 & male   & 30s & GE2000 & Fair & Yes\\\\\n\t 31 & female & 30s & GE2000 & Good & Yes\\\\\n\t 32 & female & 20s & LT2000 & Fair & No \\\\\n\t 33 & male   & 30s & GE2000 & Fair & No \\\\\n\t 34 & male   & 30s & LT2000 & Fair & Yes\\\\\n\t 35 & female & 30s & GE2000 & Good & Yes\\\\\n\t 36 & female & 30s & GE2000 & Fair & No \\\\\n\t 37 & female & 20s & GE2000 & Bad  & No \\\\\n\t 38 & male   & 20s & GE2000 & Bad  & No \\\\\n\t 39 & male   & 30s & GE2000 & Good & Yes\\\\\n\t 40 & male   & 20s & LT2000 & Fair & No \\\\\n\\end{tabular}\n",
            "text/plain": [
              "   id Gender Age Income Credit Purchase\n",
              "1   1 male   20s LT2000 Fair   Yes     \n",
              "2   2 female 30s GE2000 Good   No      \n",
              "3   3 female 20s GE2000 Fair   No      \n",
              "4   4 female 20s GE2000 Fair   Yes     \n",
              "5   5 female 20s LT2000 Bad    No      \n",
              "6   6 female 30s GE2000 Fair   No      \n",
              "7   7 female 30s GE2000 Good   Yes     \n",
              "8   8 male   20s LT2000 Fair   No      \n",
              "9   9 female 20s GE2000 Good   No      \n",
              "10 10 male   30s GE2000 Fair   Yes     \n",
              "11 11 female 30s GE2000 Good   Yes     \n",
              "12 12 female 20s LT2000 Fair   No      \n",
              "13 13 male   30s GE2000 Fair   No      \n",
              "14 14 male   30s LT2000 Fair   Yes     \n",
              "15 15 female 30s GE2000 Good   Yes     \n",
              "16 16 female 30s GE2000 Fair   No      \n",
              "17 17 female 20s GE2000 Bad    No      \n",
              "18 18 male   20s GE2000 Bad    No      \n",
              "19 19 male   30s GE2000 Good   Yes     \n",
              "20 20 male   20s LT2000 Fair   No      \n",
              "21 21 male   20s LT2000 Fair   Yes     \n",
              "22 22 female 30s GE2000 Good   No      \n",
              "23 23 female 20s GE2000 Fair   No      \n",
              "24 24 female 20s GE2000 Fair   Yes     \n",
              "25 25 female 20s LT2000 Bad    No      \n",
              "26 26 female 30s GE2000 Fair   No      \n",
              "27 27 female 30s GE2000 Good   Yes     \n",
              "28 28 male   20s LT2000 Fair   No      \n",
              "29 29 female 20s GE2000 Good   No      \n",
              "30 30 male   30s GE2000 Fair   Yes     \n",
              "31 31 female 30s GE2000 Good   Yes     \n",
              "32 32 female 20s LT2000 Fair   No      \n",
              "33 33 male   30s GE2000 Fair   No      \n",
              "34 34 male   30s LT2000 Fair   Yes     \n",
              "35 35 female 30s GE2000 Good   Yes     \n",
              "36 36 female 30s GE2000 Fair   No      \n",
              "37 37 female 20s GE2000 Bad    No      \n",
              "38 38 male   20s GE2000 Bad    No      \n",
              "39 39 male   30s GE2000 Good   Yes     \n",
              "40 40 male   20s LT2000 Fair   No      "
            ]
          },
          "metadata": {}
        }
      ]
    },
    {
      "cell_type": "code",
      "source": [
        "attach(card)"
      ],
      "metadata": {
        "id": "BofM8hlQYV84"
      },
      "execution_count": null,
      "outputs": []
    },
    {
      "cell_type": "code",
      "source": [
        "install.packages('naivebayes')"
      ],
      "metadata": {
        "colab": {
          "base_uri": "https://localhost:8080/"
        },
        "id": "iMPLF48_ylKv",
        "outputId": "f678b0ae-8058-4523-cc00-23bffaa75fee"
      },
      "execution_count": null,
      "outputs": [
        {
          "output_type": "stream",
          "name": "stderr",
          "text": [
            "Installing package into ‘/usr/local/lib/R/site-library’\n",
            "(as ‘lib’ is unspecified)\n",
            "\n"
          ]
        }
      ]
    },
    {
      "cell_type": "code",
      "source": [
        " library(naivebayes)\n",
        " nbfit <- naive_bayes(Purchase ~ Gender + Age + Income + Credit, data = card)\n",
        " nbfit"
      ],
      "metadata": {
        "colab": {
          "base_uri": "https://localhost:8080/",
          "height": 1000
        },
        "id": "RqQccWX3ySw7",
        "outputId": "03d1af3f-730a-4184-8774-199f16f502a6"
      },
      "execution_count": null,
      "outputs": [
        {
          "output_type": "stream",
          "name": "stderr",
          "text": [
            "naivebayes 1.0.0 loaded\n",
            "\n",
            "For more information please visit: \n",
            "\n",
            "https://majkamichal.github.io/naivebayes/\n",
            "\n",
            "Warning message:\n",
            "“naive_bayes(): Feature Credit - zero probabilities are present. Consider Laplace smoothing.”\n"
          ]
        },
        {
          "output_type": "display_data",
          "data": {
            "text/plain": [
              "\n",
              "================================= Naive Bayes ==================================\n",
              "\n",
              "Call:\n",
              "naive_bayes.formula(formula = Purchase ~ Gender + Age + Income + \n",
              "    Credit, data = card)\n",
              "\n",
              "-------------------------------------------------------------------------------- \n",
              " \n",
              "Laplace smoothing: 0\n",
              "\n",
              "-------------------------------------------------------------------------------- \n",
              " \n",
              "A priori probabilities: \n",
              "\n",
              " No Yes \n",
              "0.6 0.4 \n",
              "\n",
              "-------------------------------------------------------------------------------- \n",
              " \n",
              "Tables: \n",
              "\n",
              "-------------------------------------------------------------------------------- \n",
              ":: Gender (Bernoulli) \n",
              "-------------------------------------------------------------------------------- \n",
              "        \n",
              "Gender          No       Yes\n",
              "  female 0.6666667 0.5000000\n",
              "  male   0.3333333 0.5000000\n",
              "\n",
              "-------------------------------------------------------------------------------- \n",
              ":: Age (Bernoulli) \n",
              "-------------------------------------------------------------------------------- \n",
              "     \n",
              "Age          No       Yes\n",
              "  20s 0.6666667 0.2500000\n",
              "  30s 0.3333333 0.7500000\n",
              "\n",
              "-------------------------------------------------------------------------------- \n",
              ":: Income (Bernoulli) \n",
              "-------------------------------------------------------------------------------- \n",
              "        \n",
              "Income          No       Yes\n",
              "  GE2000 0.6666667 0.7500000\n",
              "  LT2000 0.3333333 0.2500000\n",
              "\n",
              "-------------------------------------------------------------------------------- \n",
              ":: Credit (Categorical) \n",
              "-------------------------------------------------------------------------------- \n",
              "      \n",
              "Credit        No       Yes\n",
              "  Bad  0.2500000 0.0000000\n",
              "  Fair 0.5833333 0.5000000\n",
              "  Good 0.1666667 0.5000000\n",
              "\n",
              "--------------------------------------------------------------------------------\n"
            ]
          },
          "metadata": {}
        }
      ]
    },
    {
      "cell_type": "code",
      "source": [
        "pred <- predict(nbfit, card, type = 'prob')\n",
        "pred"
      ],
      "metadata": {
        "colab": {
          "base_uri": "https://localhost:8080/",
          "height": 1000
        },
        "id": "LRKKTJjb4Gbd",
        "outputId": "11487b47-df38-45fa-f416-726fca067b26"
      },
      "execution_count": null,
      "outputs": [
        {
          "output_type": "stream",
          "name": "stderr",
          "text": [
            "Warning message:\n",
            "“predict.naive_bayes(): more features in the newdata are provided as there are probability tables in the object. Calculation is performed based on features to be found in the tables.”\n"
          ]
        },
        {
          "output_type": "display_data",
          "data": {
            "text/html": [
              "<table class=\"dataframe\">\n",
              "<caption>A matrix: 40 × 2 of type dbl</caption>\n",
              "<thead>\n",
              "\t<tr><th scope=col>No</th><th scope=col>Yes</th></tr>\n",
              "</thead>\n",
              "<tbody>\n",
              "\t<tr><td>0.8057554</td><td>0.1942446043</td></tr>\n",
              "\t<tr><td>0.2084691</td><td>0.7915309446</td></tr>\n",
              "\t<tr><td>0.8468809</td><td>0.1531190926</td></tr>\n",
              "\t<tr><td>0.8468809</td><td>0.1531190926</td></tr>\n",
              "\t<tr><td>0.9994378</td><td>0.0005621838</td></tr>\n",
              "\t<tr><td>0.4796574</td><td>0.5203426124</td></tr>\n",
              "\t<tr><td>0.2084691</td><td>0.7915309446</td></tr>\n",
              "\t<tr><td>0.8057554</td><td>0.1942446043</td></tr>\n",
              "\t<tr><td>0.6124402</td><td>0.3875598086</td></tr>\n",
              "\t<tr><td>0.3154930</td><td>0.6845070423</td></tr>\n",
              "\t<tr><td>0.2084691</td><td>0.7915309446</td></tr>\n",
              "\t<tr><td>0.8924303</td><td>0.1075697211</td></tr>\n",
              "\t<tr><td>0.3154930</td><td>0.6845070423</td></tr>\n",
              "\t<tr><td>0.4087591</td><td>0.5912408759</td></tr>\n",
              "\t<tr><td>0.2084691</td><td>0.7915309446</td></tr>\n",
              "\t<tr><td>0.4796574</td><td>0.5203426124</td></tr>\n",
              "\t<tr><td>0.9991570</td><td>0.0008430387</td></tr>\n",
              "\t<tr><td>0.9983153</td><td>0.0016846571</td></tr>\n",
              "\t<tr><td>0.1163636</td><td>0.8836363636</td></tr>\n",
              "\t<tr><td>0.8057554</td><td>0.1942446043</td></tr>\n",
              "\t<tr><td>0.8057554</td><td>0.1942446043</td></tr>\n",
              "\t<tr><td>0.2084691</td><td>0.7915309446</td></tr>\n",
              "\t<tr><td>0.8468809</td><td>0.1531190926</td></tr>\n",
              "\t<tr><td>0.8468809</td><td>0.1531190926</td></tr>\n",
              "\t<tr><td>0.9994378</td><td>0.0005621838</td></tr>\n",
              "\t<tr><td>0.4796574</td><td>0.5203426124</td></tr>\n",
              "\t<tr><td>0.2084691</td><td>0.7915309446</td></tr>\n",
              "\t<tr><td>0.8057554</td><td>0.1942446043</td></tr>\n",
              "\t<tr><td>0.6124402</td><td>0.3875598086</td></tr>\n",
              "\t<tr><td>0.3154930</td><td>0.6845070423</td></tr>\n",
              "\t<tr><td>0.2084691</td><td>0.7915309446</td></tr>\n",
              "\t<tr><td>0.8924303</td><td>0.1075697211</td></tr>\n",
              "\t<tr><td>0.3154930</td><td>0.6845070423</td></tr>\n",
              "\t<tr><td>0.4087591</td><td>0.5912408759</td></tr>\n",
              "\t<tr><td>0.2084691</td><td>0.7915309446</td></tr>\n",
              "\t<tr><td>0.4796574</td><td>0.5203426124</td></tr>\n",
              "\t<tr><td>0.9991570</td><td>0.0008430387</td></tr>\n",
              "\t<tr><td>0.9983153</td><td>0.0016846571</td></tr>\n",
              "\t<tr><td>0.1163636</td><td>0.8836363636</td></tr>\n",
              "\t<tr><td>0.8057554</td><td>0.1942446043</td></tr>\n",
              "</tbody>\n",
              "</table>\n"
            ],
            "text/markdown": "\nA matrix: 40 × 2 of type dbl\n\n| No | Yes |\n|---|---|\n| 0.8057554 | 0.1942446043 |\n| 0.2084691 | 0.7915309446 |\n| 0.8468809 | 0.1531190926 |\n| 0.8468809 | 0.1531190926 |\n| 0.9994378 | 0.0005621838 |\n| 0.4796574 | 0.5203426124 |\n| 0.2084691 | 0.7915309446 |\n| 0.8057554 | 0.1942446043 |\n| 0.6124402 | 0.3875598086 |\n| 0.3154930 | 0.6845070423 |\n| 0.2084691 | 0.7915309446 |\n| 0.8924303 | 0.1075697211 |\n| 0.3154930 | 0.6845070423 |\n| 0.4087591 | 0.5912408759 |\n| 0.2084691 | 0.7915309446 |\n| 0.4796574 | 0.5203426124 |\n| 0.9991570 | 0.0008430387 |\n| 0.9983153 | 0.0016846571 |\n| 0.1163636 | 0.8836363636 |\n| 0.8057554 | 0.1942446043 |\n| 0.8057554 | 0.1942446043 |\n| 0.2084691 | 0.7915309446 |\n| 0.8468809 | 0.1531190926 |\n| 0.8468809 | 0.1531190926 |\n| 0.9994378 | 0.0005621838 |\n| 0.4796574 | 0.5203426124 |\n| 0.2084691 | 0.7915309446 |\n| 0.8057554 | 0.1942446043 |\n| 0.6124402 | 0.3875598086 |\n| 0.3154930 | 0.6845070423 |\n| 0.2084691 | 0.7915309446 |\n| 0.8924303 | 0.1075697211 |\n| 0.3154930 | 0.6845070423 |\n| 0.4087591 | 0.5912408759 |\n| 0.2084691 | 0.7915309446 |\n| 0.4796574 | 0.5203426124 |\n| 0.9991570 | 0.0008430387 |\n| 0.9983153 | 0.0016846571 |\n| 0.1163636 | 0.8836363636 |\n| 0.8057554 | 0.1942446043 |\n\n",
            "text/latex": "A matrix: 40 × 2 of type dbl\n\\begin{tabular}{ll}\n No & Yes\\\\\n\\hline\n\t 0.8057554 & 0.1942446043\\\\\n\t 0.2084691 & 0.7915309446\\\\\n\t 0.8468809 & 0.1531190926\\\\\n\t 0.8468809 & 0.1531190926\\\\\n\t 0.9994378 & 0.0005621838\\\\\n\t 0.4796574 & 0.5203426124\\\\\n\t 0.2084691 & 0.7915309446\\\\\n\t 0.8057554 & 0.1942446043\\\\\n\t 0.6124402 & 0.3875598086\\\\\n\t 0.3154930 & 0.6845070423\\\\\n\t 0.2084691 & 0.7915309446\\\\\n\t 0.8924303 & 0.1075697211\\\\\n\t 0.3154930 & 0.6845070423\\\\\n\t 0.4087591 & 0.5912408759\\\\\n\t 0.2084691 & 0.7915309446\\\\\n\t 0.4796574 & 0.5203426124\\\\\n\t 0.9991570 & 0.0008430387\\\\\n\t 0.9983153 & 0.0016846571\\\\\n\t 0.1163636 & 0.8836363636\\\\\n\t 0.8057554 & 0.1942446043\\\\\n\t 0.8057554 & 0.1942446043\\\\\n\t 0.2084691 & 0.7915309446\\\\\n\t 0.8468809 & 0.1531190926\\\\\n\t 0.8468809 & 0.1531190926\\\\\n\t 0.9994378 & 0.0005621838\\\\\n\t 0.4796574 & 0.5203426124\\\\\n\t 0.2084691 & 0.7915309446\\\\\n\t 0.8057554 & 0.1942446043\\\\\n\t 0.6124402 & 0.3875598086\\\\\n\t 0.3154930 & 0.6845070423\\\\\n\t 0.2084691 & 0.7915309446\\\\\n\t 0.8924303 & 0.1075697211\\\\\n\t 0.3154930 & 0.6845070423\\\\\n\t 0.4087591 & 0.5912408759\\\\\n\t 0.2084691 & 0.7915309446\\\\\n\t 0.4796574 & 0.5203426124\\\\\n\t 0.9991570 & 0.0008430387\\\\\n\t 0.9983153 & 0.0016846571\\\\\n\t 0.1163636 & 0.8836363636\\\\\n\t 0.8057554 & 0.1942446043\\\\\n\\end{tabular}\n",
            "text/plain": [
              "      No        Yes         \n",
              " [1,] 0.8057554 0.1942446043\n",
              " [2,] 0.2084691 0.7915309446\n",
              " [3,] 0.8468809 0.1531190926\n",
              " [4,] 0.8468809 0.1531190926\n",
              " [5,] 0.9994378 0.0005621838\n",
              " [6,] 0.4796574 0.5203426124\n",
              " [7,] 0.2084691 0.7915309446\n",
              " [8,] 0.8057554 0.1942446043\n",
              " [9,] 0.6124402 0.3875598086\n",
              "[10,] 0.3154930 0.6845070423\n",
              "[11,] 0.2084691 0.7915309446\n",
              "[12,] 0.8924303 0.1075697211\n",
              "[13,] 0.3154930 0.6845070423\n",
              "[14,] 0.4087591 0.5912408759\n",
              "[15,] 0.2084691 0.7915309446\n",
              "[16,] 0.4796574 0.5203426124\n",
              "[17,] 0.9991570 0.0008430387\n",
              "[18,] 0.9983153 0.0016846571\n",
              "[19,] 0.1163636 0.8836363636\n",
              "[20,] 0.8057554 0.1942446043\n",
              "[21,] 0.8057554 0.1942446043\n",
              "[22,] 0.2084691 0.7915309446\n",
              "[23,] 0.8468809 0.1531190926\n",
              "[24,] 0.8468809 0.1531190926\n",
              "[25,] 0.9994378 0.0005621838\n",
              "[26,] 0.4796574 0.5203426124\n",
              "[27,] 0.2084691 0.7915309446\n",
              "[28,] 0.8057554 0.1942446043\n",
              "[29,] 0.6124402 0.3875598086\n",
              "[30,] 0.3154930 0.6845070423\n",
              "[31,] 0.2084691 0.7915309446\n",
              "[32,] 0.8924303 0.1075697211\n",
              "[33,] 0.3154930 0.6845070423\n",
              "[34,] 0.4087591 0.5912408759\n",
              "[35,] 0.2084691 0.7915309446\n",
              "[36,] 0.4796574 0.5203426124\n",
              "[37,] 0.9991570 0.0008430387\n",
              "[38,] 0.9983153 0.0016846571\n",
              "[39,] 0.1163636 0.8836363636\n",
              "[40,] 0.8057554 0.1942446043"
            ]
          },
          "metadata": {}
        }
      ]
    },
    {
      "cell_type": "code",
      "source": [
        " pred2 <- predict(nbfit, card)\n",
        " pred2"
      ],
      "metadata": {
        "colab": {
          "base_uri": "https://localhost:8080/",
          "height": 124
        },
        "id": "Vvtvb7WCzCs_",
        "outputId": "38ee4382-d5e6-4277-9c61-81b857586d79"
      },
      "execution_count": null,
      "outputs": [
        {
          "output_type": "stream",
          "name": "stderr",
          "text": [
            "Warning message:\n",
            "“predict.naive_bayes(): more features in the newdata are provided as there are probability tables in the object. Calculation is performed based on features to be found in the tables.”\n"
          ]
        },
        {
          "output_type": "display_data",
          "data": {
            "text/html": [
              "<style>\n",
              ".list-inline {list-style: none; margin:0; padding: 0}\n",
              ".list-inline>li {display: inline-block}\n",
              ".list-inline>li:not(:last-child)::after {content: \"\\00b7\"; padding: 0 .5ex}\n",
              "</style>\n",
              "<ol class=list-inline><li>No</li><li>Yes</li><li>No</li><li>No</li><li>No</li><li>Yes</li><li>Yes</li><li>No</li><li>No</li><li>Yes</li><li>Yes</li><li>No</li><li>Yes</li><li>Yes</li><li>Yes</li><li>Yes</li><li>No</li><li>No</li><li>Yes</li><li>No</li><li>No</li><li>Yes</li><li>No</li><li>No</li><li>No</li><li>Yes</li><li>Yes</li><li>No</li><li>No</li><li>Yes</li><li>Yes</li><li>No</li><li>Yes</li><li>Yes</li><li>Yes</li><li>Yes</li><li>No</li><li>No</li><li>Yes</li><li>No</li></ol>\n",
              "\n",
              "<details>\n",
              "\t<summary style=display:list-item;cursor:pointer>\n",
              "\t\t<strong>Levels</strong>:\n",
              "\t</summary>\n",
              "\t<style>\n",
              "\t.list-inline {list-style: none; margin:0; padding: 0}\n",
              "\t.list-inline>li {display: inline-block}\n",
              "\t.list-inline>li:not(:last-child)::after {content: \"\\00b7\"; padding: 0 .5ex}\n",
              "\t</style>\n",
              "\t<ol class=list-inline><li>'No'</li><li>'Yes'</li></ol>\n",
              "</details>"
            ],
            "text/markdown": "1. No\n2. Yes\n3. No\n4. No\n5. No\n6. Yes\n7. Yes\n8. No\n9. No\n10. Yes\n11. Yes\n12. No\n13. Yes\n14. Yes\n15. Yes\n16. Yes\n17. No\n18. No\n19. Yes\n20. No\n21. No\n22. Yes\n23. No\n24. No\n25. No\n26. Yes\n27. Yes\n28. No\n29. No\n30. Yes\n31. Yes\n32. No\n33. Yes\n34. Yes\n35. Yes\n36. Yes\n37. No\n38. No\n39. Yes\n40. No\n\n\n\n**Levels**: 1. 'No'\n2. 'Yes'\n\n\n",
            "text/latex": "\\begin{enumerate*}\n\\item No\n\\item Yes\n\\item No\n\\item No\n\\item No\n\\item Yes\n\\item Yes\n\\item No\n\\item No\n\\item Yes\n\\item Yes\n\\item No\n\\item Yes\n\\item Yes\n\\item Yes\n\\item Yes\n\\item No\n\\item No\n\\item Yes\n\\item No\n\\item No\n\\item Yes\n\\item No\n\\item No\n\\item No\n\\item Yes\n\\item Yes\n\\item No\n\\item No\n\\item Yes\n\\item Yes\n\\item No\n\\item Yes\n\\item Yes\n\\item Yes\n\\item Yes\n\\item No\n\\item No\n\\item Yes\n\\item No\n\\end{enumerate*}\n\n\\emph{Levels}: \\begin{enumerate*}\n\\item 'No'\n\\item 'Yes'\n\\end{enumerate*}\n",
            "text/plain": [
              " [1] No  Yes No  No  No  Yes Yes No  No  Yes Yes No  Yes Yes Yes Yes No  No  Yes\n",
              "[20] No  No  Yes No  No  No  Yes Yes No  No  Yes Yes No  Yes Yes Yes Yes No  No \n",
              "[39] Yes No \n",
              "Levels: No Yes"
            ]
          },
          "metadata": {}
        }
      ]
    },
    {
      "cell_type": "code",
      "source": [
        "classtable <- table(Purchase, pred2)\n",
        "classtable"
      ],
      "metadata": {
        "colab": {
          "base_uri": "https://localhost:8080/",
          "height": 86
        },
        "id": "l14aWedizIyn",
        "outputId": "228da98e-56f3-457e-cd16-9159246a0a42"
      },
      "execution_count": null,
      "outputs": [
        {
          "output_type": "display_data",
          "data": {
            "text/plain": [
              "        pred2\n",
              "Purchase No Yes\n",
              "     No  16   8\n",
              "     Yes  4  12"
            ]
          },
          "metadata": {}
        }
      ]
    },
    {
      "cell_type": "code",
      "source": [
        "sum(diag(classtable)) / sum(classtable)"
      ],
      "metadata": {
        "colab": {
          "base_uri": "https://localhost:8080/",
          "height": 34
        },
        "id": "EYGCqeOGzPET",
        "outputId": "e192f364-fedd-470b-cf25-24afd8ce96bc"
      },
      "execution_count": null,
      "outputs": [
        {
          "output_type": "display_data",
          "data": {
            "text/html": [
              "0.7"
            ],
            "text/markdown": "0.7",
            "text/latex": "0.7",
            "text/plain": [
              "[1] 0.7"
            ]
          },
          "metadata": {}
        }
      ]
    }
  ]
}