{
  "nbformat": 4,
  "nbformat_minor": 0,
  "metadata": {
    "colab": {
      "provenance": [],
      "name": "Chapter8.2.2R.ipynb",
      "authorship_tag": "ABX9TyM75hAVnMLSy3/3SxxvDnN7",
      "include_colab_link": true
    },
    "kernelspec": {
      "name": "ir",
      "display_name": "R"
    },
    "language_info": {
      "name": "R"
    }
  },
  "cells": [
    {
      "cell_type": "markdown",
      "metadata": {
        "id": "view-in-github",
        "colab_type": "text"
      },
      "source": [
        "<a href=\"https://colab.research.google.com/github/ogut77/estat.me/blob/main/Chapter8_2_2R.ipynb\" target=\"_parent\"><img src=\"https://colab.research.google.com/assets/colab-badge.svg\" alt=\"Open In Colab\"/></a>"
      ]
    },
    {
      "cell_type": "markdown",
      "source": [
        "**Hierarchical Clustering**"
      ],
      "metadata": {
        "id": "q0YC-tRcwg3R"
      }
    },
    {
      "cell_type": "code",
      "source": [
        "library(stats)\n",
        "data(iris)\n",
        "attach(iris)\n",
        "iris"
      ],
      "metadata": {
        "id": "MMAuLLyBwbJx"
      },
      "execution_count": null,
      "outputs": []
    },
    {
      "cell_type": "code",
      "source": [
        "# select Sepal.Length, Sepal.Width, Petal.Length, Petal.Width from iris data\n",
        "iris4 <- iris[, c(1,2, 3, 4)]\n",
        "iris4"
      ],
      "metadata": {
        "colab": {
          "base_uri": "https://localhost:8080/",
          "height": 1000
        },
        "id": "IUij_CLKxQT4",
        "outputId": "85d82a31-eb62-4ced-f63e-6e3a0b76a86d"
      },
      "execution_count": null,
      "outputs": [
        {
          "output_type": "display_data",
          "data": {
            "text/html": [
              "<table class=\"dataframe\">\n",
              "<caption>A data.frame: 150 × 4</caption>\n",
              "<thead>\n",
              "\t<tr><th scope=col>Sepal.Length</th><th scope=col>Sepal.Width</th><th scope=col>Petal.Length</th><th scope=col>Petal.Width</th></tr>\n",
              "\t<tr><th scope=col>&lt;dbl&gt;</th><th scope=col>&lt;dbl&gt;</th><th scope=col>&lt;dbl&gt;</th><th scope=col>&lt;dbl&gt;</th></tr>\n",
              "</thead>\n",
              "<tbody>\n",
              "\t<tr><td>5.1</td><td>3.5</td><td>1.4</td><td>0.2</td></tr>\n",
              "\t<tr><td>4.9</td><td>3.0</td><td>1.4</td><td>0.2</td></tr>\n",
              "\t<tr><td>4.7</td><td>3.2</td><td>1.3</td><td>0.2</td></tr>\n",
              "\t<tr><td>4.6</td><td>3.1</td><td>1.5</td><td>0.2</td></tr>\n",
              "\t<tr><td>5.0</td><td>3.6</td><td>1.4</td><td>0.2</td></tr>\n",
              "\t<tr><td>5.4</td><td>3.9</td><td>1.7</td><td>0.4</td></tr>\n",
              "\t<tr><td>4.6</td><td>3.4</td><td>1.4</td><td>0.3</td></tr>\n",
              "\t<tr><td>5.0</td><td>3.4</td><td>1.5</td><td>0.2</td></tr>\n",
              "\t<tr><td>4.4</td><td>2.9</td><td>1.4</td><td>0.2</td></tr>\n",
              "\t<tr><td>4.9</td><td>3.1</td><td>1.5</td><td>0.1</td></tr>\n",
              "\t<tr><td>5.4</td><td>3.7</td><td>1.5</td><td>0.2</td></tr>\n",
              "\t<tr><td>4.8</td><td>3.4</td><td>1.6</td><td>0.2</td></tr>\n",
              "\t<tr><td>4.8</td><td>3.0</td><td>1.4</td><td>0.1</td></tr>\n",
              "\t<tr><td>4.3</td><td>3.0</td><td>1.1</td><td>0.1</td></tr>\n",
              "\t<tr><td>5.8</td><td>4.0</td><td>1.2</td><td>0.2</td></tr>\n",
              "\t<tr><td>5.7</td><td>4.4</td><td>1.5</td><td>0.4</td></tr>\n",
              "\t<tr><td>5.4</td><td>3.9</td><td>1.3</td><td>0.4</td></tr>\n",
              "\t<tr><td>5.1</td><td>3.5</td><td>1.4</td><td>0.3</td></tr>\n",
              "\t<tr><td>5.7</td><td>3.8</td><td>1.7</td><td>0.3</td></tr>\n",
              "\t<tr><td>5.1</td><td>3.8</td><td>1.5</td><td>0.3</td></tr>\n",
              "\t<tr><td>5.4</td><td>3.4</td><td>1.7</td><td>0.2</td></tr>\n",
              "\t<tr><td>5.1</td><td>3.7</td><td>1.5</td><td>0.4</td></tr>\n",
              "\t<tr><td>4.6</td><td>3.6</td><td>1.0</td><td>0.2</td></tr>\n",
              "\t<tr><td>5.1</td><td>3.3</td><td>1.7</td><td>0.5</td></tr>\n",
              "\t<tr><td>4.8</td><td>3.4</td><td>1.9</td><td>0.2</td></tr>\n",
              "\t<tr><td>5.0</td><td>3.0</td><td>1.6</td><td>0.2</td></tr>\n",
              "\t<tr><td>5.0</td><td>3.4</td><td>1.6</td><td>0.4</td></tr>\n",
              "\t<tr><td>5.2</td><td>3.5</td><td>1.5</td><td>0.2</td></tr>\n",
              "\t<tr><td>5.2</td><td>3.4</td><td>1.4</td><td>0.2</td></tr>\n",
              "\t<tr><td>4.7</td><td>3.2</td><td>1.6</td><td>0.2</td></tr>\n",
              "\t<tr><td>⋮</td><td>⋮</td><td>⋮</td><td>⋮</td></tr>\n",
              "\t<tr><td>6.9</td><td>3.2</td><td>5.7</td><td>2.3</td></tr>\n",
              "\t<tr><td>5.6</td><td>2.8</td><td>4.9</td><td>2.0</td></tr>\n",
              "\t<tr><td>7.7</td><td>2.8</td><td>6.7</td><td>2.0</td></tr>\n",
              "\t<tr><td>6.3</td><td>2.7</td><td>4.9</td><td>1.8</td></tr>\n",
              "\t<tr><td>6.7</td><td>3.3</td><td>5.7</td><td>2.1</td></tr>\n",
              "\t<tr><td>7.2</td><td>3.2</td><td>6.0</td><td>1.8</td></tr>\n",
              "\t<tr><td>6.2</td><td>2.8</td><td>4.8</td><td>1.8</td></tr>\n",
              "\t<tr><td>6.1</td><td>3.0</td><td>4.9</td><td>1.8</td></tr>\n",
              "\t<tr><td>6.4</td><td>2.8</td><td>5.6</td><td>2.1</td></tr>\n",
              "\t<tr><td>7.2</td><td>3.0</td><td>5.8</td><td>1.6</td></tr>\n",
              "\t<tr><td>7.4</td><td>2.8</td><td>6.1</td><td>1.9</td></tr>\n",
              "\t<tr><td>7.9</td><td>3.8</td><td>6.4</td><td>2.0</td></tr>\n",
              "\t<tr><td>6.4</td><td>2.8</td><td>5.6</td><td>2.2</td></tr>\n",
              "\t<tr><td>6.3</td><td>2.8</td><td>5.1</td><td>1.5</td></tr>\n",
              "\t<tr><td>6.1</td><td>2.6</td><td>5.6</td><td>1.4</td></tr>\n",
              "\t<tr><td>7.7</td><td>3.0</td><td>6.1</td><td>2.3</td></tr>\n",
              "\t<tr><td>6.3</td><td>3.4</td><td>5.6</td><td>2.4</td></tr>\n",
              "\t<tr><td>6.4</td><td>3.1</td><td>5.5</td><td>1.8</td></tr>\n",
              "\t<tr><td>6.0</td><td>3.0</td><td>4.8</td><td>1.8</td></tr>\n",
              "\t<tr><td>6.9</td><td>3.1</td><td>5.4</td><td>2.1</td></tr>\n",
              "\t<tr><td>6.7</td><td>3.1</td><td>5.6</td><td>2.4</td></tr>\n",
              "\t<tr><td>6.9</td><td>3.1</td><td>5.1</td><td>2.3</td></tr>\n",
              "\t<tr><td>5.8</td><td>2.7</td><td>5.1</td><td>1.9</td></tr>\n",
              "\t<tr><td>6.8</td><td>3.2</td><td>5.9</td><td>2.3</td></tr>\n",
              "\t<tr><td>6.7</td><td>3.3</td><td>5.7</td><td>2.5</td></tr>\n",
              "\t<tr><td>6.7</td><td>3.0</td><td>5.2</td><td>2.3</td></tr>\n",
              "\t<tr><td>6.3</td><td>2.5</td><td>5.0</td><td>1.9</td></tr>\n",
              "\t<tr><td>6.5</td><td>3.0</td><td>5.2</td><td>2.0</td></tr>\n",
              "\t<tr><td>6.2</td><td>3.4</td><td>5.4</td><td>2.3</td></tr>\n",
              "\t<tr><td>5.9</td><td>3.0</td><td>5.1</td><td>1.8</td></tr>\n",
              "</tbody>\n",
              "</table>\n"
            ],
            "text/markdown": "\nA data.frame: 150 × 4\n\n| Sepal.Length &lt;dbl&gt; | Sepal.Width &lt;dbl&gt; | Petal.Length &lt;dbl&gt; | Petal.Width &lt;dbl&gt; |\n|---|---|---|---|\n| 5.1 | 3.5 | 1.4 | 0.2 |\n| 4.9 | 3.0 | 1.4 | 0.2 |\n| 4.7 | 3.2 | 1.3 | 0.2 |\n| 4.6 | 3.1 | 1.5 | 0.2 |\n| 5.0 | 3.6 | 1.4 | 0.2 |\n| 5.4 | 3.9 | 1.7 | 0.4 |\n| 4.6 | 3.4 | 1.4 | 0.3 |\n| 5.0 | 3.4 | 1.5 | 0.2 |\n| 4.4 | 2.9 | 1.4 | 0.2 |\n| 4.9 | 3.1 | 1.5 | 0.1 |\n| 5.4 | 3.7 | 1.5 | 0.2 |\n| 4.8 | 3.4 | 1.6 | 0.2 |\n| 4.8 | 3.0 | 1.4 | 0.1 |\n| 4.3 | 3.0 | 1.1 | 0.1 |\n| 5.8 | 4.0 | 1.2 | 0.2 |\n| 5.7 | 4.4 | 1.5 | 0.4 |\n| 5.4 | 3.9 | 1.3 | 0.4 |\n| 5.1 | 3.5 | 1.4 | 0.3 |\n| 5.7 | 3.8 | 1.7 | 0.3 |\n| 5.1 | 3.8 | 1.5 | 0.3 |\n| 5.4 | 3.4 | 1.7 | 0.2 |\n| 5.1 | 3.7 | 1.5 | 0.4 |\n| 4.6 | 3.6 | 1.0 | 0.2 |\n| 5.1 | 3.3 | 1.7 | 0.5 |\n| 4.8 | 3.4 | 1.9 | 0.2 |\n| 5.0 | 3.0 | 1.6 | 0.2 |\n| 5.0 | 3.4 | 1.6 | 0.4 |\n| 5.2 | 3.5 | 1.5 | 0.2 |\n| 5.2 | 3.4 | 1.4 | 0.2 |\n| 4.7 | 3.2 | 1.6 | 0.2 |\n| ⋮ | ⋮ | ⋮ | ⋮ |\n| 6.9 | 3.2 | 5.7 | 2.3 |\n| 5.6 | 2.8 | 4.9 | 2.0 |\n| 7.7 | 2.8 | 6.7 | 2.0 |\n| 6.3 | 2.7 | 4.9 | 1.8 |\n| 6.7 | 3.3 | 5.7 | 2.1 |\n| 7.2 | 3.2 | 6.0 | 1.8 |\n| 6.2 | 2.8 | 4.8 | 1.8 |\n| 6.1 | 3.0 | 4.9 | 1.8 |\n| 6.4 | 2.8 | 5.6 | 2.1 |\n| 7.2 | 3.0 | 5.8 | 1.6 |\n| 7.4 | 2.8 | 6.1 | 1.9 |\n| 7.9 | 3.8 | 6.4 | 2.0 |\n| 6.4 | 2.8 | 5.6 | 2.2 |\n| 6.3 | 2.8 | 5.1 | 1.5 |\n| 6.1 | 2.6 | 5.6 | 1.4 |\n| 7.7 | 3.0 | 6.1 | 2.3 |\n| 6.3 | 3.4 | 5.6 | 2.4 |\n| 6.4 | 3.1 | 5.5 | 1.8 |\n| 6.0 | 3.0 | 4.8 | 1.8 |\n| 6.9 | 3.1 | 5.4 | 2.1 |\n| 6.7 | 3.1 | 5.6 | 2.4 |\n| 6.9 | 3.1 | 5.1 | 2.3 |\n| 5.8 | 2.7 | 5.1 | 1.9 |\n| 6.8 | 3.2 | 5.9 | 2.3 |\n| 6.7 | 3.3 | 5.7 | 2.5 |\n| 6.7 | 3.0 | 5.2 | 2.3 |\n| 6.3 | 2.5 | 5.0 | 1.9 |\n| 6.5 | 3.0 | 5.2 | 2.0 |\n| 6.2 | 3.4 | 5.4 | 2.3 |\n| 5.9 | 3.0 | 5.1 | 1.8 |\n\n",
            "text/latex": "A data.frame: 150 × 4\n\\begin{tabular}{llll}\n Sepal.Length & Sepal.Width & Petal.Length & Petal.Width\\\\\n <dbl> & <dbl> & <dbl> & <dbl>\\\\\n\\hline\n\t 5.1 & 3.5 & 1.4 & 0.2\\\\\n\t 4.9 & 3.0 & 1.4 & 0.2\\\\\n\t 4.7 & 3.2 & 1.3 & 0.2\\\\\n\t 4.6 & 3.1 & 1.5 & 0.2\\\\\n\t 5.0 & 3.6 & 1.4 & 0.2\\\\\n\t 5.4 & 3.9 & 1.7 & 0.4\\\\\n\t 4.6 & 3.4 & 1.4 & 0.3\\\\\n\t 5.0 & 3.4 & 1.5 & 0.2\\\\\n\t 4.4 & 2.9 & 1.4 & 0.2\\\\\n\t 4.9 & 3.1 & 1.5 & 0.1\\\\\n\t 5.4 & 3.7 & 1.5 & 0.2\\\\\n\t 4.8 & 3.4 & 1.6 & 0.2\\\\\n\t 4.8 & 3.0 & 1.4 & 0.1\\\\\n\t 4.3 & 3.0 & 1.1 & 0.1\\\\\n\t 5.8 & 4.0 & 1.2 & 0.2\\\\\n\t 5.7 & 4.4 & 1.5 & 0.4\\\\\n\t 5.4 & 3.9 & 1.3 & 0.4\\\\\n\t 5.1 & 3.5 & 1.4 & 0.3\\\\\n\t 5.7 & 3.8 & 1.7 & 0.3\\\\\n\t 5.1 & 3.8 & 1.5 & 0.3\\\\\n\t 5.4 & 3.4 & 1.7 & 0.2\\\\\n\t 5.1 & 3.7 & 1.5 & 0.4\\\\\n\t 4.6 & 3.6 & 1.0 & 0.2\\\\\n\t 5.1 & 3.3 & 1.7 & 0.5\\\\\n\t 4.8 & 3.4 & 1.9 & 0.2\\\\\n\t 5.0 & 3.0 & 1.6 & 0.2\\\\\n\t 5.0 & 3.4 & 1.6 & 0.4\\\\\n\t 5.2 & 3.5 & 1.5 & 0.2\\\\\n\t 5.2 & 3.4 & 1.4 & 0.2\\\\\n\t 4.7 & 3.2 & 1.6 & 0.2\\\\\n\t ⋮ & ⋮ & ⋮ & ⋮\\\\\n\t 6.9 & 3.2 & 5.7 & 2.3\\\\\n\t 5.6 & 2.8 & 4.9 & 2.0\\\\\n\t 7.7 & 2.8 & 6.7 & 2.0\\\\\n\t 6.3 & 2.7 & 4.9 & 1.8\\\\\n\t 6.7 & 3.3 & 5.7 & 2.1\\\\\n\t 7.2 & 3.2 & 6.0 & 1.8\\\\\n\t 6.2 & 2.8 & 4.8 & 1.8\\\\\n\t 6.1 & 3.0 & 4.9 & 1.8\\\\\n\t 6.4 & 2.8 & 5.6 & 2.1\\\\\n\t 7.2 & 3.0 & 5.8 & 1.6\\\\\n\t 7.4 & 2.8 & 6.1 & 1.9\\\\\n\t 7.9 & 3.8 & 6.4 & 2.0\\\\\n\t 6.4 & 2.8 & 5.6 & 2.2\\\\\n\t 6.3 & 2.8 & 5.1 & 1.5\\\\\n\t 6.1 & 2.6 & 5.6 & 1.4\\\\\n\t 7.7 & 3.0 & 6.1 & 2.3\\\\\n\t 6.3 & 3.4 & 5.6 & 2.4\\\\\n\t 6.4 & 3.1 & 5.5 & 1.8\\\\\n\t 6.0 & 3.0 & 4.8 & 1.8\\\\\n\t 6.9 & 3.1 & 5.4 & 2.1\\\\\n\t 6.7 & 3.1 & 5.6 & 2.4\\\\\n\t 6.9 & 3.1 & 5.1 & 2.3\\\\\n\t 5.8 & 2.7 & 5.1 & 1.9\\\\\n\t 6.8 & 3.2 & 5.9 & 2.3\\\\\n\t 6.7 & 3.3 & 5.7 & 2.5\\\\\n\t 6.7 & 3.0 & 5.2 & 2.3\\\\\n\t 6.3 & 2.5 & 5.0 & 1.9\\\\\n\t 6.5 & 3.0 & 5.2 & 2.0\\\\\n\t 6.2 & 3.4 & 5.4 & 2.3\\\\\n\t 5.9 & 3.0 & 5.1 & 1.8\\\\\n\\end{tabular}\n",
            "text/plain": [
              "    Sepal.Length Sepal.Width Petal.Length Petal.Width\n",
              "1   5.1          3.5         1.4          0.2        \n",
              "2   4.9          3.0         1.4          0.2        \n",
              "3   4.7          3.2         1.3          0.2        \n",
              "4   4.6          3.1         1.5          0.2        \n",
              "5   5.0          3.6         1.4          0.2        \n",
              "6   5.4          3.9         1.7          0.4        \n",
              "7   4.6          3.4         1.4          0.3        \n",
              "8   5.0          3.4         1.5          0.2        \n",
              "9   4.4          2.9         1.4          0.2        \n",
              "10  4.9          3.1         1.5          0.1        \n",
              "11  5.4          3.7         1.5          0.2        \n",
              "12  4.8          3.4         1.6          0.2        \n",
              "13  4.8          3.0         1.4          0.1        \n",
              "14  4.3          3.0         1.1          0.1        \n",
              "15  5.8          4.0         1.2          0.2        \n",
              "16  5.7          4.4         1.5          0.4        \n",
              "17  5.4          3.9         1.3          0.4        \n",
              "18  5.1          3.5         1.4          0.3        \n",
              "19  5.7          3.8         1.7          0.3        \n",
              "20  5.1          3.8         1.5          0.3        \n",
              "21  5.4          3.4         1.7          0.2        \n",
              "22  5.1          3.7         1.5          0.4        \n",
              "23  4.6          3.6         1.0          0.2        \n",
              "24  5.1          3.3         1.7          0.5        \n",
              "25  4.8          3.4         1.9          0.2        \n",
              "26  5.0          3.0         1.6          0.2        \n",
              "27  5.0          3.4         1.6          0.4        \n",
              "28  5.2          3.5         1.5          0.2        \n",
              "29  5.2          3.4         1.4          0.2        \n",
              "30  4.7          3.2         1.6          0.2        \n",
              "⋮   ⋮            ⋮           ⋮            ⋮          \n",
              "121 6.9          3.2         5.7          2.3        \n",
              "122 5.6          2.8         4.9          2.0        \n",
              "123 7.7          2.8         6.7          2.0        \n",
              "124 6.3          2.7         4.9          1.8        \n",
              "125 6.7          3.3         5.7          2.1        \n",
              "126 7.2          3.2         6.0          1.8        \n",
              "127 6.2          2.8         4.8          1.8        \n",
              "128 6.1          3.0         4.9          1.8        \n",
              "129 6.4          2.8         5.6          2.1        \n",
              "130 7.2          3.0         5.8          1.6        \n",
              "131 7.4          2.8         6.1          1.9        \n",
              "132 7.9          3.8         6.4          2.0        \n",
              "133 6.4          2.8         5.6          2.2        \n",
              "134 6.3          2.8         5.1          1.5        \n",
              "135 6.1          2.6         5.6          1.4        \n",
              "136 7.7          3.0         6.1          2.3        \n",
              "137 6.3          3.4         5.6          2.4        \n",
              "138 6.4          3.1         5.5          1.8        \n",
              "139 6.0          3.0         4.8          1.8        \n",
              "140 6.9          3.1         5.4          2.1        \n",
              "141 6.7          3.1         5.6          2.4        \n",
              "142 6.9          3.1         5.1          2.3        \n",
              "143 5.8          2.7         5.1          1.9        \n",
              "144 6.8          3.2         5.9          2.3        \n",
              "145 6.7          3.3         5.7          2.5        \n",
              "146 6.7          3.0         5.2          2.3        \n",
              "147 6.3          2.5         5.0          1.9        \n",
              "148 6.5          3.0         5.2          2.0        \n",
              "149 6.2          3.4         5.4          2.3        \n",
              "150 5.9          3.0         5.1          1.8        "
            ]
          },
          "metadata": {}
        }
      ]
    },
    {
      "cell_type": "code",
      "source": [
        "# calculate distance matrix using squared Euclid distance\n",
        "distIris4 <-dist(iris4, method = 'euclidean')\n",
        "\n"
      ],
      "metadata": {
        "id": "JkuyYI1gxTHB"
      },
      "execution_count": null,
      "outputs": []
    },
    {
      "cell_type": "code",
      "source": [
        "hclustIris4 <-hclust(distIris4, method = \"ward.D\")"
      ],
      "metadata": {
        "id": "SUIbUQ2bxqAP"
      },
      "execution_count": null,
      "outputs": []
    },
    {
      "cell_type": "code",
      "source": [
        "# plot hierarchical clusters\n",
        "plot(hclustIris4)"
      ],
      "metadata": {
        "colab": {
          "base_uri": "https://localhost:8080/",
          "height": 437
        },
        "id": "Pzz2prf9xg7F",
        "outputId": "ffb49720-e12b-4b7d-94a3-63a19953b25d"
      },
      "execution_count": null,
      "outputs": [
        {
          "output_type": "display_data",
          "data": {
            "text/plain": [
              "Plot with title “Cluster Dendrogram”"
            ],
            "image/png": "[encoded data removed]"
          },
          "metadata": {
            "image/png": {
              "width": 420,
              "height": 420
            }
          }
        }
      ]
    }
  ]
}